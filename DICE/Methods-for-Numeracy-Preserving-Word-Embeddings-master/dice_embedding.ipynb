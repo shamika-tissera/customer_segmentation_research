{
 "cells": [
  {
   "cell_type": "code",
   "execution_count": 1,
   "metadata": {
    "ExecuteTime": {
     "end_time": "2021-07-29T14:12:09.545458Z",
     "start_time": "2021-07-29T14:12:09.529748Z"
    }
   },
   "outputs": [],
   "source": [
    "import pandas as pd \n",
    "import matplotlib.pyplot as plt\n",
    "from mpl_toolkits.mplot3d import axes3d\n",
    "from sklearn.decomposition import PCA\n",
    "from sklearn.preprocessing import StandardScaler\n",
    "\n",
    "import math\n",
    "import numpy as np\n",
    "\n",
    "%matplotlib inline"
   ]
  },
  {
   "cell_type": "code",
   "execution_count": 2,
   "metadata": {},
   "outputs": [
    {
     "name": "stderr",
     "output_type": "stream",
     "text": [
      "IProgress not found. Please update jupyter and ipywidgets. See https://ipywidgets.readthedocs.io/en/stable/user_install.html\n"
     ]
    }
   ],
   "source": [
    "import pandas as pd # dataframe manipulation\n",
    "import numpy as np # linear algebra\n",
    "\n",
    "# data visualization\n",
    "import matplotlib.pyplot as plt\n",
    "import matplotlib.cm as cm\n",
    "import plotly.express as px\n",
    "import plotly.graph_objects as go\n",
    "import seaborn as sns\n",
    "import shap\n",
    "\n",
    "# sklearn \n",
    "from sklearn.cluster import KMeans\n",
    "from sklearn.preprocessing import PowerTransformer, OrdinalEncoder\n",
    "from sklearn.pipeline import Pipeline\n",
    "from sklearn.manifold import TSNE\n",
    "from sklearn.metrics import silhouette_score, silhouette_samples, accuracy_score, classification_report\n",
    "\n",
    "from pyod.models.ecod import ECOD\n",
    "from yellowbrick.cluster import KElbowVisualizer\n",
    "\n",
    "import lightgbm as lgb\n",
    "import prince\n",
    "\n"
   ]
  },
  {
   "cell_type": "code",
   "execution_count": 3,
   "metadata": {},
   "outputs": [],
   "source": [
    "def get_pca_2d(df, predict):\n",
    "    pca_2d_object = prince.PCA(\n",
    "    n_components=2,\n",
    "    n_iter=3,\n",
    "    rescale_with_mean=True,\n",
    "    rescale_with_std=True,\n",
    "    copy=True,\n",
    "    check_input=True,\n",
    "    engine='sklearn',\n",
    "    random_state=42\n",
    "    )\n",
    "\n",
    "    pca_2d_object.fit(df)\n",
    "\n",
    "    df_pca_2d = pca_2d_object.transform(df)\n",
    "    df_pca_2d.columns = [\"comp1\", \"comp2\"]\n",
    "    df_pca_2d[\"cluster\"] = predict\n",
    "\n",
    "    return pca_2d_object, df_pca_2d\n",
    "\n",
    "\n",
    "\n",
    "def get_pca_3d(df, predict):\n",
    "    pca_3d_object = prince.PCA(\n",
    "        n_components=3,\n",
    "        n_iter=3,\n",
    "        rescale_with_mean=True,\n",
    "        rescale_with_std=True,\n",
    "        copy=True,\n",
    "        check_input=True,\n",
    "        engine='sklearn',\n",
    "        random_state=42\n",
    "    )\n",
    "\n",
    "    pca_3d_object.fit(df)\n",
    "\n",
    "    df_pca_3d = pca_3d_object.transform(df)\n",
    "    df_pca_3d.columns = [\"comp1\", \"comp2\", \"comp3\"]\n",
    "    df_pca_3d[\"cluster\"] = predict\n",
    "\n",
    "    return pca_3d_object, df_pca_3d\n",
    "\n",
    "\n",
    "\n",
    "def plot_pca_3d(df, title = \"PCA Space\", opacity=0.8, width_line = 0.1):\n",
    "\n",
    "    df = df.astype({\"cluster\": \"object\"})\n",
    "    df = df.sort_values(\"cluster\")\n",
    "\n",
    "    fig = px.scatter_3d(df, \n",
    "                        x='comp1', \n",
    "                        y='comp2', \n",
    "                        z='comp3',\n",
    "                        color='cluster',\n",
    "                        template=\"plotly\",\n",
    "                        \n",
    "                        # symbol = \"cluster\",\n",
    "                        \n",
    "                        color_discrete_sequence=px.colors.qualitative.Vivid,\n",
    "                        title=title).update_traces(\n",
    "                            # mode = 'markers',\n",
    "                            marker={\n",
    "                                \"size\": 4,\n",
    "                                \"opacity\": opacity,\n",
    "                                # \"symbol\" : \"diamond\",\n",
    "                                \"line\": {\n",
    "                                    \"width\": width_line,\n",
    "                                    \"color\": \"black\",\n",
    "                                }\n",
    "                            }\n",
    "                        ).update_layout(\n",
    "                                width = 1000, \n",
    "                                height = 800, \n",
    "                                autosize = False, \n",
    "                                showlegend = True,\n",
    "                                legend=dict(title_font_family=\"Times New Roman\",\n",
    "                                            font=dict(size= 20)),\n",
    "                                scene = dict(xaxis=dict(title = 'comp1', titlefont_color = 'black'),\n",
    "                                            yaxis=dict(title = 'comp2', titlefont_color = 'black'),\n",
    "                                            zaxis=dict(title = 'comp3', titlefont_color = 'black')),\n",
    "                                font = dict(family = \"Gilroy\", color  = 'black', size = 15))\n",
    "                      \n",
    "    \n",
    "    fig.show()\n",
    "\n",
    "\n",
    "def plot_pca_2d(df, title = \"PCA Space\", opacity=0.8, width_line = 0.1):\n",
    "\n",
    "    df = df.astype({\"cluster\": \"object\"})\n",
    "    df = df.sort_values(\"cluster\")\n",
    "\n",
    "    fig = px.scatter(df, \n",
    "                        x='comp1', \n",
    "                        y='comp2', \n",
    "                        color='black',\n",
    "                        template=\"plotly\",\n",
    "                        # symbol = \"cluster\",\n",
    "                        \n",
    "                        color_discrete_sequence=px.colors.qualitative.Vivid,\n",
    "                        title=title).update_traces(\n",
    "                            # mode = 'markers',\n",
    "                            marker={\n",
    "                                \"size\": 8,\n",
    "                                \"opacity\": opacity,\n",
    "                                # \"symbol\" : \"diamond\",\n",
    "                                \"line\": {\n",
    "                                    \"width\": width_line,\n",
    "                                    \"color\": \"black\",\n",
    "                                }\n",
    "                            }\n",
    "                        ).update_layout(\n",
    "                                width = 800, \n",
    "                                height = 700, \n",
    "                                autosize = False, \n",
    "                                showlegend = True,\n",
    "                                legend=dict(title_font_family=\"Times New Roman\",\n",
    "                                            font=dict(size= 20)),\n",
    "                                scene = dict(xaxis=dict(title = 'comp1', titlefont_color = 'black'),\n",
    "                                            yaxis=dict(title = 'comp2', titlefont_color = 'black'),\n",
    "                                            ),\n",
    "                                font = dict(family = \"Gilroy\", color  = 'black', size = 15))\n",
    "                        \n",
    "        \n",
    "    fig.show()\n"
   ]
  },
  {
   "cell_type": "code",
   "execution_count": 4,
   "metadata": {
    "ExecuteTime": {
     "end_time": "2021-07-29T14:13:27.094409Z",
     "start_time": "2021-07-29T14:13:27.088295Z"
    }
   },
   "outputs": [],
   "source": [
    "class DICE:\n",
    "    '''\n",
    "    DICE class turns numbers into their respective DICE embeddings\n",
    "    \n",
    "    Since the cosine function decreases monotonically between 0 and pi, simply employ a linear mapping\n",
    "    to map distances s_n \\in [0, |a-b|] to angles \\theta \\in [0, pi]\n",
    "    '''\n",
    "    def __init__(self, d=2, min_bound=0, max_bound=100, norm=\"l2\"):\n",
    "        self.d = d # By default, we build DICE-2\n",
    "        self.min_bound = min_bound\n",
    "        self.max_bound = max_bound\n",
    "        self.norm = norm  # Restrict x and y to be of unit length\n",
    "        self.M = np.random.normal(0, 1, (self.d, self.d))\n",
    "        self.Q, self.R = np.linalg.qr(self.M, mode=\"complete\")  # QR decomposition for orthonormal basis, Q\n",
    "    \n",
    "    def __linear_mapping(self, num):\n",
    "        '''Eq. (4) from DICE'''\n",
    "        norm_diff = num / abs(self.min_bound - self.max_bound)\n",
    "        theta = norm_diff * math.pi\n",
    "        return theta\n",
    "    \n",
    "    def make_dice(self, num):\n",
    "        r = 1\n",
    "        theta = self.__linear_mapping(num)\n",
    "        if self.d == 2:\n",
    "            # DICE-2\n",
    "            polar_coord = np.array([r*math.cos(theta), r*math.sin(theta)])\n",
    "        elif self.d > 2:\n",
    "            # DICE-D\n",
    "            polar_coord = np.array([math.sin(theta)**(dim-1) * math.cos(theta) if dim < self.d else math.sin(theta)**(self.d) for dim in range(1, self.d+1)])\n",
    "        else:\n",
    "            raise ValueError(\"Wrong value for `d`. `d` should be greater than or equal to 2.\")\n",
    "            \n",
    "        dice = np.dot(self.Q, polar_coord)  # DICE-D embedding for `num`\n",
    "        \n",
    "        # return dice.tolist()\n",
    "        return dice"
   ]
  },
  {
   "cell_type": "code",
   "execution_count": 5,
   "metadata": {
    "ExecuteTime": {
     "end_time": "2021-07-29T14:13:28.582054Z",
     "start_time": "2021-07-29T14:13:28.575568Z"
    },
    "scrolled": true
   },
   "outputs": [],
   "source": [
    "dice = DICE(d=10, min_bound=0, max_bound=100)\n"
   ]
  },
  {
   "cell_type": "code",
   "execution_count": 6,
   "metadata": {},
   "outputs": [
    {
     "data": {
      "text/plain": [
       "array([-0.17087138,  0.15716653,  0.54958029,  0.26002004, -0.48094703,\n",
       "        0.36844842,  0.01061739, -0.04640639,  0.45500461,  0.0096427 ])"
      ]
     },
     "execution_count": 6,
     "metadata": {},
     "output_type": "execute_result"
    }
   ],
   "source": [
    "dice.make_dice(10.12)"
   ]
  },
  {
   "cell_type": "code",
   "execution_count": 13,
   "metadata": {
    "ExecuteTime": {
     "end_time": "2021-07-29T14:13:30.952049Z",
     "start_time": "2021-07-29T14:13:30.765415Z"
    },
    "scrolled": false
   },
   "outputs": [
    {
     "data": {
      "text/plain": [
       "<mpl_toolkits.mplot3d.art3d.Path3DCollection at 0x234dc26ccd0>"
      ]
     },
     "execution_count": 13,
     "metadata": {},
     "output_type": "execute_result"
    },
    {
     "data": {
      "image/png": "[encoded data removed]",
      "text/plain": [
       "<Figure size 800x800 with 1 Axes>"
      ]
     },
     "metadata": {},
     "output_type": "display_data"
    }
   ],
   "source": [
    "dice = DICE(d=3, min_bound=0, max_bound=100)\n",
    "\n",
    "sample_nums = list(range(0, 100))\n",
    "\n",
    "# Generate DICE-embeddings and plot them\n",
    "dice_mat = []\n",
    "for num in sample_nums:\n",
    "    dice_mat.append(dice.make_dice(num))\n",
    "\n",
    "dice_mat = np.array(dice_mat)\n",
    "\n",
    "pca = PCA(n_components=2)\n",
    "p_comp = pca.fit_transform(dice_mat)\n",
    "p_df = pd.DataFrame(data = p_comp, columns = [\"pc1\", \"pc2\"])\n",
    "\n",
    "fig = plt.figure(figsize=(8,8))\n",
    "ax = fig.add_subplot(111, projection=\"3d\")\n",
    "ax.set_xlabel(\"pc1\", fontsize=15)\n",
    "ax.set_ylabel(\"pc2\", fontsize=15)\n",
    "ax.set_title(\"DICE Embedding\",fontsize=20)\n",
    "\n",
    "ax.scatter(p_df[\"pc1\"], p_df[\"pc2\"])"
   ]
  },
  {
   "cell_type": "code",
   "execution_count": 8,
   "metadata": {},
   "outputs": [
    {
     "ename": "ValueError",
     "evalue": "Value of 'color' is not the name of a column in 'data_frame'. Expected one of ['comp1', 'comp2', 'cluster'] but received: black",
     "output_type": "error",
     "traceback": [
      "\u001b[1;31m---------------------------------------------------------------------------\u001b[0m",
      "\u001b[1;31mValueError\u001b[0m                                Traceback (most recent call last)",
      "\u001b[1;32mg:\\GitHub\\customer_segmentation_research\\DICE\\Methods-for-Numeracy-Preserving-Word-Embeddings-master\\dice_embedding.ipynb Cell 8\u001b[0m line \u001b[0;36m1\n\u001b[0;32m     <a href='vscode-notebook-cell:/g%3A/GitHub/customer_segmentation_research/DICE/Methods-for-Numeracy-Preserving-Word-Embeddings-master/dice_embedding.ipynb#X10sZmlsZQ%3D%3D?line=13'>14</a>\u001b[0m p_df \u001b[39m=\u001b[39m pd\u001b[39m.\u001b[39mDataFrame(data \u001b[39m=\u001b[39m p_comp, columns \u001b[39m=\u001b[39m [\u001b[39m\"\u001b[39m\u001b[39mpc1\u001b[39m\u001b[39m\"\u001b[39m, \u001b[39m\"\u001b[39m\u001b[39mpc2\u001b[39m\u001b[39m\"\u001b[39m])\n\u001b[0;32m     <a href='vscode-notebook-cell:/g%3A/GitHub/customer_segmentation_research/DICE/Methods-for-Numeracy-Preserving-Word-Embeddings-master/dice_embedding.ipynb#X10sZmlsZQ%3D%3D?line=15'>16</a>\u001b[0m pca_2d_object, df_pca_2d \u001b[39m=\u001b[39m get_pca_2d(p_df, sample_nums)\n\u001b[1;32m---> <a href='vscode-notebook-cell:/g%3A/GitHub/customer_segmentation_research/DICE/Methods-for-Numeracy-Preserving-Word-Embeddings-master/dice_embedding.ipynb#X10sZmlsZQ%3D%3D?line=16'>17</a>\u001b[0m plot_pca_2d(df_pca_2d, title \u001b[39m=\u001b[39;49m \u001b[39m\"\u001b[39;49m\u001b[39mDICE-2 Embeddings\u001b[39;49m\u001b[39m\"\u001b[39;49m)\n",
      "\u001b[1;32mg:\\GitHub\\customer_segmentation_research\\DICE\\Methods-for-Numeracy-Preserving-Word-Embeddings-master\\dice_embedding.ipynb Cell 8\u001b[0m line \u001b[0;36m9\n\u001b[0;32m     <a href='vscode-notebook-cell:/g%3A/GitHub/customer_segmentation_research/DICE/Methods-for-Numeracy-Preserving-Word-Embeddings-master/dice_embedding.ipynb#X10sZmlsZQ%3D%3D?line=88'>89</a>\u001b[0m df \u001b[39m=\u001b[39m df\u001b[39m.\u001b[39mastype({\u001b[39m\"\u001b[39m\u001b[39mcluster\u001b[39m\u001b[39m\"\u001b[39m: \u001b[39m\"\u001b[39m\u001b[39mobject\u001b[39m\u001b[39m\"\u001b[39m})\n\u001b[0;32m     <a href='vscode-notebook-cell:/g%3A/GitHub/customer_segmentation_research/DICE/Methods-for-Numeracy-Preserving-Word-Embeddings-master/dice_embedding.ipynb#X10sZmlsZQ%3D%3D?line=89'>90</a>\u001b[0m df \u001b[39m=\u001b[39m df\u001b[39m.\u001b[39msort_values(\u001b[39m\"\u001b[39m\u001b[39mcluster\u001b[39m\u001b[39m\"\u001b[39m)\n\u001b[1;32m---> <a href='vscode-notebook-cell:/g%3A/GitHub/customer_segmentation_research/DICE/Methods-for-Numeracy-Preserving-Word-Embeddings-master/dice_embedding.ipynb#X10sZmlsZQ%3D%3D?line=91'>92</a>\u001b[0m fig \u001b[39m=\u001b[39m px\u001b[39m.\u001b[39;49mscatter(df, \n\u001b[0;32m     <a href='vscode-notebook-cell:/g%3A/GitHub/customer_segmentation_research/DICE/Methods-for-Numeracy-Preserving-Word-Embeddings-master/dice_embedding.ipynb#X10sZmlsZQ%3D%3D?line=92'>93</a>\u001b[0m                     x\u001b[39m=\u001b[39;49m\u001b[39m'\u001b[39;49m\u001b[39mcomp1\u001b[39;49m\u001b[39m'\u001b[39;49m, \n\u001b[0;32m     <a href='vscode-notebook-cell:/g%3A/GitHub/customer_segmentation_research/DICE/Methods-for-Numeracy-Preserving-Word-Embeddings-master/dice_embedding.ipynb#X10sZmlsZQ%3D%3D?line=93'>94</a>\u001b[0m                     y\u001b[39m=\u001b[39;49m\u001b[39m'\u001b[39;49m\u001b[39mcomp2\u001b[39;49m\u001b[39m'\u001b[39;49m, \n\u001b[0;32m     <a href='vscode-notebook-cell:/g%3A/GitHub/customer_segmentation_research/DICE/Methods-for-Numeracy-Preserving-Word-Embeddings-master/dice_embedding.ipynb#X10sZmlsZQ%3D%3D?line=94'>95</a>\u001b[0m                     color\u001b[39m=\u001b[39;49m\u001b[39m'\u001b[39;49m\u001b[39mblack\u001b[39;49m\u001b[39m'\u001b[39;49m,\n\u001b[0;32m     <a href='vscode-notebook-cell:/g%3A/GitHub/customer_segmentation_research/DICE/Methods-for-Numeracy-Preserving-Word-Embeddings-master/dice_embedding.ipynb#X10sZmlsZQ%3D%3D?line=95'>96</a>\u001b[0m                     template\u001b[39m=\u001b[39;49m\u001b[39m\"\u001b[39;49m\u001b[39mplotly\u001b[39;49m\u001b[39m\"\u001b[39;49m,\n\u001b[0;32m     <a href='vscode-notebook-cell:/g%3A/GitHub/customer_segmentation_research/DICE/Methods-for-Numeracy-Preserving-Word-Embeddings-master/dice_embedding.ipynb#X10sZmlsZQ%3D%3D?line=96'>97</a>\u001b[0m                     \u001b[39m# symbol = \"cluster\",\u001b[39;49;00m\n\u001b[0;32m     <a href='vscode-notebook-cell:/g%3A/GitHub/customer_segmentation_research/DICE/Methods-for-Numeracy-Preserving-Word-Embeddings-master/dice_embedding.ipynb#X10sZmlsZQ%3D%3D?line=97'>98</a>\u001b[0m                     \n\u001b[0;32m     <a href='vscode-notebook-cell:/g%3A/GitHub/customer_segmentation_research/DICE/Methods-for-Numeracy-Preserving-Word-Embeddings-master/dice_embedding.ipynb#X10sZmlsZQ%3D%3D?line=98'>99</a>\u001b[0m                     color_discrete_sequence\u001b[39m=\u001b[39;49mpx\u001b[39m.\u001b[39;49mcolors\u001b[39m.\u001b[39;49mqualitative\u001b[39m.\u001b[39;49mVivid,\n\u001b[0;32m    <a href='vscode-notebook-cell:/g%3A/GitHub/customer_segmentation_research/DICE/Methods-for-Numeracy-Preserving-Word-Embeddings-master/dice_embedding.ipynb#X10sZmlsZQ%3D%3D?line=99'>100</a>\u001b[0m                     title\u001b[39m=\u001b[39;49mtitle)\u001b[39m.\u001b[39mupdate_traces(\n\u001b[0;32m    <a href='vscode-notebook-cell:/g%3A/GitHub/customer_segmentation_research/DICE/Methods-for-Numeracy-Preserving-Word-Embeddings-master/dice_embedding.ipynb#X10sZmlsZQ%3D%3D?line=100'>101</a>\u001b[0m                         \u001b[39m# mode = 'markers',\u001b[39;00m\n\u001b[0;32m    <a href='vscode-notebook-cell:/g%3A/GitHub/customer_segmentation_research/DICE/Methods-for-Numeracy-Preserving-Word-Embeddings-master/dice_embedding.ipynb#X10sZmlsZQ%3D%3D?line=101'>102</a>\u001b[0m                         marker\u001b[39m=\u001b[39m{\n\u001b[0;32m    <a href='vscode-notebook-cell:/g%3A/GitHub/customer_segmentation_research/DICE/Methods-for-Numeracy-Preserving-Word-Embeddings-master/dice_embedding.ipynb#X10sZmlsZQ%3D%3D?line=102'>103</a>\u001b[0m                             \u001b[39m\"\u001b[39m\u001b[39msize\u001b[39m\u001b[39m\"\u001b[39m: \u001b[39m8\u001b[39m,\n\u001b[0;32m    <a href='vscode-notebook-cell:/g%3A/GitHub/customer_segmentation_research/DICE/Methods-for-Numeracy-Preserving-Word-Embeddings-master/dice_embedding.ipynb#X10sZmlsZQ%3D%3D?line=103'>104</a>\u001b[0m                             \u001b[39m\"\u001b[39m\u001b[39mopacity\u001b[39m\u001b[39m\"\u001b[39m: opacity,\n\u001b[0;32m    <a href='vscode-notebook-cell:/g%3A/GitHub/customer_segmentation_research/DICE/Methods-for-Numeracy-Preserving-Word-Embeddings-master/dice_embedding.ipynb#X10sZmlsZQ%3D%3D?line=104'>105</a>\u001b[0m                             \u001b[39m# \"symbol\" : \"diamond\",\u001b[39;00m\n\u001b[0;32m    <a href='vscode-notebook-cell:/g%3A/GitHub/customer_segmentation_research/DICE/Methods-for-Numeracy-Preserving-Word-Embeddings-master/dice_embedding.ipynb#X10sZmlsZQ%3D%3D?line=105'>106</a>\u001b[0m                             \u001b[39m\"\u001b[39m\u001b[39mline\u001b[39m\u001b[39m\"\u001b[39m: {\n\u001b[0;32m    <a href='vscode-notebook-cell:/g%3A/GitHub/customer_segmentation_research/DICE/Methods-for-Numeracy-Preserving-Word-Embeddings-master/dice_embedding.ipynb#X10sZmlsZQ%3D%3D?line=106'>107</a>\u001b[0m                                 \u001b[39m\"\u001b[39m\u001b[39mwidth\u001b[39m\u001b[39m\"\u001b[39m: width_line,\n\u001b[0;32m    <a href='vscode-notebook-cell:/g%3A/GitHub/customer_segmentation_research/DICE/Methods-for-Numeracy-Preserving-Word-Embeddings-master/dice_embedding.ipynb#X10sZmlsZQ%3D%3D?line=107'>108</a>\u001b[0m                                 \u001b[39m\"\u001b[39m\u001b[39mcolor\u001b[39m\u001b[39m\"\u001b[39m: \u001b[39m\"\u001b[39m\u001b[39mblack\u001b[39m\u001b[39m\"\u001b[39m,\n\u001b[0;32m    <a href='vscode-notebook-cell:/g%3A/GitHub/customer_segmentation_research/DICE/Methods-for-Numeracy-Preserving-Word-Embeddings-master/dice_embedding.ipynb#X10sZmlsZQ%3D%3D?line=108'>109</a>\u001b[0m                             }\n\u001b[0;32m    <a href='vscode-notebook-cell:/g%3A/GitHub/customer_segmentation_research/DICE/Methods-for-Numeracy-Preserving-Word-Embeddings-master/dice_embedding.ipynb#X10sZmlsZQ%3D%3D?line=109'>110</a>\u001b[0m                         }\n\u001b[0;32m    <a href='vscode-notebook-cell:/g%3A/GitHub/customer_segmentation_research/DICE/Methods-for-Numeracy-Preserving-Word-Embeddings-master/dice_embedding.ipynb#X10sZmlsZQ%3D%3D?line=110'>111</a>\u001b[0m                     )\u001b[39m.\u001b[39mupdate_layout(\n\u001b[0;32m    <a href='vscode-notebook-cell:/g%3A/GitHub/customer_segmentation_research/DICE/Methods-for-Numeracy-Preserving-Word-Embeddings-master/dice_embedding.ipynb#X10sZmlsZQ%3D%3D?line=111'>112</a>\u001b[0m                             width \u001b[39m=\u001b[39m \u001b[39m800\u001b[39m, \n\u001b[0;32m    <a href='vscode-notebook-cell:/g%3A/GitHub/customer_segmentation_research/DICE/Methods-for-Numeracy-Preserving-Word-Embeddings-master/dice_embedding.ipynb#X10sZmlsZQ%3D%3D?line=112'>113</a>\u001b[0m                             height \u001b[39m=\u001b[39m \u001b[39m700\u001b[39m, \n\u001b[0;32m    <a href='vscode-notebook-cell:/g%3A/GitHub/customer_segmentation_research/DICE/Methods-for-Numeracy-Preserving-Word-Embeddings-master/dice_embedding.ipynb#X10sZmlsZQ%3D%3D?line=113'>114</a>\u001b[0m                             autosize \u001b[39m=\u001b[39m \u001b[39mFalse\u001b[39;00m, \n\u001b[0;32m    <a href='vscode-notebook-cell:/g%3A/GitHub/customer_segmentation_research/DICE/Methods-for-Numeracy-Preserving-Word-Embeddings-master/dice_embedding.ipynb#X10sZmlsZQ%3D%3D?line=114'>115</a>\u001b[0m                             showlegend \u001b[39m=\u001b[39m \u001b[39mTrue\u001b[39;00m,\n\u001b[0;32m    <a href='vscode-notebook-cell:/g%3A/GitHub/customer_segmentation_research/DICE/Methods-for-Numeracy-Preserving-Word-Embeddings-master/dice_embedding.ipynb#X10sZmlsZQ%3D%3D?line=115'>116</a>\u001b[0m                             legend\u001b[39m=\u001b[39m\u001b[39mdict\u001b[39m(title_font_family\u001b[39m=\u001b[39m\u001b[39m\"\u001b[39m\u001b[39mTimes New Roman\u001b[39m\u001b[39m\"\u001b[39m,\n\u001b[0;32m    <a href='vscode-notebook-cell:/g%3A/GitHub/customer_segmentation_research/DICE/Methods-for-Numeracy-Preserving-Word-Embeddings-master/dice_embedding.ipynb#X10sZmlsZQ%3D%3D?line=116'>117</a>\u001b[0m                                         font\u001b[39m=\u001b[39m\u001b[39mdict\u001b[39m(size\u001b[39m=\u001b[39m \u001b[39m20\u001b[39m)),\n\u001b[0;32m    <a href='vscode-notebook-cell:/g%3A/GitHub/customer_segmentation_research/DICE/Methods-for-Numeracy-Preserving-Word-Embeddings-master/dice_embedding.ipynb#X10sZmlsZQ%3D%3D?line=117'>118</a>\u001b[0m                             scene \u001b[39m=\u001b[39m \u001b[39mdict\u001b[39m(xaxis\u001b[39m=\u001b[39m\u001b[39mdict\u001b[39m(title \u001b[39m=\u001b[39m \u001b[39m'\u001b[39m\u001b[39mcomp1\u001b[39m\u001b[39m'\u001b[39m, titlefont_color \u001b[39m=\u001b[39m \u001b[39m'\u001b[39m\u001b[39mblack\u001b[39m\u001b[39m'\u001b[39m),\n\u001b[0;32m    <a href='vscode-notebook-cell:/g%3A/GitHub/customer_segmentation_research/DICE/Methods-for-Numeracy-Preserving-Word-Embeddings-master/dice_embedding.ipynb#X10sZmlsZQ%3D%3D?line=118'>119</a>\u001b[0m                                         yaxis\u001b[39m=\u001b[39m\u001b[39mdict\u001b[39m(title \u001b[39m=\u001b[39m \u001b[39m'\u001b[39m\u001b[39mcomp2\u001b[39m\u001b[39m'\u001b[39m, titlefont_color \u001b[39m=\u001b[39m \u001b[39m'\u001b[39m\u001b[39mblack\u001b[39m\u001b[39m'\u001b[39m),\n\u001b[0;32m    <a href='vscode-notebook-cell:/g%3A/GitHub/customer_segmentation_research/DICE/Methods-for-Numeracy-Preserving-Word-Embeddings-master/dice_embedding.ipynb#X10sZmlsZQ%3D%3D?line=119'>120</a>\u001b[0m                                         ),\n\u001b[0;32m    <a href='vscode-notebook-cell:/g%3A/GitHub/customer_segmentation_research/DICE/Methods-for-Numeracy-Preserving-Word-Embeddings-master/dice_embedding.ipynb#X10sZmlsZQ%3D%3D?line=120'>121</a>\u001b[0m                             font \u001b[39m=\u001b[39m \u001b[39mdict\u001b[39m(family \u001b[39m=\u001b[39m \u001b[39m\"\u001b[39m\u001b[39mGilroy\u001b[39m\u001b[39m\"\u001b[39m, color  \u001b[39m=\u001b[39m \u001b[39m'\u001b[39m\u001b[39mblack\u001b[39m\u001b[39m'\u001b[39m, size \u001b[39m=\u001b[39m \u001b[39m15\u001b[39m))\n\u001b[0;32m    <a href='vscode-notebook-cell:/g%3A/GitHub/customer_segmentation_research/DICE/Methods-for-Numeracy-Preserving-Word-Embeddings-master/dice_embedding.ipynb#X10sZmlsZQ%3D%3D?line=123'>124</a>\u001b[0m fig\u001b[39m.\u001b[39mshow()\n",
      "File \u001b[1;32m~\\AppData\\Roaming\\Python\\Python310\\site-packages\\plotly\\express\\_chart_types.py:66\u001b[0m, in \u001b[0;36mscatter\u001b[1;34m(data_frame, x, y, color, symbol, size, hover_name, hover_data, custom_data, text, facet_row, facet_col, facet_col_wrap, facet_row_spacing, facet_col_spacing, error_x, error_x_minus, error_y, error_y_minus, animation_frame, animation_group, category_orders, labels, orientation, color_discrete_sequence, color_discrete_map, color_continuous_scale, range_color, color_continuous_midpoint, symbol_sequence, symbol_map, opacity, size_max, marginal_x, marginal_y, trendline, trendline_options, trendline_color_override, trendline_scope, log_x, log_y, range_x, range_y, render_mode, title, template, width, height)\u001b[0m\n\u001b[0;32m     12\u001b[0m \u001b[39mdef\u001b[39;00m \u001b[39mscatter\u001b[39m(\n\u001b[0;32m     13\u001b[0m     data_frame\u001b[39m=\u001b[39m\u001b[39mNone\u001b[39;00m,\n\u001b[0;32m     14\u001b[0m     x\u001b[39m=\u001b[39m\u001b[39mNone\u001b[39;00m,\n\u001b[1;32m   (...)\u001b[0m\n\u001b[0;32m     60\u001b[0m     height\u001b[39m=\u001b[39m\u001b[39mNone\u001b[39;00m,\n\u001b[0;32m     61\u001b[0m ) \u001b[39m-\u001b[39m\u001b[39m>\u001b[39m go\u001b[39m.\u001b[39mFigure:\n\u001b[0;32m     62\u001b[0m \u001b[39m    \u001b[39m\u001b[39m\"\"\"\u001b[39;00m\n\u001b[0;32m     63\u001b[0m \u001b[39m    In a scatter plot, each row of `data_frame` is represented by a symbol\u001b[39;00m\n\u001b[0;32m     64\u001b[0m \u001b[39m    mark in 2D space.\u001b[39;00m\n\u001b[0;32m     65\u001b[0m \u001b[39m    \"\"\"\u001b[39;00m\n\u001b[1;32m---> 66\u001b[0m     \u001b[39mreturn\u001b[39;00m make_figure(args\u001b[39m=\u001b[39;49m\u001b[39mlocals\u001b[39;49m(), constructor\u001b[39m=\u001b[39;49mgo\u001b[39m.\u001b[39;49mScatter)\n",
      "File \u001b[1;32m~\\AppData\\Roaming\\Python\\Python310\\site-packages\\plotly\\express\\_core.py:2076\u001b[0m, in \u001b[0;36mmake_figure\u001b[1;34m(args, constructor, trace_patch, layout_patch)\u001b[0m\n\u001b[0;32m   2073\u001b[0m layout_patch \u001b[39m=\u001b[39m layout_patch \u001b[39mor\u001b[39;00m {}\n\u001b[0;32m   2074\u001b[0m apply_default_cascade(args)\n\u001b[1;32m-> 2076\u001b[0m args \u001b[39m=\u001b[39m build_dataframe(args, constructor)\n\u001b[0;32m   2077\u001b[0m \u001b[39mif\u001b[39;00m constructor \u001b[39min\u001b[39;00m [go\u001b[39m.\u001b[39mTreemap, go\u001b[39m.\u001b[39mSunburst, go\u001b[39m.\u001b[39mIcicle] \u001b[39mand\u001b[39;00m args[\u001b[39m\"\u001b[39m\u001b[39mpath\u001b[39m\u001b[39m\"\u001b[39m] \u001b[39mis\u001b[39;00m \u001b[39mnot\u001b[39;00m \u001b[39mNone\u001b[39;00m:\n\u001b[0;32m   2078\u001b[0m     args \u001b[39m=\u001b[39m process_dataframe_hierarchy(args)\n",
      "File \u001b[1;32m~\\AppData\\Roaming\\Python\\Python310\\site-packages\\plotly\\express\\_core.py:1485\u001b[0m, in \u001b[0;36mbuild_dataframe\u001b[1;34m(args, constructor)\u001b[0m\n\u001b[0;32m   1482\u001b[0m     args[\u001b[39m\"\u001b[39m\u001b[39mcolor\u001b[39m\u001b[39m\"\u001b[39m] \u001b[39m=\u001b[39m \u001b[39mNone\u001b[39;00m\n\u001b[0;32m   1483\u001b[0m \u001b[39m# now that things have been prepped, we do the systematic rewriting of `args`\u001b[39;00m\n\u001b[1;32m-> 1485\u001b[0m df_output, wide_id_vars \u001b[39m=\u001b[39m process_args_into_dataframe(\n\u001b[0;32m   1486\u001b[0m     args, wide_mode, var_name, value_name\n\u001b[0;32m   1487\u001b[0m )\n\u001b[0;32m   1489\u001b[0m \u001b[39m# now that `df_output` exists and `args` contains only references, we complete\u001b[39;00m\n\u001b[0;32m   1490\u001b[0m \u001b[39m# the special-case and wide-mode handling by further rewriting args and/or mutating\u001b[39;00m\n\u001b[0;32m   1491\u001b[0m \u001b[39m# df_output\u001b[39;00m\n\u001b[0;32m   1493\u001b[0m count_name \u001b[39m=\u001b[39m _escape_col_name(df_output, \u001b[39m\"\u001b[39m\u001b[39mcount\u001b[39m\u001b[39m\"\u001b[39m, [var_name, value_name])\n",
      "File \u001b[1;32m~\\AppData\\Roaming\\Python\\Python310\\site-packages\\plotly\\express\\_core.py:1210\u001b[0m, in \u001b[0;36mprocess_args_into_dataframe\u001b[1;34m(args, wide_mode, var_name, value_name)\u001b[0m\n\u001b[0;32m   1208\u001b[0m         \u001b[39mif\u001b[39;00m argument \u001b[39m==\u001b[39m \u001b[39m\"\u001b[39m\u001b[39mindex\u001b[39m\u001b[39m\"\u001b[39m:\n\u001b[0;32m   1209\u001b[0m             err_msg \u001b[39m+\u001b[39m\u001b[39m=\u001b[39m \u001b[39m\"\u001b[39m\u001b[39m\\n\u001b[39;00m\u001b[39m To use the index, pass it in directly as `df.index`.\u001b[39m\u001b[39m\"\u001b[39m\n\u001b[1;32m-> 1210\u001b[0m         \u001b[39mraise\u001b[39;00m \u001b[39mValueError\u001b[39;00m(err_msg)\n\u001b[0;32m   1211\u001b[0m \u001b[39melif\u001b[39;00m length \u001b[39mand\u001b[39;00m \u001b[39mlen\u001b[39m(df_input[argument]) \u001b[39m!=\u001b[39m length:\n\u001b[0;32m   1212\u001b[0m     \u001b[39mraise\u001b[39;00m \u001b[39mValueError\u001b[39;00m(\n\u001b[0;32m   1213\u001b[0m         \u001b[39m\"\u001b[39m\u001b[39mAll arguments should have the same length. \u001b[39m\u001b[39m\"\u001b[39m\n\u001b[0;32m   1214\u001b[0m         \u001b[39m\"\u001b[39m\u001b[39mThe length of column argument `df[\u001b[39m\u001b[39m%s\u001b[39;00m\u001b[39m]` is \u001b[39m\u001b[39m%d\u001b[39;00m\u001b[39m, whereas the \u001b[39m\u001b[39m\"\u001b[39m\n\u001b[1;32m   (...)\u001b[0m\n\u001b[0;32m   1221\u001b[0m         )\n\u001b[0;32m   1222\u001b[0m     )\n",
      "\u001b[1;31mValueError\u001b[0m: Value of 'color' is not the name of a column in 'data_frame'. Expected one of ['comp1', 'comp2', 'cluster'] but received: black"
     ]
    }
   ],
   "source": [
    "dice = DICE(d=2, min_bound=0, max_bound=100)\n",
    "\n",
    "sample_nums = list(range(0, 100))\n",
    "\n",
    "# Generate DICE-embeddings and plot them\n",
    "dice_mat = []\n",
    "for num in sample_nums:\n",
    "    dice_mat.append(dice.make_dice(num))\n",
    "\n",
    "dice_mat = np.array(dice_mat)\n",
    "\n",
    "pca = PCA(n_components=2)\n",
    "p_comp = pca.fit_transform(dice_mat)\n",
    "p_df = pd.DataFrame(data = p_comp, columns = [\"pc1\", \"pc2\"])\n",
    "\n",
    "pca_2d_object, df_pca_2d = get_pca_2d(p_df, sample_nums)\n",
    "plot_pca_2d(df_pca_2d, title = \"DICE-2 Embeddings\")\n"
   ]
  },
  {
   "cell_type": "code",
   "execution_count": null,
   "metadata": {
    "ExecuteTime": {
     "end_time": "2021-07-29T14:14:58.672902Z",
     "start_time": "2021-07-29T14:14:58.489033Z"
    },
    "scrolled": false
   },
   "outputs": [
    {
     "data": {
      "application/vnd.plotly.v1+json": {
       "config": {
        "plotlyServerURL": "https://plot.ly"
       },
       "data": [
        {
         "hovertemplate": "cluster=0<br>comp1=%{x}<br>comp2=%{y}<br>comp3=%{z}<extra></extra>",
         "legendgroup": "0",
         "marker": {
          "color": "rgb(229, 134, 6)",
          "line": {
           "color": "black",
           "width": 0.1
          },
          "opacity": 0.8,
          "size": 4,
          "symbol": "circle"
         },
         "mode": "markers",
         "name": "0",
         "scene": "scene",
         "showlegend": true,
         "type": "scatter3d",
         "x": [
          3.7387391874631803
         ],
         "y": [
          0.569634189323764
         ],
         "z": [
          0.0869463912067032
         ]
        },
        {
         "hovertemplate": "cluster=1<br>comp1=%{x}<br>comp2=%{y}<br>comp3=%{z}<extra></extra>",
         "legendgroup": "1",
         "marker": {
          "color": "rgb(93, 105, 177)",
          "line": {
           "color": "black",
           "width": 0.1
          },
          "opacity": 0.8,
          "size": 4,
          "symbol": "circle"
         },
         "mode": "markers",
         "name": "1",
         "scene": "scene",
         "showlegend": true,
         "type": "scatter3d",
         "x": [
          3.7281389505155755
         ],
         "y": [
          0.5663104903689065
         ],
         "z": [
          0.0859360649966676
         ]
        },
        {
         "hovertemplate": "cluster=2<br>comp1=%{x}<br>comp2=%{y}<br>comp3=%{z}<extra></extra>",
         "legendgroup": "2",
         "marker": {
          "color": "rgb(82, 188, 163)",
          "line": {
           "color": "black",
           "width": 0.1
          },
          "opacity": 0.8,
          "size": 4,
          "symbol": "circle"
         },
         "mode": "markers",
         "name": "2",
         "scene": "scene",
         "showlegend": true,
         "type": "scatter3d",
         "x": [
          3.717543277262818
         ],
         "y": [
          0.5629873368071888
         ],
         "z": [
          0.08493076502944025
         ]
        },
        {
         "hovertemplate": "cluster=3<br>comp1=%{x}<br>comp2=%{y}<br>comp3=%{z}<extra></extra>",
         "legendgroup": "3",
         "marker": {
          "color": "rgb(153, 201, 69)",
          "line": {
           "color": "black",
           "width": 0.1
          },
          "opacity": 0.8,
          "size": 4,
          "symbol": "circle"
         },
         "mode": "markers",
         "name": "3",
         "scene": "scene",
         "showlegend": true,
         "type": "scatter3d",
         "x": [
          3.706952187621032
         ],
         "y": [
          0.559664753576198
         ],
         "z": [
          0.08393048098078788
         ]
        },
        {
         "hovertemplate": "cluster=4<br>comp1=%{x}<br>comp2=%{y}<br>comp3=%{z}<extra></extra>",
         "legendgroup": "4",
         "marker": {
          "color": "rgb(204, 97, 176)",
          "line": {
           "color": "black",
           "width": 0.1
          },
          "opacity": 0.8,
          "size": 4,
          "symbol": "circle"
         },
         "mode": "markers",
         "name": "4",
         "scene": "scene",
         "showlegend": true,
         "type": "scatter3d",
         "x": [
          3.6963657015058704
         ],
         "y": [
          0.5563427656134255
         ],
         "z": [
          0.08293520252600078
         ]
        },
        {
         "hovertemplate": "cluster=5<br>comp1=%{x}<br>comp2=%{y}<br>comp3=%{z}<extra></extra>",
         "legendgroup": "5",
         "marker": {
          "color": "rgb(36, 121, 108)",
          "line": {
           "color": "black",
           "width": 0.1
          },
          "opacity": 0.8,
          "size": 4,
          "symbol": "circle"
         },
         "mode": "markers",
         "name": "5",
         "scene": "scene",
         "showlegend": true,
         "type": "scatter3d",
         "x": [
          3.685783838832475
         ],
         "y": [
          0.5530213978562318
         ],
         "z": [
          0.0819449193399064
         ]
        },
        {
         "hovertemplate": "cluster=6<br>comp1=%{x}<br>comp2=%{y}<br>comp3=%{z}<extra></extra>",
         "legendgroup": "6",
         "marker": {
          "color": "rgb(218, 165, 27)",
          "line": {
           "color": "black",
           "width": 0.1
          },
          "opacity": 0.8,
          "size": 4,
          "symbol": "circle"
         },
         "mode": "markers",
         "name": "6",
         "scene": "scene",
         "showlegend": true,
         "type": "scatter3d",
         "x": [
          3.6752066195154747
         ],
         "y": [
          0.549700675241842
         ],
         "z": [
          0.08095962109687103
         ]
        },
        {
         "hovertemplate": "cluster=7<br>comp1=%{x}<br>comp2=%{y}<br>comp3=%{z}<extra></extra>",
         "legendgroup": "7",
         "marker": {
          "color": "rgb(47, 138, 196)",
          "line": {
           "color": "black",
           "width": 0.1
          },
          "opacity": 0.8,
          "size": 4,
          "symbol": "circle"
         },
         "mode": "markers",
         "name": "7",
         "scene": "scene",
         "showlegend": true,
         "type": "scatter3d",
         "x": [
          3.6646340634689816
         ],
         "y": [
          0.5463806227073014
         ],
         "z": [
          0.0799792974708369
         ]
        },
        {
         "hovertemplate": "cluster=8<br>comp1=%{x}<br>comp2=%{y}<br>comp3=%{z}<extra></extra>",
         "legendgroup": "8",
         "marker": {
          "color": "rgb(118, 78, 159)",
          "line": {
           "color": "black",
           "width": 0.1
          },
          "opacity": 0.8,
          "size": 4,
          "symbol": "circle"
         },
         "mode": "markers",
         "name": "8",
         "scene": "scene",
         "showlegend": true,
         "type": "scatter3d",
         "x": [
          3.6540661906065384
         ],
         "y": [
          0.543061265189465
         ],
         "z": [
          0.07900393813529906
         ]
        },
        {
         "hovertemplate": "cluster=9<br>comp1=%{x}<br>comp2=%{y}<br>comp3=%{z}<extra></extra>",
         "legendgroup": "9",
         "marker": {
          "color": "rgb(237, 100, 90)",
          "line": {
           "color": "black",
           "width": 0.1
          },
          "opacity": 0.8,
          "size": 4,
          "symbol": "circle"
         },
         "mode": "markers",
         "name": "9",
         "scene": "scene",
         "showlegend": true,
         "type": "scatter3d",
         "x": [
          3.643503020841109
         ],
         "y": [
          0.5397426276249672
         ],
         "z": [
          0.07803353276330952
         ]
        },
        {
         "hovertemplate": "cluster=10<br>comp1=%{x}<br>comp2=%{y}<br>comp3=%{z}<extra></extra>",
         "legendgroup": "10",
         "marker": {
          "color": "rgb(165, 170, 153)",
          "line": {
           "color": "black",
           "width": 0.1
          },
          "opacity": 0.8,
          "size": 4,
          "symbol": "circle"
         },
         "mode": "markers",
         "name": "10",
         "scene": "scene",
         "showlegend": true,
         "type": "scatter3d",
         "x": [
          3.6329445740850943
         ],
         "y": [
          0.5364247349502027
         ],
         "z": [
          0.07706807102753228
         ]
        },
        {
         "hovertemplate": "cluster=11<br>comp1=%{x}<br>comp2=%{y}<br>comp3=%{z}<extra></extra>",
         "legendgroup": "11",
         "marker": {
          "color": "rgb(229, 134, 6)",
          "line": {
           "color": "black",
           "width": 0.1
          },
          "opacity": 0.8,
          "size": 4,
          "symbol": "circle"
         },
         "mode": "markers",
         "name": "11",
         "scene": "scene",
         "showlegend": true,
         "type": "scatter3d",
         "x": [
          3.6223908702502783
         ],
         "y": [
          0.5331076121012976
         ],
         "z": [
          0.07610754260022047
         ]
        },
        {
         "hovertemplate": "cluster=12<br>comp1=%{x}<br>comp2=%{y}<br>comp3=%{z}<extra></extra>",
         "legendgroup": "12",
         "marker": {
          "color": "rgb(93, 105, 177)",
          "line": {
           "color": "black",
           "width": 0.1
          },
          "opacity": 0.8,
          "size": 4,
          "symbol": "circle"
         },
         "mode": "markers",
         "name": "12",
         "scene": "scene",
         "showlegend": true,
         "type": "scatter3d",
         "x": [
          3.6118419292478303
         ],
         "y": [
          0.5297912840140947
         ],
         "z": [
          0.07515193715322942
         ]
        },
        {
         "hovertemplate": "cluster=13<br>comp1=%{x}<br>comp2=%{y}<br>comp3=%{z}<extra></extra>",
         "legendgroup": "13",
         "marker": {
          "color": "rgb(82, 188, 163)",
          "line": {
           "color": "black",
           "width": 0.1
          },
          "opacity": 0.8,
          "size": 4,
          "symbol": "circle"
         },
         "mode": "markers",
         "name": "13",
         "scene": "scene",
         "showlegend": true,
         "type": "scatter3d",
         "x": [
          3.601297770988268
         ],
         "y": [
          0.5264757756241124
         ],
         "z": [
          0.07420124435802555
         ]
        },
        {
         "hovertemplate": "cluster=14<br>comp1=%{x}<br>comp2=%{y}<br>comp3=%{z}<extra></extra>",
         "legendgroup": "14",
         "marker": {
          "color": "rgb(153, 201, 69)",
          "line": {
           "color": "black",
           "width": 0.1
          },
          "opacity": 0.8,
          "size": 4,
          "symbol": "circle"
         },
         "mode": "markers",
         "name": "14",
         "scene": "scene",
         "showlegend": true,
         "type": "scatter3d",
         "x": [
          3.5907584153814827
         ],
         "y": [
          0.5231611118665415
         ],
         "z": [
          0.07325545388573043
         ]
        },
        {
         "hovertemplate": "cluster=15<br>comp1=%{x}<br>comp2=%{y}<br>comp3=%{z}<extra></extra>",
         "legendgroup": "15",
         "marker": {
          "color": "rgb(204, 97, 176)",
          "line": {
           "color": "black",
           "width": 0.1
          },
          "opacity": 0.8,
          "size": 4,
          "symbol": "circle"
         },
         "mode": "markers",
         "name": "15",
         "scene": "scene",
         "showlegend": true,
         "type": "scatter3d",
         "x": [
          3.5802238823366745
         ],
         "y": [
          0.5198473176762046
         ],
         "z": [
          0.07231455540708566
         ]
        },
        {
         "hovertemplate": "cluster=16<br>comp1=%{x}<br>comp2=%{y}<br>comp3=%{z}<extra></extra>",
         "legendgroup": "16",
         "marker": {
          "color": "rgb(36, 121, 108)",
          "line": {
           "color": "black",
           "width": 0.1
          },
          "opacity": 0.8,
          "size": 4,
          "symbol": "circle"
         },
         "mode": "markers",
         "name": "16",
         "scene": "scene",
         "showlegend": true,
         "type": "scatter3d",
         "x": [
          3.569694191762344
         ],
         "y": [
          0.5165344179875465
         ],
         "z": [
          0.07137853859246161
         ]
        },
        {
         "hovertemplate": "cluster=17<br>comp1=%{x}<br>comp2=%{y}<br>comp3=%{z}<extra></extra>",
         "legendgroup": "17",
         "marker": {
          "color": "rgb(218, 165, 27)",
          "line": {
           "color": "black",
           "width": 0.1
          },
          "opacity": 0.8,
          "size": 4,
          "symbol": "circle"
         },
         "mode": "markers",
         "name": "17",
         "scene": "scene",
         "showlegend": true,
         "type": "scatter3d",
         "x": [
          3.559169363566318
         ],
         "y": [
          0.513222437734597
         ],
         "z": [
          0.0704473931119362
         ]
        },
        {
         "hovertemplate": "cluster=18<br>comp1=%{x}<br>comp2=%{y}<br>comp3=%{z}<extra></extra>",
         "legendgroup": "18",
         "marker": {
          "color": "rgb(47, 138, 196)",
          "line": {
           "color": "black",
           "width": 0.1
          },
          "opacity": 0.8,
          "size": 4,
          "symbol": "circle"
         },
         "mode": "markers",
         "name": "18",
         "scene": "scene",
         "showlegend": true,
         "type": "scatter3d",
         "x": [
          3.5486494176556613
         ],
         "y": [
          0.5099114018509529
         ],
         "z": [
          0.06952110863520504
         ]
        },
        {
         "hovertemplate": "cluster=19<br>comp1=%{x}<br>comp2=%{y}<br>comp3=%{z}<extra></extra>",
         "legendgroup": "19",
         "marker": {
          "color": "rgb(118, 78, 159)",
          "line": {
           "color": "black",
           "width": 0.1
          },
          "opacity": 0.8,
          "size": 4,
          "symbol": "circle"
         },
         "mode": "markers",
         "name": "19",
         "scene": "scene",
         "showlegend": true,
         "type": "scatter3d",
         "x": [
          3.538134373936736
         ],
         "y": [
          0.5066013352697583
         ],
         "z": [
          0.06859967483169141
         ]
        },
        {
         "hovertemplate": "cluster=20<br>comp1=%{x}<br>comp2=%{y}<br>comp3=%{z}<extra></extra>",
         "legendgroup": "20",
         "marker": {
          "color": "rgb(237, 100, 90)",
          "line": {
           "color": "black",
           "width": 0.1
          },
          "opacity": 0.8,
          "size": 4,
          "symbol": "circle"
         },
         "mode": "markers",
         "name": "20",
         "scene": "scene",
         "showlegend": true,
         "type": "scatter3d",
         "x": [
          3.527624252315113
         ],
         "y": [
          0.5032922629236735
         ],
         "z": [
          0.06768308137046726
         ]
        },
        {
         "hovertemplate": "cluster=21<br>comp1=%{x}<br>comp2=%{y}<br>comp3=%{z}<extra></extra>",
         "legendgroup": "21",
         "marker": {
          "color": "rgb(165, 170, 153)",
          "line": {
           "color": "black",
           "width": 0.1
          },
          "opacity": 0.8,
          "size": 4,
          "symbol": "circle"
         },
         "mode": "markers",
         "name": "21",
         "scene": "scene",
         "showlegend": true,
         "type": "scatter3d",
         "x": [
          3.5171190726956114
         ],
         "y": [
          0.49998420974485674
         ],
         "z": [
          0.06677131792033446
         ]
        },
        {
         "hovertemplate": "cluster=22<br>comp1=%{x}<br>comp2=%{y}<br>comp3=%{z}<extra></extra>",
         "legendgroup": "22",
         "marker": {
          "color": "rgb(229, 134, 6)",
          "line": {
           "color": "black",
           "width": 0.1
          },
          "opacity": 0.8,
          "size": 4,
          "symbol": "circle"
         },
         "mode": "markers",
         "name": "22",
         "scene": "scene",
         "showlegend": true,
         "type": "scatter3d",
         "x": [
          3.5066188549822432
         ],
         "y": [
          0.49667720066493665
         ],
         "z": [
          0.06586437414978828
         ]
        },
        {
         "hovertemplate": "cluster=23<br>comp1=%{x}<br>comp2=%{y}<br>comp3=%{z}<extra></extra>",
         "legendgroup": "23",
         "marker": {
          "color": "rgb(93, 105, 177)",
          "line": {
           "color": "black",
           "width": 0.1
          },
          "opacity": 0.8,
          "size": 4,
          "symbol": "circle"
         },
         "mode": "markers",
         "name": "23",
         "scene": "scene",
         "showlegend": true,
         "type": "scatter3d",
         "x": [
          3.496123619078225
         ],
         "y": [
          0.4933712606149914
         ],
         "z": [
          0.06496223972706058
         ]
        },
        {
         "hovertemplate": "cluster=24<br>comp1=%{x}<br>comp2=%{y}<br>comp3=%{z}<extra></extra>",
         "legendgroup": "24",
         "marker": {
          "color": "rgb(82, 188, 163)",
          "line": {
           "color": "black",
           "width": 0.1
          },
          "opacity": 0.8,
          "size": 4,
          "symbol": "circle"
         },
         "mode": "markers",
         "name": "24",
         "scene": "scene",
         "showlegend": true,
         "type": "scatter3d",
         "x": [
          3.4856333848859387
         ],
         "y": [
          0.49006641452551997
         ],
         "z": [
          0.06406490432011122
         ]
        },
        {
         "hovertemplate": "cluster=25<br>comp1=%{x}<br>comp2=%{y}<br>comp3=%{z}<extra></extra>",
         "legendgroup": "25",
         "marker": {
          "color": "rgb(153, 201, 69)",
          "line": {
           "color": "black",
           "width": 0.1
          },
          "opacity": 0.8,
          "size": 4,
          "symbol": "circle"
         },
         "mode": "markers",
         "name": "25",
         "scene": "scene",
         "showlegend": true,
         "type": "scatter3d",
         "x": [
          3.4751481723069175
         ],
         "y": [
          0.48676268732642736
         ],
         "z": [
          0.06317235759662942
         ]
        },
        {
         "hovertemplate": "cluster=26<br>comp1=%{x}<br>comp2=%{y}<br>comp3=%{z}<extra></extra>",
         "legendgroup": "26",
         "marker": {
          "color": "rgb(204, 97, 176)",
          "line": {
           "color": "black",
           "width": 0.1
          },
          "opacity": 0.8,
          "size": 4,
          "symbol": "circle"
         },
         "mode": "markers",
         "name": "26",
         "scene": "scene",
         "showlegend": true,
         "type": "scatter3d",
         "x": [
          3.464668001241847
         ],
         "y": [
          0.48346010394698974
         ],
         "z": [
          0.06228458922407621
         ]
        },
        {
         "hovertemplate": "cluster=27<br>comp1=%{x}<br>comp2=%{y}<br>comp3=%{z}<extra></extra>",
         "legendgroup": "27",
         "marker": {
          "color": "rgb(36, 121, 108)",
          "line": {
           "color": "black",
           "width": 0.1
          },
          "opacity": 0.8,
          "size": 4,
          "symbol": "circle"
         },
         "mode": "markers",
         "name": "27",
         "scene": "scene",
         "showlegend": true,
         "type": "scatter3d",
         "x": [
          3.4541928915905173
         ],
         "y": [
          0.48015868931583694
         ],
         "z": [
          0.06140158886965974
         ]
        },
        {
         "hovertemplate": "cluster=28<br>comp1=%{x}<br>comp2=%{y}<br>comp3=%{z}<extra></extra>",
         "legendgroup": "28",
         "marker": {
          "color": "rgb(218, 165, 27)",
          "line": {
           "color": "black",
           "width": 0.1
          },
          "opacity": 0.8,
          "size": 4,
          "symbol": "circle"
         },
         "mode": "markers",
         "name": "28",
         "scene": "scene",
         "showlegend": true,
         "type": "scatter3d",
         "x": [
          3.443722863251848
         ],
         "y": [
          0.4768584683609323
         ],
         "z": [
          0.06052334620038225
         ]
        },
        {
         "hovertemplate": "cluster=29<br>comp1=%{x}<br>comp2=%{y}<br>comp3=%{z}<extra></extra>",
         "legendgroup": "29",
         "marker": {
          "color": "rgb(47, 138, 196)",
          "line": {
           "color": "black",
           "width": 0.1
          },
          "opacity": 0.8,
          "size": 4,
          "symbol": "circle"
         },
         "mode": "markers",
         "name": "29",
         "scene": "scene",
         "showlegend": true,
         "type": "scatter3d",
         "x": [
          3.433257936123821
         ],
         "y": [
          0.4735594660095386
         ],
         "z": [
          0.0596498508830063
         ]
        },
        {
         "hovertemplate": "cluster=30<br>comp1=%{x}<br>comp2=%{y}<br>comp3=%{z}<extra></extra>",
         "legendgroup": "30",
         "marker": {
          "color": "rgb(118, 78, 159)",
          "line": {
           "color": "black",
           "width": 0.1
          },
          "opacity": 0.8,
          "size": 4,
          "symbol": "circle"
         },
         "mode": "markers",
         "name": "30",
         "scene": "scene",
         "showlegend": true,
         "type": "scatter3d",
         "x": [
          3.4227981301034953
         ],
         "y": [
          0.47026170718820115
         ],
         "z": [
          0.05878109258410188
         ]
        },
        {
         "hovertemplate": "cluster=31<br>comp1=%{x}<br>comp2=%{y}<br>comp3=%{z}<extra></extra>",
         "legendgroup": "31",
         "marker": {
          "color": "rgb(237, 100, 90)",
          "line": {
           "color": "black",
           "width": 0.1
          },
          "opacity": 0.8,
          "size": 4,
          "symbol": "circle"
         },
         "mode": "markers",
         "name": "31",
         "scene": "scene",
         "showlegend": true,
         "type": "scatter3d",
         "x": [
          3.412343465087004
         ],
         "y": [
          0.4669652168227233
         ],
         "z": [
          0.05791706097005626
         ]
        },
        {
         "hovertemplate": "cluster=32<br>comp1=%{x}<br>comp2=%{y}<br>comp3=%{z}<extra></extra>",
         "legendgroup": "32",
         "marker": {
          "color": "rgb(165, 170, 153)",
          "line": {
           "color": "black",
           "width": 0.1
          },
          "opacity": 0.8,
          "size": 4,
          "symbol": "circle"
         },
         "mode": "markers",
         "name": "32",
         "scene": "scene",
         "showlegend": true,
         "type": "scatter3d",
         "x": [
          3.401893960969486
         ],
         "y": [
          0.4636700198381436
         ],
         "z": [
          0.05705774570704779
         ]
        },
        {
         "hovertemplate": "cluster=33<br>comp1=%{x}<br>comp2=%{y}<br>comp3=%{z}<extra></extra>",
         "legendgroup": "33",
         "marker": {
          "color": "rgb(229, 134, 6)",
          "line": {
           "color": "black",
           "width": 0.1
          },
          "opacity": 0.8,
          "size": 4,
          "symbol": "circle"
         },
         "mode": "markers",
         "name": "33",
         "scene": "scene",
         "showlegend": true,
         "type": "scatter3d",
         "x": [
          3.3914496376451218
         ],
         "y": [
          0.46037614115870523
         ],
         "z": [
          0.056203136461101276
         ]
        },
        {
         "hovertemplate": "cluster=34<br>comp1=%{x}<br>comp2=%{y}<br>comp3=%{z}<extra></extra>",
         "legendgroup": "34",
         "marker": {
          "color": "rgb(93, 105, 177)",
          "line": {
           "color": "black",
           "width": 0.1
          },
          "opacity": 0.8,
          "size": 4,
          "symbol": "circle"
         },
         "mode": "markers",
         "name": "34",
         "scene": "scene",
         "showlegend": true,
         "type": "scatter3d",
         "x": [
          3.3810105150070684
         ],
         "y": [
          0.45708360570784545
         ],
         "z": [
          0.055353222898050156
         ]
        },
        {
         "hovertemplate": "cluster=35<br>comp1=%{x}<br>comp2=%{y}<br>comp3=%{z}<extra></extra>",
         "legendgroup": "35",
         "marker": {
          "color": "rgb(82, 188, 163)",
          "line": {
           "color": "black",
           "width": 0.1
          },
          "opacity": 0.8,
          "size": 4,
          "symbol": "circle"
         },
         "mode": "markers",
         "name": "35",
         "scene": "scene",
         "showlegend": true,
         "type": "scatter3d",
         "x": [
          3.3705766129475045
         ],
         "y": [
          0.453792438408154
         ],
         "z": [
          0.05450799468361967
         ]
        },
        {
         "hovertemplate": "cluster=36<br>comp1=%{x}<br>comp2=%{y}<br>comp3=%{z}<extra></extra>",
         "legendgroup": "36",
         "marker": {
          "color": "rgb(153, 201, 69)",
          "line": {
           "color": "black",
           "width": 0.1
          },
          "opacity": 0.8,
          "size": 4,
          "symbol": "circle"
         },
         "mode": "markers",
         "name": "36",
         "scene": "scene",
         "showlegend": true,
         "type": "scatter3d",
         "x": [
          3.3601479513575367
         ],
         "y": [
          0.45050266418136437
         ],
         "z": [
          0.053667441483345214
         ]
        },
        {
         "hovertemplate": "cluster=37<br>comp1=%{x}<br>comp2=%{y}<br>comp3=%{z}<extra></extra>",
         "legendgroup": "37",
         "marker": {
          "color": "rgb(204, 97, 176)",
          "line": {
           "color": "black",
           "width": 0.1
          },
          "opacity": 0.8,
          "size": 4,
          "symbol": "circle"
         },
         "mode": "markers",
         "name": "37",
         "scene": "scene",
         "showlegend": true,
         "type": "scatter3d",
         "x": [
          3.349724550127258
         ],
         "y": [
          0.44721430794832334
         ],
         "z": [
          0.05283155296267387
         ]
        },
        {
         "hovertemplate": "cluster=38<br>comp1=%{x}<br>comp2=%{y}<br>comp3=%{z}<extra></extra>",
         "legendgroup": "38",
         "marker": {
          "color": "rgb(36, 121, 108)",
          "line": {
           "color": "black",
           "width": 0.1
          },
          "opacity": 0.8,
          "size": 4,
          "symbol": "circle"
         },
         "mode": "markers",
         "name": "38",
         "scene": "scene",
         "showlegend": true,
         "type": "scatter3d",
         "x": [
          3.3393064291456636
         ],
         "y": [
          0.4439273946289728
         ],
         "z": [
          0.05200031878688587
         ]
        },
        {
         "hovertemplate": "cluster=39<br>comp1=%{x}<br>comp2=%{y}<br>comp3=%{z}<extra></extra>",
         "legendgroup": "39",
         "marker": {
          "color": "rgb(218, 165, 27)",
          "line": {
           "color": "black",
           "width": 0.1
          },
          "opacity": 0.8,
          "size": 4,
          "symbol": "circle"
         },
         "mode": "markers",
         "name": "39",
         "scene": "scene",
         "showlegend": true,
         "type": "scatter3d",
         "x": [
          3.3288936083006853
         ],
         "y": [
          0.440641949142313
         ],
         "z": [
          0.05117372862118415
         ]
        },
        {
         "hovertemplate": "cluster=40<br>comp1=%{x}<br>comp2=%{y}<br>comp3=%{z}<extra></extra>",
         "legendgroup": "40",
         "marker": {
          "color": "rgb(47, 138, 196)",
          "line": {
           "color": "black",
           "width": 0.1
          },
          "opacity": 0.8,
          "size": 4,
          "symbol": "circle"
         },
         "mode": "markers",
         "name": "40",
         "scene": "scene",
         "showlegend": true,
         "type": "scatter3d",
         "x": [
          3.31848610747914
         ],
         "y": [
          0.43735799640639084
         ],
         "z": [
          0.05035177213065885
         ]
        },
        {
         "hovertemplate": "cluster=41<br>comp1=%{x}<br>comp2=%{y}<br>comp3=%{z}<extra></extra>",
         "legendgroup": "41",
         "marker": {
          "color": "rgb(118, 78, 159)",
          "line": {
           "color": "black",
           "width": 0.1
          },
          "opacity": 0.8,
          "size": 4,
          "symbol": "circle"
         },
         "mode": "markers",
         "name": "41",
         "scene": "scene",
         "showlegend": true,
         "type": "scatter3d",
         "x": [
          3.3080839465667355
         ],
         "y": [
          0.4340755613382736
         ],
         "z": [
          0.049534438980303776
         ]
        },
        {
         "hovertemplate": "cluster=42<br>comp1=%{x}<br>comp2=%{y}<br>comp3=%{z}<extra></extra>",
         "legendgroup": "42",
         "marker": {
          "color": "rgb(237, 100, 90)",
          "line": {
           "color": "black",
           "width": 0.1
          },
          "opacity": 0.8,
          "size": 4,
          "symbol": "circle"
         },
         "mode": "markers",
         "name": "42",
         "scene": "scene",
         "showlegend": true,
         "type": "scatter3d",
         "x": [
          3.297687145448045
         ],
         "y": [
          0.4307946688540219
         ],
         "z": [
          0.04872171883504758
         ]
        },
        {
         "hovertemplate": "cluster=43<br>comp1=%{x}<br>comp2=%{y}<br>comp3=%{z}<extra></extra>",
         "legendgroup": "43",
         "marker": {
          "color": "rgb(165, 170, 153)",
          "line": {
           "color": "black",
           "width": 0.1
          },
          "opacity": 0.8,
          "size": 4,
          "symbol": "circle"
         },
         "mode": "markers",
         "name": "43",
         "scene": "scene",
         "showlegend": true,
         "type": "scatter3d",
         "x": [
          3.2872957240064857
         ],
         "y": [
          0.4275153438686711
         ],
         "z": [
          0.04791360135974004
         ]
        },
        {
         "hovertemplate": "cluster=44<br>comp1=%{x}<br>comp2=%{y}<br>comp3=%{z}<extra></extra>",
         "legendgroup": "44",
         "marker": {
          "color": "rgb(229, 134, 6)",
          "line": {
           "color": "black",
           "width": 0.1
          },
          "opacity": 0.8,
          "size": 4,
          "symbol": "circle"
         },
         "mode": "markers",
         "name": "44",
         "scene": "scene",
         "showlegend": true,
         "type": "scatter3d",
         "x": [
          3.2769097021242892
         ],
         "y": [
          0.42423761129619925
         ],
         "z": [
          0.04711007621915843
         ]
        },
        {
         "hovertemplate": "cluster=45<br>comp1=%{x}<br>comp2=%{y}<br>comp3=%{z}<extra></extra>",
         "legendgroup": "45",
         "marker": {
          "color": "rgb(93, 105, 177)",
          "line": {
           "color": "black",
           "width": 0.1
          },
          "opacity": 0.8,
          "size": 4,
          "symbol": "circle"
         },
         "mode": "markers",
         "name": "45",
         "scene": "scene",
         "showlegend": true,
         "type": "scatter3d",
         "x": [
          3.2665290996825234
         ],
         "y": [
          0.4209614960495111
         ],
         "z": [
          0.04631113307804979
         ]
        },
        {
         "hovertemplate": "cluster=46<br>comp1=%{x}<br>comp2=%{y}<br>comp3=%{z}<extra></extra>",
         "legendgroup": "46",
         "marker": {
          "color": "rgb(82, 188, 163)",
          "line": {
           "color": "black",
           "width": 0.1
          },
          "opacity": 0.8,
          "size": 4,
          "symbol": "circle"
         },
         "mode": "markers",
         "name": "46",
         "scene": "scene",
         "showlegend": true,
         "type": "scatter3d",
         "x": [
          3.2561539365610566
         ],
         "y": [
          0.4176870230404119
         ],
         "z": [
          0.045516761601133764
         ]
        },
        {
         "hovertemplate": "cluster=47<br>comp1=%{x}<br>comp2=%{y}<br>comp3=%{z}<extra></extra>",
         "legendgroup": "47",
         "marker": {
          "color": "rgb(153, 201, 69)",
          "line": {
           "color": "black",
           "width": 0.1
          },
          "opacity": 0.8,
          "size": 4,
          "symbol": "circle"
         },
         "mode": "markers",
         "name": "47",
         "scene": "scene",
         "showlegend": true,
         "type": "scatter3d",
         "x": [
          3.2457842326385054
         ],
         "y": [
          0.41441421717958116
         ],
         "z": [
          0.044726951453068105
         ]
        },
        {
         "hovertemplate": "cluster=48<br>comp1=%{x}<br>comp2=%{y}<br>comp3=%{z}<extra></extra>",
         "legendgroup": "48",
         "marker": {
          "color": "rgb(204, 97, 176)",
          "line": {
           "color": "black",
           "width": 0.1
          },
          "opacity": 0.8,
          "size": 4,
          "symbol": "circle"
         },
         "mode": "markers",
         "name": "48",
         "scene": "scene",
         "showlegend": true,
         "type": "scatter3d",
         "x": [
          3.2354200077922655
         ],
         "y": [
          0.4111431033765494
         ],
         "z": [
          0.043941692298512997
         ]
        },
        {
         "hovertemplate": "cluster=49<br>comp1=%{x}<br>comp2=%{y}<br>comp3=%{z}<extra></extra>",
         "legendgroup": "49",
         "marker": {
          "color": "rgb(36, 121, 108)",
          "line": {
           "color": "black",
           "width": 0.1
          },
          "opacity": 0.8,
          "size": 4,
          "symbol": "circle"
         },
         "mode": "markers",
         "name": "49",
         "scene": "scene",
         "showlegend": true,
         "type": "scatter3d",
         "x": [
          3.2250612818984874
         ],
         "y": [
          0.40787370653968147
         ],
         "z": [
          0.04316097380212682
         ]
        },
        {
         "hovertemplate": "cluster=50<br>comp1=%{x}<br>comp2=%{y}<br>comp3=%{z}<extra></extra>",
         "legendgroup": "50",
         "marker": {
          "color": "rgb(218, 165, 27)",
          "line": {
           "color": "black",
           "width": 0.1
          },
          "opacity": 0.8,
          "size": 4,
          "symbol": "circle"
         },
         "mode": "markers",
         "name": "50",
         "scene": "scene",
         "showlegend": true,
         "type": "scatter3d",
         "x": [
          3.214708074832029
         ],
         "y": [
          0.4046060515761435
         ],
         "z": [
          0.04238478562855654
         ]
        },
        {
         "hovertemplate": "cluster=51<br>comp1=%{x}<br>comp2=%{y}<br>comp3=%{z}<extra></extra>",
         "legendgroup": "51",
         "marker": {
          "color": "rgb(47, 138, 196)",
          "line": {
           "color": "black",
           "width": 0.1
          },
          "opacity": 0.8,
          "size": 4,
          "symbol": "circle"
         },
         "mode": "markers",
         "name": "51",
         "scene": "scene",
         "showlegend": true,
         "type": "scatter3d",
         "x": [
          3.2043604064664657
         ],
         "y": [
          0.4013401633918802
         ],
         "z": [
          0.04161311744246729
         ]
        },
        {
         "hovertemplate": "cluster=52<br>comp1=%{x}<br>comp2=%{y}<br>comp3=%{z}<extra></extra>",
         "legendgroup": "52",
         "marker": {
          "color": "rgb(118, 78, 159)",
          "line": {
           "color": "black",
           "width": 0.1
          },
          "opacity": 0.8,
          "size": 4,
          "symbol": "circle"
         },
         "mode": "markers",
         "name": "52",
         "scene": "scene",
         "showlegend": true,
         "type": "scatter3d",
         "x": [
          3.1940182966740704
         ],
         "y": [
          0.3980760668915956
         ],
         "z": [
          0.04084595890855617
         ]
        },
        {
         "hovertemplate": "cluster=53<br>comp1=%{x}<br>comp2=%{y}<br>comp3=%{z}<extra></extra>",
         "legendgroup": "53",
         "marker": {
          "color": "rgb(237, 100, 90)",
          "line": {
           "color": "black",
           "width": 0.1
          },
          "opacity": 0.8,
          "size": 4,
          "symbol": "circle"
         },
         "mode": "markers",
         "name": "53",
         "scene": "scene",
         "showlegend": true,
         "type": "scatter3d",
         "x": [
          3.1836817653257845
         ],
         "y": [
          0.3948137869787259
         ],
         "z": [
          0.040083299691548196
         ]
        },
        {
         "hovertemplate": "cluster=54<br>comp1=%{x}<br>comp2=%{y}<br>comp3=%{z}<extra></extra>",
         "legendgroup": "54",
         "marker": {
          "color": "rgb(165, 170, 153)",
          "line": {
           "color": "black",
           "width": 0.1
          },
          "opacity": 0.8,
          "size": 4,
          "symbol": "circle"
         },
         "mode": "markers",
         "name": "54",
         "scene": "scene",
         "showlegend": true,
         "type": "scatter3d",
         "x": [
          3.1733508322912165
         ],
         "y": [
          0.3915533485554195
         ],
         "z": [
          0.03932512945621608
         ]
        },
        {
         "hovertemplate": "cluster=55<br>comp1=%{x}<br>comp2=%{y}<br>comp3=%{z}<extra></extra>",
         "legendgroup": "55",
         "marker": {
          "color": "rgb(229, 134, 6)",
          "line": {
           "color": "black",
           "width": 0.1
          },
          "opacity": 0.8,
          "size": 4,
          "symbol": "circle"
         },
         "mode": "markers",
         "name": "55",
         "scene": "scene",
         "showlegend": true,
         "type": "scatter3d",
         "x": [
          3.1630255174386006
         ],
         "y": [
          0.38829477652251027
         ],
         "z": [
          0.03857143786737631
         ]
        },
        {
         "hovertemplate": "cluster=56<br>comp1=%{x}<br>comp2=%{y}<br>comp3=%{z}<extra></extra>",
         "legendgroup": "56",
         "marker": {
          "color": "rgb(93, 105, 177)",
          "line": {
           "color": "black",
           "width": 0.1
          },
          "opacity": 0.8,
          "size": 4,
          "symbol": "circle"
         },
         "mode": "markers",
         "name": "56",
         "scene": "scene",
         "showlegend": true,
         "type": "scatter3d",
         "x": [
          3.1527058406348205
         ],
         "y": [
          0.38503809577948844
         ],
         "z": [
          0.0378222145899392
         ]
        },
        {
         "hovertemplate": "cluster=57<br>comp1=%{x}<br>comp2=%{y}<br>comp3=%{z}<extra></extra>",
         "legendgroup": "57",
         "marker": {
          "color": "rgb(82, 188, 163)",
          "line": {
           "color": "black",
           "width": 0.1
          },
          "opacity": 0.8,
          "size": 4,
          "symbol": "circle"
         },
         "mode": "markers",
         "name": "57",
         "scene": "scene",
         "showlegend": true,
         "type": "scatter3d",
         "x": [
          3.14239182174533
         ],
         "y": [
          0.3817833312244895
         ],
         "z": [
          0.03707744928884595
         ]
        },
        {
         "hovertemplate": "cluster=58<br>comp1=%{x}<br>comp2=%{y}<br>comp3=%{z}<extra></extra>",
         "legendgroup": "58",
         "marker": {
          "color": "rgb(153, 201, 69)",
          "line": {
           "color": "black",
           "width": 0.1
          },
          "opacity": 0.8,
          "size": 4,
          "symbol": "circle"
         },
         "mode": "markers",
         "name": "58",
         "scene": "scene",
         "showlegend": true,
         "type": "scatter3d",
         "x": [
          3.1320834806342135
         ],
         "y": [
          0.37853050775425473
         ],
         "z": [
          0.03633713162917717
         ]
        },
        {
         "hovertemplate": "cluster=59<br>comp1=%{x}<br>comp2=%{y}<br>comp3=%{z}<extra></extra>",
         "legendgroup": "59",
         "marker": {
          "color": "rgb(204, 97, 176)",
          "line": {
           "color": "black",
           "width": 0.1
          },
          "opacity": 0.8,
          "size": 4,
          "symbol": "circle"
         },
         "mode": "markers",
         "name": "59",
         "scene": "scene",
         "showlegend": true,
         "type": "scatter3d",
         "x": [
          3.121780837164099
         ],
         "y": [
          0.3752796502641277
         ],
         "z": [
          0.03560125127606866
         ]
        },
        {
         "hovertemplate": "cluster=60<br>comp1=%{x}<br>comp2=%{y}<br>comp3=%{z}<extra></extra>",
         "legendgroup": "60",
         "marker": {
          "color": "rgb(36, 121, 108)",
          "line": {
           "color": "black",
           "width": 0.1
          },
          "opacity": 0.8,
          "size": 4,
          "symbol": "circle"
         },
         "mode": "markers",
         "name": "60",
         "scene": "scene",
         "showlegend": true,
         "type": "scatter3d",
         "x": [
          3.111483911196182
         ],
         "y": [
          0.37203078364800474
         ],
         "z": [
          0.034869797894786954
         ]
        },
        {
         "hovertemplate": "cluster=61<br>comp1=%{x}<br>comp2=%{y}<br>comp3=%{z}<extra></extra>",
         "legendgroup": "61",
         "marker": {
          "color": "rgb(218, 165, 27)",
          "line": {
           "color": "black",
           "width": 0.1
          },
          "opacity": 0.8,
          "size": 4,
          "symbol": "circle"
         },
         "mode": "markers",
         "name": "61",
         "scene": "scene",
         "showlegend": true,
         "type": "scatter3d",
         "x": [
          3.101192722590199
         ],
         "y": [
          0.3687839327983375
         ],
         "z": [
          0.03414276115070865
         ]
        },
        {
         "hovertemplate": "cluster=62<br>comp1=%{x}<br>comp2=%{y}<br>comp3=%{z}<extra></extra>",
         "legendgroup": "62",
         "marker": {
          "color": "rgb(47, 138, 196)",
          "line": {
           "color": "black",
           "width": 0.1
          },
          "opacity": 0.8,
          "size": 4,
          "symbol": "circle"
         },
         "mode": "markers",
         "name": "62",
         "scene": "scene",
         "showlegend": true,
         "type": "scatter3d",
         "x": [
          3.0909072912043967
         ],
         "y": [
          0.365539122606088
         ],
         "z": [
          0.033420130709337775
         ]
        },
        {
         "hovertemplate": "cluster=63<br>comp1=%{x}<br>comp2=%{y}<br>comp3=%{z}<extra></extra>",
         "legendgroup": "63",
         "marker": {
          "color": "rgb(118, 78, 159)",
          "line": {
           "color": "black",
           "width": 0.1
          },
          "opacity": 0.8,
          "size": 4,
          "symbol": "circle"
         },
         "mode": "markers",
         "name": "63",
         "scene": "scene",
         "showlegend": true,
         "type": "scatter3d",
         "x": [
          3.080627636895527
         ],
         "y": [
          0.3622963779607169
         ],
         "z": [
          0.03270189623630851
         ]
        },
        {
         "hovertemplate": "cluster=64<br>comp1=%{x}<br>comp2=%{y}<br>comp3=%{z}<extra></extra>",
         "legendgroup": "64",
         "marker": {
          "color": "rgb(237, 100, 90)",
          "line": {
           "color": "black",
           "width": 0.1
          },
          "opacity": 0.8,
          "size": 4,
          "symbol": "circle"
         },
         "mode": "markers",
         "name": "64",
         "scene": "scene",
         "showlegend": true,
         "type": "scatter3d",
         "x": [
          3.070353779518842
         ],
         "y": [
          0.3590557237501561
         ],
         "z": [
          0.03198804739742417
         ]
        },
        {
         "hovertemplate": "cluster=65<br>comp1=%{x}<br>comp2=%{y}<br>comp3=%{z}<extra></extra>",
         "legendgroup": "65",
         "marker": {
          "color": "rgb(165, 170, 153)",
          "line": {
           "color": "black",
           "width": 0.1
          },
          "opacity": 0.8,
          "size": 4,
          "symbol": "circle"
         },
         "mode": "markers",
         "name": "65",
         "scene": "scene",
         "showlegend": true,
         "type": "scatter3d",
         "x": [
          3.0600857389280525
         ],
         "y": [
          0.35581718486078573
         ],
         "z": [
          0.03127857385863624
         ]
        },
        {
         "hovertemplate": "cluster=66<br>comp1=%{x}<br>comp2=%{y}<br>comp3=%{z}<extra></extra>",
         "legendgroup": "66",
         "marker": {
          "color": "rgb(229, 134, 6)",
          "line": {
           "color": "black",
           "width": 0.1
          },
          "opacity": 0.8,
          "size": 4,
          "symbol": "circle"
         },
         "mode": "markers",
         "name": "66",
         "scene": "scene",
         "showlegend": true,
         "type": "scatter3d",
         "x": [
          3.0498235349753275
         ],
         "y": [
          0.35258078617740624
         ],
         "z": [
          0.030573465286069454
         ]
        },
        {
         "hovertemplate": "cluster=67<br>comp1=%{x}<br>comp2=%{y}<br>comp3=%{z}<extra></extra>",
         "legendgroup": "67",
         "marker": {
          "color": "rgb(93, 105, 177)",
          "line": {
           "color": "black",
           "width": 0.1
          },
          "opacity": 0.8,
          "size": 4,
          "symbol": "circle"
         },
         "mode": "markers",
         "name": "67",
         "scene": "scene",
         "showlegend": true,
         "type": "scatter3d",
         "x": [
          3.0395671875112624
         ],
         "y": [
          0.34934655258322456
         ],
         "z": [
          0.029872711346016524
         ]
        },
        {
         "hovertemplate": "cluster=68<br>comp1=%{x}<br>comp2=%{y}<br>comp3=%{z}<extra></extra>",
         "legendgroup": "68",
         "marker": {
          "color": "rgb(82, 188, 163)",
          "line": {
           "color": "black",
           "width": 0.1
          },
          "opacity": 0.8,
          "size": 4,
          "symbol": "circle"
         },
         "mode": "markers",
         "name": "68",
         "scene": "scene",
         "showlegend": true,
         "type": "scatter3d",
         "x": [
          3.0293167163848853
         ],
         "y": [
          0.3461145089598144
         ],
         "z": [
          0.029176301704985037
         ]
        },
        {
         "hovertemplate": "cluster=69<br>comp1=%{x}<br>comp2=%{y}<br>comp3=%{z}<extra></extra>",
         "legendgroup": "69",
         "marker": {
          "color": "rgb(153, 201, 69)",
          "line": {
           "color": "black",
           "width": 0.1
          },
          "opacity": 0.8,
          "size": 4,
          "symbol": "circle"
         },
         "mode": "markers",
         "name": "69",
         "scene": "scene",
         "showlegend": true,
         "type": "scatter3d",
         "x": [
          3.0190721414436035
         ],
         "y": [
          0.3428846801871127
         ],
         "z": [
          0.028484226029648663
         ]
        },
        {
         "hovertemplate": "cluster=70<br>comp1=%{x}<br>comp2=%{y}<br>comp3=%{z}<extra></extra>",
         "legendgroup": "70",
         "marker": {
          "color": "rgb(204, 97, 176)",
          "line": {
           "color": "black",
           "width": 0.1
          },
          "opacity": 0.8,
          "size": 4,
          "symbol": "circle"
         },
         "mode": "markers",
         "name": "70",
         "scene": "scene",
         "showlegend": true,
         "type": "scatter3d",
         "x": [
          3.008833482533237
         ],
         "y": [
          0.3396570911433761
         ],
         "z": [
          0.02779647398693539
         ]
        },
        {
         "hovertemplate": "cluster=71<br>comp1=%{x}<br>comp2=%{y}<br>comp3=%{z}<extra></extra>",
         "legendgroup": "71",
         "marker": {
          "color": "rgb(36, 121, 108)",
          "line": {
           "color": "black",
           "width": 0.1
          },
          "opacity": 0.8,
          "size": 4,
          "symbol": "circle"
         },
         "mode": "markers",
         "name": "71",
         "scene": "scene",
         "showlegend": true,
         "type": "scatter3d",
         "x": [
          2.9986007594979465
         ],
         "y": [
          0.33643176670517605
         ],
         "z": [
          0.02711303524395244
         ]
        },
        {
         "hovertemplate": "cluster=72<br>comp1=%{x}<br>comp2=%{y}<br>comp3=%{z}<extra></extra>",
         "legendgroup": "72",
         "marker": {
          "color": "rgb(218, 165, 27)",
          "line": {
           "color": "black",
           "width": 0.1
          },
          "opacity": 0.8,
          "size": 4,
          "symbol": "circle"
         },
         "mode": "markers",
         "name": "72",
         "scene": "scene",
         "showlegend": true,
         "type": "scatter3d",
         "x": [
          2.9883739921802595
         ],
         "y": [
          0.33320873174734944
         ],
         "z": [
          0.0264338994680778
         ]
        },
        {
         "hovertemplate": "cluster=73<br>comp1=%{x}<br>comp2=%{y}<br>comp3=%{z}<extra></extra>",
         "legendgroup": "73",
         "marker": {
          "color": "rgb(47, 138, 196)",
          "line": {
           "color": "black",
           "width": 0.1
          },
          "opacity": 0.8,
          "size": 4,
          "symbol": "circle"
         },
         "mode": "markers",
         "name": "73",
         "scene": "scene",
         "showlegend": true,
         "type": "scatter3d",
         "x": [
          2.9781532004210227
         ],
         "y": [
          0.3299880111430051
         ],
         "z": [
          0.025759056326898056
         ]
        },
        {
         "hovertemplate": "cluster=74<br>comp1=%{x}<br>comp2=%{y}<br>comp3=%{z}<extra></extra>",
         "legendgroup": "74",
         "marker": {
          "color": "rgb(118, 78, 159)",
          "line": {
           "color": "black",
           "width": 0.1
          },
          "opacity": 0.8,
          "size": 4,
          "symbol": "circle"
         },
         "mode": "markers",
         "name": "74",
         "scene": "scene",
         "showlegend": true,
         "type": "scatter3d",
         "x": [
          2.9679384040594177
         ],
         "y": [
          0.3267696297634755
         ],
         "z": [
          0.02508849548828993
         ]
        },
        {
         "hovertemplate": "cluster=75<br>comp1=%{x}<br>comp2=%{y}<br>comp3=%{z}<extra></extra>",
         "legendgroup": "75",
         "marker": {
          "color": "rgb(237, 100, 90)",
          "line": {
           "color": "black",
           "width": 0.1
          },
          "opacity": 0.8,
          "size": 4,
          "symbol": "circle"
         },
         "mode": "markers",
         "name": "75",
         "scene": "scene",
         "showlegend": true,
         "type": "scatter3d",
         "x": [
          2.9577296229328915
         ],
         "y": [
          0.3235536124783138
         ],
         "z": [
          0.024422206620342002
         ]
        },
        {
         "hovertemplate": "cluster=76<br>comp1=%{x}<br>comp2=%{y}<br>comp3=%{z}<extra></extra>",
         "legendgroup": "76",
         "marker": {
          "color": "rgb(165, 170, 153)",
          "line": {
           "color": "black",
           "width": 0.1
          },
          "opacity": 0.8,
          "size": 4,
          "symbol": "circle"
         },
         "mode": "markers",
         "name": "76",
         "scene": "scene",
         "showlegend": true,
         "type": "scatter3d",
         "x": [
          2.94752687687722
         ],
         "y": [
          0.32033998415524895
         ],
         "z": [
          0.023760179391481374
         ]
        },
        {
         "hovertemplate": "cluster=77<br>comp1=%{x}<br>comp2=%{y}<br>comp3=%{z}<extra></extra>",
         "legendgroup": "77",
         "marker": {
          "color": "rgb(229, 134, 6)",
          "line": {
           "color": "black",
           "width": 0.1
          },
          "opacity": 0.8,
          "size": 4,
          "symbol": "circle"
         },
         "mode": "markers",
         "name": "77",
         "scene": "scene",
         "showlegend": true,
         "type": "scatter3d",
         "x": [
          2.937330185726385
         ],
         "y": [
          0.3171287696601735
         ],
         "z": [
          0.023102403470352667
         ]
        },
        {
         "hovertemplate": "cluster=78<br>comp1=%{x}<br>comp2=%{y}<br>comp3=%{z}<extra></extra>",
         "legendgroup": "78",
         "marker": {
          "color": "rgb(93, 105, 177)",
          "line": {
           "color": "black",
           "width": 0.1
          },
          "opacity": 0.8,
          "size": 4,
          "symbol": "circle"
         },
         "mode": "markers",
         "name": "78",
         "scene": "scene",
         "showlegend": true,
         "type": "scatter3d",
         "x": [
          2.927139569312677
         ],
         "y": [
          0.31391999385712455
         ],
         "z": [
          0.022448868525960706
         ]
        },
        {
         "hovertemplate": "cluster=79<br>comp1=%{x}<br>comp2=%{y}<br>comp3=%{z}<extra></extra>",
         "legendgroup": "79",
         "marker": {
          "color": "rgb(82, 188, 163)",
          "line": {
           "color": "black",
           "width": 0.1
          },
          "opacity": 0.8,
          "size": 4,
          "symbol": "circle"
         },
         "mode": "markers",
         "name": "79",
         "scene": "scene",
         "showlegend": true,
         "type": "scatter3d",
         "x": [
          2.916955047466564
         ],
         "y": [
          0.31071368160824575
         ],
         "z": [
          0.021799564227561144
         ]
        },
        {
         "hovertemplate": "cluster=80<br>comp1=%{x}<br>comp2=%{y}<br>comp3=%{z}<extra></extra>",
         "legendgroup": "80",
         "marker": {
          "color": "rgb(153, 201, 69)",
          "line": {
           "color": "black",
           "width": 0.1
          },
          "opacity": 0.8,
          "size": 4,
          "symbol": "circle"
         },
         "mode": "markers",
         "name": "80",
         "scene": "scene",
         "showlegend": true,
         "type": "scatter3d",
         "x": [
          2.9067766400167607
         ],
         "y": [
          0.3075098577737776
         ],
         "z": [
          0.021154480244760382
         ]
        },
        {
         "hovertemplate": "cluster=81<br>comp1=%{x}<br>comp2=%{y}<br>comp3=%{z}<extra></extra>",
         "legendgroup": "81",
         "marker": {
          "color": "rgb(204, 97, 176)",
          "line": {
           "color": "black",
           "width": 0.1
          },
          "opacity": 0.8,
          "size": 4,
          "symbol": "circle"
         },
         "mode": "markers",
         "name": "81",
         "scene": "scene",
         "showlegend": true,
         "type": "scatter3d",
         "x": [
          2.8966043667901635
         ],
         "y": [
          0.30430854721202544
         ],
         "z": [
          0.02051360624747646
         ]
        },
        {
         "hovertemplate": "cluster=82<br>comp1=%{x}<br>comp2=%{y}<br>comp3=%{z}<extra></extra>",
         "legendgroup": "82",
         "marker": {
          "color": "rgb(36, 121, 108)",
          "line": {
           "color": "black",
           "width": 0.1
          },
          "opacity": 0.8,
          "size": 4,
          "symbol": "circle"
         },
         "mode": "markers",
         "name": "82",
         "scene": "scene",
         "showlegend": true,
         "type": "scatter3d",
         "x": [
          2.8864382476118284
         ],
         "y": [
          0.3011097747793355
         ],
         "z": [
          0.019876931905945444
         ]
        },
        {
         "hovertemplate": "cluster=83<br>comp1=%{x}<br>comp2=%{y}<br>comp3=%{z}<extra></extra>",
         "legendgroup": "83",
         "marker": {
          "color": "rgb(218, 165, 27)",
          "line": {
           "color": "black",
           "width": 0.1
          },
          "opacity": 0.8,
          "size": 4,
          "symbol": "circle"
         },
         "mode": "markers",
         "name": "83",
         "scene": "scene",
         "showlegend": true,
         "type": "scatter3d",
         "x": [
          2.8762783023050162
         ],
         "y": [
          0.297913565330078
         ],
         "z": [
          0.019244446890793635
         ]
        },
        {
         "hovertemplate": "cluster=84<br>comp1=%{x}<br>comp2=%{y}<br>comp3=%{z}<extra></extra>",
         "legendgroup": "84",
         "marker": {
          "color": "rgb(47, 138, 196)",
          "line": {
           "color": "black",
           "width": 0.1
          },
          "opacity": 0.8,
          "size": 4,
          "symbol": "circle"
         },
         "mode": "markers",
         "name": "84",
         "scene": "scene",
         "showlegend": true,
         "type": "scatter3d",
         "x": [
          2.8661245506910955
         ],
         "y": [
          0.29471994371661686
         ],
         "z": [
          0.018616140872966307
         ]
        },
        {
         "hovertemplate": "cluster=85<br>comp1=%{x}<br>comp2=%{y}<br>comp3=%{z}<extra></extra>",
         "legendgroup": "85",
         "marker": {
          "color": "rgb(118, 78, 159)",
          "line": {
           "color": "black",
           "width": 0.1
          },
          "opacity": 0.8,
          "size": 4,
          "symbol": "circle"
         },
         "mode": "markers",
         "name": "85",
         "scene": "scene",
         "showlegend": true,
         "type": "scatter3d",
         "x": [
          2.8559770125895825
         ],
         "y": [
          0.29152893478928543
         ],
         "z": [
          0.01799200352380388
         ]
        },
        {
         "hovertemplate": "cluster=86<br>comp1=%{x}<br>comp2=%{y}<br>comp3=%{z}<extra></extra>",
         "legendgroup": "86",
         "marker": {
          "color": "rgb(237, 100, 90)",
          "line": {
           "color": "black",
           "width": 0.1
          },
          "opacity": 0.8,
          "size": 4,
          "symbol": "circle"
         },
         "mode": "markers",
         "name": "86",
         "scene": "scene",
         "showlegend": true,
         "type": "scatter3d",
         "x": [
          2.845835707818089
         ],
         "y": [
          0.2883405633963697
         ],
         "z": [
          0.01737202451500153
         ]
        },
        {
         "hovertemplate": "cluster=87<br>comp1=%{x}<br>comp2=%{y}<br>comp3=%{z}<extra></extra>",
         "legendgroup": "87",
         "marker": {
          "color": "rgb(165, 170, 153)",
          "line": {
           "color": "black",
           "width": 0.1
          },
          "opacity": 0.8,
          "size": 4,
          "symbol": "circle"
         },
         "mode": "markers",
         "name": "87",
         "scene": "scene",
         "showlegend": true,
         "type": "scatter3d",
         "x": [
          2.835700656192322
         ],
         "y": [
          0.28515485438407384
         ],
         "z": [
          0.016756193518651527
         ]
        },
        {
         "hovertemplate": "cluster=88<br>comp1=%{x}<br>comp2=%{y}<br>comp3=%{z}<extra></extra>",
         "legendgroup": "88",
         "marker": {
          "color": "rgb(229, 134, 6)",
          "line": {
           "color": "black",
           "width": 0.1
          },
          "opacity": 0.8,
          "size": 4,
          "symbol": "circle"
         },
         "mode": "markers",
         "name": "88",
         "scene": "scene",
         "showlegend": true,
         "type": "scatter3d",
         "x": [
          2.8255718775260745
         ],
         "y": [
          0.2819718325965129
         ],
         "z": [
          0.016144500207250057
         ]
        },
        {
         "hovertemplate": "cluster=89<br>comp1=%{x}<br>comp2=%{y}<br>comp3=%{z}<extra></extra>",
         "legendgroup": "89",
         "marker": {
          "color": "rgb(93, 105, 177)",
          "line": {
           "color": "black",
           "width": 0.1
          },
          "opacity": 0.8,
          "size": 4,
          "symbol": "circle"
         },
         "mode": "markers",
         "name": "89",
         "scene": "scene",
         "showlegend": true,
         "type": "scatter3d",
         "x": [
          2.815449391631184
         ],
         "y": [
          0.27879152287566783
         ],
         "z": [
          0.015536934253694174
         ]
        },
        {
         "hovertemplate": "cluster=90<br>comp1=%{x}<br>comp2=%{y}<br>comp3=%{z}<extra></extra>",
         "legendgroup": "90",
         "marker": {
          "color": "rgb(82, 188, 163)",
          "line": {
           "color": "black",
           "width": 0.1
          },
          "opacity": 0.8,
          "size": 4,
          "symbol": "circle"
         },
         "mode": "markers",
         "name": "90",
         "scene": "scene",
         "showlegend": true,
         "type": "scatter3d",
         "x": [
          2.8053332183175517
         ],
         "y": [
          0.27561395006137696
         ],
         "z": [
          0.014933485331323137
         ]
        },
        {
         "hovertemplate": "cluster=91<br>comp1=%{x}<br>comp2=%{y}<br>comp3=%{z}<extra></extra>",
         "legendgroup": "91",
         "marker": {
          "color": "rgb(153, 201, 69)",
          "line": {
           "color": "black",
           "width": 0.1
          },
          "opacity": 0.8,
          "size": 4,
          "symbol": "circle"
         },
         "mode": "markers",
         "name": "91",
         "scene": "scene",
         "showlegend": true,
         "type": "scatter3d",
         "x": [
          2.7952233773930737
         ],
         "y": [
          0.27243913899131367
         ],
         "z": [
          0.014334143113868481
         ]
        },
        {
         "hovertemplate": "cluster=92<br>comp1=%{x}<br>comp2=%{y}<br>comp3=%{z}<extra></extra>",
         "legendgroup": "92",
         "marker": {
          "color": "rgb(204, 97, 176)",
          "line": {
           "color": "black",
           "width": 0.1
          },
          "opacity": 0.8,
          "size": 4,
          "symbol": "circle"
         },
         "mode": "markers",
         "name": "92",
         "scene": "scene",
         "showlegend": true,
         "type": "scatter3d",
         "x": [
          2.785119888663671
         ],
         "y": [
          0.2692671145009478
         ],
         "z": [
          0.013738897275528189
         ]
        },
        {
         "hovertemplate": "cluster=93<br>comp1=%{x}<br>comp2=%{y}<br>comp3=%{z}<extra></extra>",
         "legendgroup": "93",
         "marker": {
          "color": "rgb(36, 121, 108)",
          "line": {
           "color": "black",
           "width": 0.1
          },
          "opacity": 0.8,
          "size": 4,
          "symbol": "circle"
         },
         "mode": "markers",
         "name": "93",
         "scene": "scene",
         "showlegend": true,
         "type": "scatter3d",
         "x": [
          2.7750227719332416
         ],
         "y": [
          0.2660979014235344
         ],
         "z": [
          0.013147737490936678
         ]
        },
        {
         "hovertemplate": "cluster=94<br>comp1=%{x}<br>comp2=%{y}<br>comp3=%{z}<extra></extra>",
         "legendgroup": "94",
         "marker": {
          "color": "rgb(218, 165, 27)",
          "line": {
           "color": "black",
           "width": 0.1
          },
          "opacity": 0.8,
          "size": 4,
          "symbol": "circle"
         },
         "mode": "markers",
         "name": "94",
         "scene": "scene",
         "showlegend": true,
         "type": "scatter3d",
         "x": [
          2.764932047003682
         ],
         "y": [
          0.26293152459008995
         ],
         "z": [
          0.012560653435210616
         ]
        },
        {
         "hovertemplate": "cluster=95<br>comp1=%{x}<br>comp2=%{y}<br>comp3=%{z}<extra></extra>",
         "legendgroup": "95",
         "marker": {
          "color": "rgb(47, 138, 196)",
          "line": {
           "color": "black",
           "width": 0.1
          },
          "opacity": 0.8,
          "size": 4,
          "symbol": "circle"
         },
         "mode": "markers",
         "name": "95",
         "scene": "scene",
         "showlegend": true,
         "type": "scatter3d",
         "x": [
          2.7548477336748136
         ],
         "y": [
          0.2597680088293605
         ],
         "z": [
          0.011977634783914615
         ]
        },
        {
         "hovertemplate": "cluster=96<br>comp1=%{x}<br>comp2=%{y}<br>comp3=%{z}<extra></extra>",
         "legendgroup": "96",
         "marker": {
          "color": "rgb(118, 78, 159)",
          "line": {
           "color": "black",
           "width": 0.1
          },
          "opacity": 0.8,
          "size": 4,
          "symbol": "circle"
         },
         "mode": "markers",
         "name": "96",
         "scene": "scene",
         "showlegend": true,
         "type": "scatter3d",
         "x": [
          2.7447698517444157
         ],
         "y": [
          0.25660737896780456
         ],
         "z": [
          0.011398671213108603
         ]
        },
        {
         "hovertemplate": "cluster=97<br>comp1=%{x}<br>comp2=%{y}<br>comp3=%{z}<extra></extra>",
         "legendgroup": "97",
         "marker": {
          "color": "rgb(237, 100, 90)",
          "line": {
           "color": "black",
           "width": 0.1
          },
          "opacity": 0.8,
          "size": 4,
          "symbol": "circle"
         },
         "mode": "markers",
         "name": "97",
         "scene": "scene",
         "showlegend": true,
         "type": "scatter3d",
         "x": [
          2.7346984210081953
         ],
         "y": [
          0.2534496598295687
         ],
         "z": [
          0.010823752399354632
         ]
        },
        {
         "hovertemplate": "cluster=98<br>comp1=%{x}<br>comp2=%{y}<br>comp3=%{z}<extra></extra>",
         "legendgroup": "98",
         "marker": {
          "color": "rgb(165, 170, 153)",
          "line": {
           "color": "black",
           "width": 0.1
          },
          "opacity": 0.8,
          "size": 4,
          "symbol": "circle"
         },
         "mode": "markers",
         "name": "98",
         "scene": "scene",
         "showlegend": true,
         "type": "scatter3d",
         "x": [
          2.72463346125973
         ],
         "y": [
          0.250294876236462
         ],
         "z": [
          0.010252868019676908
         ]
        },
        {
         "hovertemplate": "cluster=99<br>comp1=%{x}<br>comp2=%{y}<br>comp3=%{z}<extra></extra>",
         "legendgroup": "99",
         "marker": {
          "color": "rgb(229, 134, 6)",
          "line": {
           "color": "black",
           "width": 0.1
          },
          "opacity": 0.8,
          "size": 4,
          "symbol": "circle"
         },
         "mode": "markers",
         "name": "99",
         "scene": "scene",
         "showlegend": true,
         "type": "scatter3d",
         "x": [
          2.714574992290529
         ],
         "y": [
          0.2471430530079287
         ],
         "z": [
          0.009686007751671534
         ]
        },
        {
         "hovertemplate": "cluster=100<br>comp1=%{x}<br>comp2=%{y}<br>comp3=%{z}<extra></extra>",
         "legendgroup": "100",
         "marker": {
          "color": "rgb(93, 105, 177)",
          "line": {
           "color": "black",
           "width": 0.1
          },
          "opacity": 0.8,
          "size": 4,
          "symbol": "circle"
         },
         "mode": "markers",
         "name": "100",
         "scene": "scene",
         "showlegend": true,
         "type": "scatter3d",
         "x": [
          2.70452303388994
         ],
         "y": [
          0.24399421496103896
         ],
         "z": [
          0.009123161273407081
         ]
        },
        {
         "hovertemplate": "cluster=101<br>comp1=%{x}<br>comp2=%{y}<br>comp3=%{z}<extra></extra>",
         "legendgroup": "101",
         "marker": {
          "color": "rgb(82, 188, 163)",
          "line": {
           "color": "black",
           "width": 0.1
          },
          "opacity": 0.8,
          "size": 4,
          "symbol": "circle"
         },
         "mode": "markers",
         "name": "101",
         "scene": "scene",
         "showlegend": true,
         "type": "scatter3d",
         "x": [
          2.6944776058451665
         ],
         "y": [
          0.24084838691044408
         ],
         "z": [
          0.008564318263504032
         ]
        },
        {
         "hovertemplate": "cluster=102<br>comp1=%{x}<br>comp2=%{y}<br>comp3=%{z}<extra></extra>",
         "legendgroup": "102",
         "marker": {
          "color": "rgb(153, 201, 69)",
          "line": {
           "color": "black",
           "width": 0.1
          },
          "opacity": 0.8,
          "size": 4,
          "symbol": "circle"
         },
         "mode": "markers",
         "name": "102",
         "scene": "scene",
         "showlegend": true,
         "type": "scatter3d",
         "x": [
          2.6844387279412687
         ],
         "y": [
          0.23770559366836694
         ],
         "z": [
          0.008009468401142403
         ]
        },
        {
         "hovertemplate": "cluster=103<br>comp1=%{x}<br>comp2=%{y}<br>comp3=%{z}<extra></extra>",
         "legendgroup": "103",
         "marker": {
          "color": "rgb(204, 97, 176)",
          "line": {
           "color": "black",
           "width": 0.1
          },
          "opacity": 0.8,
          "size": 4,
          "symbol": "circle"
         },
         "mode": "markers",
         "name": "103",
         "scene": "scene",
         "showlegend": true,
         "type": "scatter3d",
         "x": [
          2.674406419961104
         ],
         "y": [
          0.234565860044578
         ],
         "z": [
          0.007458601366034665
         ]
        },
        {
         "hovertemplate": "cluster=104<br>comp1=%{x}<br>comp2=%{y}<br>comp3=%{z}<extra></extra>",
         "legendgroup": "104",
         "marker": {
          "color": "rgb(36, 121, 108)",
          "line": {
           "color": "black",
           "width": 0.1
          },
          "opacity": 0.8,
          "size": 4,
          "symbol": "circle"
         },
         "mode": "markers",
         "name": "104",
         "scene": "scene",
         "showlegend": true,
         "type": "scatter3d",
         "x": [
          2.664380701685343
         ],
         "y": [
          0.23142921084636814
         ],
         "z": [
          0.0069117068384684345
         ]
        },
        {
         "hovertemplate": "cluster=105<br>comp1=%{x}<br>comp2=%{y}<br>comp3=%{z}<extra></extra>",
         "legendgroup": "105",
         "marker": {
          "color": "rgb(218, 165, 27)",
          "line": {
           "color": "black",
           "width": 0.1
          },
          "opacity": 0.8,
          "size": 4,
          "symbol": "circle"
         },
         "mode": "markers",
         "name": "105",
         "scene": "scene",
         "showlegend": true,
         "type": "scatter3d",
         "x": [
          2.6543615928924376
         ],
         "y": [
          0.2282956708785191
         ],
         "z": [
          0.006368774499307842
         ]
        },
        {
         "hovertemplate": "cluster=106<br>comp1=%{x}<br>comp2=%{y}<br>comp3=%{z}<extra></extra>",
         "legendgroup": "106",
         "marker": {
          "color": "rgb(47, 138, 196)",
          "line": {
           "color": "black",
           "width": 0.1
          },
          "opacity": 0.8,
          "size": 4,
          "symbol": "circle"
         },
         "mode": "markers",
         "name": "106",
         "scene": "scene",
         "showlegend": true,
         "type": "scatter3d",
         "x": [
          2.6443491133586075
         ],
         "y": [
          0.2251652649432901
         ],
         "z": [
          0.00582979403000013
         ]
        },
        {
         "hovertemplate": "cluster=107<br>comp1=%{x}<br>comp2=%{y}<br>comp3=%{z}<extra></extra>",
         "legendgroup": "107",
         "marker": {
          "color": "rgb(118, 78, 159)",
          "line": {
           "color": "black",
           "width": 0.1
          },
          "opacity": 0.8,
          "size": 4,
          "symbol": "circle"
         },
         "mode": "markers",
         "name": "107",
         "scene": "scene",
         "showlegend": true,
         "type": "scatter3d",
         "x": [
          2.634343282857822
         ],
         "y": [
          0.2220380178403938
         ],
         "z": [
          0.005294755112587636
         ]
        },
        {
         "hovertemplate": "cluster=108<br>comp1=%{x}<br>comp2=%{y}<br>comp3=%{z}<extra></extra>",
         "legendgroup": "108",
         "marker": {
          "color": "rgb(237, 100, 90)",
          "line": {
           "color": "black",
           "width": 0.1
          },
          "opacity": 0.8,
          "size": 4,
          "symbol": "circle"
         },
         "mode": "markers",
         "name": "108",
         "scene": "scene",
         "showlegend": true,
         "type": "scatter3d",
         "x": [
          2.6243441211617866
         ],
         "y": [
          0.21891395436695996
         ],
         "z": [
          0.00476364742972318
         ]
        },
        {
         "hovertemplate": "cluster=109<br>comp1=%{x}<br>comp2=%{y}<br>comp3=%{z}<extra></extra>",
         "legendgroup": "109",
         "marker": {
          "color": "rgb(165, 170, 153)",
          "line": {
           "color": "black",
           "width": 0.1
          },
          "opacity": 0.8,
          "size": 4,
          "symbol": "circle"
         },
         "mode": "markers",
         "name": "109",
         "scene": "scene",
         "showlegend": true,
         "type": "scatter3d",
         "x": [
          2.6143516480399147
         ],
         "y": [
          0.2157930993175287
         ],
         "z": [
          0.004236460664667646
         ]
        },
        {
         "hovertemplate": "cluster=110<br>comp1=%{x}<br>comp2=%{y}<br>comp3=%{z}<extra></extra>",
         "legendgroup": "110",
         "marker": {
          "color": "rgb(229, 134, 6)",
          "line": {
           "color": "black",
           "width": 0.1
          },
          "opacity": 0.8,
          "size": 4,
          "symbol": "circle"
         },
         "mode": "markers",
         "name": "110",
         "scene": "scene",
         "showlegend": true,
         "type": "scatter3d",
         "x": [
          2.6043658832593284
         ],
         "y": [
          0.2126754774840134
         ],
         "z": [
          0.0037131845013182174
         ]
        },
        {
         "hovertemplate": "cluster=111<br>comp1=%{x}<br>comp2=%{y}<br>comp3=%{z}<extra></extra>",
         "legendgroup": "111",
         "marker": {
          "color": "rgb(93, 105, 177)",
          "line": {
           "color": "black",
           "width": 0.1
          },
          "opacity": 0.8,
          "size": 4,
          "symbol": "circle"
         },
         "mode": "markers",
         "name": "111",
         "scene": "scene",
         "showlegend": true,
         "type": "scatter3d",
         "x": [
          2.5943868465848268
         ],
         "y": [
          0.20956111365568242
         ],
         "z": [
          0.0031938086242059884
         ]
        },
        {
         "hovertemplate": "cluster=112<br>comp1=%{x}<br>comp2=%{y}<br>comp3=%{z}<extra></extra>",
         "legendgroup": "112",
         "marker": {
          "color": "rgb(82, 188, 163)",
          "line": {
           "color": "black",
           "width": 0.1
          },
          "opacity": 0.8,
          "size": 4,
          "symbol": "circle"
         },
         "mode": "markers",
         "name": "112",
         "scene": "scene",
         "showlegend": true,
         "type": "scatter3d",
         "x": [
          2.58441455777889
         ],
         "y": [
          0.206450032619141
         ],
         "z": [
          0.002678322718522814
         ]
        },
        {
         "hovertemplate": "cluster=113<br>comp1=%{x}<br>comp2=%{y}<br>comp3=%{z}<extra></extra>",
         "legendgroup": "113",
         "marker": {
          "color": "rgb(153, 201, 69)",
          "line": {
           "color": "black",
           "width": 0.1
          },
          "opacity": 0.8,
          "size": 4,
          "symbol": "circle"
         },
         "mode": "markers",
         "name": "113",
         "scene": "scene",
         "showlegend": true,
         "type": "scatter3d",
         "x": [
          2.5744490366016137
         ],
         "y": [
          0.20334225915829016
         ],
         "z": [
          0.002166716470094809
         ]
        },
        {
         "hovertemplate": "cluster=114<br>comp1=%{x}<br>comp2=%{y}<br>comp3=%{z}<extra></extra>",
         "legendgroup": "114",
         "marker": {
          "color": "rgb(204, 97, 176)",
          "line": {
           "color": "black",
           "width": 0.1
          },
          "opacity": 0.8,
          "size": 4,
          "symbol": "circle"
         },
         "mode": "markers",
         "name": "114",
         "scene": "scene",
         "showlegend": true,
         "type": "scatter3d",
         "x": [
          2.5644903028107486
         ],
         "y": [
          0.20023781805432592
         ],
         "z": [
          0.0016589795654305874
         ]
        },
        {
         "hovertemplate": "cluster=115<br>comp1=%{x}<br>comp2=%{y}<br>comp3=%{z}<extra></extra>",
         "legendgroup": "115",
         "marker": {
          "color": "rgb(36, 121, 108)",
          "line": {
           "color": "black",
           "width": 0.1
          },
          "opacity": 0.8,
          "size": 4,
          "symbol": "circle"
         },
         "mode": "markers",
         "name": "115",
         "scene": "scene",
         "showlegend": true,
         "type": "scatter3d",
         "x": [
          2.554538376161653
         ],
         "y": [
          0.19713673408569854
         ],
         "z": [
          0.0011551016917147351
         ]
        },
        {
         "hovertemplate": "cluster=116<br>comp1=%{x}<br>comp2=%{y}<br>comp3=%{z}<extra></extra>",
         "legendgroup": "116",
         "marker": {
          "color": "rgb(218, 165, 27)",
          "line": {
           "color": "black",
           "width": 0.1
          },
          "opacity": 0.8,
          "size": 4,
          "symbol": "circle"
         },
         "mode": "markers",
         "name": "116",
         "scene": "scene",
         "showlegend": true,
         "type": "scatter3d",
         "x": [
          2.5445932764072934
         ],
         "y": [
          0.19403903202809464
         ],
         "z": [
          0.0006550725368409253
         ]
        },
        {
         "hovertemplate": "cluster=117<br>comp1=%{x}<br>comp2=%{y}<br>comp3=%{z}<extra></extra>",
         "legendgroup": "117",
         "marker": {
          "color": "rgb(47, 138, 196)",
          "line": {
           "color": "black",
           "width": 0.1
          },
          "opacity": 0.8,
          "size": 4,
          "symbol": "circle"
         },
         "mode": "markers",
         "name": "117",
         "scene": "scene",
         "showlegend": true,
         "type": "scatter3d",
         "x": [
          2.534655023298183
         ],
         "y": [
          0.1909447366544149
         ],
         "z": [
          0.00015888178935811453
         ]
        },
        {
         "hovertemplate": "cluster=118<br>comp1=%{x}<br>comp2=%{y}<br>comp3=%{z}<extra></extra>",
         "legendgroup": "118",
         "marker": {
          "color": "rgb(118, 78, 159)",
          "line": {
           "color": "black",
           "width": 0.1
          },
          "opacity": 0.8,
          "size": 4,
          "symbol": "circle"
         },
         "mode": "markers",
         "name": "118",
         "scene": "scene",
         "showlegend": true,
         "type": "scatter3d",
         "x": [
          2.5247236365824386
         ],
         "y": [
          0.1878538727347421
         ],
         "z": [
          -0.00033348086141807195
         ]
        },
        {
         "hovertemplate": "cluster=119<br>comp1=%{x}<br>comp2=%{y}<br>comp3=%{z}<extra></extra>",
         "legendgroup": "119",
         "marker": {
          "color": "rgb(237, 100, 90)",
          "line": {
           "color": "black",
           "width": 0.1
          },
          "opacity": 0.8,
          "size": 4,
          "symbol": "circle"
         },
         "mode": "markers",
         "name": "119",
         "scene": "scene",
         "showlegend": true,
         "type": "scatter3d",
         "x": [
          2.514799136005685
         ],
         "y": [
          0.1847664650363385
         ],
         "z": [
          -0.0008220257255127562
         ]
        },
        {
         "hovertemplate": "cluster=120<br>comp1=%{x}<br>comp2=%{y}<br>comp3=%{z}<extra></extra>",
         "legendgroup": "120",
         "marker": {
          "color": "rgb(165, 170, 153)",
          "line": {
           "color": "black",
           "width": 0.1
          },
          "opacity": 0.8,
          "size": 4,
          "symbol": "circle"
         },
         "mode": "markers",
         "name": "120",
         "scene": "scene",
         "showlegend": true,
         "type": "scatter3d",
         "x": [
          2.5048815413111174
         ],
         "y": [
          0.18168253832358972
         ],
         "z": [
          -0.0013067631121476753
         ]
        },
        {
         "hovertemplate": "cluster=121<br>comp1=%{x}<br>comp2=%{y}<br>comp3=%{z}<extra></extra>",
         "legendgroup": "121",
         "marker": {
          "color": "rgb(229, 134, 6)",
          "line": {
           "color": "black",
           "width": 0.1
          },
          "opacity": 0.8,
          "size": 4,
          "symbol": "circle"
         },
         "mode": "markers",
         "name": "121",
         "scene": "scene",
         "showlegend": true,
         "type": "scatter3d",
         "x": [
          2.494970872239391
         ],
         "y": [
          0.17860211735801712
         ],
         "z": [
          -0.0017877033298855424
         ]
        },
        {
         "hovertemplate": "cluster=122<br>comp1=%{x}<br>comp2=%{y}<br>comp3=%{z}<extra></extra>",
         "legendgroup": "122",
         "marker": {
          "color": "rgb(93, 105, 177)",
          "line": {
           "color": "black",
           "width": 0.1
          },
          "opacity": 0.8,
          "size": 4,
          "symbol": "circle"
         },
         "mode": "markers",
         "name": "122",
         "scene": "scene",
         "showlegend": true,
         "type": "scatter3d",
         "x": [
          2.4850671485287052
         ],
         "y": [
          0.1755252268982197
         ],
         "z": [
          -0.0022648566864619936
         ]
        },
        {
         "hovertemplate": "cluster=123<br>comp1=%{x}<br>comp2=%{y}<br>comp3=%{z}<extra></extra>",
         "legendgroup": "123",
         "marker": {
          "color": "rgb(82, 188, 163)",
          "line": {
           "color": "black",
           "width": 0.1
          },
          "opacity": 0.8,
          "size": 4,
          "symbol": "circle"
         },
         "mode": "markers",
         "name": "123",
         "scene": "scene",
         "showlegend": true,
         "type": "scatter3d",
         "x": [
          2.475170389914701
         ],
         "y": [
          0.17245189169987707
         ],
         "z": [
          -0.0027382334888971438
         ]
        },
        {
         "hovertemplate": "cluster=124<br>comp1=%{x}<br>comp2=%{y}<br>comp3=%{z}<extra></extra>",
         "legendgroup": "124",
         "marker": {
          "color": "rgb(153, 201, 69)",
          "line": {
           "color": "black",
           "width": 0.1
          },
          "opacity": 0.8,
          "size": 4,
          "symbol": "circle"
         },
         "mode": "markers",
         "name": "124",
         "scene": "scene",
         "showlegend": true,
         "type": "scatter3d",
         "x": [
          2.4652806161304937
         ],
         "y": [
          0.16938213651571185
         ],
         "z": [
          -0.003207844043426797
         ]
        },
        {
         "hovertemplate": "cluster=125<br>comp1=%{x}<br>comp2=%{y}<br>comp3=%{z}<extra></extra>",
         "legendgroup": "125",
         "marker": {
          "color": "rgb(204, 97, 176)",
          "line": {
           "color": "black",
           "width": 0.1
          },
          "opacity": 0.8,
          "size": 4,
          "symbol": "circle"
         },
         "mode": "markers",
         "name": "125",
         "scene": "scene",
         "showlegend": true,
         "type": "scatter3d",
         "x": [
          2.455397846906642
         ],
         "y": [
          0.16631598609547024
         ],
         "z": [
          -0.003673698655500023
         ]
        },
        {
         "hovertemplate": "cluster=126<br>comp1=%{x}<br>comp2=%{y}<br>comp3=%{z}<extra></extra>",
         "legendgroup": "126",
         "marker": {
          "color": "rgb(36, 121, 108)",
          "line": {
           "color": "black",
           "width": 0.1
          },
          "opacity": 0.8,
          "size": 4,
          "symbol": "circle"
         },
         "mode": "markers",
         "name": "126",
         "scene": "scene",
         "showlegend": true,
         "type": "scatter3d",
         "x": [
          2.44552210197113
         ],
         "y": [
          0.16325346518589606
         ],
         "z": [
          -0.004135807629769515
         ]
        },
        {
         "hovertemplate": "cluster=127<br>comp1=%{x}<br>comp2=%{y}<br>comp3=%{z}<extra></extra>",
         "legendgroup": "127",
         "marker": {
          "color": "rgb(218, 165, 27)",
          "line": {
           "color": "black",
           "width": 0.1
          },
          "opacity": 0.8,
          "size": 4,
          "symbol": "circle"
         },
         "mode": "markers",
         "name": "127",
         "scene": "scene",
         "showlegend": true,
         "type": "scatter3d",
         "x": [
          2.4356534010493487
         ],
         "y": [
          0.16019459853071186
         ],
         "z": [
          -0.004594181270092934
         ]
        },
        {
         "hovertemplate": "cluster=128<br>comp1=%{x}<br>comp2=%{y}<br>comp3=%{z}<extra></extra>",
         "legendgroup": "128",
         "marker": {
          "color": "rgb(47, 138, 196)",
          "line": {
           "color": "black",
           "width": 0.1
          },
          "opacity": 0.8,
          "size": 4,
          "symbol": "circle"
         },
         "mode": "markers",
         "name": "128",
         "scene": "scene",
         "showlegend": true,
         "type": "scatter3d",
         "x": [
          2.4257917638640802
         ],
         "y": [
          0.15713941087058944
         ],
         "z": [
          -0.005048829879511468
         ]
        },
        {
         "hovertemplate": "cluster=129<br>comp1=%{x}<br>comp2=%{y}<br>comp3=%{z}<extra></extra>",
         "legendgroup": "129",
         "marker": {
          "color": "rgb(118, 78, 159)",
          "line": {
           "color": "black",
           "width": 0.1
          },
          "opacity": 0.8,
          "size": 4,
          "symbol": "circle"
         },
         "mode": "markers",
         "name": "129",
         "scene": "scene",
         "showlegend": true,
         "type": "scatter3d",
         "x": [
          2.41593721013548
         ],
         "y": [
          0.15408792694312676
         ],
         "z": [
          -0.005499763760240828
         ]
        },
        {
         "hovertemplate": "cluster=130<br>comp1=%{x}<br>comp2=%{y}<br>comp3=%{z}<extra></extra>",
         "legendgroup": "130",
         "marker": {
          "color": "rgb(237, 100, 90)",
          "line": {
           "color": "black",
           "width": 0.1
          },
          "opacity": 0.8,
          "size": 4,
          "symbol": "circle"
         },
         "mode": "markers",
         "name": "130",
         "scene": "scene",
         "showlegend": true,
         "type": "scatter3d",
         "x": [
          2.4060897595810706
         ],
         "y": [
          0.1510401714828348
         ],
         "z": [
          -0.005946993213660936
         ]
        },
        {
         "hovertemplate": "cluster=131<br>comp1=%{x}<br>comp2=%{y}<br>comp3=%{z}<extra></extra>",
         "legendgroup": "131",
         "marker": {
          "color": "rgb(165, 170, 153)",
          "line": {
           "color": "black",
           "width": 0.1
          },
          "opacity": 0.8,
          "size": 4,
          "symbol": "circle"
         },
         "mode": "markers",
         "name": "131",
         "scene": "scene",
         "showlegend": true,
         "type": "scatter3d",
         "x": [
          2.3962494319156997
         ],
         "y": [
          0.14799616922109585
         ],
         "z": [
          -0.006390528540314799
         ]
        },
        {
         "hovertemplate": "cluster=132<br>comp1=%{x}<br>comp2=%{y}<br>comp3=%{z}<extra></extra>",
         "legendgroup": "132",
         "marker": {
          "color": "rgb(229, 134, 6)",
          "line": {
           "color": "black",
           "width": 0.1
          },
          "opacity": 0.8,
          "size": 4,
          "symbol": "circle"
         },
         "mode": "markers",
         "name": "132",
         "scene": "scene",
         "showlegend": true,
         "type": "scatter3d",
         "x": [
          2.386416246851557
         ],
         "y": [
          0.1449559448861515
         ],
         "z": [
          -0.006830380039868103
         ]
        },
        {
         "hovertemplate": "cluster=133<br>comp1=%{x}<br>comp2=%{y}<br>comp3=%{z}<extra></extra>",
         "legendgroup": "133",
         "marker": {
          "color": "rgb(93, 105, 177)",
          "line": {
           "color": "black",
           "width": 0.1
          },
          "opacity": 0.8,
          "size": 4,
          "symbol": "circle"
         },
         "mode": "markers",
         "name": "133",
         "scene": "scene",
         "showlegend": true,
         "type": "scatter3d",
         "x": [
          2.3765902240981234
         ],
         "y": [
          0.1419195232030841
         ],
         "z": [
          -0.007266558011150545
         ]
        },
        {
         "hovertemplate": "cluster=134<br>comp1=%{x}<br>comp2=%{y}<br>comp3=%{z}<extra></extra>",
         "legendgroup": "134",
         "marker": {
          "color": "rgb(82, 188, 163)",
          "line": {
           "color": "black",
           "width": 0.1
          },
          "opacity": 0.8,
          "size": 4,
          "symbol": "circle"
         },
         "mode": "markers",
         "name": "134",
         "scene": "scene",
         "showlegend": true,
         "type": "scatter3d",
         "x": [
          2.366771383362181
         ],
         "y": [
          0.13888692889377713
         ],
         "z": [
          -0.007699072752089651
         ]
        },
        {
         "hovertemplate": "cluster=135<br>comp1=%{x}<br>comp2=%{y}<br>comp3=%{z}<extra></extra>",
         "legendgroup": "135",
         "marker": {
          "color": "rgb(153, 201, 69)",
          "line": {
           "color": "black",
           "width": 0.1
          },
          "opacity": 0.8,
          "size": 4,
          "symbol": "circle"
         },
         "mode": "markers",
         "name": "135",
         "scene": "scene",
         "showlegend": true,
         "type": "scatter3d",
         "x": [
          2.3569597443477694
         ],
         "y": [
          0.13585818667690347
         ],
         "z": [
          -0.00812793455974945
         ]
        },
        {
         "hovertemplate": "cluster=136<br>comp1=%{x}<br>comp2=%{y}<br>comp3=%{z}<extra></extra>",
         "legendgroup": "136",
         "marker": {
          "color": "rgb(204, 97, 176)",
          "line": {
           "color": "black",
           "width": 0.1
          },
          "opacity": 0.8,
          "size": 4,
          "symbol": "circle"
         },
         "mode": "markers",
         "name": "136",
         "scene": "scene",
         "showlegend": true,
         "type": "scatter3d",
         "x": [
          2.3471553267561993
         ],
         "y": [
          0.1328333212678968
         ],
         "z": [
          -0.008553153730274756
         ]
        },
        {
         "hovertemplate": "cluster=137<br>comp1=%{x}<br>comp2=%{y}<br>comp3=%{z}<extra></extra>",
         "legendgroup": "137",
         "marker": {
          "color": "rgb(36, 121, 108)",
          "line": {
           "color": "black",
           "width": 0.1
          },
          "opacity": 0.8,
          "size": 4,
          "symbol": "circle"
         },
         "mode": "markers",
         "name": "137",
         "scene": "scene",
         "showlegend": true,
         "type": "scatter3d",
         "x": [
          2.337358150286007
         ],
         "y": [
          0.12981235737893707
         ],
         "z": [
          -0.008974740558928457
         ]
        },
        {
         "hovertemplate": "cluster=138<br>comp1=%{x}<br>comp2=%{y}<br>comp3=%{z}<extra></extra>",
         "legendgroup": "138",
         "marker": {
          "color": "rgb(218, 165, 27)",
          "line": {
           "color": "black",
           "width": 0.1
          },
          "opacity": 0.8,
          "size": 4,
          "symbol": "circle"
         },
         "mode": "markers",
         "name": "138",
         "scene": "scene",
         "showlegend": true,
         "type": "scatter3d",
         "x": [
          2.3275682346329725
         ],
         "y": [
          0.1267953197189083
         ],
         "z": [
          -0.009392705340012818
         ]
        },
        {
         "hovertemplate": "cluster=139<br>comp1=%{x}<br>comp2=%{y}<br>comp3=%{z}<extra></extra>",
         "legendgroup": "139",
         "marker": {
          "color": "rgb(47, 138, 196)",
          "line": {
           "color": "black",
           "width": 0.1
          },
          "opacity": 0.8,
          "size": 4,
          "symbol": "circle"
         },
         "mode": "markers",
         "name": "139",
         "scene": "scene",
         "showlegend": true,
         "type": "scatter3d",
         "x": [
          2.3177855994900423
         ],
         "y": [
          0.12378223299339657
         ],
         "z": [
          -0.009807058366967087
         ]
        },
        {
         "hovertemplate": "cluster=140<br>comp1=%{x}<br>comp2=%{y}<br>comp3=%{z}<extra></extra>",
         "legendgroup": "140",
         "marker": {
          "color": "rgb(118, 78, 159)",
          "line": {
           "color": "black",
           "width": 0.1
          },
          "opacity": 0.8,
          "size": 4,
          "symbol": "circle"
         },
         "mode": "markers",
         "name": "140",
         "scene": "scene",
         "showlegend": true,
         "type": "scatter3d",
         "x": [
          2.3080102645473866
         ],
         "y": [
          0.12077312190464991
         ],
         "z": [
          -0.010217809932232246
         ]
        },
        {
         "hovertemplate": "cluster=141<br>comp1=%{x}<br>comp2=%{y}<br>comp3=%{z}<extra></extra>",
         "legendgroup": "141",
         "marker": {
          "color": "rgb(237, 100, 90)",
          "line": {
           "color": "black",
           "width": 0.1
          },
          "opacity": 0.8,
          "size": 4,
          "symbol": "circle"
         },
         "mode": "markers",
         "name": "141",
         "scene": "scene",
         "showlegend": true,
         "type": "scatter3d",
         "x": [
          2.29824224949232
         ],
         "y": [
          0.11776801115156009
         ],
         "z": [
          -0.010624970327338727
         ]
        },
        {
         "hovertemplate": "cluster=142<br>comp1=%{x}<br>comp2=%{y}<br>comp3=%{z}<extra></extra>",
         "legendgroup": "142",
         "marker": {
          "color": "rgb(165, 170, 153)",
          "line": {
           "color": "black",
           "width": 0.1
          },
          "opacity": 0.8,
          "size": 4,
          "symbol": "circle"
         },
         "mode": "markers",
         "name": "142",
         "scene": "scene",
         "showlegend": true,
         "type": "scatter3d",
         "x": [
          2.288481574009324
         ],
         "y": [
          0.11476692542964304
         ],
         "z": [
          -0.011028549842839068
         ]
        },
        {
         "hovertemplate": "cluster=143<br>comp1=%{x}<br>comp2=%{y}<br>comp3=%{z}<extra></extra>",
         "legendgroup": "143",
         "marker": {
          "color": "rgb(229, 134, 6)",
          "line": {
           "color": "black",
           "width": 0.1
          },
          "opacity": 0.8,
          "size": 4,
          "symbol": "circle"
         },
         "mode": "markers",
         "name": "143",
         "scene": "scene",
         "showlegend": true,
         "type": "scatter3d",
         "x": [
          2.2787282577800236
         ],
         "y": [
          0.11176988943100978
         ],
         "z": [
          -0.01142855876831244
         ]
        },
        {
         "hovertemplate": "cluster=144<br>comp1=%{x}<br>comp2=%{y}<br>comp3=%{z}<extra></extra>",
         "legendgroup": "144",
         "marker": {
          "color": "rgb(93, 105, 177)",
          "line": {
           "color": "black",
           "width": 0.1
          },
          "opacity": 0.8,
          "size": 4,
          "symbol": "circle"
         },
         "mode": "markers",
         "name": "144",
         "scene": "scene",
         "showlegend": true,
         "type": "scatter3d",
         "x": [
          2.2689823204831403
         ],
         "y": [
          0.10877692784434771
         ],
         "z": [
          -0.01182500739238361
         ]
        },
        {
         "hovertemplate": "cluster=145<br>comp1=%{x}<br>comp2=%{y}<br>comp3=%{z}<extra></extra>",
         "legendgroup": "145",
         "marker": {
          "color": "rgb(82, 188, 163)",
          "line": {
           "color": "black",
           "width": 0.1
          },
          "opacity": 0.8,
          "size": 4,
          "symbol": "circle"
         },
         "mode": "markers",
         "name": "145",
         "scene": "scene",
         "showlegend": true,
         "type": "scatter3d",
         "x": [
          2.2592437817945137
         ],
         "y": [
          0.10578806535488812
         ],
         "z": [
          -0.012217906002661576
         ]
        },
        {
         "hovertemplate": "cluster=146<br>comp1=%{x}<br>comp2=%{y}<br>comp3=%{z}<extra></extra>",
         "legendgroup": "146",
         "marker": {
          "color": "rgb(153, 201, 69)",
          "line": {
           "color": "black",
           "width": 0.1
          },
          "opacity": 0.8,
          "size": 4,
          "symbol": "circle"
         },
         "mode": "markers",
         "name": "146",
         "scene": "scene",
         "showlegend": true,
         "type": "scatter3d",
         "x": [
          2.249512661387072
         ],
         "y": [
          0.10280332664439469
         ],
         "z": [
          -0.012607264885761077
         ]
        },
        {
         "hovertemplate": "cluster=147<br>comp1=%{x}<br>comp2=%{y}<br>comp3=%{z}<extra></extra>",
         "legendgroup": "147",
         "marker": {
          "color": "rgb(204, 97, 176)",
          "line": {
           "color": "black",
           "width": 0.1
          },
          "opacity": 0.8,
          "size": 4,
          "symbol": "circle"
         },
         "mode": "markers",
         "name": "147",
         "scene": "scene",
         "showlegend": true,
         "type": "scatter3d",
         "x": [
          2.2397889789307905
         ],
         "y": [
          0.09982273639113065
         ],
         "z": [
          -0.012993094327304843
         ]
        },
        {
         "hovertemplate": "cluster=148<br>comp1=%{x}<br>comp2=%{y}<br>comp3=%{z}<extra></extra>",
         "legendgroup": "148",
         "marker": {
          "color": "rgb(36, 121, 108)",
          "line": {
           "color": "black",
           "width": 0.1
          },
          "opacity": 0.8,
          "size": 4,
          "symbol": "circle"
         },
         "mode": "markers",
         "name": "148",
         "scene": "scene",
         "showlegend": true,
         "type": "scatter3d",
         "x": [
          2.2300727540927188
         ],
         "y": [
          0.09684631926984118
         ],
         "z": [
          -0.013375404611874826
         ]
        },
        {
         "hovertemplate": "cluster=149<br>comp1=%{x}<br>comp2=%{y}<br>comp3=%{z}<extra></extra>",
         "legendgroup": "149",
         "marker": {
          "color": "rgb(218, 165, 27)",
          "line": {
           "color": "black",
           "width": 0.1
          },
          "opacity": 0.8,
          "size": 4,
          "symbol": "circle"
         },
         "mode": "markers",
         "name": "149",
         "scene": "scene",
         "showlegend": true,
         "type": "scatter3d",
         "x": [
          2.220364006536932
         ],
         "y": [
          0.09387409995171933
         ],
         "z": [
          -0.013754206023015223
         ]
        },
        {
         "hovertemplate": "cluster=150<br>comp1=%{x}<br>comp2=%{y}<br>comp3=%{z}<extra></extra>",
         "legendgroup": "150",
         "marker": {
          "color": "rgb(47, 138, 196)",
          "line": {
           "color": "black",
           "width": 0.1
          },
          "opacity": 0.8,
          "size": 4,
          "symbol": "circle"
         },
         "mode": "markers",
         "name": "150",
         "scene": "scene",
         "showlegend": true,
         "type": "scatter3d",
         "x": [
          2.2106627559245164
         ],
         "y": [
          0.09090610310439973
         ],
         "z": [
          -0.014129508843255263
         ]
        },
        {
         "hovertemplate": "cluster=151<br>comp1=%{x}<br>comp2=%{y}<br>comp3=%{z}<extra></extra>",
         "legendgroup": "151",
         "marker": {
          "color": "rgb(118, 78, 159)",
          "line": {
           "color": "black",
           "width": 0.1
          },
          "opacity": 0.8,
          "size": 4,
          "symbol": "circle"
         },
         "mode": "markers",
         "name": "151",
         "scene": "scene",
         "showlegend": true,
         "type": "scatter3d",
         "x": [
          2.200969021913565
         ],
         "y": [
          0.08794235339191621
         ],
         "z": [
          -0.014501323354048789
         ]
        },
        {
         "hovertemplate": "cluster=152<br>comp1=%{x}<br>comp2=%{y}<br>comp3=%{z}<extra></extra>",
         "legendgroup": "152",
         "marker": {
          "color": "rgb(237, 100, 90)",
          "line": {
           "color": "black",
           "width": 0.1
          },
          "opacity": 0.8,
          "size": 4,
          "symbol": "circle"
         },
         "mode": "markers",
         "name": "152",
         "scene": "scene",
         "showlegend": true,
         "type": "scatter3d",
         "x": [
          2.191282824159147
         ],
         "y": [
          0.08498287547469557
         ],
         "z": [
          -0.014869659835807427
         ]
        },
        {
         "hovertemplate": "cluster=153<br>comp1=%{x}<br>comp2=%{y}<br>comp3=%{z}<extra></extra>",
         "legendgroup": "153",
         "marker": {
          "color": "rgb(165, 170, 153)",
          "line": {
           "color": "black",
           "width": 0.1
          },
          "opacity": 0.8,
          "size": 4,
          "symbol": "circle"
         },
         "mode": "markers",
         "name": "153",
         "scene": "scene",
         "showlegend": true,
         "type": "scatter3d",
         "x": [
          2.181604182313318
         ],
         "y": [
          0.08202769400951802
         ],
         "z": [
          -0.015234528567835887
         ]
        },
        {
         "hovertemplate": "cluster=154<br>comp1=%{x}<br>comp2=%{y}<br>comp3=%{z}<extra></extra>",
         "legendgroup": "154",
         "marker": {
          "color": "rgb(229, 134, 6)",
          "line": {
           "color": "black",
           "width": 0.1
          },
          "opacity": 0.8,
          "size": 4,
          "symbol": "circle"
         },
         "mode": "markers",
         "name": "154",
         "scene": "scene",
         "showlegend": true,
         "type": "scatter3d",
         "x": [
          2.171933116025047
         ],
         "y": [
          0.07907683364950839
         ],
         "z": [
          -0.015595939828406704
         ]
        },
        {
         "hovertemplate": "cluster=155<br>comp1=%{x}<br>comp2=%{y}<br>comp3=%{z}<extra></extra>",
         "legendgroup": "155",
         "marker": {
          "color": "rgb(93, 105, 177)",
          "line": {
           "color": "black",
           "width": 0.1
          },
          "opacity": 0.8,
          "size": 4,
          "symbol": "circle"
         },
         "mode": "markers",
         "name": "155",
         "scene": "scene",
         "showlegend": true,
         "type": "scatter3d",
         "x": [
          2.1622696449402654
         ],
         "y": [
          0.07613031904409712
         ],
         "z": [
          -0.015953903894654828
         ]
        },
        {
         "hovertemplate": "cluster=156<br>comp1=%{x}<br>comp2=%{y}<br>comp3=%{z}<extra></extra>",
         "legendgroup": "156",
         "marker": {
          "color": "rgb(82, 188, 163)",
          "line": {
           "color": "black",
           "width": 0.1
          },
          "opacity": 0.8,
          "size": 4,
          "symbol": "circle"
         },
         "mode": "markers",
         "name": "156",
         "scene": "scene",
         "showlegend": true,
         "type": "scatter3d",
         "x": [
          2.152613788701798
         ],
         "y": [
          0.07318817483901176
         ],
         "z": [
          -0.01630843104264415
         ]
        },
        {
         "hovertemplate": "cluster=157<br>comp1=%{x}<br>comp2=%{y}<br>comp3=%{z}<extra></extra>",
         "legendgroup": "157",
         "marker": {
          "color": "rgb(153, 201, 69)",
          "line": {
           "color": "black",
           "width": 0.1
          },
          "opacity": 0.8,
          "size": 4,
          "symbol": "circle"
         },
         "mode": "markers",
         "name": "157",
         "scene": "scene",
         "showlegend": true,
         "type": "scatter3d",
         "x": [
          2.1429655669493965
         ],
         "y": [
          0.07025042567624479
         ],
         "z": [
          -0.016659531547288553
         ]
        },
        {
         "hovertemplate": "cluster=158<br>comp1=%{x}<br>comp2=%{y}<br>comp3=%{z}<extra></extra>",
         "legendgroup": "158",
         "marker": {
          "color": "rgb(204, 97, 176)",
          "line": {
           "color": "black",
           "width": 0.1
          },
          "opacity": 0.8,
          "size": 4,
          "symbol": "circle"
         },
         "mode": "markers",
         "name": "158",
         "scene": "scene",
         "showlegend": true,
         "type": "scatter3d",
         "x": [
          2.13332499931967
         ],
         "y": [
          0.06731709619403015
         ],
         "z": [
          -0.01700721568240389
         ]
        },
        {
         "hovertemplate": "cluster=159<br>comp1=%{x}<br>comp2=%{y}<br>comp3=%{z}<extra></extra>",
         "legendgroup": "159",
         "marker": {
          "color": "rgb(36, 121, 108)",
          "line": {
           "color": "black",
           "width": 0.1
          },
          "opacity": 0.8,
          "size": 4,
          "symbol": "circle"
         },
         "mode": "markers",
         "name": "159",
         "scene": "scene",
         "showlegend": true,
         "type": "scatter3d",
         "x": [
          2.1236921054460898
         ],
         "y": [
          0.06438821102681842
         ],
         "z": [
          -0.017351493720671907
         ]
        },
        {
         "hovertemplate": "cluster=160<br>comp1=%{x}<br>comp2=%{y}<br>comp3=%{z}<extra></extra>",
         "legendgroup": "160",
         "marker": {
          "color": "rgb(218, 165, 27)",
          "line": {
           "color": "black",
           "width": 0.1
          },
          "opacity": 0.8,
          "size": 4,
          "symbol": "circle"
         },
         "mode": "markers",
         "name": "160",
         "scene": "scene",
         "showlegend": true,
         "type": "scatter3d",
         "x": [
          2.1140669049589733
         ],
         "y": [
          0.0614637948052631
         ],
         "z": [
          -0.01769237593363422
         ]
        },
        {
         "hovertemplate": "cluster=161<br>comp1=%{x}<br>comp2=%{y}<br>comp3=%{z}<extra></extra>",
         "legendgroup": "161",
         "marker": {
          "color": "rgb(47, 138, 196)",
          "line": {
           "color": "black",
           "width": 0.1
          },
          "opacity": 0.8,
          "size": 4,
          "symbol": "circle"
         },
         "mode": "markers",
         "name": "161",
         "scene": "scene",
         "showlegend": true,
         "type": "scatter3d",
         "x": [
          2.1044494174855024
         ],
         "y": [
          0.058543872156183376
         ],
         "z": [
          -0.018029872591636756
         ]
        },
        {
         "hovertemplate": "cluster=162<br>comp1=%{x}<br>comp2=%{y}<br>comp3=%{z}<extra></extra>",
         "legendgroup": "162",
         "marker": {
          "color": "rgb(118, 78, 159)",
          "line": {
           "color": "black",
           "width": 0.1
          },
          "opacity": 0.8,
          "size": 4,
          "symbol": "circle"
         },
         "mode": "markers",
         "name": "162",
         "scene": "scene",
         "showlegend": true,
         "type": "scatter3d",
         "x": [
          2.09483966264962
         ],
         "y": [
          0.05562846770255211
         ],
         "z": [
          -0.018363993963917146
         ]
        },
        {
         "hovertemplate": "cluster=163<br>comp1=%{x}<br>comp2=%{y}<br>comp3=%{z}<extra></extra>",
         "legendgroup": "163",
         "marker": {
          "color": "rgb(237, 100, 90)",
          "line": {
           "color": "black",
           "width": 0.1
          },
          "opacity": 0.8,
          "size": 4,
          "symbol": "circle"
         },
         "mode": "markers",
         "name": "163",
         "scene": "scene",
         "showlegend": true,
         "type": "scatter3d",
         "x": [
          2.085237660072102
         ],
         "y": [
          0.05271760606346581
         ],
         "z": [
          -0.018694750318501218
         ]
        },
        {
         "hovertemplate": "cluster=164<br>comp1=%{x}<br>comp2=%{y}<br>comp3=%{z}<extra></extra>",
         "legendgroup": "164",
         "marker": {
          "color": "rgb(165, 170, 153)",
          "line": {
           "color": "black",
           "width": 0.1
          },
          "opacity": 0.8,
          "size": 4,
          "symbol": "circle"
         },
         "mode": "markers",
         "name": "164",
         "scene": "scene",
         "showlegend": true,
         "type": "scatter3d",
         "x": [
          2.07564342937049
         ],
         "y": [
          0.04981131185412202
         ],
         "z": [
          -0.019022151922235928
         ]
        },
        {
         "hovertemplate": "cluster=165<br>comp1=%{x}<br>comp2=%{y}<br>comp3=%{z}<extra></extra>",
         "legendgroup": "165",
         "marker": {
          "color": "rgb(229, 134, 6)",
          "line": {
           "color": "black",
           "width": 0.1
          },
          "opacity": 0.8,
          "size": 4,
          "symbol": "circle"
         },
         "mode": "markers",
         "name": "165",
         "scene": "scene",
         "showlegend": true,
         "type": "scatter3d",
         "x": [
          2.0660569901590966
         ],
         "y": [
          0.046909609685795196
         ],
         "z": [
          -0.019346209040766487
         ]
        },
        {
         "hovertemplate": "cluster=166<br>comp1=%{x}<br>comp2=%{y}<br>comp3=%{z}<extra></extra>",
         "legendgroup": "166",
         "marker": {
          "color": "rgb(93, 105, 177)",
          "line": {
           "color": "black",
           "width": 0.1
          },
          "opacity": 0.8,
          "size": 4,
          "symbol": "circle"
         },
         "mode": "markers",
         "name": "166",
         "scene": "scene",
         "showlegend": true,
         "type": "scatter3d",
         "x": [
          2.0564783620489617
         ],
         "y": [
          0.0440125241658138
         ],
         "z": [
          -0.019666931938547332
         ]
        },
        {
         "hovertemplate": "cluster=167<br>comp1=%{x}<br>comp2=%{y}<br>comp3=%{z}<extra></extra>",
         "legendgroup": "167",
         "marker": {
          "color": "rgb(82, 188, 163)",
          "line": {
           "color": "black",
           "width": 0.1
          },
          "opacity": 0.8,
          "size": 4,
          "symbol": "circle"
         },
         "mode": "markers",
         "name": "167",
         "scene": "scene",
         "showlegend": true,
         "type": "scatter3d",
         "x": [
          2.0469075646478627
         ],
         "y": [
          0.04112007989754194
         ],
         "z": [
          -0.019984330878810942
         ]
        },
        {
         "hovertemplate": "cluster=168<br>comp1=%{x}<br>comp2=%{y}<br>comp3=%{z}<extra></extra>",
         "legendgroup": "168",
         "marker": {
          "color": "rgb(153, 201, 69)",
          "line": {
           "color": "black",
           "width": 0.1
          },
          "opacity": 0.8,
          "size": 4,
          "symbol": "circle"
         },
         "mode": "markers",
         "name": "168",
         "scene": "scene",
         "showlegend": true,
         "type": "scatter3d",
         "x": [
          2.0373446175602967
         ],
         "y": [
          0.03823230148034738
         ],
         "z": [
          -0.020298416123550066
         ]
        },
        {
         "hovertemplate": "cluster=169<br>comp1=%{x}<br>comp2=%{y}<br>comp3=%{z}<extra></extra>",
         "legendgroup": "169",
         "marker": {
          "color": "rgb(204, 97, 176)",
          "line": {
           "color": "black",
           "width": 0.1
          },
          "opacity": 0.8,
          "size": 4,
          "symbol": "circle"
         },
         "mode": "markers",
         "name": "169",
         "scene": "scene",
         "showlegend": true,
         "type": "scatter3d",
         "x": [
          2.027789540387442
         ],
         "y": [
          0.0353492135095801
         ],
         "z": [
          -0.020609197933531772
         ]
        },
        {
         "hovertemplate": "cluster=170<br>comp1=%{x}<br>comp2=%{y}<br>comp3=%{z}<extra></extra>",
         "legendgroup": "170",
         "marker": {
          "color": "rgb(36, 121, 108)",
          "line": {
           "color": "black",
           "width": 0.1
          },
          "opacity": 0.8,
          "size": 4,
          "symbol": "circle"
         },
         "mode": "markers",
         "name": "170",
         "scene": "scene",
         "showlegend": true,
         "type": "scatter3d",
         "x": [
          2.018242352727163
         ],
         "y": [
          0.03247084057655348
         ],
         "z": [
          -0.020916686568271444
         ]
        },
        {
         "hovertemplate": "cluster=171<br>comp1=%{x}<br>comp2=%{y}<br>comp3=%{z}<extra></extra>",
         "legendgroup": "171",
         "marker": {
          "color": "rgb(218, 165, 27)",
          "line": {
           "color": "black",
           "width": 0.1
          },
          "opacity": 0.8,
          "size": 4,
          "symbol": "circle"
         },
         "mode": "markers",
         "name": "171",
         "scene": "scene",
         "showlegend": true,
         "type": "scatter3d",
         "x": [
          2.0087030741739804
         ],
         "y": [
          0.029597207268513608
         ],
         "z": [
          -0.02122089228601909
         ]
        },
        {
         "hovertemplate": "cluster=172<br>comp1=%{x}<br>comp2=%{y}<br>comp3=%{z}<extra></extra>",
         "legendgroup": "172",
         "marker": {
          "color": "rgb(47, 138, 196)",
          "line": {
           "color": "black",
           "width": 0.1
          },
          "opacity": 0.8,
          "size": 4,
          "symbol": "circle"
         },
         "mode": "markers",
         "name": "172",
         "scene": "scene",
         "showlegend": true,
         "type": "scatter3d",
         "x": [
          1.9991717243190559
         ],
         "y": [
          0.02672833816862873
         ],
         "z": [
          -0.02152182534377451
         ]
        },
        {
         "hovertemplate": "cluster=173<br>comp1=%{x}<br>comp2=%{y}<br>comp3=%{z}<extra></extra>",
         "legendgroup": "173",
         "marker": {
          "color": "rgb(118, 78, 159)",
          "line": {
           "color": "black",
           "width": 0.1
          },
          "opacity": 0.8,
          "size": 4,
          "symbol": "circle"
         },
         "mode": "markers",
         "name": "173",
         "scene": "scene",
         "showlegend": true,
         "type": "scatter3d",
         "x": [
          1.989648322750176
         ],
         "y": [
          0.02386425785594549
         ],
         "z": [
          -0.021819495997244212
         ]
        },
        {
         "hovertemplate": "cluster=174<br>comp1=%{x}<br>comp2=%{y}<br>comp3=%{z}<extra></extra>",
         "legendgroup": "174",
         "marker": {
          "color": "rgb(237, 100, 90)",
          "line": {
           "color": "black",
           "width": 0.1
          },
          "opacity": 0.8,
          "size": 4,
          "symbol": "circle"
         },
         "mode": "markers",
         "name": "174",
         "scene": "scene",
         "showlegend": true,
         "type": "scatter3d",
         "x": [
          1.9801328890517553
         ],
         "y": [
          0.021004990905387155
         ],
         "z": [
          -0.022113914500841995
         ]
        },
        {
         "hovertemplate": "cluster=175<br>comp1=%{x}<br>comp2=%{y}<br>comp3=%{z}<extra></extra>",
         "legendgroup": "175",
         "marker": {
          "color": "rgb(165, 170, 153)",
          "line": {
           "color": "black",
           "width": 0.1
          },
          "opacity": 0.8,
          "size": 4,
          "symbol": "circle"
         },
         "mode": "markers",
         "name": "175",
         "scene": "scene",
         "showlegend": true,
         "type": "scatter3d",
         "x": [
          1.970625442804765
         ],
         "y": [
          0.01815056188770841
         ],
         "z": [
          -0.022405091107703955
         ]
        },
        {
         "hovertemplate": "cluster=176<br>comp1=%{x}<br>comp2=%{y}<br>comp3=%{z}<extra></extra>",
         "legendgroup": "176",
         "marker": {
          "color": "rgb(229, 134, 6)",
          "line": {
           "color": "black",
           "width": 0.1
          },
          "opacity": 0.8,
          "size": 4,
          "symbol": "circle"
         },
         "mode": "markers",
         "name": "176",
         "scene": "scene",
         "showlegend": true,
         "type": "scatter3d",
         "x": [
          1.9611260035867886
         ],
         "y": [
          0.015300995369492212
         ],
         "z": [
          -0.022693036069628456
         ]
        },
        {
         "hovertemplate": "cluster=177<br>comp1=%{x}<br>comp2=%{y}<br>comp3=%{z}<extra></extra>",
         "legendgroup": "177",
         "marker": {
          "color": "rgb(93, 105, 177)",
          "line": {
           "color": "black",
           "width": 0.1
          },
          "opacity": 0.8,
          "size": 4,
          "symbol": "circle"
         },
         "mode": "markers",
         "name": "177",
         "scene": "scene",
         "showlegend": true,
         "type": "scatter3d",
         "x": [
          1.9516345909719395
         ],
         "y": [
          0.0124563159131148
         ],
         "z": [
          -0.022977759637120062
         ]
        },
        {
         "hovertemplate": "cluster=178<br>comp1=%{x}<br>comp2=%{y}<br>comp3=%{z}<extra></extra>",
         "legendgroup": "178",
         "marker": {
          "color": "rgb(82, 188, 163)",
          "line": {
           "color": "black",
           "width": 0.1
          },
          "opacity": 0.8,
          "size": 4,
          "symbol": "circle"
         },
         "mode": "markers",
         "name": "178",
         "scene": "scene",
         "showlegend": true,
         "type": "scatter3d",
         "x": [
          1.9421512245308947
         ],
         "y": [
          0.009616548076720906
         ],
         "z": [
          -0.023259272059327943
         ]
        },
        {
         "hovertemplate": "cluster=179<br>comp1=%{x}<br>comp2=%{y}<br>comp3=%{z}<extra></extra>",
         "legendgroup": "179",
         "marker": {
          "color": "rgb(153, 201, 69)",
          "line": {
           "color": "black",
           "width": 0.1
          },
          "opacity": 0.8,
          "size": 4,
          "symbol": "circle"
         },
         "mode": "markers",
         "name": "179",
         "scene": "scene",
         "showlegend": true,
         "type": "scatter3d",
         "x": [
          1.9326759238308424
         ],
         "y": [
          0.0067817164142077255
         ],
         "z": [
          -0.02353758358407859
         ]
        },
        {
         "hovertemplate": "cluster=180<br>comp1=%{x}<br>comp2=%{y}<br>comp3=%{z}<extra></extra>",
         "legendgroup": "180",
         "marker": {
          "color": "rgb(204, 97, 176)",
          "line": {
           "color": "black",
           "width": 0.1
          },
          "opacity": 0.8,
          "size": 4,
          "symbol": "circle"
         },
         "mode": "markers",
         "name": "180",
         "scene": "scene",
         "showlegend": true,
         "type": "scatter3d",
         "x": [
          1.9232087084354872
         ],
         "y": [
          0.003951845475195438
         ],
         "z": [
          -0.02381270445783451
         ]
        },
        {
         "hovertemplate": "cluster=181<br>comp1=%{x}<br>comp2=%{y}<br>comp3=%{z}<extra></extra>",
         "legendgroup": "181",
         "marker": {
          "color": "rgb(36, 121, 108)",
          "line": {
           "color": "black",
           "width": 0.1
          },
          "opacity": 0.8,
          "size": 4,
          "symbol": "circle"
         },
         "mode": "markers",
         "name": "181",
         "scene": "scene",
         "showlegend": true,
         "type": "scatter3d",
         "x": [
          1.9137495979050112
         ],
         "y": [
          0.0011269598050086093
         ],
         "z": [
          -0.024084644925716495
         ]
        },
        {
         "hovertemplate": "cluster=182<br>comp1=%{x}<br>comp2=%{y}<br>comp3=%{z}<extra></extra>",
         "legendgroup": "182",
         "marker": {
          "color": "rgb(218, 165, 27)",
          "line": {
           "color": "black",
           "width": 0.1
          },
          "opacity": 0.8,
          "size": 4,
          "symbol": "circle"
         },
         "mode": "markers",
         "name": "182",
         "scene": "scene",
         "showlegend": true,
         "type": "scatter3d",
         "x": [
          1.9042986117960747
         ],
         "y": [
          -0.00169291605535621
         ],
         "z": [
          -0.02435341523145973
         ]
        },
        {
         "hovertemplate": "cluster=183<br>comp1=%{x}<br>comp2=%{y}<br>comp3=%{z}<extra></extra>",
         "legendgroup": "183",
         "marker": {
          "color": "rgb(47, 138, 196)",
          "line": {
           "color": "black",
           "width": 0.1
          },
          "opacity": 0.8,
          "size": 4,
          "symbol": "circle"
         },
         "mode": "markers",
         "name": "183",
         "scene": "scene",
         "showlegend": true,
         "type": "scatter3d",
         "x": [
          1.8948557696618065
         ],
         "y": [
          -0.004507757569241774
         ],
         "z": [
          -0.024619025617416444
         ]
        },
        {
         "hovertemplate": "cluster=184<br>comp1=%{x}<br>comp2=%{y}<br>comp3=%{z}<extra></extra>",
         "legendgroup": "184",
         "marker": {
          "color": "rgb(118, 78, 159)",
          "line": {
           "color": "black",
           "width": 0.1
          },
          "opacity": 0.8,
          "size": 4,
          "symbol": "circle"
         },
         "mode": "markers",
         "name": "184",
         "scene": "scene",
         "showlegend": true,
         "type": "scatter3d",
         "x": [
          1.8854210910517646
         ],
         "y": [
          -0.007317540204359421
         ],
         "z": [
          -0.024881486324552154
         ]
        },
        {
         "hovertemplate": "cluster=185<br>comp1=%{x}<br>comp2=%{y}<br>comp3=%{z}<extra></extra>",
         "legendgroup": "185",
         "marker": {
          "color": "rgb(237, 100, 90)",
          "line": {
           "color": "black",
           "width": 0.1
          },
          "opacity": 0.8,
          "size": 4,
          "symbol": "circle"
         },
         "mode": "markers",
         "name": "185",
         "scene": "scene",
         "showlegend": true,
         "type": "scatter3d",
         "x": [
          1.875994595511936
         ],
         "y": [
          -0.0101222394328223
         ],
         "z": [
          -0.025140807592418796
         ]
        },
        {
         "hovertemplate": "cluster=186<br>comp1=%{x}<br>comp2=%{y}<br>comp3=%{z}<extra></extra>",
         "legendgroup": "186",
         "marker": {
          "color": "rgb(165, 170, 153)",
          "line": {
           "color": "black",
           "width": 0.1
          },
          "opacity": 0.8,
          "size": 4,
          "symbol": "circle"
         },
         "mode": "markers",
         "name": "186",
         "scene": "scene",
         "showlegend": true,
         "type": "scatter3d",
         "x": [
          1.8665763025846969
         ],
         "y": [
          -0.012921830731146203
         ],
         "z": [
          -0.02539699965918541
         ]
        },
        {
         "hovertemplate": "cluster=187<br>comp1=%{x}<br>comp2=%{y}<br>comp3=%{z}<extra></extra>",
         "legendgroup": "187",
         "marker": {
          "color": "rgb(229, 134, 6)",
          "line": {
           "color": "black",
           "width": 0.1
          },
          "opacity": 0.8,
          "size": 4,
          "symbol": "circle"
         },
         "mode": "markers",
         "name": "187",
         "scene": "scene",
         "showlegend": true,
         "type": "scatter3d",
         "x": [
          1.8571662318088422
         ],
         "y": [
          -0.01571628958029498
         ],
         "z": [
          -0.02565007276155696
         ]
        },
        {
         "hovertemplate": "cluster=188<br>comp1=%{x}<br>comp2=%{y}<br>comp3=%{z}<extra></extra>",
         "legendgroup": "188",
         "marker": {
          "color": "rgb(93, 105, 177)",
          "line": {
           "color": "black",
           "width": 0.1
          },
          "opacity": 0.8,
          "size": 4,
          "symbol": "circle"
         },
         "mode": "markers",
         "name": "188",
         "scene": "scene",
         "showlegend": true,
         "type": "scatter3d",
         "x": [
          1.8477644027195121
         ],
         "y": [
          -0.018505591465693604
         ],
         "z": [
          -0.025900037134839727
         ]
        },
        {
         "hovertemplate": "cluster=189<br>comp1=%{x}<br>comp2=%{y}<br>comp3=%{z}<extra></extra>",
         "legendgroup": "189",
         "marker": {
          "color": "rgb(82, 188, 163)",
          "line": {
           "color": "black",
           "width": 0.1
          },
          "opacity": 0.8,
          "size": 4,
          "symbol": "circle"
         },
         "mode": "markers",
         "name": "189",
         "scene": "scene",
         "showlegend": true,
         "type": "scatter3d",
         "x": [
          1.8383708348482108
         ],
         "y": [
          -0.021289711877254598
         ],
         "z": [
          -0.02614690301288064
         ]
        },
        {
         "hovertemplate": "cluster=190<br>comp1=%{x}<br>comp2=%{y}<br>comp3=%{z}<extra></extra>",
         "legendgroup": "190",
         "marker": {
          "color": "rgb(153, 201, 69)",
          "line": {
           "color": "black",
           "width": 0.1
          },
          "opacity": 0.8,
          "size": 4,
          "symbol": "circle"
         },
         "mode": "markers",
         "name": "190",
         "scene": "scene",
         "showlegend": true,
         "type": "scatter3d",
         "x": [
          1.8289855477227865
         ],
         "y": [
          -0.024068626309398024
         ],
         "z": [
          -0.02639068062807265
         ]
        },
        {
         "hovertemplate": "cluster=191<br>comp1=%{x}<br>comp2=%{y}<br>comp3=%{z}<extra></extra>",
         "legendgroup": "191",
         "marker": {
          "color": "rgb(204, 97, 176)",
          "line": {
           "color": "black",
           "width": 0.1
          },
          "opacity": 0.8,
          "size": 4,
          "symbol": "circle"
         },
         "mode": "markers",
         "name": "191",
         "scene": "scene",
         "showlegend": true,
         "type": "scatter3d",
         "x": [
          1.8196085608674026
         ],
         "y": [
          -0.026842310261076308
         ],
         "z": [
          -0.02663138021134952
         ]
        },
        {
         "hovertemplate": "cluster=192<br>comp1=%{x}<br>comp2=%{y}<br>comp3=%{z}<extra></extra>",
         "legendgroup": "192",
         "marker": {
          "color": "rgb(36, 121, 108)",
          "line": {
           "color": "black",
           "width": 0.1
          },
          "opacity": 0.8,
          "size": 4,
          "symbol": "circle"
         },
         "mode": "markers",
         "name": "192",
         "scene": "scene",
         "showlegend": true,
         "type": "scatter3d",
         "x": [
          1.8102398938025277
         ],
         "y": [
          -0.02961073923580246
         ],
         "z": [
          -0.026869011992169876
         ]
        },
        {
         "hovertemplate": "cluster=193<br>comp1=%{x}<br>comp2=%{y}<br>comp3=%{z}<extra></extra>",
         "legendgroup": "193",
         "marker": {
          "color": "rgb(218, 165, 27)",
          "line": {
           "color": "black",
           "width": 0.1
          },
          "opacity": 0.8,
          "size": 4,
          "symbol": "circle"
         },
         "mode": "markers",
         "name": "193",
         "scene": "scene",
         "showlegend": true,
         "type": "scatter3d",
         "x": [
          1.800879566044925
         ],
         "y": [
          -0.03237388874166485
         ],
         "z": [
          -0.02710358619850148
         ]
        },
        {
         "hovertemplate": "cluster=194<br>comp1=%{x}<br>comp2=%{y}<br>comp3=%{z}<extra></extra>",
         "legendgroup": "194",
         "marker": {
          "color": "rgb(47, 138, 196)",
          "line": {
           "color": "black",
           "width": 0.1
          },
          "opacity": 0.8,
          "size": 4,
          "symbol": "circle"
         },
         "mode": "markers",
         "name": "194",
         "scene": "scene",
         "showlegend": true,
         "type": "scatter3d",
         "x": [
          1.7915275971076166
         ],
         "y": [
          -0.03513173429136015
         ],
         "z": [
          -0.02733511305682994
         ]
        },
        {
         "hovertemplate": "cluster=195<br>comp1=%{x}<br>comp2=%{y}<br>comp3=%{z}<extra></extra>",
         "legendgroup": "195",
         "marker": {
          "color": "rgb(118, 78, 159)",
          "line": {
           "color": "black",
           "width": 0.1
          },
          "opacity": 0.8,
          "size": 4,
          "symbol": "circle"
         },
         "mode": "markers",
         "name": "195",
         "scene": "scene",
         "showlegend": true,
         "type": "scatter3d",
         "x": [
          1.7821840064998746
         ],
         "y": [
          -0.03788425140221157
         ],
         "z": [
          -0.02756360279213389
         ]
        },
        {
         "hovertemplate": "cluster=196<br>comp1=%{x}<br>comp2=%{y}<br>comp3=%{z}<extra></extra>",
         "legendgroup": "196",
         "marker": {
          "color": "rgb(237, 100, 90)",
          "line": {
           "color": "black",
           "width": 0.1
          },
          "opacity": 0.8,
          "size": 4,
          "symbol": "circle"
         },
         "mode": "markers",
         "name": "196",
         "scene": "scene",
         "showlegend": true,
         "type": "scatter3d",
         "x": [
          1.772848813727241
         ],
         "y": [
          -0.04063141559618764
         ],
         "z": [
          -0.02778906562785235
         ]
        },
        {
         "hovertemplate": "cluster=197<br>comp1=%{x}<br>comp2=%{y}<br>comp3=%{z}<extra></extra>",
         "legendgroup": "197",
         "marker": {
          "color": "rgb(165, 170, 153)",
          "line": {
           "color": "black",
           "width": 0.1
          },
          "opacity": 0.8,
          "size": 4,
          "symbol": "circle"
         },
         "mode": "markers",
         "name": "197",
         "scene": "scene",
         "showlegend": true,
         "type": "scatter3d",
         "x": [
          1.763522038291438
         ],
         "y": [
          -0.04337320239993647
         ],
         "z": [
          -0.028011511785932735
         ]
        },
        {
         "hovertemplate": "cluster=198<br>comp1=%{x}<br>comp2=%{y}<br>comp3=%{z}<extra></extra>",
         "legendgroup": "198",
         "marker": {
          "color": "rgb(229, 134, 6)",
          "line": {
           "color": "black",
           "width": 0.1
          },
          "opacity": 0.8,
          "size": 4,
          "symbol": "circle"
         },
         "mode": "markers",
         "name": "198",
         "scene": "scene",
         "showlegend": true,
         "type": "scatter3d",
         "x": [
          1.7542036996904005
         ],
         "y": [
          -0.046109587344804775
         ],
         "z": [
          -0.028230951486776977
         ]
        },
        {
         "hovertemplate": "cluster=199<br>comp1=%{x}<br>comp2=%{y}<br>comp3=%{z}<extra></extra>",
         "legendgroup": "199",
         "marker": {
          "color": "rgb(93, 105, 177)",
          "line": {
           "color": "black",
           "width": 0.1
          },
          "opacity": 0.8,
          "size": 4,
          "symbol": "circle"
         },
         "mode": "markers",
         "name": "199",
         "scene": "scene",
         "showlegend": true,
         "type": "scatter3d",
         "x": [
          1.7448938174182764
         ],
         "y": [
          -0.04884054596685676
         ],
         "z": [
          -0.028447394949214434
         ]
        },
        {
         "hovertemplate": "cluster=200<br>comp1=%{x}<br>comp2=%{y}<br>comp3=%{z}<extra></extra>",
         "legendgroup": "200",
         "marker": {
          "color": "rgb(82, 188, 163)",
          "line": {
           "color": "black",
           "width": 0.1
          },
          "opacity": 0.8,
          "size": 4,
          "symbol": "circle"
         },
         "mode": "markers",
         "name": "200",
         "scene": "scene",
         "showlegend": true,
         "type": "scatter3d",
         "x": [
          1.7355924109653444
         ],
         "y": [
          -0.05156605380689542
         ],
         "z": [
          -0.028660852390563794
         ]
        },
        {
         "hovertemplate": "cluster=201<br>comp1=%{x}<br>comp2=%{y}<br>comp3=%{z}<extra></extra>",
         "legendgroup": "201",
         "marker": {
          "color": "rgb(153, 201, 69)",
          "line": {
           "color": "black",
           "width": 0.1
          },
          "opacity": 0.8,
          "size": 4,
          "symbol": "circle"
         },
         "mode": "markers",
         "name": "201",
         "scene": "scene",
         "showlegend": true,
         "type": "scatter3d",
         "x": [
          1.726299499818061
         ],
         "y": [
          -0.05428608641050179
         ],
         "z": [
          -0.028871334026543353
         ]
        },
        {
         "hovertemplate": "cluster=202<br>comp1=%{x}<br>comp2=%{y}<br>comp3=%{z}<extra></extra>",
         "legendgroup": "202",
         "marker": {
          "color": "rgb(204, 97, 176)",
          "line": {
           "color": "black",
           "width": 0.1
          },
          "opacity": 0.8,
          "size": 4,
          "symbol": "circle"
         },
         "mode": "markers",
         "name": "202",
         "scene": "scene",
         "showlegend": true,
         "type": "scatter3d",
         "x": [
          1.7170151034590098
         ],
         "y": [
          -0.05700061932804454
         ],
         "z": [
          -0.029078850071303557
         ]
        },
        {
         "hovertemplate": "cluster=203<br>comp1=%{x}<br>comp2=%{y}<br>comp3=%{z}<extra></extra>",
         "legendgroup": "203",
         "marker": {
          "color": "rgb(36, 121, 108)",
          "line": {
           "color": "black",
           "width": 0.1
          },
          "opacity": 0.8,
          "size": 4,
          "symbol": "circle"
         },
         "mode": "markers",
         "name": "203",
         "scene": "scene",
         "showlegend": true,
         "type": "scatter3d",
         "x": [
          1.7077392413668975
         ],
         "y": [
          -0.059709628114702866
         ],
         "z": [
          -0.029283410737408547
         ]
        },
        {
         "hovertemplate": "cluster=204<br>comp1=%{x}<br>comp2=%{y}<br>comp3=%{z}<extra></extra>",
         "legendgroup": "204",
         "marker": {
          "color": "rgb(218, 165, 27)",
          "line": {
           "color": "black",
           "width": 0.1
          },
          "opacity": 0.8,
          "size": 4,
          "symbol": "circle"
         },
         "mode": "markers",
         "name": "204",
         "scene": "scene",
         "showlegend": true,
         "type": "scatter3d",
         "x": [
          1.6984719330165248
         ],
         "y": [
          -0.06241308833049966
         ],
         "z": [
          -0.02948502623582719
         ]
        },
        {
         "hovertemplate": "cluster=205<br>comp1=%{x}<br>comp2=%{y}<br>comp3=%{z}<extra></extra>",
         "legendgroup": "205",
         "marker": {
          "color": "rgb(47, 138, 196)",
          "line": {
           "color": "black",
           "width": 0.1
          },
          "opacity": 0.8,
          "size": 4,
          "symbol": "circle"
         },
         "mode": "markers",
         "name": "205",
         "scene": "scene",
         "showlegend": true,
         "type": "scatter3d",
         "x": [
          1.689213197878784
         ],
         "y": [
          -0.06511097554031584
         ],
         "z": [
          -0.029683706775915326
         ]
        },
        {
         "hovertemplate": "cluster=206<br>comp1=%{x}<br>comp2=%{y}<br>comp3=%{z}<extra></extra>",
         "legendgroup": "206",
         "marker": {
          "color": "rgb(118, 78, 159)",
          "line": {
           "color": "black",
           "width": 0.1
          },
          "opacity": 0.8,
          "size": 4,
          "symbol": "circle"
         },
         "mode": "markers",
         "name": "206",
         "scene": "scene",
         "showlegend": true,
         "type": "scatter3d",
         "x": [
          1.6799630554206275
         ],
         "y": [
          -0.06780326531391984
         ],
         "z": [
          -0.029879462565423336
         ]
        },
        {
         "hovertemplate": "cluster=207<br>comp1=%{x}<br>comp2=%{y}<br>comp3=%{z}<extra></extra>",
         "legendgroup": "207",
         "marker": {
          "color": "rgb(237, 100, 90)",
          "line": {
           "color": "black",
           "width": 0.1
          },
          "opacity": 0.8,
          "size": 4,
          "symbol": "circle"
         },
         "mode": "markers",
         "name": "207",
         "scene": "scene",
         "showlegend": true,
         "type": "scatter3d",
         "x": [
          1.67072152510508
         ],
         "y": [
          -0.07048993322598124
         ],
         "z": [
          -0.030072303810449758
         ]
        },
        {
         "hovertemplate": "cluster=208<br>comp1=%{x}<br>comp2=%{y}<br>comp3=%{z}<extra></extra>",
         "legendgroup": "208",
         "marker": {
          "color": "rgb(165, 170, 153)",
          "line": {
           "color": "black",
           "width": 0.1
          },
          "opacity": 0.8,
          "size": 4,
          "symbol": "circle"
         },
         "mode": "markers",
         "name": "208",
         "scene": "scene",
         "showlegend": true,
         "type": "scatter3d",
         "x": [
          1.6614886263911595
         ],
         "y": [
          -0.07317095485610857
         ],
         "z": [
          -0.03026224071549557
         ]
        },
        {
         "hovertemplate": "cluster=209<br>comp1=%{x}<br>comp2=%{y}<br>comp3=%{z}<extra></extra>",
         "legendgroup": "209",
         "marker": {
          "color": "rgb(229, 134, 6)",
          "line": {
           "color": "black",
           "width": 0.1
          },
          "opacity": 0.8,
          "size": 4,
          "symbol": "circle"
         },
         "mode": "markers",
         "name": "209",
         "scene": "scene",
         "showlegend": true,
         "type": "scatter3d",
         "x": [
          1.652264378733947
         ],
         "y": [
          -0.0758463057888679
         ],
         "z": [
          -0.030449283483360092
         ]
        },
        {
         "hovertemplate": "cluster=210<br>comp1=%{x}<br>comp2=%{y}<br>comp3=%{z}<extra></extra>",
         "legendgroup": "210",
         "marker": {
          "color": "rgb(93, 105, 177)",
          "line": {
           "color": "black",
           "width": 0.1
          },
          "opacity": 0.8,
          "size": 4,
          "symbol": "circle"
         },
         "mode": "markers",
         "name": "210",
         "scene": "scene",
         "showlegend": true,
         "type": "scatter3d",
         "x": [
          1.6430488015845008
         ],
         "y": [
          -0.07851596161378936
         ],
         "z": [
          -0.03063344231522611
         ]
        },
        {
         "hovertemplate": "cluster=211<br>comp1=%{x}<br>comp2=%{y}<br>comp3=%{z}<extra></extra>",
         "legendgroup": "211",
         "marker": {
          "color": "rgb(82, 188, 163)",
          "line": {
           "color": "black",
           "width": 0.1
          },
          "opacity": 0.8,
          "size": 4,
          "symbol": "circle"
         },
         "mode": "markers",
         "name": "211",
         "scene": "scene",
         "showlegend": true,
         "type": "scatter3d",
         "x": [
          1.63384191438986
         ],
         "y": [
          -0.08117989792542218
         ],
         "z": [
          -0.030814727410591623
         ]
        },
        {
         "hovertemplate": "cluster=212<br>comp1=%{x}<br>comp2=%{y}<br>comp3=%{z}<extra></extra>",
         "legendgroup": "212",
         "marker": {
          "color": "rgb(153, 201, 69)",
          "line": {
           "color": "black",
           "width": 0.1
          },
          "opacity": 0.8,
          "size": 4,
          "symbol": "circle"
         },
         "mode": "markers",
         "name": "212",
         "scene": "scene",
         "showlegend": true,
         "type": "scatter3d",
         "x": [
          1.6246437365930362
         ],
         "y": [
          -0.08383809032332674
         ],
         "z": [
          -0.03099314896728192
         ]
        },
        {
         "hovertemplate": "cluster=213<br>comp1=%{x}<br>comp2=%{y}<br>comp3=%{z}<extra></extra>",
         "legendgroup": "213",
         "marker": {
          "color": "rgb(204, 97, 176)",
          "line": {
           "color": "black",
           "width": 0.1
          },
          "opacity": 0.8,
          "size": 4,
          "symbol": "circle"
         },
         "mode": "markers",
         "name": "213",
         "scene": "scene",
         "showlegend": true,
         "type": "scatter3d",
         "x": [
          1.6154542876329998
         ],
         "y": [
          -0.08649051441212038
         ],
         "z": [
          -0.0311687171814143
         ]
        },
        {
         "hovertemplate": "cluster=214<br>comp1=%{x}<br>comp2=%{y}<br>comp3=%{z}<extra></extra>",
         "legendgroup": "214",
         "marker": {
          "color": "rgb(36, 121, 108)",
          "line": {
           "color": "black",
           "width": 0.1
          },
          "opacity": 0.8,
          "size": 4,
          "symbol": "circle"
         },
         "mode": "markers",
         "name": "214",
         "scene": "scene",
         "showlegend": true,
         "type": "scatter3d",
         "x": [
          1.6062735869446272
         ],
         "y": [
          -0.0891371458014896
         ],
         "z": [
          -0.03134144224744262
         ]
        },
        {
         "hovertemplate": "cluster=215<br>comp1=%{x}<br>comp2=%{y}<br>comp3=%{z}<extra></extra>",
         "legendgroup": "215",
         "marker": {
          "color": "rgb(218, 165, 27)",
          "line": {
           "color": "black",
           "width": 0.1
          },
          "opacity": 0.8,
          "size": 4,
          "symbol": "circle"
         },
         "mode": "markers",
         "name": "215",
         "scene": "scene",
         "showlegend": true,
         "type": "scatter3d",
         "x": [
          1.597101653958754
         ],
         "y": [
          -0.09177796010621736
         ],
         "z": [
          -0.0315113343580588
         ]
        },
        {
         "hovertemplate": "cluster=216<br>comp1=%{x}<br>comp2=%{y}<br>comp3=%{z}<extra></extra>",
         "legendgroup": "216",
         "marker": {
          "color": "rgb(47, 138, 196)",
          "line": {
           "color": "black",
           "width": 0.1
          },
          "opacity": 0.8,
          "size": 4,
          "symbol": "circle"
         },
         "mode": "markers",
         "name": "216",
         "scene": "scene",
         "showlegend": true,
         "type": "scatter3d",
         "x": [
          1.5879385081020776
         ],
         "y": [
          -0.09441293294620091
         ],
         "z": [
          -0.03167840370428271
         ]
        },
        {
         "hovertemplate": "cluster=217<br>comp1=%{x}<br>comp2=%{y}<br>comp3=%{z}<extra></extra>",
         "legendgroup": "217",
         "marker": {
          "color": "rgb(118, 78, 159)",
          "line": {
           "color": "black",
           "width": 0.1
          },
          "opacity": 0.8,
          "size": 4,
          "symbol": "circle"
         },
         "mode": "markers",
         "name": "217",
         "scene": "scene",
         "showlegend": true,
         "type": "scatter3d",
         "x": [
          1.5787841687971862
         ],
         "y": [
          -0.09704203994648444
         ],
         "z": [
          -0.031842660475388675
         ]
        },
        {
         "hovertemplate": "cluster=218<br>comp1=%{x}<br>comp2=%{y}<br>comp3=%{z}<extra></extra>",
         "legendgroup": "218",
         "marker": {
          "color": "rgb(237, 100, 90)",
          "line": {
           "color": "black",
           "width": 0.1
          },
          "opacity": 0.8,
          "size": 4,
          "symbol": "circle"
         },
         "mode": "markers",
         "name": "218",
         "scene": "scene",
         "showlegend": true,
         "type": "scatter3d",
         "x": [
          1.5696386554625532
         ],
         "y": [
          -0.0996652567372717
         ],
         "z": [
          -0.03200411485889356
         ]
        },
        {
         "hovertemplate": "cluster=219<br>comp1=%{x}<br>comp2=%{y}<br>comp3=%{z}<extra></extra>",
         "legendgroup": "219",
         "marker": {
          "color": "rgb(165, 170, 153)",
          "line": {
           "color": "black",
           "width": 0.1
          },
          "opacity": 0.8,
          "size": 4,
          "symbol": "circle"
         },
         "mode": "markers",
         "name": "219",
         "scene": "scene",
         "showlegend": true,
         "type": "scatter3d",
         "x": [
          1.5605019875124744
         ],
         "y": [
          -0.10228255895396646
         ],
         "z": [
          -0.0321627770405833
         ]
        },
        {
         "hovertemplate": "cluster=220<br>comp1=%{x}<br>comp2=%{y}<br>comp3=%{z}<extra></extra>",
         "legendgroup": "220",
         "marker": {
          "color": "rgb(229, 134, 6)",
          "line": {
           "color": "black",
           "width": 0.1
          },
          "opacity": 0.8,
          "size": 4,
          "symbol": "circle"
         },
         "mode": "markers",
         "name": "220",
         "scene": "scene",
         "showlegend": true,
         "type": "scatter3d",
         "x": [
          1.5513741843570994
         ],
         "y": [
          -0.10489392223716706
         ],
         "z": [
          -0.03231865720447772
         ]
        },
        {
         "hovertemplate": "cluster=221<br>comp1=%{x}<br>comp2=%{y}<br>comp3=%{z}<extra></extra>",
         "legendgroup": "221",
         "marker": {
          "color": "rgb(93, 105, 177)",
          "line": {
           "color": "black",
           "width": 0.1
          },
          "opacity": 0.8,
          "size": 4,
          "symbol": "circle"
         },
         "mode": "markers",
         "name": "221",
         "scene": "scene",
         "showlegend": true,
         "type": "scatter3d",
         "x": [
          1.542255265402371
         ],
         "y": [
          -0.10749932223272288
         ],
         "z": [
          -0.03247176553283123
         ]
        },
        {
         "hovertemplate": "cluster=222<br>comp1=%{x}<br>comp2=%{y}<br>comp3=%{z}<extra></extra>",
         "legendgroup": "222",
         "marker": {
          "color": "rgb(82, 188, 163)",
          "line": {
           "color": "black",
           "width": 0.1
          },
          "opacity": 0.8,
          "size": 4,
          "symbol": "circle"
         },
         "mode": "markers",
         "name": "222",
         "scene": "scene",
         "showlegend": true,
         "type": "scatter3d",
         "x": [
          1.5331452500500542
         ],
         "y": [
          -0.11009873459173525
         ],
         "z": [
          -0.03262211220609625
         ]
        },
        {
         "hovertemplate": "cluster=223<br>comp1=%{x}<br>comp2=%{y}<br>comp3=%{z}<extra></extra>",
         "legendgroup": "223",
         "marker": {
          "color": "rgb(153, 201, 69)",
          "line": {
           "color": "black",
           "width": 0.1
          },
          "opacity": 0.8,
          "size": 4,
          "symbol": "circle"
         },
         "mode": "markers",
         "name": "223",
         "scene": "scene",
         "showlegend": true,
         "type": "scatter3d",
         "x": [
          1.5240441576976833
         ],
         "y": [
          -0.11269213497058336
         ],
         "z": [
          -0.03276970740295548
         ]
        },
        {
         "hovertemplate": "cluster=224<br>comp1=%{x}<br>comp2=%{y}<br>comp3=%{z}<extra></extra>",
         "legendgroup": "224",
         "marker": {
          "color": "rgb(204, 97, 176)",
          "line": {
           "color": "black",
           "width": 0.1
          },
          "opacity": 0.8,
          "size": 4,
          "symbol": "circle"
         },
         "mode": "markers",
         "name": "224",
         "scene": "scene",
         "showlegend": true,
         "type": "scatter3d",
         "x": [
          1.5149520077385534
         ],
         "y": [
          -0.11527949903096224
         ],
         "z": [
          -0.032914561300281274
         ]
        },
        {
         "hovertemplate": "cluster=225<br>comp1=%{x}<br>comp2=%{y}<br>comp3=%{z}<extra></extra>",
         "legendgroup": "225",
         "marker": {
          "color": "rgb(36, 121, 108)",
          "line": {
           "color": "black",
           "width": 0.1
          },
          "opacity": 0.8,
          "size": 4,
          "symbol": "circle"
         },
         "mode": "markers",
         "name": "225",
         "scene": "scene",
         "showlegend": true,
         "type": "scatter3d",
         "x": [
          1.505868819561715
         ],
         "y": [
          -0.11786080243988688
         ],
         "z": [
          -0.03305668407313257
         ]
        },
        {
         "hovertemplate": "cluster=226<br>comp1=%{x}<br>comp2=%{y}<br>comp3=%{z}<extra></extra>",
         "legendgroup": "226",
         "marker": {
          "color": "rgb(218, 165, 27)",
          "line": {
           "color": "black",
           "width": 0.1
          },
          "opacity": 0.8,
          "size": 4,
          "symbol": "circle"
         },
         "mode": "markers",
         "name": "226",
         "scene": "scene",
         "showlegend": true,
         "type": "scatter3d",
         "x": [
          1.4967946125519551
         ],
         "y": [
          -0.12043602086972519
         ],
         "z": [
          -0.033196085894745216
         ]
        },
        {
         "hovertemplate": "cluster=227<br>comp1=%{x}<br>comp2=%{y}<br>comp3=%{z}<extra></extra>",
         "legendgroup": "227",
         "marker": {
          "color": "rgb(47, 138, 196)",
          "line": {
           "color": "black",
           "width": 0.1
          },
          "opacity": 0.8,
          "size": 4,
          "symbol": "circle"
         },
         "mode": "markers",
         "name": "227",
         "scene": "scene",
         "showlegend": true,
         "type": "scatter3d",
         "x": [
          1.487729406089757
         ],
         "y": [
          -0.12300512999822237
         ],
         "z": [
          -0.033332776936533574
         ]
        },
        {
         "hovertemplate": "cluster=228<br>comp1=%{x}<br>comp2=%{y}<br>comp3=%{z}<extra></extra>",
         "legendgroup": "228",
         "marker": {
          "color": "rgb(118, 78, 159)",
          "line": {
           "color": "black",
           "width": 0.1
          },
          "opacity": 0.8,
          "size": 4,
          "symbol": "circle"
         },
         "mode": "markers",
         "name": "228",
         "scene": "scene",
         "showlegend": true,
         "type": "scatter3d",
         "x": [
          1.4786732195513217
         ],
         "y": [
          -0.12556810550852285
         ],
         "z": [
          -0.033466767368052146
         ]
        },
        {
         "hovertemplate": "cluster=229<br>comp1=%{x}<br>comp2=%{y}<br>comp3=%{z}<extra></extra>",
         "legendgroup": "229",
         "marker": {
          "color": "rgb(237, 100, 90)",
          "line": {
           "color": "black",
           "width": 0.1
          },
          "opacity": 0.8,
          "size": 4,
          "symbol": "circle"
         },
         "mode": "markers",
         "name": "229",
         "scene": "scene",
         "showlegend": true,
         "type": "scatter3d",
         "x": [
          1.4696260723085106
         ],
         "y": [
          -0.1281249230891903
         ],
         "z": [
          -0.03359806735702282
         ]
        },
        {
         "hovertemplate": "cluster=230<br>comp1=%{x}<br>comp2=%{y}<br>comp3=%{z}<extra></extra>",
         "legendgroup": "230",
         "marker": {
          "color": "rgb(165, 170, 153)",
          "line": {
           "color": "black",
           "width": 0.1
          },
          "opacity": 0.8,
          "size": 4,
          "symbol": "circle"
         },
         "mode": "markers",
         "name": "230",
         "scene": "scene",
         "showlegend": true,
         "type": "scatter3d",
         "x": [
          1.4605879837288733
         ],
         "y": [
          -0.13067555843423473
         ],
         "z": [
          -0.03372668706928112
         ]
        },
        {
         "hovertemplate": "cluster=231<br>comp1=%{x}<br>comp2=%{y}<br>comp3=%{z}<extra></extra>",
         "legendgroup": "231",
         "marker": {
          "color": "rgb(229, 134, 6)",
          "line": {
           "color": "black",
           "width": 0.1
          },
          "opacity": 0.8,
          "size": 4,
          "symbol": "circle"
         },
         "mode": "markers",
         "name": "231",
         "scene": "scene",
         "showlegend": true,
         "type": "scatter3d",
         "x": [
          1.4515589731755834
         ],
         "y": [
          -0.1332199872431356
         ],
         "z": [
          -0.033852636668810485
         ]
        },
        {
         "hovertemplate": "cluster=232<br>comp1=%{x}<br>comp2=%{y}<br>comp3=%{z}<extra></extra>",
         "legendgroup": "232",
         "marker": {
          "color": "rgb(93, 105, 177)",
          "line": {
           "color": "black",
           "width": 0.1
          },
          "opacity": 0.8,
          "size": 4,
          "symbol": "circle"
         },
         "mode": "markers",
         "name": "232",
         "scene": "scene",
         "showlegend": true,
         "type": "scatter3d",
         "x": [
          1.4425390600074637
         ],
         "y": [
          -0.13575818522086208
         ],
         "z": [
          -0.03397592631769367
         ]
        },
        {
         "hovertemplate": "cluster=233<br>comp1=%{x}<br>comp2=%{y}<br>comp3=%{z}<extra></extra>",
         "legendgroup": "233",
         "marker": {
          "color": "rgb(82, 188, 163)",
          "line": {
           "color": "black",
           "width": 0.1
          },
          "opacity": 0.8,
          "size": 4,
          "symbol": "circle"
         },
         "mode": "markers",
         "name": "233",
         "scene": "scene",
         "showlegend": true,
         "type": "scatter3d",
         "x": [
          1.4335282635789282
         ],
         "y": [
          -0.13829012807789884
         ],
         "z": [
          -0.03409656617614334
         ]
        },
        {
         "hovertemplate": "cluster=234<br>comp1=%{x}<br>comp2=%{y}<br>comp3=%{z}<extra></extra>",
         "legendgroup": "234",
         "marker": {
          "color": "rgb(153, 201, 69)",
          "line": {
           "color": "black",
           "width": 0.1
          },
          "opacity": 0.8,
          "size": 4,
          "symbol": "circle"
         },
         "mode": "markers",
         "name": "234",
         "scene": "scene",
         "showlegend": true,
         "type": "scatter3d",
         "x": [
          1.4245266032400221
         ],
         "y": [
          -0.14081579153026744
         ],
         "z": [
          -0.034214566402434796
         ]
        },
        {
         "hovertemplate": "cluster=235<br>comp1=%{x}<br>comp2=%{y}<br>comp3=%{z}<extra></extra>",
         "legendgroup": "235",
         "marker": {
          "color": "rgb(204, 97, 176)",
          "line": {
           "color": "black",
           "width": 0.1
          },
          "opacity": 0.8,
          "size": 4,
          "symbol": "circle"
         },
         "mode": "markers",
         "name": "235",
         "scene": "scene",
         "showlegend": true,
         "type": "scatter3d",
         "x": [
          1.4155340983363365
         ],
         "y": [
          -0.1433351512995571
         ],
         "z": [
          -0.03432993715295562
         ]
        },
        {
         "hovertemplate": "cluster=236<br>comp1=%{x}<br>comp2=%{y}<br>comp3=%{z}<extra></extra>",
         "legendgroup": "236",
         "marker": {
          "color": "rgb(36, 121, 108)",
          "line": {
           "color": "black",
           "width": 0.1
          },
          "opacity": 0.8,
          "size": 4,
          "symbol": "circle"
         },
         "mode": "markers",
         "name": "236",
         "scene": "scene",
         "showlegend": true,
         "type": "scatter3d",
         "x": [
          1.4065507682090448
         ],
         "y": [
          -0.14584818311293077
         ],
         "z": [
          -0.03444268858216471
         ]
        },
        {
         "hovertemplate": "cluster=237<br>comp1=%{x}<br>comp2=%{y}<br>comp3=%{z}<extra></extra>",
         "legendgroup": "237",
         "marker": {
          "color": "rgb(218, 165, 27)",
          "line": {
           "color": "black",
           "width": 0.1
          },
          "opacity": 0.8,
          "size": 4,
          "symbol": "circle"
         },
         "mode": "markers",
         "name": "237",
         "scene": "scene",
         "showlegend": true,
         "type": "scatter3d",
         "x": [
          1.397576632194857
         ],
         "y": [
          -0.1483548627031696
         ],
         "z": [
          -0.03455283084258338
         ]
        },
        {
         "hovertemplate": "cluster=238<br>comp1=%{x}<br>comp2=%{y}<br>comp3=%{z}<extra></extra>",
         "legendgroup": "238",
         "marker": {
          "color": "rgb(47, 138, 196)",
          "line": {
           "color": "black",
           "width": 0.1
          },
          "opacity": 0.8,
          "size": 4,
          "symbol": "circle"
         },
         "mode": "markers",
         "name": "238",
         "scene": "scene",
         "showlegend": true,
         "type": "scatter3d",
         "x": [
          1.3886117096260193
         ],
         "y": [
          -0.15085516580868355
         ],
         "z": [
          -0.03466037408478667
         ]
        },
        {
         "hovertemplate": "cluster=239<br>comp1=%{x}<br>comp2=%{y}<br>comp3=%{z}<extra></extra>",
         "legendgroup": "239",
         "marker": {
          "color": "rgb(118, 78, 159)",
          "line": {
           "color": "black",
           "width": 0.1
          },
          "opacity": 0.8,
          "size": 4,
          "symbol": "circle"
         },
         "mode": "markers",
         "name": "239",
         "scene": "scene",
         "showlegend": true,
         "type": "scatter3d",
         "x": [
          1.3796560198302905
         ],
         "y": [
          -0.15334906817353208
         ],
         "z": [
          -0.03476532845739902
         ]
        },
        {
         "hovertemplate": "cluster=240<br>comp1=%{x}<br>comp2=%{y}<br>comp3=%{z}<extra></extra>",
         "legendgroup": "240",
         "marker": {
          "color": "rgb(237, 100, 90)",
          "line": {
           "color": "black",
           "width": 0.1
          },
          "opacity": 0.8,
          "size": 4,
          "symbol": "circle"
         },
         "mode": "markers",
         "name": "240",
         "scene": "scene",
         "showlegend": true,
         "type": "scatter3d",
         "x": [
          1.3707095821309352
         ],
         "y": [
          -0.1558365455474589
         ],
         "z": [
          -0.03486770410706267
         ]
        },
        {
         "hovertemplate": "cluster=241<br>comp1=%{x}<br>comp2=%{y}<br>comp3=%{z}<extra></extra>",
         "legendgroup": "241",
         "marker": {
          "color": "rgb(165, 170, 153)",
          "line": {
           "color": "black",
           "width": 0.1
          },
          "opacity": 0.8,
          "size": 4,
          "symbol": "circle"
         },
         "mode": "markers",
         "name": "241",
         "scene": "scene",
         "showlegend": true,
         "type": "scatter3d",
         "x": [
          1.3617724158466644
         ],
         "y": [
          -0.15831757368590485
         ],
         "z": [
          -0.03496751117848582
         ]
        },
        {
         "hovertemplate": "cluster=242<br>comp1=%{x}<br>comp2=%{y}<br>comp3=%{z}<extra></extra>",
         "legendgroup": "242",
         "marker": {
          "color": "rgb(229, 134, 6)",
          "line": {
           "color": "black",
           "width": 0.1
          },
          "opacity": 0.8,
          "size": 4,
          "symbol": "circle"
         },
         "mode": "markers",
         "name": "242",
         "scene": "scene",
         "showlegend": true,
         "type": "scatter3d",
         "x": [
          1.3528445402916927
         ],
         "y": [
          -0.16079212835003312
         ],
         "z": [
          -0.03506475981434873
         ]
        },
        {
         "hovertemplate": "cluster=243<br>comp1=%{x}<br>comp2=%{y}<br>comp3=%{z}<extra></extra>",
         "legendgroup": "243",
         "marker": {
          "color": "rgb(93, 105, 177)",
          "line": {
           "color": "black",
           "width": 0.1
          },
          "opacity": 0.8,
          "size": 4,
          "symbol": "circle"
         },
         "mode": "markers",
         "name": "243",
         "scene": "scene",
         "showlegend": true,
         "type": "scatter3d",
         "x": [
          1.3439259747756538
         ],
         "y": [
          -0.16326018530676414
         ],
         "z": [
          -0.035159460155354726
         ]
        },
        {
         "hovertemplate": "cluster=244<br>comp1=%{x}<br>comp2=%{y}<br>comp3=%{z}<extra></extra>",
         "legendgroup": "244",
         "marker": {
          "color": "rgb(82, 188, 163)",
          "line": {
           "color": "black",
           "width": 0.1
          },
          "opacity": 0.8,
          "size": 4,
          "symbol": "circle"
         },
         "mode": "markers",
         "name": "244",
         "scene": "scene",
         "showlegend": true,
         "type": "scatter3d",
         "x": [
          1.3350167386036207
         ],
         "y": [
          -0.16572172032877722
         ],
         "z": [
          -0.03525162234020654
         ]
        },
        {
         "hovertemplate": "cluster=245<br>comp1=%{x}<br>comp2=%{y}<br>comp3=%{z}<extra></extra>",
         "legendgroup": "245",
         "marker": {
          "color": "rgb(153, 201, 69)",
          "line": {
           "color": "black",
           "width": 0.1
          },
          "opacity": 0.8,
          "size": 4,
          "symbol": "circle"
         },
         "mode": "markers",
         "name": "245",
         "scene": "scene",
         "showlegend": true,
         "type": "scatter3d",
         "x": [
          1.3261168510760846
         ],
         "y": [
          -0.16817670919454888
         ],
         "z": [
          -0.035341256505574806
         ]
        },
        {
         "hovertemplate": "cluster=246<br>comp1=%{x}<br>comp2=%{y}<br>comp3=%{z}<extra></extra>",
         "legendgroup": "246",
         "marker": {
          "color": "rgb(204, 97, 176)",
          "line": {
           "color": "black",
           "width": 0.1
          },
          "opacity": 0.8,
          "size": 4,
          "symbol": "circle"
         },
         "mode": "markers",
         "name": "246",
         "scene": "scene",
         "showlegend": true,
         "type": "scatter3d",
         "x": [
          1.3172263314889168
         ],
         "y": [
          -0.17062512768837756
         ],
         "z": [
          -0.03542837278612213
         ]
        },
        {
         "hovertemplate": "cluster=247<br>comp1=%{x}<br>comp2=%{y}<br>comp3=%{z}<extra></extra>",
         "legendgroup": "247",
         "marker": {
          "color": "rgb(36, 121, 108)",
          "line": {
           "color": "black",
           "width": 0.1
          },
          "opacity": 0.8,
          "size": 4,
          "symbol": "circle"
         },
         "mode": "markers",
         "name": "247",
         "scene": "scene",
         "showlegend": true,
         "type": "scatter3d",
         "x": [
          1.3083451991333745
         ],
         "y": [
          -0.17306695160039673
         ],
         "z": [
          -0.03551298131447158
         ]
        },
        {
         "hovertemplate": "cluster=248<br>comp1=%{x}<br>comp2=%{y}<br>comp3=%{z}<extra></extra>",
         "legendgroup": "248",
         "marker": {
          "color": "rgb(218, 165, 27)",
          "line": {
           "color": "black",
           "width": 0.1
          },
          "opacity": 0.8,
          "size": 4,
          "symbol": "circle"
         },
         "mode": "markers",
         "name": "248",
         "scene": "scene",
         "showlegend": true,
         "type": "scatter3d",
         "x": [
          1.2994734732960902
         ],
         "y": [
          -0.1755021567266065
         ],
         "z": [
          -0.03559509222118065
         ]
        },
        {
         "hovertemplate": "cluster=249<br>comp1=%{x}<br>comp2=%{y}<br>comp3=%{z}<extra></extra>",
         "legendgroup": "249",
         "marker": {
          "color": "rgb(47, 138, 196)",
          "line": {
           "color": "black",
           "width": 0.1
          },
          "opacity": 0.8,
          "size": 4,
          "symbol": "circle"
         },
         "mode": "markers",
         "name": "249",
         "scene": "scene",
         "showlegend": true,
         "type": "scatter3d",
         "x": [
          1.2906111732590153
         ],
         "y": [
          -0.17793071886889383
         ],
         "z": [
          -0.03567471563478262
         ]
        },
        {
         "hovertemplate": "cluster=250<br>comp1=%{x}<br>comp2=%{y}<br>comp3=%{z}<extra></extra>",
         "legendgroup": "250",
         "marker": {
          "color": "rgb(118, 78, 159)",
          "line": {
           "color": "black",
           "width": 0.1
          },
          "opacity": 0.8,
          "size": 4,
          "symbol": "circle"
         },
         "mode": "markers",
         "name": "250",
         "scene": "scene",
         "showlegend": true,
         "type": "scatter3d",
         "x": [
          1.2817583182994612
         ],
         "y": [
          -0.18035261383505416
         ],
         "z": [
          -0.035751861681711315
         ]
        },
        {
         "hovertemplate": "cluster=251<br>comp1=%{x}<br>comp2=%{y}<br>comp3=%{z}<extra></extra>",
         "legendgroup": "251",
         "marker": {
          "color": "rgb(237, 100, 90)",
          "line": {
           "color": "black",
           "width": 0.1
          },
          "opacity": 0.8,
          "size": 4,
          "symbol": "circle"
         },
         "mode": "markers",
         "name": "251",
         "scene": "scene",
         "showlegend": true,
         "type": "scatter3d",
         "x": [
          1.2729149276900231
         ],
         "y": [
          -0.18276781743881326
         ],
         "z": [
          -0.03582654048635473
         ]
        },
        {
         "hovertemplate": "cluster=252<br>comp1=%{x}<br>comp2=%{y}<br>comp3=%{z}<extra></extra>",
         "legendgroup": "252",
         "marker": {
          "color": "rgb(165, 170, 153)",
          "line": {
           "color": "black",
           "width": 0.1
          },
          "opacity": 0.8,
          "size": 4,
          "symbol": "circle"
         },
         "mode": "markers",
         "name": "252",
         "scene": "scene",
         "showlegend": true,
         "type": "scatter3d",
         "x": [
          1.26408102069861
         ],
         "y": [
          -0.18517630549985745
         ],
         "z": [
          -0.03589876217099366
         ]
        },
        {
         "hovertemplate": "cluster=253<br>comp1=%{x}<br>comp2=%{y}<br>comp3=%{z}<extra></extra>",
         "legendgroup": "253",
         "marker": {
          "color": "rgb(229, 134, 6)",
          "line": {
           "color": "black",
           "width": 0.1
          },
          "opacity": 0.8,
          "size": 4,
          "symbol": "circle"
         },
         "mode": "markers",
         "name": "253",
         "scene": "scene",
         "showlegend": true,
         "type": "scatter3d",
         "x": [
          1.2552566165884038
         ],
         "y": [
          -0.18757805384385348
         ],
         "z": [
          -0.035968536855812604
         ]
        },
        {
         "hovertemplate": "cluster=254<br>comp1=%{x}<br>comp2=%{y}<br>comp3=%{z}<extra></extra>",
         "legendgroup": "254",
         "marker": {
          "color": "rgb(93, 105, 177)",
          "line": {
           "color": "black",
           "width": 0.1
          },
          "opacity": 0.8,
          "size": 4,
          "symbol": "circle"
         },
         "mode": "markers",
         "name": "254",
         "scene": "scene",
         "showlegend": true,
         "type": "scatter3d",
         "x": [
          1.2464417346178496
         ],
         "y": [
          -0.18997303830246856
         ],
         "z": [
          -0.03603587465889539
         ]
        },
        {
         "hovertemplate": "cluster=255<br>comp1=%{x}<br>comp2=%{y}<br>comp3=%{z}<extra></extra>",
         "legendgroup": "255",
         "marker": {
          "color": "rgb(82, 188, 163)",
          "line": {
           "color": "black",
           "width": 0.1
          },
          "opacity": 0.8,
          "size": 4,
          "symbol": "circle"
         },
         "mode": "markers",
         "name": "255",
         "scene": "scene",
         "showlegend": true,
         "type": "scatter3d",
         "x": [
          1.237636394040634
         ],
         "y": [
          -0.19236123471339253
         ],
         "z": [
          -0.03610078569621237
         ]
        },
        {
         "hovertemplate": "cluster=256<br>comp1=%{x}<br>comp2=%{y}<br>comp3=%{z}<extra></extra>",
         "legendgroup": "256",
         "marker": {
          "color": "rgb(153, 201, 69)",
          "line": {
           "color": "black",
           "width": 0.1
          },
          "opacity": 0.8,
          "size": 4,
          "symbol": "circle"
         },
         "mode": "markers",
         "name": "256",
         "scene": "scene",
         "showlegend": true,
         "type": "scatter3d",
         "x": [
          1.2288406141056771
         ],
         "y": [
          -0.19474261892036954
         ],
         "z": [
          -0.036163280081598165
         ]
        },
        {
         "hovertemplate": "cluster=257<br>comp1=%{x}<br>comp2=%{y}<br>comp3=%{z}<extra></extra>",
         "legendgroup": "257",
         "marker": {
          "color": "rgb(204, 97, 176)",
          "line": {
           "color": "black",
           "width": 0.1
          },
          "opacity": 0.8,
          "size": 4,
          "symbol": "circle"
         },
         "mode": "markers",
         "name": "257",
         "scene": "scene",
         "showlegend": true,
         "type": "scatter3d",
         "x": [
          1.2200544140571048
         ],
         "y": [
          -0.19711716677321525
         ],
         "z": [
          -0.03622336792675343
         ]
        },
        {
         "hovertemplate": "cluster=258<br>comp1=%{x}<br>comp2=%{y}<br>comp3=%{z}<extra></extra>",
         "legendgroup": "258",
         "marker": {
          "color": "rgb(36, 121, 108)",
          "line": {
           "color": "black",
           "width": 0.1
          },
          "opacity": 0.8,
          "size": 4,
          "symbol": "circle"
         },
         "mode": "markers",
         "name": "258",
         "scene": "scene",
         "showlegend": true,
         "type": "scatter3d",
         "x": [
          1.211277813134245
         ],
         "y": [
          -0.19948485412783387
         ],
         "z": [
          -0.03628105934123473
         ]
        },
        {
         "hovertemplate": "cluster=259<br>comp1=%{x}<br>comp2=%{y}<br>comp3=%{z}<extra></extra>",
         "legendgroup": "259",
         "marker": {
          "color": "rgb(218, 165, 27)",
          "line": {
           "color": "black",
           "width": 0.1
          },
          "opacity": 0.8,
          "size": 4,
          "symbol": "circle"
         },
         "mode": "markers",
         "name": "259",
         "scene": "scene",
         "showlegend": true,
         "type": "scatter3d",
         "x": [
          1.2025108305715932
         ],
         "y": [
          -0.2018456568462562
         ],
         "z": [
          -0.03633636443244267
         ]
        },
        {
         "hovertemplate": "cluster=260<br>comp1=%{x}<br>comp2=%{y}<br>comp3=%{z}<extra></extra>",
         "legendgroup": "260",
         "marker": {
          "color": "rgb(47, 138, 196)",
          "line": {
           "color": "black",
           "width": 0.1
          },
          "opacity": 0.8,
          "size": 4,
          "symbol": "circle"
         },
         "mode": "markers",
         "name": "260",
         "scene": "scene",
         "showlegend": true,
         "type": "scatter3d",
         "x": [
          1.1937534855988259
         ],
         "y": [
          -0.20419955079665686
         ],
         "z": [
          -0.036389293305586136
         ]
        },
        {
         "hovertemplate": "cluster=261<br>comp1=%{x}<br>comp2=%{y}<br>comp3=%{z}<extra></extra>",
         "legendgroup": "261",
         "marker": {
          "color": "rgb(118, 78, 159)",
          "line": {
           "color": "black",
           "width": 0.1
          },
          "opacity": 0.8,
          "size": 4,
          "symbol": "circle"
         },
         "mode": "markers",
         "name": "261",
         "scene": "scene",
         "showlegend": true,
         "type": "scatter3d",
         "x": [
          1.1850057974407482
         ],
         "y": [
          -0.20654651185335945
         ],
         "z": [
          -0.03643985606373181
         ]
        },
        {
         "hovertemplate": "cluster=262<br>comp1=%{x}<br>comp2=%{y}<br>comp3=%{z}<extra></extra>",
         "legendgroup": "262",
         "marker": {
          "color": "rgb(237, 100, 90)",
          "line": {
           "color": "black",
           "width": 0.1
          },
          "opacity": 0.8,
          "size": 4,
          "symbol": "circle"
         },
         "mode": "markers",
         "name": "262",
         "scene": "scene",
         "showlegend": true,
         "type": "scatter3d",
         "x": [
          1.1762677853172958
         ],
         "y": [
          -0.20888651589689378
         ],
         "z": [
          -0.036488062807734735
         ]
        },
        {
         "hovertemplate": "cluster=263<br>comp1=%{x}<br>comp2=%{y}<br>comp3=%{z}<extra></extra>",
         "legendgroup": "263",
         "marker": {
          "color": "rgb(165, 170, 153)",
          "line": {
           "color": "black",
           "width": 0.1
          },
          "opacity": 0.8,
          "size": 4,
          "symbol": "circle"
         },
         "mode": "markers",
         "name": "263",
         "scene": "scene",
         "showlegend": true,
         "type": "scatter3d",
         "x": [
          1.167539468443528
         ],
         "y": [
          -0.2112195388139904
         ],
         "z": [
          -0.03653392363625203
         ]
        },
        {
         "hovertemplate": "cluster=264<br>comp1=%{x}<br>comp2=%{y}<br>comp3=%{z}<extra></extra>",
         "legendgroup": "264",
         "marker": {
          "color": "rgb(229, 134, 6)",
          "line": {
           "color": "black",
           "width": 0.1
          },
          "opacity": 0.8,
          "size": 4,
          "symbol": "circle"
         },
         "mode": "markers",
         "name": "264",
         "scene": "scene",
         "showlegend": true,
         "type": "scatter3d",
         "x": [
          1.1588208660295847
         ],
         "y": [
          -0.21354555649761506
         ],
         "z": [
          -0.03657744864574476
         ]
        },
        {
         "hovertemplate": "cluster=265<br>comp1=%{x}<br>comp2=%{y}<br>comp3=%{z}<extra></extra>",
         "legendgroup": "265",
         "marker": {
          "color": "rgb(93, 105, 177)",
          "line": {
           "color": "black",
           "width": 0.1
          },
          "opacity": 0.8,
          "size": 4,
          "symbol": "circle"
         },
         "mode": "markers",
         "name": "265",
         "scene": "scene",
         "showlegend": true,
         "type": "scatter3d",
         "x": [
          1.150111997280687
         ],
         "y": [
          -0.21586454484699333
         ],
         "z": [
          -0.036618647930452365
         ]
        },
        {
         "hovertemplate": "cluster=266<br>comp1=%{x}<br>comp2=%{y}<br>comp3=%{z}<extra></extra>",
         "legendgroup": "266",
         "marker": {
          "color": "rgb(82, 188, 163)",
          "line": {
           "color": "black",
           "width": 0.1
          },
          "opacity": 0.8,
          "size": 4,
          "symbol": "circle"
         },
         "mode": "markers",
         "name": "266",
         "scene": "scene",
         "showlegend": true,
         "type": "scatter3d",
         "x": [
          1.1414128813971205
         ],
         "y": [
          -0.21817647976762816
         ],
         "z": [
          -0.03665753158238248
         ]
        },
        {
         "hovertemplate": "cluster=267<br>comp1=%{x}<br>comp2=%{y}<br>comp3=%{z}<extra></extra>",
         "legendgroup": "267",
         "marker": {
          "color": "rgb(153, 201, 69)",
          "line": {
           "color": "black",
           "width": 0.1
          },
          "opacity": 0.8,
          "size": 4,
          "symbol": "circle"
         },
         "mode": "markers",
         "name": "267",
         "scene": "scene",
         "showlegend": true,
         "type": "scatter3d",
         "x": [
          1.1327235375742275
         ],
         "y": [
          -0.22048133717133114
         ],
         "z": [
          -0.036694109691288765
         ]
        },
        {
         "hovertemplate": "cluster=268<br>comp1=%{x}<br>comp2=%{y}<br>comp3=%{z}<extra></extra>",
         "legendgroup": "268",
         "marker": {
          "color": "rgb(204, 97, 176)",
          "line": {
           "color": "black",
           "width": 0.1
          },
          "opacity": 0.8,
          "size": 4,
          "symbol": "circle"
         },
         "mode": "markers",
         "name": "268",
         "scene": "scene",
         "showlegend": true,
         "type": "scatter3d",
         "x": [
          1.124043985002357
         ],
         "y": [
          -0.222779092976233
         ],
         "z": [
          -0.03672839234470549
         ]
        },
        {
         "hovertemplate": "cluster=269<br>comp1=%{x}<br>comp2=%{y}<br>comp3=%{z}<extra></extra>",
         "legendgroup": "269",
         "marker": {
          "color": "rgb(36, 121, 108)",
          "line": {
           "color": "black",
           "width": 0.1
          },
          "opacity": 0.8,
          "size": 4,
          "symbol": "circle"
         },
         "mode": "markers",
         "name": "269",
         "scene": "scene",
         "showlegend": true,
         "type": "scatter3d",
         "x": [
          1.1153742428668867
         ],
         "y": [
          -0.2250697231068173
         ],
         "z": [
          -0.03676038962788813
         ]
        },
        {
         "hovertemplate": "cluster=270<br>comp1=%{x}<br>comp2=%{y}<br>comp3=%{z}<extra></extra>",
         "legendgroup": "270",
         "marker": {
          "color": "rgb(218, 165, 27)",
          "line": {
           "color": "black",
           "width": 0.1
          },
          "opacity": 0.8,
          "size": 4,
          "symbol": "circle"
         },
         "mode": "markers",
         "name": "270",
         "scene": "scene",
         "showlegend": true,
         "type": "scatter3d",
         "x": [
          1.1067143303481664
         ],
         "y": [
          -0.22735320349394172
         ],
         "z": [
          -0.03679011162384421
         ]
        },
        {
         "hovertemplate": "cluster=271<br>comp1=%{x}<br>comp2=%{y}<br>comp3=%{z}<extra></extra>",
         "legendgroup": "271",
         "marker": {
          "color": "rgb(47, 138, 196)",
          "line": {
           "color": "black",
           "width": 0.1
          },
          "opacity": 0.8,
          "size": 4,
          "symbol": "circle"
         },
         "mode": "markers",
         "name": "271",
         "scene": "scene",
         "showlegend": true,
         "type": "scatter3d",
         "x": [
          1.098064266621554
         ],
         "y": [
          -0.2296295100748598
         ],
         "z": [
          -0.036817568413273244
         ]
        },
        {
         "hovertemplate": "cluster=272<br>comp1=%{x}<br>comp2=%{y}<br>comp3=%{z}<extra></extra>",
         "legendgroup": "272",
         "marker": {
          "color": "rgb(118, 78, 159)",
          "line": {
           "color": "black",
           "width": 0.1
          },
          "opacity": 0.8,
          "size": 4,
          "symbol": "circle"
         },
         "mode": "markers",
         "name": "272",
         "scene": "scene",
         "showlegend": true,
         "type": "scatter3d",
         "x": [
          1.0894240708573664
         ],
         "y": [
          -0.23189861879324525
         ],
         "z": [
          -0.036842770074582254
         ]
        },
        {
         "hovertemplate": "cluster=273<br>comp1=%{x}<br>comp2=%{y}<br>comp3=%{z}<extra></extra>",
         "legendgroup": "273",
         "marker": {
          "color": "rgb(237, 100, 90)",
          "line": {
           "color": "black",
           "width": 0.1
          },
          "opacity": 0.8,
          "size": 4,
          "symbol": "circle"
         },
         "mode": "markers",
         "name": "273",
         "scene": "scene",
         "showlegend": true,
         "type": "scatter3d",
         "x": [
          1.080793762220832
         ],
         "y": [
          -0.2341605055992035
         ],
         "z": [
          -0.03686572668393307
         ]
        },
        {
         "hovertemplate": "cluster=274<br>comp1=%{x}<br>comp2=%{y}<br>comp3=%{z}<extra></extra>",
         "legendgroup": "274",
         "marker": {
          "color": "rgb(165, 170, 153)",
          "line": {
           "color": "black",
           "width": 0.1
          },
          "opacity": 0.8,
          "size": 4,
          "symbol": "circle"
         },
         "mode": "markers",
         "name": "274",
         "scene": "scene",
         "showlegend": true,
         "type": "scatter3d",
         "x": [
          1.072173359872144
         ],
         "y": [
          -0.23641514644931816
         ],
         "z": [
          -0.03688644831511811
         ]
        },
        {
         "hovertemplate": "cluster=275<br>comp1=%{x}<br>comp2=%{y}<br>comp3=%{z}<extra></extra>",
         "legendgroup": "275",
         "marker": {
          "color": "rgb(229, 134, 6)",
          "line": {
           "color": "black",
           "width": 0.1
          },
          "opacity": 0.8,
          "size": 4,
          "symbol": "circle"
         },
         "mode": "markers",
         "name": "275",
         "scene": "scene",
         "showlegend": true,
         "type": "scatter3d",
         "x": [
          1.0635628829663974
         ],
         "y": [
          -0.23866251730665294
         ],
         "z": [
          -0.03690494503963299
         ]
        },
        {
         "hovertemplate": "cluster=276<br>comp1=%{x}<br>comp2=%{y}<br>comp3=%{z}<extra></extra>",
         "legendgroup": "276",
         "marker": {
          "color": "rgb(93, 105, 177)",
          "line": {
           "color": "black",
           "width": 0.1
          },
          "opacity": 0.8,
          "size": 4,
          "symbol": "circle"
         },
         "mode": "markers",
         "name": "276",
         "scene": "scene",
         "showlegend": true,
         "type": "scatter3d",
         "x": [
          1.0549623506535735
         ],
         "y": [
          -0.240902594140786
         ],
         "z": [
          -0.03692122692664976
         ]
        },
        {
         "hovertemplate": "cluster=277<br>comp1=%{x}<br>comp2=%{y}<br>comp3=%{z}<extra></extra>",
         "legendgroup": "277",
         "marker": {
          "color": "rgb(82, 188, 163)",
          "line": {
           "color": "black",
           "width": 0.1
          },
          "opacity": 0.8,
          "size": 4,
          "symbol": "circle"
         },
         "mode": "markers",
         "name": "277",
         "scene": "scene",
         "showlegend": true,
         "type": "scatter3d",
         "x": [
          1.046371782078541
         ],
         "y": [
          -0.24313535292783067
         ],
         "z": [
          -0.03693530404299114
         ]
        },
        {
         "hovertemplate": "cluster=278<br>comp1=%{x}<br>comp2=%{y}<br>comp3=%{z}<extra></extra>",
         "legendgroup": "278",
         "marker": {
          "color": "rgb(153, 201, 69)",
          "line": {
           "color": "black",
           "width": 0.1
          },
          "opacity": 0.8,
          "size": 4,
          "symbol": "circle"
         },
         "mode": "markers",
         "name": "278",
         "scene": "scene",
         "showlegend": true,
         "type": "scatter3d",
         "x": [
          1.0377911963810271
         ],
         "y": [
          -0.24536076965045076
         ],
         "z": [
          -0.03694718645313968
         ]
        },
        {
         "hovertemplate": "cluster=279<br>comp1=%{x}<br>comp2=%{y}<br>comp3=%{z}<extra></extra>",
         "legendgroup": "279",
         "marker": {
          "color": "rgb(204, 97, 176)",
          "line": {
           "color": "black",
           "width": 0.1
          },
          "opacity": 0.8,
          "size": 4,
          "symbol": "circle"
         },
         "mode": "markers",
         "name": "279",
         "scene": "scene",
         "showlegend": true,
         "type": "scatter3d",
         "x": [
          1.0292206126956118
         ],
         "y": [
          -0.24757882029789813
         ],
         "z": [
          -0.03695688421920023
         ]
        },
        {
         "hovertemplate": "cluster=280<br>comp1=%{x}<br>comp2=%{y}<br>comp3=%{z}<extra></extra>",
         "legendgroup": "280",
         "marker": {
          "color": "rgb(36, 121, 108)",
          "line": {
           "color": "black",
           "width": 0.1
          },
          "opacity": 0.8,
          "size": 4,
          "symbol": "circle"
         },
         "mode": "markers",
         "name": "280",
         "scene": "scene",
         "showlegend": true,
         "type": "scatter3d",
         "x": [
          1.020660050151682
         ],
         "y": [
          -0.24978948086602631
         ],
         "z": [
          -0.0369644074009359
         ]
        },
        {
         "hovertemplate": "cluster=281<br>comp1=%{x}<br>comp2=%{y}<br>comp3=%{z}<extra></extra>",
         "legendgroup": "281",
         "marker": {
          "color": "rgb(218, 165, 27)",
          "line": {
           "color": "black",
           "width": 0.1
          },
          "opacity": 0.8,
          "size": 4,
          "symbol": "circle"
         },
         "mode": "markers",
         "name": "281",
         "scene": "scene",
         "showlegend": true,
         "type": "scatter3d",
         "x": [
          1.0121095278734715
         ],
         "y": [
          -0.25199272735730743
         ],
         "z": [
          -0.03696976605570082
         ]
        },
        {
         "hovertemplate": "cluster=282<br>comp1=%{x}<br>comp2=%{y}<br>comp3=%{z}<extra></extra>",
         "legendgroup": "282",
         "marker": {
          "color": "rgb(47, 138, 196)",
          "line": {
           "color": "black",
           "width": 0.1
          },
          "opacity": 0.8,
          "size": 4,
          "symbol": "circle"
         },
         "mode": "markers",
         "name": "282",
         "scene": "scene",
         "showlegend": true,
         "type": "scatter3d",
         "x": [
          1.0035690649799809
         ],
         "y": [
          -0.2541885357808728
         ],
         "z": [
          -0.03697297023847613
         ]
        },
        {
         "hovertemplate": "cluster=283<br>comp1=%{x}<br>comp2=%{y}<br>comp3=%{z}<extra></extra>",
         "legendgroup": "283",
         "marker": {
          "color": "rgb(118, 78, 159)",
          "line": {
           "color": "black",
           "width": 0.1
          },
          "opacity": 0.8,
          "size": 4,
          "symbol": "circle"
         },
         "mode": "markers",
         "name": "283",
         "scene": "scene",
         "showlegend": true,
         "type": "scatter3d",
         "x": [
          0.9950386805850001
         ],
         "y": [
          -0.25637688215252397
         ],
         "z": [
          -0.0369740300018376
         ]
        },
        {
         "hovertemplate": "cluster=284<br>comp1=%{x}<br>comp2=%{y}<br>comp3=%{z}<extra></extra>",
         "legendgroup": "284",
         "marker": {
          "color": "rgb(237, 100, 90)",
          "line": {
           "color": "black",
           "width": 0.1
          },
          "opacity": 0.8,
          "size": 4,
          "symbol": "circle"
         },
         "mode": "markers",
         "name": "284",
         "scene": "scene",
         "showlegend": true,
         "type": "scatter3d",
         "x": [
          0.9865183937970793
         ],
         "y": [
          -0.25855774249475194
         ],
         "z": [
          -0.03697295539595688
         ]
        },
        {
         "hovertemplate": "cluster=285<br>comp1=%{x}<br>comp2=%{y}<br>comp3=%{z}<extra></extra>",
         "legendgroup": "285",
         "marker": {
          "color": "rgb(165, 170, 153)",
          "line": {
           "color": "black",
           "width": 0.1
          },
          "opacity": 0.8,
          "size": 4,
          "symbol": "circle"
         },
         "mode": "markers",
         "name": "285",
         "scene": "scene",
         "showlegend": true,
         "type": "scatter3d",
         "x": [
          0.9780082237195203
         ],
         "y": [
          -0.2607310928367691
         ],
         "z": [
          -0.036969756468579064
         ]
        },
        {
         "hovertemplate": "cluster=286<br>comp1=%{x}<br>comp2=%{y}<br>comp3=%{z}<extra></extra>",
         "legendgroup": "286",
         "marker": {
          "color": "rgb(229, 134, 6)",
          "line": {
           "color": "black",
           "width": 0.1
          },
          "opacity": 0.8,
          "size": 4,
          "symbol": "circle"
         },
         "mode": "markers",
         "name": "286",
         "scene": "scene",
         "showlegend": true,
         "type": "scatter3d",
         "x": [
          0.9695081894503529
         ],
         "y": [
          -0.26289690921453424
         ],
         "z": [
          -0.03696444326500872
         ]
        },
        {
         "hovertemplate": "cluster=287<br>comp1=%{x}<br>comp2=%{y}<br>comp3=%{z}<extra></extra>",
         "legendgroup": "287",
         "marker": {
          "color": "rgb(93, 105, 177)",
          "line": {
           "color": "black",
           "width": 0.1
          },
          "opacity": 0.8,
          "size": 4,
          "symbol": "circle"
         },
         "mode": "markers",
         "name": "287",
         "scene": "scene",
         "showlegend": true,
         "type": "scatter3d",
         "x": [
          0.9610183100823122
         ],
         "y": [
          -0.2650551676707637
         ],
         "z": [
          -0.036957025828134114
         ]
        },
        {
         "hovertemplate": "cluster=288<br>comp1=%{x}<br>comp2=%{y}<br>comp3=%{z}<extra></extra>",
         "legendgroup": "288",
         "marker": {
          "color": "rgb(82, 188, 163)",
          "line": {
           "color": "black",
           "width": 0.1
          },
          "opacity": 0.8,
          "size": 4,
          "symbol": "circle"
         },
         "mode": "markers",
         "name": "288",
         "scene": "scene",
         "showlegend": true,
         "type": "scatter3d",
         "x": [
          0.9525386047028382
         ],
         "y": [
          -0.2672058442549628
         ],
         "z": [
          -0.03694751419837149
         ]
        },
        {
         "hovertemplate": "cluster=289<br>comp1=%{x}<br>comp2=%{y}<br>comp3=%{z}<extra></extra>",
         "legendgroup": "289",
         "marker": {
          "color": "rgb(153, 201, 69)",
          "line": {
           "color": "black",
           "width": 0.1
          },
          "opacity": 0.8,
          "size": 4,
          "symbol": "circle"
         },
         "mode": "markers",
         "name": "289",
         "scene": "scene",
         "showlegend": true,
         "type": "scatter3d",
         "x": [
          0.9440690923940362
         ],
         "y": [
          -0.26934891502344804
         ],
         "z": [
          -0.03693591841369784
         ]
        },
        {
         "hovertemplate": "cluster=290<br>comp1=%{x}<br>comp2=%{y}<br>comp3=%{z}<extra></extra>",
         "legendgroup": "290",
         "marker": {
          "color": "rgb(204, 97, 176)",
          "line": {
           "color": "black",
           "width": 0.1
          },
          "opacity": 0.8,
          "size": 4,
          "symbol": "circle"
         },
         "mode": "markers",
         "name": "290",
         "scene": "scene",
         "showlegend": true,
         "type": "scatter3d",
         "x": [
          0.9356097922327037
         ],
         "y": [
          -0.27148435603937093
         ],
         "z": [
          -0.03692224850958459
         ]
        },
        {
         "hovertemplate": "cluster=291<br>comp1=%{x}<br>comp2=%{y}<br>comp3=%{z}<extra></extra>",
         "legendgroup": "291",
         "marker": {
          "color": "rgb(36, 121, 108)",
          "line": {
           "color": "black",
           "width": 0.1
          },
          "opacity": 0.8,
          "size": 4,
          "symbol": "circle"
         },
         "mode": "markers",
         "name": "291",
         "scene": "scene",
         "showlegend": true,
         "type": "scatter3d",
         "x": [
          0.927160723290248
         ],
         "y": [
          -0.27361214337273343
         ],
         "z": [
          -0.036906514519068304
         ]
        },
        {
         "hovertemplate": "cluster=292<br>comp1=%{x}<br>comp2=%{y}<br>comp3=%{z}<extra></extra>",
         "legendgroup": "292",
         "marker": {
          "color": "rgb(218, 165, 27)",
          "line": {
           "color": "black",
           "width": 0.1
          },
          "opacity": 0.8,
          "size": 4,
          "symbol": "circle"
         },
         "mode": "markers",
         "name": "292",
         "scene": "scene",
         "showlegend": true,
         "type": "scatter3d",
         "x": [
          0.9187219046327234
         ],
         "y": [
          -0.27573225310041977
         ],
         "z": [
          -0.036888726472671926
         ]
        },
        {
         "hovertemplate": "cluster=293<br>comp1=%{x}<br>comp2=%{y}<br>comp3=%{z}<extra></extra>",
         "legendgroup": "293",
         "marker": {
          "color": "rgb(47, 138, 196)",
          "line": {
           "color": "black",
           "width": 0.1
          },
          "opacity": 0.8,
          "size": 4,
          "symbol": "circle"
         },
         "mode": "markers",
         "name": "293",
         "scene": "scene",
         "showlegend": true,
         "type": "scatter3d",
         "x": [
          0.9102933553208189
         ],
         "y": [
          -0.27784466130621965
         ],
         "z": [
          -0.03686889439839012
         ]
        },
        {
         "hovertemplate": "cluster=294<br>comp1=%{x}<br>comp2=%{y}<br>comp3=%{z}<extra></extra>",
         "legendgroup": "294",
         "marker": {
          "color": "rgb(118, 78, 159)",
          "line": {
           "color": "black",
           "width": 0.1
          },
          "opacity": 0.8,
          "size": 4,
          "symbol": "circle"
         },
         "mode": "markers",
         "name": "294",
         "scene": "scene",
         "showlegend": true,
         "type": "scatter3d",
         "x": [
          0.901875094409777
         ],
         "y": [
          -0.27994934408084604
         ],
         "z": [
          -0.03684702832175929
         ]
        },
        {
         "hovertemplate": "cluster=295<br>comp1=%{x}<br>comp2=%{y}<br>comp3=%{z}<extra></extra>",
         "legendgroup": "295",
         "marker": {
          "color": "rgb(237, 100, 90)",
          "line": {
           "color": "black",
           "width": 0.1
          },
          "opacity": 0.8,
          "size": 4,
          "symbol": "circle"
         },
         "mode": "markers",
         "name": "295",
         "scene": "scene",
         "showlegend": true,
         "type": "scatter3d",
         "x": [
          0.8934671409494556
         ],
         "y": [
          -0.2820462775219541
         ],
         "z": [
          -0.036823138265757636
         ]
        },
        {
         "hovertemplate": "cluster=296<br>comp1=%{x}<br>comp2=%{y}<br>comp3=%{z}<extra></extra>",
         "legendgroup": "296",
         "marker": {
          "color": "rgb(165, 170, 153)",
          "line": {
           "color": "black",
           "width": 0.1
          },
          "opacity": 0.8,
          "size": 4,
          "symbol": "circle"
         },
         "mode": "markers",
         "name": "296",
         "scene": "scene",
         "showlegend": true,
         "type": "scatter3d",
         "x": [
          0.8850695139842543
         ],
         "y": [
          -0.28413543773417643
         ],
         "z": [
          -0.036797234250853926
         ]
        },
        {
         "hovertemplate": "cluster=297<br>comp1=%{x}<br>comp2=%{y}<br>comp3=%{z}<extra></extra>",
         "legendgroup": "297",
         "marker": {
          "color": "rgb(229, 134, 6)",
          "line": {
           "color": "black",
           "width": 0.1
          },
          "opacity": 0.8,
          "size": 4,
          "symbol": "circle"
         },
         "mode": "markers",
         "name": "297",
         "scene": "scene",
         "showlegend": true,
         "type": "scatter3d",
         "x": [
          0.876682232553139
         ],
         "y": [
          -0.28621680082913564
         ],
         "z": [
          -0.036769326294958445
         ]
        },
        {
         "hovertemplate": "cluster=298<br>comp1=%{x}<br>comp2=%{y}<br>comp3=%{z}<extra></extra>",
         "legendgroup": "298",
         "marker": {
          "color": "rgb(93, 105, 177)",
          "line": {
           "color": "black",
           "width": 0.1
          },
          "opacity": 0.8,
          "size": 4,
          "symbol": "circle"
         },
         "mode": "markers",
         "name": "298",
         "scene": "scene",
         "showlegend": true,
         "type": "scatter3d",
         "x": [
          0.8683053156895862
         ],
         "y": [
          -0.28829034292547556
         ],
         "z": [
          -0.036739424413444646
         ]
        },
        {
         "hovertemplate": "cluster=299<br>comp1=%{x}<br>comp2=%{y}<br>comp3=%{z}<extra></extra>",
         "legendgroup": "299",
         "marker": {
          "color": "rgb(82, 188, 163)",
          "line": {
           "color": "black",
           "width": 0.1
          },
          "opacity": 0.8,
          "size": 4,
          "symbol": "circle"
         },
         "mode": "markers",
         "name": "299",
         "scene": "scene",
         "showlegend": true,
         "type": "scatter3d",
         "x": [
          0.859938782421607
         ],
         "y": [
          -0.2903560401488745
         ],
         "z": [
          -0.0367075386191097
         ]
        },
        {
         "hovertemplate": "cluster=300<br>comp1=%{x}<br>comp2=%{y}<br>comp3=%{z}<extra></extra>",
         "legendgroup": "300",
         "marker": {
          "color": "rgb(153, 201, 69)",
          "line": {
           "color": "black",
           "width": 0.1
          },
          "opacity": 0.8,
          "size": 4,
          "symbol": "circle"
         },
         "mode": "markers",
         "name": "300",
         "scene": "scene",
         "showlegend": true,
         "type": "scatter3d",
         "x": [
          0.8515826517716927
         ],
         "y": [
          -0.29241386863207774
         ],
         "z": [
          -0.03667367892219709
         ]
        },
        {
         "hovertemplate": "cluster=301<br>comp1=%{x}<br>comp2=%{y}<br>comp3=%{z}<extra></extra>",
         "legendgroup": "301",
         "marker": {
          "color": "rgb(204, 97, 176)",
          "line": {
           "color": "black",
           "width": 0.1
          },
          "opacity": 0.8,
          "size": 4,
          "symbol": "circle"
         },
         "mode": "markers",
         "name": "301",
         "scene": "scene",
         "showlegend": true,
         "type": "scatter3d",
         "x": [
          0.8432369427568196
         ],
         "y": [
          -0.29446380451491183
         ],
         "z": [
          -0.03663785533036347
         ]
        },
        {
         "hovertemplate": "cluster=302<br>comp1=%{x}<br>comp2=%{y}<br>comp3=%{z}<extra></extra>",
         "legendgroup": "302",
         "marker": {
          "color": "rgb(36, 121, 108)",
          "line": {
           "color": "black",
           "width": 0.1
          },
          "opacity": 0.8,
          "size": 4,
          "symbol": "circle"
         },
         "mode": "markers",
         "name": "302",
         "scene": "scene",
         "showlegend": true,
         "type": "scatter3d",
         "x": [
          0.8349016743884343
         ],
         "y": [
          -0.29650582394431446
         ],
         "z": [
          -0.03660007784867084
         ]
        },
        {
         "hovertemplate": "cluster=303<br>comp1=%{x}<br>comp2=%{y}<br>comp3=%{z}<extra></extra>",
         "legendgroup": "303",
         "marker": {
          "color": "rgb(218, 165, 27)",
          "line": {
           "color": "black",
           "width": 0.1
          },
          "opacity": 0.8,
          "size": 4,
          "symbol": "circle"
         },
         "mode": "markers",
         "name": "303",
         "scene": "scene",
         "showlegend": true,
         "type": "scatter3d",
         "x": [
          0.8265768656724347
         ],
         "y": [
          -0.2985399030743526
         ],
         "z": [
          -0.036560356479574556
         ]
        },
        {
         "hovertemplate": "cluster=304<br>comp1=%{x}<br>comp2=%{y}<br>comp3=%{z}<extra></extra>",
         "legendgroup": "304",
         "marker": {
          "color": "rgb(47, 138, 196)",
          "line": {
           "color": "black",
           "width": 0.1
          },
          "opacity": 0.8,
          "size": 4,
          "symbol": "circle"
         },
         "mode": "markers",
         "name": "304",
         "scene": "scene",
         "showlegend": true,
         "type": "scatter3d",
         "x": [
          0.8182625356091358
         ],
         "y": [
          -0.3005660180662516
         ],
         "z": [
          -0.036518701222932465
         ]
        },
        {
         "hovertemplate": "cluster=305<br>comp1=%{x}<br>comp2=%{y}<br>comp3=%{z}<extra></extra>",
         "legendgroup": "305",
         "marker": {
          "color": "rgb(118, 78, 159)",
          "line": {
           "color": "black",
           "width": 0.1
          },
          "opacity": 0.8,
          "size": 4,
          "symbol": "circle"
         },
         "mode": "markers",
         "name": "305",
         "scene": "scene",
         "showlegend": true,
         "type": "scatter3d",
         "x": [
          0.8099587031932746
         ],
         "y": [
          -0.30258414508840686
         ],
         "z": [
          -0.036475122075979326
         ]
        },
        {
         "hovertemplate": "cluster=306<br>comp1=%{x}<br>comp2=%{y}<br>comp3=%{z}<extra></extra>",
         "legendgroup": "306",
         "marker": {
          "color": "rgb(237, 100, 90)",
          "line": {
           "color": "black",
           "width": 0.1
          },
          "opacity": 0.8,
          "size": 4,
          "symbol": "circle"
         },
         "mode": "markers",
         "name": "306",
         "scene": "scene",
         "showlegend": true,
         "type": "scatter3d",
         "x": [
          0.8016653874139917
         ],
         "y": [
          -0.30459426031641934
         ],
         "z": [
          -0.036429629033308694
         ]
        },
        {
         "hovertemplate": "cluster=307<br>comp1=%{x}<br>comp2=%{y}<br>comp3=%{z}<extra></extra>",
         "legendgroup": "307",
         "marker": {
          "color": "rgb(165, 170, 153)",
          "line": {
           "color": "black",
           "width": 0.1
          },
          "opacity": 0.8,
          "size": 4,
          "symbol": "circle"
         },
         "mode": "markers",
         "name": "307",
         "scene": "scene",
         "showlegend": true,
         "type": "scatter3d",
         "x": [
          0.7933826072548074
         ],
         "y": [
          -0.30659633993311214
         ],
         "z": [
          -0.03638223208687623
         ]
        },
        {
         "hovertemplate": "cluster=308<br>comp1=%{x}<br>comp2=%{y}<br>comp3=%{z}<extra></extra>",
         "legendgroup": "308",
         "marker": {
          "color": "rgb(229, 134, 6)",
          "line": {
           "color": "black",
           "width": 0.1
          },
          "opacity": 0.8,
          "size": 4,
          "symbol": "circle"
         },
         "mode": "markers",
         "name": "308",
         "scene": "scene",
         "showlegend": true,
         "type": "scatter3d",
         "x": [
          0.7851103816935938
         ],
         "y": [
          -0.308590360128551
         ],
         "z": [
          -0.03633294122600235
         ]
        },
        {
         "hovertemplate": "cluster=309<br>comp1=%{x}<br>comp2=%{y}<br>comp3=%{z}<extra></extra>",
         "legendgroup": "309",
         "marker": {
          "color": "rgb(93, 105, 177)",
          "line": {
           "color": "black",
           "width": 0.1
          },
          "opacity": 0.8,
          "size": 4,
          "symbol": "circle"
         },
         "mode": "markers",
         "name": "309",
         "scene": "scene",
         "showlegend": true,
         "type": "scatter3d",
         "x": [
          0.7768487297026054
         ],
         "y": [
          -0.31057629710007284
         ],
         "z": [
          -0.036281766437308946
         ]
        },
        {
         "hovertemplate": "cluster=310<br>comp1=%{x}<br>comp2=%{y}<br>comp3=%{z}<extra></extra>",
         "legendgroup": "310",
         "marker": {
          "color": "rgb(82, 188, 163)",
          "line": {
           "color": "black",
           "width": 0.1
          },
          "opacity": 0.8,
          "size": 4,
          "symbol": "circle"
         },
         "mode": "markers",
         "name": "310",
         "scene": "scene",
         "showlegend": true,
         "type": "scatter3d",
         "x": [
          0.7685976702483835
         ],
         "y": [
          -0.3125541270523026
         ],
         "z": [
          -0.03622871770479913
         ]
        },
        {
         "hovertemplate": "cluster=311<br>comp1=%{x}<br>comp2=%{y}<br>comp3=%{z}<extra></extra>",
         "legendgroup": "311",
         "marker": {
          "color": "rgb(153, 201, 69)",
          "line": {
           "color": "black",
           "width": 0.1
          },
          "opacity": 0.8,
          "size": 4,
          "symbol": "circle"
         },
         "mode": "markers",
         "name": "311",
         "scene": "scene",
         "showlegend": true,
         "type": "scatter3d",
         "x": [
          0.7603572222918261
         ],
         "y": [
          -0.3145238261971869
         ],
         "z": [
          -0.03617380500974591
         ]
        },
        {
         "hovertemplate": "cluster=312<br>comp1=%{x}<br>comp2=%{y}<br>comp3=%{z}<extra></extra>",
         "legendgroup": "312",
         "marker": {
          "color": "rgb(204, 97, 176)",
          "line": {
           "color": "black",
           "width": 0.1
          },
          "opacity": 0.8,
          "size": 4,
          "symbol": "circle"
         },
         "mode": "markers",
         "name": "312",
         "scene": "scene",
         "showlegend": true,
         "type": "scatter3d",
         "x": [
          0.7521274047881081
         ],
         "y": [
          -0.3164853707539976
         ],
         "z": [
          -0.03611703833076094
         ]
        },
        {
         "hovertemplate": "cluster=313<br>comp1=%{x}<br>comp2=%{y}<br>comp3=%{z}<extra></extra>",
         "legendgroup": "313",
         "marker": {
          "color": "rgb(36, 121, 108)",
          "line": {
           "color": "black",
           "width": 0.1
          },
          "opacity": 0.8,
          "size": 4,
          "symbol": "circle"
         },
         "mode": "markers",
         "name": "313",
         "scene": "scene",
         "showlegend": true,
         "type": "scatter3d",
         "x": [
          0.7439082366866921
         ],
         "y": [
          -0.318438736949374
         ],
         "z": [
          -0.0360584276437498
         ]
        },
        {
         "hovertemplate": "cluster=314<br>comp1=%{x}<br>comp2=%{y}<br>comp3=%{z}<extra></extra>",
         "legendgroup": "314",
         "marker": {
          "color": "rgb(218, 165, 27)",
          "line": {
           "color": "black",
           "width": 0.1
          },
          "opacity": 0.8,
          "size": 4,
          "symbol": "circle"
         },
         "mode": "markers",
         "name": "314",
         "scene": "scene",
         "showlegend": true,
         "type": "scatter3d",
         "x": [
          0.7356997369313025
         ],
         "y": [
          -0.3203839010173421
         ],
         "z": [
          -0.035997982921904086
         ]
        },
        {
         "hovertemplate": "cluster=315<br>comp1=%{x}<br>comp2=%{y}<br>comp3=%{z}<extra></extra>",
         "legendgroup": "315",
         "marker": {
          "color": "rgb(47, 138, 196)",
          "line": {
           "color": "black",
           "width": 0.1
          },
          "opacity": 0.8,
          "size": 4,
          "symbol": "circle"
         },
         "mode": "markers",
         "name": "315",
         "scene": "scene",
         "showlegend": true,
         "type": "scatter3d",
         "x": [
          0.7275019244599399
         ],
         "y": [
          -0.3223208391993231
         ],
         "z": [
          -0.0359357141356746
         ]
        },
        {
         "hovertemplate": "cluster=316<br>comp1=%{x}<br>comp2=%{y}<br>comp3=%{z}<extra></extra>",
         "legendgroup": "316",
         "marker": {
          "color": "rgb(118, 78, 159)",
          "line": {
           "color": "black",
           "width": 0.1
          },
          "opacity": 0.8,
          "size": 4,
          "symbol": "circle"
         },
         "mode": "markers",
         "name": "316",
         "scene": "scene",
         "showlegend": true,
         "type": "scatter3d",
         "x": [
          0.7193148182048048
         ],
         "y": [
          -0.3242495277441712
         ],
         "z": [
          -0.03587163125281781
         ]
        },
        {
         "hovertemplate": "cluster=317<br>comp1=%{x}<br>comp2=%{y}<br>comp3=%{z}<extra></extra>",
         "legendgroup": "317",
         "marker": {
          "color": "rgb(237, 100, 90)",
          "line": {
           "color": "black",
           "width": 0.1
          },
          "opacity": 0.8,
          "size": 4,
          "symbol": "circle"
         },
         "mode": "markers",
         "name": "317",
         "scene": "scene",
         "showlegend": true,
         "type": "scatter3d",
         "x": [
          0.71113843709233
         ],
         "y": [
          -0.32616994290819573
         ],
         "z": [
          -0.03580574423832438
         ]
        },
        {
         "hovertemplate": "cluster=318<br>comp1=%{x}<br>comp2=%{y}<br>comp3=%{z}<extra></extra>",
         "legendgroup": "318",
         "marker": {
          "color": "rgb(165, 170, 153)",
          "line": {
           "color": "black",
           "width": 0.1
          },
          "opacity": 0.8,
          "size": 4,
          "symbol": "circle"
         },
         "mode": "markers",
         "name": "318",
         "scene": "scene",
         "showlegend": true,
         "type": "scatter3d",
         "x": [
          0.7029728000431449
         ],
         "y": [
          -0.3280820609551691
         ],
         "z": [
          -0.0357380630544528
         ]
        },
        {
         "hovertemplate": "cluster=319<br>comp1=%{x}<br>comp2=%{y}<br>comp3=%{z}<extra></extra>",
         "legendgroup": "319",
         "marker": {
          "color": "rgb(229, 134, 6)",
          "line": {
           "color": "black",
           "width": 0.1
          },
          "opacity": 0.8,
          "size": 4,
          "symbol": "circle"
         },
         "mode": "markers",
         "name": "319",
         "scene": "scene",
         "showlegend": true,
         "type": "scatter3d",
         "x": [
          0.6948179259720682
         ],
         "y": [
          -0.3299858581563734
         ],
         "z": [
          -0.03566859766068026
         ]
        },
        {
         "hovertemplate": "cluster=320<br>comp1=%{x}<br>comp2=%{y}<br>comp3=%{z}<extra></extra>",
         "legendgroup": "320",
         "marker": {
          "color": "rgb(93, 105, 177)",
          "line": {
           "color": "black",
           "width": 0.1
          },
          "opacity": 0.8,
          "size": 4,
          "symbol": "circle"
         },
         "mode": "markers",
         "name": "320",
         "scene": "scene",
         "showlegend": true,
         "type": "scatter3d",
         "x": [
          0.6866738337880953
         ],
         "y": [
          -0.33188131079059907
         ],
         "z": [
          -0.03559735801371375
         ]
        },
        {
         "hovertemplate": "cluster=321<br>comp1=%{x}<br>comp2=%{y}<br>comp3=%{z}<extra></extra>",
         "legendgroup": "321",
         "marker": {
          "color": "rgb(82, 188, 163)",
          "line": {
           "color": "black",
           "width": 0.1
          },
          "opacity": 0.8,
          "size": 4,
          "symbol": "circle"
         },
         "mode": "markers",
         "name": "321",
         "scene": "scene",
         "showlegend": true,
         "type": "scatter3d",
         "x": [
          0.6785405423943439
         ],
         "y": [
          -0.33376839514418766
         ],
         "z": [
          -0.03552435406750352
         ]
        },
        {
         "hovertemplate": "cluster=322<br>comp1=%{x}<br>comp2=%{y}<br>comp3=%{z}<extra></extra>",
         "legendgroup": "322",
         "marker": {
          "color": "rgb(153, 201, 69)",
          "line": {
           "color": "black",
           "width": 0.1
          },
          "opacity": 0.8,
          "size": 4,
          "symbol": "circle"
         },
         "mode": "markers",
         "name": "322",
         "scene": "scene",
         "showlegend": true,
         "type": "scatter3d",
         "x": [
          0.6704180706881058
         ],
         "y": [
          -0.33564708751103683
         ],
         "z": [
          -0.03544959577317453
         ]
        },
        {
         "hovertemplate": "cluster=323<br>comp1=%{x}<br>comp2=%{y}<br>comp3=%{z}<extra></extra>",
         "legendgroup": "323",
         "marker": {
          "color": "rgb(204, 97, 176)",
          "line": {
           "color": "black",
           "width": 0.1
          },
          "opacity": 0.8,
          "size": 4,
          "symbol": "circle"
         },
         "mode": "markers",
         "name": "323",
         "scene": "scene",
         "showlegend": true,
         "type": "scatter3d",
         "x": [
          0.6623064375607552
         ],
         "y": [
          -0.337517364192642
         ],
         "z": [
          -0.035373093079081895
         ]
        },
        {
         "hovertemplate": "cluster=324<br>comp1=%{x}<br>comp2=%{y}<br>comp3=%{z}<extra></extra>",
         "legendgroup": "324",
         "marker": {
          "color": "rgb(36, 121, 108)",
          "line": {
           "color": "black",
           "width": 0.1
          },
          "opacity": 0.8,
          "size": 4,
          "symbol": "circle"
         },
         "mode": "markers",
         "name": "324",
         "scene": "scene",
         "showlegend": true,
         "type": "scatter3d",
         "x": [
          0.6542056618977964
         ],
         "y": [
          -0.3393792014980992
         ],
         "z": [
          -0.035294855930747514
         ]
        },
        {
         "hovertemplate": "cluster=325<br>comp1=%{x}<br>comp2=%{y}<br>comp3=%{z}<extra></extra>",
         "legendgroup": "325",
         "marker": {
          "color": "rgb(218, 165, 27)",
          "line": {
           "color": "black",
           "width": 0.1
          },
          "opacity": 0.8,
          "size": 4,
          "symbol": "circle"
         },
         "mode": "markers",
         "name": "325",
         "scene": "scene",
         "showlegend": true,
         "type": "scatter3d",
         "x": [
          0.646115762578796
         ],
         "y": [
          -0.3412325757441424
         ],
         "z": [
          -0.03521489427089458
         ]
        },
        {
         "hovertemplate": "cluster=326<br>comp1=%{x}<br>comp2=%{y}<br>comp3=%{z}<extra></extra>",
         "legendgroup": "326",
         "marker": {
          "color": "rgb(47, 138, 196)",
          "line": {
           "color": "black",
           "width": 0.1
          },
          "opacity": 0.8,
          "size": 4,
          "symbol": "circle"
         },
         "mode": "markers",
         "name": "326",
         "scene": "scene",
         "showlegend": true,
         "type": "scatter3d",
         "x": [
          0.6380367584774072
         ],
         "y": [
          -0.34307746325516053
         ],
         "z": [
          -0.03513321803939747
         ]
        },
        {
         "hovertemplate": "cluster=327<br>comp1=%{x}<br>comp2=%{y}<br>comp3=%{z}<extra></extra>",
         "legendgroup": "327",
         "marker": {
          "color": "rgb(118, 78, 159)",
          "line": {
           "color": "black",
           "width": 0.1
          },
          "opacity": 0.8,
          "size": 4,
          "symbol": "circle"
         },
         "mode": "markers",
         "name": "327",
         "scene": "scene",
         "showlegend": true,
         "type": "scatter3d",
         "x": [
          0.6299686684613234
         ],
         "y": [
          -0.3449138403632237
         ],
         "z": [
          -0.035049837173301186
         ]
        },
        {
         "hovertemplate": "cluster=328<br>comp1=%{x}<br>comp2=%{y}<br>comp3=%{z}<extra></extra>",
         "legendgroup": "328",
         "marker": {
          "color": "rgb(237, 100, 90)",
          "line": {
           "color": "black",
           "width": 0.1
          },
          "opacity": 0.8,
          "size": 4,
          "symbol": "circle"
         },
         "mode": "markers",
         "name": "328",
         "scene": "scene",
         "showlegend": true,
         "type": "scatter3d",
         "x": [
          0.6219115113922976
         ],
         "y": [
          -0.34674168340809924
         ],
         "z": [
          -0.034964761606777646
         ]
        },
        {
         "hovertemplate": "cluster=329<br>comp1=%{x}<br>comp2=%{y}<br>comp3=%{z}<extra></extra>",
         "legendgroup": "329",
         "marker": {
          "color": "rgb(165, 170, 153)",
          "line": {
           "color": "black",
           "width": 0.1
          },
          "opacity": 0.8,
          "size": 4,
          "symbol": "circle"
         },
         "mode": "markers",
         "name": "329",
         "scene": "scene",
         "showlegend": true,
         "type": "scatter3d",
         "x": [
          0.6138653061260805
         ],
         "y": [
          -0.34856096873728254
         ],
         "z": [
          -0.03487800127116343
         ]
        },
        {
         "hovertemplate": "cluster=330<br>comp1=%{x}<br>comp2=%{y}<br>comp3=%{z}<extra></extra>",
         "legendgroup": "330",
         "marker": {
          "color": "rgb(229, 134, 6)",
          "line": {
           "color": "black",
           "width": 0.1
          },
          "opacity": 0.8,
          "size": 4,
          "symbol": "circle"
         },
         "mode": "markers",
         "name": "330",
         "scene": "scene",
         "showlegend": true,
         "type": "scatter3d",
         "x": [
          0.6058300715124201
         ],
         "y": [
          -0.3503716727060118
         ],
         "z": [
          -0.034789566094931626
         ]
        },
        {
         "hovertemplate": "cluster=331<br>comp1=%{x}<br>comp2=%{y}<br>comp3=%{z}<extra></extra>",
         "legendgroup": "331",
         "marker": {
          "color": "rgb(93, 105, 177)",
          "line": {
           "color": "black",
           "width": 0.1
          },
          "opacity": 0.8,
          "size": 4,
          "symbol": "circle"
         },
         "mode": "markers",
         "name": "331",
         "scene": "scene",
         "showlegend": true,
         "type": "scatter3d",
         "x": [
          0.5978058263950794
         ],
         "y": [
          -0.3521737716772993
         ],
         "z": [
          -0.03469946600363978
         ]
        },
        {
         "hovertemplate": "cluster=332<br>comp1=%{x}<br>comp2=%{y}<br>comp3=%{z}<extra></extra>",
         "legendgroup": "332",
         "marker": {
          "color": "rgb(82, 188, 163)",
          "line": {
           "color": "black",
           "width": 0.1
          },
          "opacity": 0.8,
          "size": 4,
          "symbol": "circle"
         },
         "mode": "markers",
         "name": "332",
         "scene": "scene",
         "showlegend": true,
         "type": "scatter3d",
         "x": [
          0.589792589611775
         ],
         "y": [
          -0.3539672420219437
         ],
         "z": [
          -0.034607710919984346
         ]
        },
        {
         "hovertemplate": "cluster=333<br>comp1=%{x}<br>comp2=%{y}<br>comp3=%{z}<extra></extra>",
         "legendgroup": "333",
         "marker": {
          "color": "rgb(153, 201, 69)",
          "line": {
           "color": "black",
           "width": 0.1
          },
          "opacity": 0.8,
          "size": 4,
          "symbol": "circle"
         },
         "mode": "markers",
         "name": "333",
         "scene": "scene",
         "showlegend": true,
         "type": "scatter3d",
         "x": [
          0.5817903799941843
         ],
         "y": [
          -0.35575206011856586
         ],
         "z": [
          -0.03451431076374233
         ]
        },
        {
         "hovertemplate": "cluster=334<br>comp1=%{x}<br>comp2=%{y}<br>comp3=%{z}<extra></extra>",
         "legendgroup": "334",
         "marker": {
          "color": "rgb(204, 97, 176)",
          "line": {
           "color": "black",
           "width": 0.1
          },
          "opacity": 0.8,
          "size": 4,
          "symbol": "circle"
         },
         "mode": "markers",
         "name": "334",
         "scene": "scene",
         "showlegend": true,
         "type": "scatter3d",
         "x": [
          0.5737992163679105
         ],
         "y": [
          -0.3575282023536185
         ],
         "z": [
          -0.03441927545180526
         ]
        },
        {
         "hovertemplate": "cluster=335<br>comp1=%{x}<br>comp2=%{y}<br>comp3=%{z}<extra></extra>",
         "legendgroup": "335",
         "marker": {
          "color": "rgb(36, 121, 108)",
          "line": {
           "color": "black",
           "width": 0.1
          },
          "opacity": 0.8,
          "size": 4,
          "symbol": "circle"
         },
         "mode": "markers",
         "name": "335",
         "scene": "scene",
         "showlegend": true,
         "type": "scatter3d",
         "x": [
          0.5658191175524946
         ],
         "y": [
          -0.3592956451214156
         ],
         "z": [
          -0.03432261489812267
         ]
        },
        {
         "hovertemplate": "cluster=336<br>comp1=%{x}<br>comp2=%{y}<br>comp3=%{z}<extra></extra>",
         "legendgroup": "336",
         "marker": {
          "color": "rgb(218, 165, 27)",
          "line": {
           "color": "black",
           "width": 0.1
          },
          "opacity": 0.8,
          "size": 4,
          "symbol": "circle"
         },
         "mode": "markers",
         "name": "336",
         "scene": "scene",
         "showlegend": true,
         "type": "scatter3d",
         "x": [
          0.5578501023613814
         ],
         "y": [
          -0.3610543648241578
         ],
         "z": [
          -0.034224339013710435
         ]
        },
        {
         "hovertemplate": "cluster=337<br>comp1=%{x}<br>comp2=%{y}<br>comp3=%{z}<extra></extra>",
         "legendgroup": "337",
         "marker": {
          "color": "rgb(47, 138, 196)",
          "line": {
           "color": "black",
           "width": 0.1
          },
          "opacity": 0.8,
          "size": 4,
          "symbol": "circle"
         },
         "mode": "markers",
         "name": "337",
         "scene": "scene",
         "showlegend": true,
         "type": "scatter3d",
         "x": [
          0.5498921896018919
         ],
         "y": [
          -0.3628043378719449
         ],
         "z": [
          -0.03412445770667062
         ]
        },
        {
         "hovertemplate": "cluster=338<br>comp1=%{x}<br>comp2=%{y}<br>comp3=%{z}<extra></extra>",
         "legendgroup": "338",
         "marker": {
          "color": "rgb(118, 78, 159)",
          "line": {
           "color": "black",
           "width": 0.1
          },
          "opacity": 0.8,
          "size": 4,
          "symbol": "circle"
         },
         "mode": "markers",
         "name": "338",
         "scene": "scene",
         "showlegend": true,
         "type": "scatter3d",
         "x": [
          0.5419453980752263
         ],
         "y": [
          -0.36454554068280953
         ],
         "z": [
          -0.03402298088213943
         ]
        },
        {
         "hovertemplate": "cluster=339<br>comp1=%{x}<br>comp2=%{y}<br>comp3=%{z}<extra></extra>",
         "legendgroup": "339",
         "marker": {
          "color": "rgb(237, 100, 90)",
          "line": {
           "color": "black",
           "width": 0.1
          },
          "opacity": 0.8,
          "size": 4,
          "symbol": "circle"
         },
         "mode": "markers",
         "name": "339",
         "scene": "scene",
         "showlegend": true,
         "type": "scatter3d",
         "x": [
          0.5340097465764538
         ],
         "y": [
          -0.36627794968273664
         ],
         "z": [
          -0.03391991844228177
         ]
        },
        {
         "hovertemplate": "cluster=340<br>comp1=%{x}<br>comp2=%{y}<br>comp3=%{z}<extra></extra>",
         "legendgroup": "340",
         "marker": {
          "color": "rgb(165, 170, 153)",
          "line": {
           "color": "black",
           "width": 0.1
          },
          "opacity": 0.8,
          "size": 4,
          "symbol": "circle"
         },
         "mode": "markers",
         "name": "340",
         "scene": "scene",
         "showlegend": true,
         "type": "scatter3d",
         "x": [
          0.5260852538944694
         ],
         "y": [
          -0.36800154130567897
         ],
         "z": [
          -0.03381528028631074
         ]
        },
        {
         "hovertemplate": "cluster=341<br>comp1=%{x}<br>comp2=%{y}<br>comp3=%{z}<extra></extra>",
         "legendgroup": "341",
         "marker": {
          "color": "rgb(229, 134, 6)",
          "line": {
           "color": "black",
           "width": 0.1
          },
          "opacity": 0.8,
          "size": 4,
          "symbol": "circle"
         },
         "mode": "markers",
         "name": "341",
         "scene": "scene",
         "showlegend": true,
         "type": "scatter3d",
         "x": [
          0.5181719388119932
         ],
         "y": [
          -0.3697162919935928
         ],
         "z": [
          -0.03370907631045235
         ]
        },
        {
         "hovertemplate": "cluster=342<br>comp1=%{x}<br>comp2=%{y}<br>comp3=%{z}<extra></extra>",
         "legendgroup": "342",
         "marker": {
          "color": "rgb(93, 105, 177)",
          "line": {
           "color": "black",
           "width": 0.1
          },
          "opacity": 0.8,
          "size": 4,
          "symbol": "circle"
         },
         "mode": "markers",
         "name": "342",
         "scene": "scene",
         "showlegend": true,
         "type": "scatter3d",
         "x": [
          0.510269820105557
         ],
         "y": [
          -0.3714221781964469
         ],
         "z": [
          -0.0336013164079464
         ]
        },
        {
         "hovertemplate": "cluster=343<br>comp1=%{x}<br>comp2=%{y}<br>comp3=%{z}<extra></extra>",
         "legendgroup": "343",
         "marker": {
          "color": "rgb(82, 188, 163)",
          "line": {
           "color": "black",
           "width": 0.1
          },
          "opacity": 0.8,
          "size": 4,
          "symbol": "circle"
         },
         "mode": "markers",
         "name": "343",
         "scene": "scene",
         "showlegend": true,
         "type": "scatter3d",
         "x": [
          0.5023789165454761
         ],
         "y": [
          -0.3731191763722526
         ],
         "z": [
          -0.03349201046903958
         ]
        },
        {
         "hovertemplate": "cluster=344<br>comp1=%{x}<br>comp2=%{y}<br>comp3=%{z}<extra></extra>",
         "legendgroup": "344",
         "marker": {
          "color": "rgb(153, 201, 69)",
          "line": {
           "color": "black",
           "width": 0.1
          },
          "opacity": 0.8,
          "size": 4,
          "symbol": "circle"
         },
         "mode": "markers",
         "name": "344",
         "scene": "scene",
         "showlegend": true,
         "type": "scatter3d",
         "x": [
          0.4944992468958575
         ],
         "y": [
          -0.37480726298708966
         ],
         "z": [
          -0.03338116838094515
         ]
        },
        {
         "hovertemplate": "cluster=345<br>comp1=%{x}<br>comp2=%{y}<br>comp3=%{z}<extra></extra>",
         "legendgroup": "345",
         "marker": {
          "color": "rgb(204, 97, 176)",
          "line": {
           "color": "black",
           "width": 0.1
          },
          "opacity": 0.8,
          "size": 4,
          "symbol": "circle"
         },
         "mode": "markers",
         "name": "345",
         "scene": "scene",
         "showlegend": true,
         "type": "scatter3d",
         "x": [
          0.4866308299145497
         ],
         "y": [
          -0.37648641451511633
         ],
         "z": [
          -0.03326880002788626
         ]
        },
        {
         "hovertemplate": "cluster=346<br>comp1=%{x}<br>comp2=%{y}<br>comp3=%{z}<extra></extra>",
         "legendgroup": "346",
         "marker": {
          "color": "rgb(36, 121, 108)",
          "line": {
           "color": "black",
           "width": 0.1
          },
          "opacity": 0.8,
          "size": 4,
          "symbol": "circle"
         },
         "mode": "markers",
         "name": "346",
         "scene": "scene",
         "showlegend": true,
         "type": "scatter3d",
         "x": [
          0.47877368435316014
         ],
         "y": [
          -0.3781566074386114
         ],
         "z": [
          -0.033154915291025426
         ]
        },
        {
         "hovertemplate": "cluster=347<br>comp1=%{x}<br>comp2=%{y}<br>comp3=%{z}<extra></extra>",
         "legendgroup": "347",
         "marker": {
          "color": "rgb(218, 165, 27)",
          "line": {
           "color": "black",
           "width": 0.1
          },
          "opacity": 0.8,
          "size": 4,
          "symbol": "circle"
         },
         "mode": "markers",
         "name": "347",
         "scene": "scene",
         "showlegend": true,
         "type": "scatter3d",
         "x": [
          0.4709278289569931
         ],
         "y": [
          -0.3798178182479775
         ],
         "z": [
          -0.033039524048527655
         ]
        },
        {
         "hovertemplate": "cluster=348<br>comp1=%{x}<br>comp2=%{y}<br>comp3=%{z}<extra></extra>",
         "legendgroup": "348",
         "marker": {
          "color": "rgb(47, 138, 196)",
          "line": {
           "color": "black",
           "width": 0.1
          },
          "opacity": 0.8,
          "size": 4,
          "symbol": "circle"
         },
         "mode": "markers",
         "name": "348",
         "scene": "scene",
         "showlegend": true,
         "type": "scatter3d",
         "x": [
          0.4630932824651023
         ],
         "y": [
          -0.38147002344177117
         ],
         "z": [
          -0.03292263617546473
         ]
        },
        {
         "hovertemplate": "cluster=349<br>comp1=%{x}<br>comp2=%{y}<br>comp3=%{z}<extra></extra>",
         "legendgroup": "349",
         "marker": {
          "color": "rgb(118, 78, 159)",
          "line": {
           "color": "black",
           "width": 0.1
          },
          "opacity": 0.8,
          "size": 4,
          "symbol": "circle"
         },
         "mode": "markers",
         "name": "349",
         "scene": "scene",
         "showlegend": true,
         "type": "scatter3d",
         "x": [
          0.4552700636101973
         ],
         "y": [
          -0.3831131995267293
         ],
         "z": [
          -0.03280426154388795
         ]
        },
        {
         "hovertemplate": "cluster=350<br>comp1=%{x}<br>comp2=%{y}<br>comp3=%{z}<extra></extra>",
         "legendgroup": "350",
         "marker": {
          "color": "rgb(237, 100, 90)",
          "line": {
           "color": "black",
           "width": 0.1
          },
          "opacity": 0.8,
          "size": 4,
          "symbol": "circle"
         },
         "mode": "markers",
         "name": "350",
         "scene": "scene",
         "showlegend": true,
         "type": "scatter3d",
         "x": [
          0.4474581911186873
         ],
         "y": [
          -0.38474732301778947
         ],
         "z": [
          -0.03268441002275399
         ]
        },
        {
         "hovertemplate": "cluster=351<br>comp1=%{x}<br>comp2=%{y}<br>comp3=%{z}<extra></extra>",
         "legendgroup": "351",
         "marker": {
          "color": "rgb(165, 170, 153)",
          "line": {
           "color": "black",
           "width": 0.1
          },
          "opacity": 0.8,
          "size": 4,
          "symbol": "circle"
         },
         "mode": "markers",
         "name": "351",
         "scene": "scene",
         "showlegend": true,
         "type": "scatter3d",
         "x": [
          0.4396576837106404
         ],
         "y": [
          -0.38637237043810757
         ],
         "z": [
          -0.032563091477947
         ]
        },
        {
         "hovertemplate": "cluster=352<br>comp1=%{x}<br>comp2=%{y}<br>comp3=%{z}<extra></extra>",
         "legendgroup": "352",
         "marker": {
          "color": "rgb(229, 134, 6)",
          "line": {
           "color": "black",
           "width": 0.1
          },
          "opacity": 0.8,
          "size": 4,
          "symbol": "circle"
         },
         "mode": "markers",
         "name": "352",
         "scene": "scene",
         "showlegend": true,
         "type": "scatter3d",
         "x": [
          0.43186856009975744
         ],
         "y": [
          -0.38798831831908753
         ],
         "z": [
          -0.03244031577227246
         ]
        },
        {
         "hovertemplate": "cluster=353<br>comp1=%{x}<br>comp2=%{y}<br>comp3=%{z}<extra></extra>",
         "legendgroup": "353",
         "marker": {
          "color": "rgb(93, 105, 177)",
          "line": {
           "color": "black",
           "width": 0.1
          },
          "opacity": 0.8,
          "size": 4,
          "symbol": "circle"
         },
         "mode": "markers",
         "name": "353",
         "scene": "scene",
         "showlegend": true,
         "type": "scatter3d",
         "x": [
          0.42409083899338634
         ],
         "y": [
          -0.3895951432003976
         ],
         "z": [
          -0.03231609276542077
         ]
        },
        {
         "hovertemplate": "cluster=354<br>comp1=%{x}<br>comp2=%{y}<br>comp3=%{z}<extra></extra>",
         "legendgroup": "354",
         "marker": {
          "color": "rgb(82, 188, 163)",
          "line": {
           "color": "black",
           "width": 0.1
          },
          "opacity": 0.8,
          "size": 4,
          "symbol": "circle"
         },
         "mode": "markers",
         "name": "354",
         "scene": "scene",
         "showlegend": true,
         "type": "scatter3d",
         "x": [
          0.41632453909246087
         ],
         "y": [
          -0.3911928216299997
         ],
         "z": [
          -0.03219043231399459
         ]
        },
        {
         "hovertemplate": "cluster=355<br>comp1=%{x}<br>comp2=%{y}<br>comp3=%{z}<extra></extra>",
         "legendgroup": "355",
         "marker": {
          "color": "rgb(153, 201, 69)",
          "line": {
           "color": "black",
           "width": 0.1
          },
          "opacity": 0.8,
          "size": 4,
          "symbol": "circle"
         },
         "mode": "markers",
         "name": "355",
         "scene": "scene",
         "showlegend": true,
         "type": "scatter3d",
         "x": [
          0.40856967909152897
         ],
         "y": [
          -0.39278133016416117
         ],
         "z": [
          -0.03206334427147244
         ]
        },
        {
         "hovertemplate": "cluster=356<br>comp1=%{x}<br>comp2=%{y}<br>comp3=%{z}<extra></extra>",
         "legendgroup": "356",
         "marker": {
          "color": "rgb(204, 97, 176)",
          "line": {
           "color": "black",
           "width": 0.1
          },
          "opacity": 0.8,
          "size": 4,
          "symbol": "circle"
         },
         "mode": "markers",
         "name": "356",
         "scene": "scene",
         "showlegend": true,
         "type": "scatter3d",
         "x": [
          0.4008262776787231
         ],
         "y": [
          -0.3943606453674941
         ],
         "z": [
          -0.031934838488181364
         ]
        },
        {
         "hovertemplate": "cluster=357<br>comp1=%{x}<br>comp2=%{y}<br>comp3=%{z}<extra></extra>",
         "legendgroup": "357",
         "marker": {
          "color": "rgb(36, 121, 108)",
          "line": {
           "color": "black",
           "width": 0.1
          },
          "opacity": 0.8,
          "size": 4,
          "symbol": "circle"
         },
         "mode": "markers",
         "name": "357",
         "scene": "scene",
         "showlegend": true,
         "type": "scatter3d",
         "x": [
          0.39309435353572075
         ],
         "y": [
          -0.3959307438129586
         ],
         "z": [
          -0.03180492481134771
         ]
        },
        {
         "hovertemplate": "cluster=358<br>comp1=%{x}<br>comp2=%{y}<br>comp3=%{z}<extra></extra>",
         "legendgroup": "358",
         "marker": {
          "color": "rgb(218, 165, 27)",
          "line": {
           "color": "black",
           "width": 0.1
          },
          "opacity": 0.8,
          "size": 4,
          "symbol": "circle"
         },
         "mode": "markers",
         "name": "358",
         "scene": "scene",
         "showlegend": true,
         "type": "scatter3d",
         "x": [
          0.3853739253377627
         ],
         "y": [
          -0.3974916020819038
         ],
         "z": [
          -0.031673613085016684
         ]
        },
        {
         "hovertemplate": "cluster=359<br>comp1=%{x}<br>comp2=%{y}<br>comp3=%{z}<extra></extra>",
         "legendgroup": "359",
         "marker": {
          "color": "rgb(47, 138, 196)",
          "line": {
           "color": "black",
           "width": 0.1
          },
          "opacity": 0.8,
          "size": 4,
          "symbol": "circle"
         },
         "mode": "markers",
         "name": "359",
         "scene": "scene",
         "showlegend": true,
         "type": "scatter3d",
         "x": [
          0.3776650117536112
         ],
         "y": [
          -0.3990431967640715
         ],
         "z": [
          -0.03154091315010102
         ]
        },
        {
         "hovertemplate": "cluster=360<br>comp1=%{x}<br>comp2=%{y}<br>comp3=%{z}<extra></extra>",
         "legendgroup": "360",
         "marker": {
          "color": "rgb(118, 78, 159)",
          "line": {
           "color": "black",
           "width": 0.1
          },
          "opacity": 0.8,
          "size": 4,
          "symbol": "circle"
         },
         "mode": "markers",
         "name": "360",
         "scene": "scene",
         "showlegend": true,
         "type": "scatter3d",
         "x": [
          0.36996763144553935
         ],
         "y": [
          -0.400585504457635
         ],
         "z": [
          -0.03140683484433898
         ]
        },
        {
         "hovertemplate": "cluster=361<br>comp1=%{x}<br>comp2=%{y}<br>comp3=%{z}<extra></extra>",
         "legendgroup": "361",
         "marker": {
          "color": "rgb(237, 100, 90)",
          "line": {
           "color": "black",
           "width": 0.1
          },
          "opacity": 0.8,
          "size": 4,
          "symbol": "circle"
         },
         "mode": "markers",
         "name": "361",
         "scene": "scene",
         "showlegend": true,
         "type": "scatter3d",
         "x": [
          0.36228180306933094
         ],
         "y": [
          -0.40211850176921204
         ],
         "z": [
          -0.031271388002285204
         ]
        },
        {
         "hovertemplate": "cluster=362<br>comp1=%{x}<br>comp2=%{y}<br>comp3=%{z}<extra></extra>",
         "legendgroup": "362",
         "marker": {
          "color": "rgb(165, 170, 153)",
          "line": {
           "color": "black",
           "width": 0.1
          },
          "opacity": 0.8,
          "size": 4,
          "symbol": "circle"
         },
         "mode": "markers",
         "name": "362",
         "scene": "scene",
         "showlegend": true,
         "type": "scatter3d",
         "x": [
          0.35460754527424265
         ],
         "y": [
          -0.4036421653138966
         ],
         "z": [
          -0.031134582455307314
         ]
        },
        {
         "hovertemplate": "cluster=363<br>comp1=%{x}<br>comp2=%{y}<br>comp3=%{z}<extra></extra>",
         "legendgroup": "363",
         "marker": {
          "color": "rgb(229, 134, 6)",
          "line": {
           "color": "black",
           "width": 0.1
          },
          "opacity": 0.8,
          "size": 4,
          "symbol": "circle"
         },
         "mode": "markers",
         "name": "363",
         "scene": "scene",
         "showlegend": true,
         "type": "scatter3d",
         "x": [
          0.34694487670298685
         ],
         "y": [
          -0.4051564717152621
         ],
         "z": [
          -0.03099642803160297
         ]
        },
        {
         "hovertemplate": "cluster=364<br>comp1=%{x}<br>comp2=%{y}<br>comp3=%{z}<extra></extra>",
         "legendgroup": "364",
         "marker": {
          "color": "rgb(93, 105, 177)",
          "line": {
           "color": "black",
           "width": 0.1
          },
          "opacity": 0.8,
          "size": 4,
          "symbol": "circle"
         },
         "mode": "markers",
         "name": "364",
         "scene": "scene",
         "showlegend": true,
         "type": "scatter3d",
         "x": [
          0.33929381599176023
         ],
         "y": [
          -0.40666139760541026
         ],
         "z": [
          -0.030856934556108526
         ]
        },
        {
         "hovertemplate": "cluster=365<br>comp1=%{x}<br>comp2=%{y}<br>comp3=%{z}<extra></extra>",
         "legendgroup": "365",
         "marker": {
          "color": "rgb(82, 188, 163)",
          "line": {
           "color": "black",
           "width": 0.1
          },
          "opacity": 0.8,
          "size": 4,
          "symbol": "circle"
         },
         "mode": "markers",
         "name": "365",
         "scene": "scene",
         "showlegend": true,
         "type": "scatter3d",
         "x": [
          0.33165438177015766
         ],
         "y": [
          -0.4081569196249719
         ],
         "z": [
          -0.030716111850593864
         ]
        },
        {
         "hovertemplate": "cluster=366<br>comp1=%{x}<br>comp2=%{y}<br>comp3=%{z}<extra></extra>",
         "legendgroup": "366",
         "marker": {
          "color": "rgb(153, 201, 69)",
          "line": {
           "color": "black",
           "width": 0.1
          },
          "opacity": 0.8,
          "size": 4,
          "symbol": "circle"
         },
         "mode": "markers",
         "name": "366",
         "scene": "scene",
         "showlegend": true,
         "type": "scatter3d",
         "x": [
          0.3240265926612044
         ],
         "y": [
          -0.4096430144231412
         ],
         "z": [
          -0.030573969733581608
         ]
        },
        {
         "hovertemplate": "cluster=367<br>comp1=%{x}<br>comp2=%{y}<br>comp3=%{z}<extra></extra>",
         "legendgroup": "367",
         "marker": {
          "color": "rgb(204, 97, 176)",
          "line": {
           "color": "black",
           "width": 0.1
          },
          "opacity": 0.8,
          "size": 4,
          "symbol": "circle"
         },
         "mode": "markers",
         "name": "367",
         "scene": "scene",
         "showlegend": true,
         "type": "scatter3d",
         "x": [
          0.31641046728132394
         ],
         "y": [
          -0.41111965865769373
         ],
         "z": [
          -0.03043051802036546
         ]
        },
        {
         "hovertemplate": "cluster=368<br>comp1=%{x}<br>comp2=%{y}<br>comp3=%{z}<extra></extra>",
         "legendgroup": "368",
         "marker": {
          "color": "rgb(36, 121, 108)",
          "line": {
           "color": "black",
           "width": 0.1
          },
          "opacity": 0.8,
          "size": 4,
          "symbol": "circle"
         },
         "mode": "markers",
         "name": "368",
         "scene": "scene",
         "showlegend": true,
         "type": "scatter3d",
         "x": [
          0.308806024240327
         ],
         "y": [
          -0.412586828995009
         ],
         "z": [
          -0.030285766522984953
         ]
        },
        {
         "hovertemplate": "cluster=369<br>comp1=%{x}<br>comp2=%{y}<br>comp3=%{z}<extra></extra>",
         "legendgroup": "369",
         "marker": {
          "color": "rgb(218, 165, 27)",
          "line": {
           "color": "black",
           "width": 0.1
          },
          "opacity": 0.8,
          "size": 4,
          "symbol": "circle"
         },
         "mode": "markers",
         "name": "369",
         "scene": "scene",
         "showlegend": true,
         "type": "scatter3d",
         "x": [
          0.3012132821413841
         ],
         "y": [
          -0.4140445021100954
         ],
         "z": [
          -0.030139725050238115
         ]
        },
        {
         "hovertemplate": "cluster=370<br>comp1=%{x}<br>comp2=%{y}<br>comp3=%{z}<extra></extra>",
         "legendgroup": "370",
         "marker": {
          "color": "rgb(47, 138, 196)",
          "line": {
           "color": "black",
           "width": 0.1
          },
          "opacity": 0.8,
          "size": 4,
          "symbol": "circle"
         },
         "mode": "markers",
         "name": "370",
         "scene": "scene",
         "showlegend": true,
         "type": "scatter3d",
         "x": [
          0.2936322595810489
         ],
         "y": [
          -0.415492654686609
         ],
         "z": [
          -0.029992403407621798
         ]
        },
        {
         "hovertemplate": "cluster=371<br>comp1=%{x}<br>comp2=%{y}<br>comp3=%{z}<extra></extra>",
         "legendgroup": "371",
         "marker": {
          "color": "rgb(118, 78, 159)",
          "line": {
           "color": "black",
           "width": 0.1
          },
          "opacity": 0.8,
          "size": 4,
          "symbol": "circle"
         },
         "mode": "markers",
         "name": "371",
         "scene": "scene",
         "showlegend": true,
         "type": "scatter3d",
         "x": [
          0.2860629751491634
         ],
         "y": [
          -0.4169312634168753
         ],
         "z": [
          -0.02984381139741321
         ]
        },
        {
         "hovertemplate": "cluster=372<br>comp1=%{x}<br>comp2=%{y}<br>comp3=%{z}<extra></extra>",
         "legendgroup": "372",
         "marker": {
          "color": "rgb(237, 100, 90)",
          "line": {
           "color": "black",
           "width": 0.1
          },
          "opacity": 0.8,
          "size": 4,
          "symbol": "circle"
         },
         "mode": "markers",
         "name": "372",
         "scene": "scene",
         "showlegend": true,
         "type": "scatter3d",
         "x": [
          0.27850544742892075
         ],
         "y": [
          -0.41836030500192334
         ],
         "z": [
          -0.029693958818561978
         ]
        },
        {
         "hovertemplate": "cluster=373<br>comp1=%{x}<br>comp2=%{y}<br>comp3=%{z}<extra></extra>",
         "legendgroup": "373",
         "marker": {
          "color": "rgb(165, 170, 153)",
          "line": {
           "color": "black",
           "width": 0.1
          },
          "opacity": 0.8,
          "size": 4,
          "symbol": "circle"
         },
         "mode": "markers",
         "name": "373",
         "scene": "scene",
         "showlegend": true,
         "type": "scatter3d",
         "x": [
          0.27095969499682165
         ],
         "y": [
          -0.419779756151487
         ],
         "z": [
          -0.02954285546672745
         ]
        },
        {
         "hovertemplate": "cluster=374<br>comp1=%{x}<br>comp2=%{y}<br>comp3=%{z}<extra></extra>",
         "legendgroup": "374",
         "marker": {
          "color": "rgb(229, 134, 6)",
          "line": {
           "color": "black",
           "width": 0.1
          },
          "opacity": 0.8,
          "size": 4,
          "symbol": "circle"
         },
         "mode": "markers",
         "name": "374",
         "scene": "scene",
         "showlegend": true,
         "type": "scatter3d",
         "x": [
          0.26342573642263917
         ],
         "y": [
          -0.42118959358404534
         ],
         "z": [
          -0.029390511134277694
         ]
        },
        {
         "hovertemplate": "cluster=375<br>comp1=%{x}<br>comp2=%{y}<br>comp3=%{z}<extra></extra>",
         "legendgroup": "375",
         "marker": {
          "color": "rgb(93, 105, 177)",
          "line": {
           "color": "black",
           "width": 0.1
          },
          "opacity": 0.8,
          "size": 4,
          "symbol": "circle"
         },
         "mode": "markers",
         "name": "375",
         "scene": "scene",
         "showlegend": true,
         "type": "scatter3d",
         "x": [
          0.25590359026941184
         ],
         "y": [
          -0.4225897940268438
         ],
         "z": [
          -0.029236935610267474
         ]
        },
        {
         "hovertemplate": "cluster=376<br>comp1=%{x}<br>comp2=%{y}<br>comp3=%{z}<extra></extra>",
         "legendgroup": "376",
         "marker": {
          "color": "rgb(82, 188, 163)",
          "line": {
           "color": "black",
           "width": 0.1
          },
          "opacity": 0.8,
          "size": 4,
          "symbol": "circle"
         },
         "mode": "markers",
         "name": "376",
         "scene": "scene",
         "showlegend": true,
         "type": "scatter3d",
         "x": [
          0.24839327509345752
         ],
         "y": [
          -0.4239803342159021
         ],
         "z": [
          -0.02908213868040924
         ]
        },
        {
         "hovertemplate": "cluster=377<br>comp1=%{x}<br>comp2=%{y}<br>comp3=%{z}<extra></extra>",
         "legendgroup": "377",
         "marker": {
          "color": "rgb(153, 201, 69)",
          "line": {
           "color": "black",
           "width": 0.1
          },
          "opacity": 0.8,
          "size": 4,
          "symbol": "circle"
         },
         "mode": "markers",
         "name": "377",
         "scene": "scene",
         "showlegend": true,
         "type": "scatter3d",
         "x": [
          0.24089480944431527
         ],
         "y": [
          -0.425361190896052
         ],
         "z": [
          -0.028926130127095457
         ]
        },
        {
         "hovertemplate": "cluster=378<br>comp1=%{x}<br>comp2=%{y}<br>comp3=%{z}<extra></extra>",
         "legendgroup": "378",
         "marker": {
          "color": "rgb(204, 97, 176)",
          "line": {
           "color": "black",
           "width": 0.1
          },
          "opacity": 0.8,
          "size": 4,
          "symbol": "circle"
         },
         "mode": "markers",
         "name": "378",
         "scene": "scene",
         "showlegend": true,
         "type": "scatter3d",
         "x": [
          0.233408211864749
         ],
         "y": [
          -0.4267323408209542
         ],
         "z": [
          -0.028768919729372715
         ]
        },
        {
         "hovertemplate": "cluster=379<br>comp1=%{x}<br>comp2=%{y}<br>comp3=%{z}<extra></extra>",
         "legendgroup": "379",
         "marker": {
          "color": "rgb(36, 121, 108)",
          "line": {
           "color": "black",
           "width": 0.1
          },
          "opacity": 0.8,
          "size": 4,
          "symbol": "circle"
         },
         "mode": "markers",
         "name": "379",
         "scene": "scene",
         "showlegend": true,
         "type": "scatter3d",
         "x": [
          0.22593350089073513
         ],
         "y": [
          -0.42809376075311256
         ],
         "z": [
          -0.028610517262934978
         ]
        },
        {
         "hovertemplate": "cluster=380<br>comp1=%{x}<br>comp2=%{y}<br>comp3=%{z}<extra></extra>",
         "legendgroup": "380",
         "marker": {
          "color": "rgb(218, 165, 27)",
          "line": {
           "color": "black",
           "width": 0.1
          },
          "opacity": 0.8,
          "size": 4,
          "symbol": "circle"
         },
         "mode": "markers",
         "name": "380",
         "scene": "scene",
         "showlegend": true,
         "type": "scatter3d",
         "x": [
          0.21847069505143896
         ],
         "y": [
          -0.4294454274639177
         ],
         "z": [
          -0.028450932500101715
         ]
        },
        {
         "hovertemplate": "cluster=381<br>comp1=%{x}<br>comp2=%{y}<br>comp3=%{z}<extra></extra>",
         "legendgroup": "381",
         "marker": {
          "color": "rgb(47, 138, 196)",
          "line": {
           "color": "black",
           "width": 0.1
          },
          "opacity": 0.8,
          "size": 4,
          "symbol": "circle"
         },
         "mode": "markers",
         "name": "381",
         "scene": "scene",
         "showlegend": true,
         "type": "scatter3d",
         "x": [
          0.21101981286918686
         ],
         "y": [
          -0.4307873177336433
         ],
         "z": [
          -0.028290175209846273
         ]
        },
        {
         "hovertemplate": "cluster=382<br>comp1=%{x}<br>comp2=%{y}<br>comp3=%{z}<extra></extra>",
         "legendgroup": "382",
         "marker": {
          "color": "rgb(118, 78, 159)",
          "line": {
           "color": "black",
           "width": 0.1
          },
          "opacity": 0.8,
          "size": 4,
          "symbol": "circle"
         },
         "mode": "markers",
         "name": "382",
         "scene": "scene",
         "showlegend": true,
         "type": "scatter3d",
         "x": [
          0.20358087285949464
         ],
         "y": [
          -0.4321194083514911
         ],
         "z": [
          -0.02812825515771376
         ]
        },
        {
         "hovertemplate": "cluster=383<br>comp1=%{x}<br>comp2=%{y}<br>comp3=%{z}<extra></extra>",
         "legendgroup": "383",
         "marker": {
          "color": "rgb(237, 100, 90)",
          "line": {
           "color": "black",
           "width": 0.1
          },
          "opacity": 0.8,
          "size": 4,
          "symbol": "circle"
         },
         "mode": "markers",
         "name": "383",
         "scene": "scene",
         "showlegend": true,
         "type": "scatter3d",
         "x": [
          0.19615389353099447
         ],
         "y": [
          -0.4334416761155945
         ],
         "z": [
          -0.027965182105896155
         ]
        },
        {
         "hovertemplate": "cluster=384<br>comp1=%{x}<br>comp2=%{y}<br>comp3=%{z}<extra></extra>",
         "legendgroup": "384",
         "marker": {
          "color": "rgb(165, 170, 153)",
          "line": {
           "color": "black",
           "width": 0.1
          },
          "opacity": 0.8,
          "size": 4,
          "symbol": "circle"
         },
         "mode": "markers",
         "name": "384",
         "scene": "scene",
         "showlegend": true,
         "type": "scatter3d",
         "x": [
          0.18873889338545036
         ],
         "y": [
          -0.4347540978330551
         ],
         "z": [
          -0.027800965813169178
         ]
        },
        {
         "hovertemplate": "cluster=385<br>comp1=%{x}<br>comp2=%{y}<br>comp3=%{z}<extra></extra>",
         "legendgroup": "385",
         "marker": {
          "color": "rgb(229, 134, 6)",
          "line": {
           "color": "black",
           "width": 0.1
          },
          "opacity": 0.8,
          "size": 4,
          "symbol": "circle"
         },
         "mode": "markers",
         "name": "385",
         "scene": "scene",
         "showlegend": true,
         "type": "scatter3d",
         "x": [
          0.18133589091773583
         ],
         "y": [
          -0.4360566503199585
         ],
         "z": [
          -0.027635616034897687
         ]
        },
        {
         "hovertemplate": "cluster=386<br>comp1=%{x}<br>comp2=%{y}<br>comp3=%{z}<extra></extra>",
         "legendgroup": "386",
         "marker": {
          "color": "rgb(93, 105, 177)",
          "line": {
           "color": "black",
           "width": 0.1
          },
          "opacity": 0.8,
          "size": 4,
          "symbol": "circle"
         },
         "mode": "markers",
         "name": "386",
         "scene": "scene",
         "showlegend": true,
         "type": "scatter3d",
         "x": [
          0.17394490461582418
         ],
         "y": [
          -0.4373493104013945
         ],
         "z": [
          -0.027469142523021153
         ]
        },
        {
         "hovertemplate": "cluster=387<br>comp1=%{x}<br>comp2=%{y}<br>comp3=%{z}<extra></extra>",
         "legendgroup": "387",
         "marker": {
          "color": "rgb(82, 188, 163)",
          "line": {
           "color": "black",
           "width": 0.1
          },
          "opacity": 0.8,
          "size": 4,
          "symbol": "circle"
         },
         "mode": "markers",
         "name": "387",
         "scene": "scene",
         "showlegend": true,
         "type": "scatter3d",
         "x": [
          0.16656595296075657
         ],
         "y": [
          -0.43863205491148727
         ],
         "z": [
          -0.02730155502605345
         ]
        },
        {
         "hovertemplate": "cluster=388<br>comp1=%{x}<br>comp2=%{y}<br>comp3=%{z}<extra></extra>",
         "legendgroup": "388",
         "marker": {
          "color": "rgb(153, 201, 69)",
          "line": {
           "color": "black",
           "width": 0.1
          },
          "opacity": 0.8,
          "size": 4,
          "symbol": "circle"
         },
         "mode": "markers",
         "name": "388",
         "scene": "scene",
         "showlegend": true,
         "type": "scatter3d",
         "x": [
          0.15919905442665377
         ],
         "y": [
          -0.43990486069340695
         ],
         "z": [
          -0.027132863289053993
         ]
        },
        {
         "hovertemplate": "cluster=389<br>comp1=%{x}<br>comp2=%{y}<br>comp3=%{z}<extra></extra>",
         "legendgroup": "389",
         "marker": {
          "color": "rgb(204, 97, 176)",
          "line": {
           "color": "black",
           "width": 0.1
          },
          "opacity": 0.8,
          "size": 4,
          "symbol": "circle"
         },
         "mode": "markers",
         "name": "389",
         "scene": "scene",
         "showlegend": true,
         "type": "scatter3d",
         "x": [
          0.15184422748066329
         ],
         "y": [
          -0.44116770459940613
         ],
         "z": [
          -0.02696307705364218
         ]
        },
        {
         "hovertemplate": "cluster=390<br>comp1=%{x}<br>comp2=%{y}<br>comp3=%{z}<extra></extra>",
         "legendgroup": "390",
         "marker": {
          "color": "rgb(36, 121, 108)",
          "line": {
           "color": "black",
           "width": 0.1
          },
          "opacity": 0.8,
          "size": 4,
          "symbol": "circle"
         },
         "mode": "markers",
         "name": "390",
         "scene": "scene",
         "showlegend": true,
         "type": "scatter3d",
         "x": [
          0.14450149058296685
         ],
         "y": [
          -0.44242056349082287
         ],
         "z": [
          -0.026792206057983936
         ]
        },
        {
         "hovertemplate": "cluster=391<br>comp1=%{x}<br>comp2=%{y}<br>comp3=%{z}<extra></extra>",
         "legendgroup": "391",
         "marker": {
          "color": "rgb(218, 165, 27)",
          "line": {
           "color": "black",
           "width": 0.1
          },
          "opacity": 0.8,
          "size": 4,
          "symbol": "circle"
         },
         "mode": "markers",
         "name": "391",
         "scene": "scene",
         "showlegend": true,
         "type": "scatter3d",
         "x": [
          0.1371708621867743
         ],
         "y": [
          -0.4436634142381245
         ],
         "z": [
          -0.02662026003674305
         ]
        },
        {
         "hovertemplate": "cluster=392<br>comp1=%{x}<br>comp2=%{y}<br>comp3=%{z}<extra></extra>",
         "legendgroup": "392",
         "marker": {
          "color": "rgb(47, 138, 196)",
          "line": {
           "color": "black",
           "width": 0.1
          },
          "opacity": 0.8,
          "size": 4,
          "symbol": "circle"
         },
         "mode": "markers",
         "name": "392",
         "scene": "scene",
         "showlegend": true,
         "type": "scatter3d",
         "x": [
          0.12985236073827602
         ],
         "y": [
          -0.4448962337209112
         ],
         "z": [
          -0.026447248721135738
         ]
        },
        {
         "hovertemplate": "cluster=393<br>comp1=%{x}<br>comp2=%{y}<br>comp3=%{z}<extra></extra>",
         "legendgroup": "393",
         "marker": {
          "color": "rgb(118, 78, 159)",
          "line": {
           "color": "black",
           "width": 0.1
          },
          "opacity": 0.8,
          "size": 4,
          "symbol": "circle"
         },
         "mode": "markers",
         "name": "393",
         "scene": "scene",
         "showlegend": true,
         "type": "scatter3d",
         "x": [
          0.12254600467664001
         ],
         "y": [
          -0.4461189988279506
         ],
         "z": [
          -0.026273181838883303
         ]
        },
        {
         "hovertemplate": "cluster=394<br>comp1=%{x}<br>comp2=%{y}<br>comp3=%{z}<extra></extra>",
         "legendgroup": "394",
         "marker": {
          "color": "rgb(237, 100, 90)",
          "line": {
           "color": "black",
           "width": 0.1
          },
          "opacity": 0.8,
          "size": 4,
          "symbol": "circle"
         },
         "mode": "markers",
         "name": "394",
         "scene": "scene",
         "showlegend": true,
         "type": "scatter3d",
         "x": [
          0.11525181243402914
         ],
         "y": [
          -0.4473316864571942
         ],
         "z": [
          -0.02609806911417743
         ]
        },
        {
         "hovertemplate": "cluster=395<br>comp1=%{x}<br>comp2=%{y}<br>comp3=%{z}<extra></extra>",
         "legendgroup": "395",
         "marker": {
          "color": "rgb(165, 170, 153)",
          "line": {
           "color": "black",
           "width": 0.1
          },
          "opacity": 0.8,
          "size": 4,
          "symbol": "circle"
         },
         "mode": "markers",
         "name": "395",
         "scene": "scene",
         "showlegend": true,
         "type": "scatter3d",
         "x": [
          0.10796980243550724
         ],
         "y": [
          -0.44853427351580166
         ],
         "z": [
          -0.02592192026775265
         ]
        },
        {
         "hovertemplate": "cluster=396<br>comp1=%{x}<br>comp2=%{y}<br>comp3=%{z}<extra></extra>",
         "legendgroup": "396",
         "marker": {
          "color": "rgb(229, 134, 6)",
          "line": {
           "color": "black",
           "width": 0.1
          },
          "opacity": 0.8,
          "size": 4,
          "symbol": "circle"
         },
         "mode": "markers",
         "name": "396",
         "scene": "scene",
         "showlegend": true,
         "type": "scatter3d",
         "x": [
          0.10069999309912475
         ],
         "y": [
          -0.4497267369201621
         ],
         "z": [
          -0.025744745016764024
         ]
        },
        {
         "hovertemplate": "cluster=397<br>comp1=%{x}<br>comp2=%{y}<br>comp3=%{z}<extra></extra>",
         "legendgroup": "397",
         "marker": {
          "color": "rgb(93, 105, 177)",
          "line": {
           "color": "black",
           "width": 0.1
          },
          "opacity": 0.8,
          "size": 4,
          "symbol": "circle"
         },
         "mode": "markers",
         "name": "397",
         "scene": "scene",
         "showlegend": true,
         "type": "scatter3d",
         "x": [
          0.09344240283580985
         ],
         "y": [
          -0.4509090535959207
         ],
         "z": [
          -0.025566553074878547
         ]
        },
        {
         "hovertemplate": "cluster=398<br>comp1=%{x}<br>comp2=%{y}<br>comp3=%{z}<extra></extra>",
         "legendgroup": "398",
         "marker": {
          "color": "rgb(82, 188, 163)",
          "line": {
           "color": "black",
           "width": 0.1
          },
          "opacity": 0.8,
          "size": 4,
          "symbol": "circle"
         },
         "mode": "markers",
         "name": "398",
         "scene": "scene",
         "showlegend": true,
         "type": "scatter3d",
         "x": [
          0.08619705004941558
         ],
         "y": [
          -0.45208120047798445
         ],
         "z": [
          -0.025387354152211775
         ]
        },
        {
         "hovertemplate": "cluster=399<br>comp1=%{x}<br>comp2=%{y}<br>comp3=%{z}<extra></extra>",
         "legendgroup": "399",
         "marker": {
          "color": "rgb(153, 201, 69)",
          "line": {
           "color": "black",
           "width": 0.1
          },
          "opacity": 0.8,
          "size": 4,
          "symbol": "circle"
         },
         "mode": "markers",
         "name": "399",
         "scene": "scene",
         "showlegend": true,
         "type": "scatter3d",
         "x": [
          0.07896395313665468
         ],
         "y": [
          -0.45324315451056807
         ],
         "z": [
          -0.025207157955344603
         ]
        },
        {
         "hovertemplate": "cluster=400<br>comp1=%{x}<br>comp2=%{y}<br>comp3=%{z}<extra></extra>",
         "legendgroup": "400",
         "marker": {
          "color": "rgb(204, 97, 176)",
          "line": {
           "color": "black",
           "width": 0.1
          },
          "opacity": 0.8,
          "size": 4,
          "symbol": "circle"
         },
         "mode": "markers",
         "name": "400",
         "scene": "scene",
         "showlegend": true,
         "type": "scatter3d",
         "x": [
          0.07174313048714905
         ],
         "y": [
          -0.45439489264720717
         ],
         "z": [
          -0.025025974187252848
         ]
        },
        {
         "hovertemplate": "cluster=401<br>comp1=%{x}<br>comp2=%{y}<br>comp3=%{z}<extra></extra>",
         "legendgroup": "401",
         "marker": {
          "color": "rgb(36, 121, 108)",
          "line": {
           "color": "black",
           "width": 0.1
          },
          "opacity": 0.8,
          "size": 4,
          "symbol": "circle"
         },
         "mode": "markers",
         "name": "401",
         "scene": "scene",
         "showlegend": true,
         "type": "scatter3d",
         "x": [
          0.0645346004833281
         ],
         "y": [
          -0.45553639185076616
         ],
         "z": [
          -0.024843812547411387
         ]
        },
        {
         "hovertemplate": "cluster=402<br>comp1=%{x}<br>comp2=%{y}<br>comp3=%{z}<extra></extra>",
         "legendgroup": "402",
         "marker": {
          "color": "rgb(218, 165, 27)",
          "line": {
           "color": "black",
           "width": 0.1
          },
          "opacity": 0.8,
          "size": 4,
          "symbol": "circle"
         },
         "mode": "markers",
         "name": "402",
         "scene": "scene",
         "showlegend": true,
         "type": "scatter3d",
         "x": [
          0.057338381500499774
         ],
         "y": [
          -0.45666762909348263
         ],
         "z": [
          -0.024660682731654077
         ]
        },
        {
         "hovertemplate": "cluster=403<br>comp1=%{x}<br>comp2=%{y}<br>comp3=%{z}<extra></extra>",
         "legendgroup": "403",
         "marker": {
          "color": "rgb(47, 138, 196)",
          "line": {
           "color": "black",
           "width": 0.1
          },
          "opacity": 0.8,
          "size": 4,
          "symbol": "circle"
         },
         "mode": "markers",
         "name": "403",
         "scene": "scene",
         "showlegend": true,
         "type": "scatter3d",
         "x": [
          0.05015449190675214
         ],
         "y": [
          -0.4577885813569762
         ],
         "z": [
          -0.024476594432280507
         ]
        },
        {
         "hovertemplate": "cluster=404<br>comp1=%{x}<br>comp2=%{y}<br>comp3=%{z}<extra></extra>",
         "legendgroup": "404",
         "marker": {
          "color": "rgb(118, 78, 159)",
          "line": {
           "color": "black",
           "width": 0.1
          },
          "opacity": 0.8,
          "size": 4,
          "symbol": "circle"
         },
         "mode": "markers",
         "name": "404",
         "scene": "scene",
         "showlegend": true,
         "type": "scatter3d",
         "x": [
          0.04298295006301374
         ],
         "y": [
          -0.4588992256322716
         ],
         "z": [
          -0.024291557337955086
         ]
        },
        {
         "hovertemplate": "cluster=405<br>comp1=%{x}<br>comp2=%{y}<br>comp3=%{z}<extra></extra>",
         "legendgroup": "405",
         "marker": {
          "color": "rgb(237, 100, 90)",
          "line": {
           "color": "black",
           "width": 0.1
          },
          "opacity": 0.8,
          "size": 4,
          "symbol": "circle"
         },
         "mode": "markers",
         "name": "405",
         "scene": "scene",
         "showlegend": true,
         "type": "scatter3d",
         "x": [
          0.03582377432298877
         ],
         "y": [
          -0.4599995389198233
         ],
         "z": [
          -0.024105581133751188
         ]
        },
        {
         "hovertemplate": "cluster=406<br>comp1=%{x}<br>comp2=%{y}<br>comp3=%{z}<extra></extra>",
         "legendgroup": "406",
         "marker": {
          "color": "rgb(165, 170, 153)",
          "line": {
           "color": "black",
           "width": 0.1
          },
          "opacity": 0.8,
          "size": 4,
          "symbol": "circle"
         },
         "mode": "markers",
         "name": "406",
         "scene": "scene",
         "showlegend": true,
         "type": "scatter3d",
         "x": [
          0.02867698303314141
         ],
         "y": [
          -0.4610894982295419
         ],
         "z": [
          -0.023918675501133222
         ]
        },
        {
         "hovertemplate": "cluster=407<br>comp1=%{x}<br>comp2=%{y}<br>comp3=%{z}<extra></extra>",
         "legendgroup": "407",
         "marker": {
          "color": "rgb(229, 134, 6)",
          "line": {
           "color": "black",
           "width": 0.1
          },
          "opacity": 0.8,
          "size": 4,
          "symbol": "circle"
         },
         "mode": "markers",
         "name": "407",
         "scene": "scene",
         "showlegend": true,
         "type": "scatter3d",
         "x": [
          0.021542594532718472
         ],
         "y": [
          -0.4621690805808058
         ],
         "z": [
          -0.023730850117915335
         ]
        },
        {
         "hovertemplate": "cluster=408<br>comp1=%{x}<br>comp2=%{y}<br>comp3=%{z}<extra></extra>",
         "legendgroup": "408",
         "marker": {
          "color": "rgb(93, 105, 177)",
          "line": {
           "color": "black",
           "width": 0.1
          },
          "opacity": 0.8,
          "size": 4,
          "symbol": "circle"
         },
         "mode": "markers",
         "name": "408",
         "scene": "scene",
         "showlegend": true,
         "type": "scatter3d",
         "x": [
          0.014420627153687703
         ],
         "y": [
          -0.46323826300249377
         ],
         "z": [
          -0.02354211465829924
         ]
        },
        {
         "hovertemplate": "cluster=409<br>comp1=%{x}<br>comp2=%{y}<br>comp3=%{z}<extra></extra>",
         "legendgroup": "409",
         "marker": {
          "color": "rgb(82, 188, 163)",
          "line": {
           "color": "black",
           "width": 0.1
          },
          "opacity": 0.8,
          "size": 4,
          "symbol": "circle"
         },
         "mode": "markers",
         "name": "409",
         "scene": "scene",
         "showlegend": true,
         "type": "scatter3d",
         "x": [
          0.007311099220759024
         ],
         "y": [
          -0.4642970225329982
         ],
         "z": [
          -0.023352478792822262
         ]
        },
        {
         "hovertemplate": "cluster=410<br>comp1=%{x}<br>comp2=%{y}<br>comp3=%{z}<extra></extra>",
         "legendgroup": "410",
         "marker": {
          "color": "rgb(153, 201, 69)",
          "line": {
           "color": "black",
           "width": 0.1
          },
          "opacity": 0.8,
          "size": 4,
          "symbol": "circle"
         },
         "mode": "markers",
         "name": "410",
         "scene": "scene",
         "showlegend": true,
         "type": "scatter3d",
         "x": [
          0.00021402905132300525
         ],
         "y": [
          -0.4653453362202546
         ],
         "z": [
          -0.023161952188394886
         ]
        },
        {
         "hovertemplate": "cluster=411<br>comp1=%{x}<br>comp2=%{y}<br>comp3=%{z}<extra></extra>",
         "legendgroup": "411",
         "marker": {
          "color": "rgb(204, 97, 176)",
          "line": {
           "color": "black",
           "width": 0.1
          },
          "opacity": 0.8,
          "size": 4,
          "symbol": "circle"
         },
         "mode": "markers",
         "name": "411",
         "scene": "scene",
         "showlegend": true,
         "type": "scatter3d",
         "x": [
          -0.006870565044495845
         ],
         "y": [
          -0.46638318112175825
         ],
         "z": [
          -0.022970544508223424
         ]
        },
        {
         "hovertemplate": "cluster=412<br>comp1=%{x}<br>comp2=%{y}<br>comp3=%{z}<extra></extra>",
         "legendgroup": "412",
         "marker": {
          "color": "rgb(36, 121, 108)",
          "line": {
           "color": "black",
           "width": 0.1
          },
          "opacity": 0.8,
          "size": 4,
          "symbol": "circle"
         },
         "mode": "markers",
         "name": "412",
         "scene": "scene",
         "showlegend": true,
         "type": "scatter3d",
         "x": [
          -0.01394266476393425
         ],
         "y": [
          -0.46741053430459495
         ],
         "z": [
          -0.022778265411872185
         ]
        },
        {
         "hovertemplate": "cluster=413<br>comp1=%{x}<br>comp2=%{y}<br>comp3=%{z}<extra></extra>",
         "legendgroup": "413",
         "marker": {
          "color": "rgb(218, 165, 27)",
          "line": {
           "color": "black",
           "width": 0.1
          },
          "opacity": 0.8,
          "size": 4,
          "symbol": "circle"
         },
         "mode": "markers",
         "name": "413",
         "scene": "scene",
         "showlegend": true,
         "type": "scatter3d",
         "x": [
          -0.021002251811545143
         ],
         "y": [
          -0.4684273728454452
         ],
         "z": [
          -0.022585124555208426
         ]
        },
        {
         "hovertemplate": "cluster=414<br>comp1=%{x}<br>comp2=%{y}<br>comp3=%{z}<extra></extra>",
         "legendgroup": "414",
         "marker": {
          "color": "rgb(47, 138, 196)",
          "line": {
           "color": "black",
           "width": 0.1
          },
          "opacity": 0.8,
          "size": 4,
          "symbol": "circle"
         },
         "mode": "markers",
         "name": "414",
         "scene": "scene",
         "showlegend": true,
         "type": "scatter3d",
         "x": [
          -0.028049307899231435
         ],
         "y": [
          -0.46943367383062734
         ],
         "z": [
          -0.02239113159039254
         ]
        },
        {
         "hovertemplate": "cluster=415<br>comp1=%{x}<br>comp2=%{y}<br>comp3=%{z}<extra></extra>",
         "legendgroup": "415",
         "marker": {
          "color": "rgb(118, 78, 159)",
          "line": {
           "color": "black",
           "width": 0.1
          },
          "opacity": 0.8,
          "size": 4,
          "symbol": "circle"
         },
         "mode": "markers",
         "name": "415",
         "scene": "scene",
         "showlegend": true,
         "type": "scatter3d",
         "x": [
          -0.035083814746294996
         ],
         "y": [
          -0.4704294143561094
         ],
         "z": [
          -0.02219629616591298
         ]
        },
        {
         "hovertemplate": "cluster=416<br>comp1=%{x}<br>comp2=%{y}<br>comp3=%{z}<extra></extra>",
         "legendgroup": "416",
         "marker": {
          "color": "rgb(237, 100, 90)",
          "line": {
           "color": "black",
           "width": 0.1
          },
          "opacity": 0.8,
          "size": 4,
          "symbol": "circle"
         },
         "mode": "markers",
         "name": "416",
         "scene": "scene",
         "showlegend": true,
         "type": "scatter3d",
         "x": [
          -0.04210575407938982
         ],
         "y": [
          -0.47141457152752514
         ],
         "z": [
          -0.02200062792651362
         ]
        },
        {
         "hovertemplate": "cluster=417<br>comp1=%{x}<br>comp2=%{y}<br>comp3=%{z}<extra></extra>",
         "legendgroup": "417",
         "marker": {
          "color": "rgb(165, 170, 153)",
          "line": {
           "color": "black",
           "width": 0.1
          },
          "opacity": 0.8,
          "size": 4,
          "symbol": "circle"
         },
         "mode": "markers",
         "name": "417",
         "scene": "scene",
         "showlegend": true,
         "type": "scatter3d",
         "x": [
          -0.04911510763259663
         ],
         "y": [
          -0.4723891224602104
         ],
         "z": [
          -0.021804136513232656
         ]
        },
        {
         "hovertemplate": "cluster=418<br>comp1=%{x}<br>comp2=%{y}<br>comp3=%{z}<extra></extra>",
         "legendgroup": "418",
         "marker": {
          "color": "rgb(229, 134, 6)",
          "line": {
           "color": "black",
           "width": 0.1
          },
          "opacity": 0.8,
          "size": 4,
          "symbol": "circle"
         },
         "mode": "markers",
         "name": "418",
         "scene": "scene",
         "showlegend": true,
         "type": "scatter3d",
         "x": [
          -0.056111857147412986
         ],
         "y": [
          -0.4733530442792141
         ],
         "z": [
          -0.021606831563381494
         ]
        },
        {
         "hovertemplate": "cluster=419<br>comp1=%{x}<br>comp2=%{y}<br>comp3=%{z}<extra></extra>",
         "legendgroup": "419",
         "marker": {
          "color": "rgb(93, 105, 177)",
          "line": {
           "color": "black",
           "width": 0.1
          },
          "opacity": 0.8,
          "size": 4,
          "symbol": "circle"
         },
         "mode": "markers",
         "name": "419",
         "scene": "scene",
         "showlegend": true,
         "type": "scatter3d",
         "x": [
          -0.06309598437275314
         ],
         "y": [
          -0.47430631411932145
         ],
         "z": [
          -0.02140872271050833
         ]
        },
        {
         "hovertemplate": "cluster=420<br>comp1=%{x}<br>comp2=%{y}<br>comp3=%{z}<extra></extra>",
         "legendgroup": "420",
         "marker": {
          "color": "rgb(82, 188, 163)",
          "line": {
           "color": "black",
           "width": 0.1
          },
          "opacity": 0.8,
          "size": 4,
          "symbol": "circle"
         },
         "mode": "markers",
         "name": "420",
         "scene": "scene",
         "showlegend": true,
         "type": "scatter3d",
         "x": [
          -0.07006747106498984
         ],
         "y": [
          -0.4752489091250811
         ],
         "z": [
          -0.02120981958441999
         ]
        },
        {
         "hovertemplate": "cluster=421<br>comp1=%{x}<br>comp2=%{y}<br>comp3=%{z}<extra></extra>",
         "legendgroup": "421",
         "marker": {
          "color": "rgb(153, 201, 69)",
          "line": {
           "color": "black",
           "width": 0.1
          },
          "opacity": 0.8,
          "size": 4,
          "symbol": "circle"
         },
         "mode": "markers",
         "name": "421",
         "scene": "scene",
         "showlegend": true,
         "type": "scatter3d",
         "x": [
          -0.0770262989879762
         ],
         "y": [
          -0.4761808064508285
         ],
         "z": [
          -0.021010131811168987
         ]
        },
        {
         "hovertemplate": "cluster=422<br>comp1=%{x}<br>comp2=%{y}<br>comp3=%{z}<extra></extra>",
         "legendgroup": "422",
         "marker": {
          "color": "rgb(204, 97, 176)",
          "line": {
           "color": "black",
           "width": 0.1
          },
          "opacity": 0.8,
          "size": 4,
          "symbol": "circle"
         },
         "mode": "markers",
         "name": "422",
         "scene": "scene",
         "showlegend": true,
         "type": "scatter3d",
         "x": [
          -0.08397244991302039
         ],
         "y": [
          -0.47710198326069175
         ],
         "z": [
          -0.0208096690130233
         ]
        },
        {
         "hovertemplate": "cluster=423<br>comp1=%{x}<br>comp2=%{y}<br>comp3=%{z}<extra></extra>",
         "legendgroup": "423",
         "marker": {
          "color": "rgb(36, 121, 108)",
          "line": {
           "color": "black",
           "width": 0.1
          },
          "opacity": 0.8,
          "size": 4,
          "symbol": "circle"
         },
         "mode": "markers",
         "name": "423",
         "scene": "scene",
         "showlegend": true,
         "type": "scatter3d",
         "x": [
          -0.0909059056189597
         ],
         "y": [
          -0.4780124167286393
         ],
         "z": [
          -0.020608440808487172
         ]
        },
        {
         "hovertemplate": "cluster=424<br>comp1=%{x}<br>comp2=%{y}<br>comp3=%{z}<extra></extra>",
         "legendgroup": "424",
         "marker": {
          "color": "rgb(218, 165, 27)",
          "line": {
           "color": "black",
           "width": 0.1
          },
          "opacity": 0.8,
          "size": 4,
          "symbol": "circle"
         },
         "mode": "markers",
         "name": "424",
         "scene": "scene",
         "showlegend": true,
         "type": "scatter3d",
         "x": [
          -0.09782664789211538
         ],
         "y": [
          -0.4789120840384786
         ],
         "z": [
          -0.020406456812254937
         ]
        },
        {
         "hovertemplate": "cluster=425<br>comp1=%{x}<br>comp2=%{y}<br>comp3=%{z}<extra></extra>",
         "legendgroup": "425",
         "marker": {
          "color": "rgb(47, 138, 196)",
          "line": {
           "color": "black",
           "width": 0.1
          },
          "opacity": 0.8,
          "size": 4,
          "symbol": "circle"
         },
         "mode": "markers",
         "name": "425",
         "scene": "scene",
         "showlegend": true,
         "type": "scatter3d",
         "x": [
          -0.10473465852635842
         ],
         "y": [
          -0.47980096238389075
         ],
         "z": [
          -0.020203726635236247
         ]
        },
        {
         "hovertemplate": "cluster=426<br>comp1=%{x}<br>comp2=%{y}<br>comp3=%{z}<extra></extra>",
         "legendgroup": "426",
         "marker": {
          "color": "rgb(118, 78, 159)",
          "line": {
           "color": "black",
           "width": 0.1
          },
          "opacity": 0.8,
          "size": 4,
          "symbol": "circle"
         },
         "mode": "markers",
         "name": "426",
         "scene": "scene",
         "showlegend": true,
         "type": "scatter3d",
         "x": [
          -0.11162991932309245
         ],
         "y": [
          -0.4806790289684491
         ],
         "z": [
          -0.020000259884521622
         ]
        },
        {
         "hovertemplate": "cluster=427<br>comp1=%{x}<br>comp2=%{y}<br>comp3=%{z}<extra></extra>",
         "legendgroup": "427",
         "marker": {
          "color": "rgb(237, 100, 90)",
          "line": {
           "color": "black",
           "width": 0.1
          },
          "opacity": 0.8,
          "size": 4,
          "symbol": "circle"
         },
         "mode": "markers",
         "name": "427",
         "scene": "scene",
         "showlegend": true,
         "type": "scatter3d",
         "x": [
          -0.11851241209128523
         ],
         "y": [
          -0.4815462610056418
         ],
         "z": [
          -0.019796066163381663
         ]
        },
        {
         "hovertemplate": "cluster=428<br>comp1=%{x}<br>comp2=%{y}<br>comp3=%{z}<extra></extra>",
         "legendgroup": "428",
         "marker": {
          "color": "rgb(165, 170, 153)",
          "line": {
           "color": "black",
           "width": 0.1
          },
          "opacity": 0.8,
          "size": 4,
          "symbol": "circle"
         },
         "mode": "markers",
         "name": "428",
         "scene": "scene",
         "showlegend": true,
         "type": "scatter3d",
         "x": [
          -0.12538211864750234
         ],
         "y": [
          -0.48240263571889225
         ],
         "z": [
          -0.019591155071284574
         ]
        },
        {
         "hovertemplate": "cluster=429<br>comp1=%{x}<br>comp2=%{y}<br>comp3=%{z}<extra></extra>",
         "legendgroup": "429",
         "marker": {
          "color": "rgb(229, 134, 6)",
          "line": {
           "color": "black",
           "width": 0.1
          },
          "opacity": 0.8,
          "size": 4,
          "symbol": "circle"
         },
         "mode": "markers",
         "name": "429",
         "scene": "scene",
         "showlegend": true,
         "type": "scatter3d",
         "x": [
          -0.13223902081586822
         ],
         "y": [
          -0.48324813034158387
         ],
         "z": [
          -0.019385536203819016
         ]
        },
        {
         "hovertemplate": "cluster=430<br>comp1=%{x}<br>comp2=%{y}<br>comp3=%{z}<extra></extra>",
         "legendgroup": "430",
         "marker": {
          "color": "rgb(93, 105, 177)",
          "line": {
           "color": "black",
           "width": 0.1
          },
          "opacity": 0.8,
          "size": 4,
          "symbol": "circle"
         },
         "mode": "markers",
         "name": "430",
         "scene": "scene",
         "showlegend": true,
         "type": "scatter3d",
         "x": [
          -0.13908310042813316
         ],
         "y": [
          -0.48408272211707964
         ],
         "z": [
          -0.01917921915274631
         ]
        },
        {
         "hovertemplate": "cluster=431<br>comp1=%{x}<br>comp2=%{y}<br>comp3=%{z}<extra></extra>",
         "legendgroup": "431",
         "marker": {
          "color": "rgb(82, 188, 163)",
          "line": {
           "color": "black",
           "width": 0.1
          },
          "opacity": 0.8,
          "size": 4,
          "symbol": "circle"
         },
         "mode": "markers",
         "name": "431",
         "scene": "scene",
         "showlegend": true,
         "type": "scatter3d",
         "x": [
          -0.14591433932367556
         ],
         "y": [
          -0.4849063882987453
         ],
         "z": [
          -0.018972213505971728
         ]
        },
        {
         "hovertemplate": "cluster=432<br>comp1=%{x}<br>comp2=%{y}<br>comp3=%{z}<extra></extra>",
         "legendgroup": "432",
         "marker": {
          "color": "rgb(153, 201, 69)",
          "line": {
           "color": "black",
           "width": 0.1
          },
          "opacity": 0.8,
          "size": 4,
          "symbol": "circle"
         },
         "mode": "markers",
         "name": "432",
         "scene": "scene",
         "showlegend": true,
         "type": "scatter3d",
         "x": [
          -0.1527327193495136
         ],
         "y": [
          -0.4857191061499677
         ],
         "z": [
          -0.018764528847538573
         ]
        },
        {
         "hovertemplate": "cluster=433<br>comp1=%{x}<br>comp2=%{y}<br>comp3=%{z}<extra></extra>",
         "legendgroup": "433",
         "marker": {
          "color": "rgb(204, 97, 176)",
          "line": {
           "color": "black",
           "width": 0.1
          },
          "opacity": 0.8,
          "size": 4,
          "symbol": "circle"
         },
         "mode": "markers",
         "name": "433",
         "scene": "scene",
         "showlegend": true,
         "type": "scatter3d",
         "x": [
          -0.15953822236031162
         ],
         "y": [
          -0.48652085294418296
         ],
         "z": [
          -0.01855617475759703
         ]
        },
        {
         "hovertemplate": "cluster=434<br>comp1=%{x}<br>comp2=%{y}<br>comp3=%{z}<extra></extra>",
         "legendgroup": "434",
         "marker": {
          "color": "rgb(36, 121, 108)",
          "line": {
           "color": "black",
           "width": 0.1
          },
          "opacity": 0.8,
          "size": 4,
          "symbol": "circle"
         },
         "mode": "markers",
         "name": "434",
         "scene": "scene",
         "showlegend": true,
         "type": "scatter3d",
         "x": [
          -0.1663308302184203
         ],
         "y": [
          -0.4873116059648946
         ],
         "z": [
          -0.01834716081242651
         ]
        },
        {
         "hovertemplate": "cluster=435<br>comp1=%{x}<br>comp2=%{y}<br>comp3=%{z}<extra></extra>",
         "legendgroup": "435",
         "marker": {
          "color": "rgb(218, 165, 27)",
          "line": {
           "color": "black",
           "width": 0.1
          },
          "opacity": 0.8,
          "size": 4,
          "symbol": "circle"
         },
         "mode": "markers",
         "name": "435",
         "scene": "scene",
         "showlegend": true,
         "type": "scatter3d",
         "x": [
          -0.17311052479386277
         ],
         "y": [
          -0.48809134250569275
         ],
         "z": [
          -0.018137496584398668
         ]
        },
        {
         "hovertemplate": "cluster=436<br>comp1=%{x}<br>comp2=%{y}<br>comp3=%{z}<extra></extra>",
         "legendgroup": "436",
         "marker": {
          "color": "rgb(47, 138, 196)",
          "line": {
           "color": "black",
           "width": 0.1
          },
          "opacity": 0.8,
          "size": 4,
          "symbol": "circle"
         },
         "mode": "markers",
         "name": "436",
         "scene": "scene",
         "showlegend": true,
         "type": "scatter3d",
         "x": [
          -0.17987728796437533
         ],
         "y": [
          -0.488860039870286
         ],
         "z": [
          -0.017927191641981206
         ]
        },
        {
         "hovertemplate": "cluster=437<br>comp1=%{x}<br>comp2=%{y}<br>comp3=%{z}<extra></extra>",
         "legendgroup": "437",
         "marker": {
          "color": "rgb(118, 78, 159)",
          "line": {
           "color": "black",
           "width": 0.1
          },
          "opacity": 0.8,
          "size": 4,
          "symbol": "circle"
         },
         "mode": "markers",
         "name": "437",
         "scene": "scene",
         "showlegend": true,
         "type": "scatter3d",
         "x": [
          -0.18663110161541416
         ],
         "y": [
          -0.48961767537250955
         ],
         "z": [
          -0.017716255549733953
         ]
        },
        {
         "hovertemplate": "cluster=438<br>comp1=%{x}<br>comp2=%{y}<br>comp3=%{z}<extra></extra>",
         "legendgroup": "438",
         "marker": {
          "color": "rgb(237, 100, 90)",
          "line": {
           "color": "black",
           "width": 0.1
          },
          "opacity": 0.8,
          "size": 4,
          "symbol": "circle"
         },
         "mode": "markers",
         "name": "438",
         "scene": "scene",
         "showlegend": true,
         "type": "scatter3d",
         "x": [
          -0.19337194764017088
         ],
         "y": [
          -0.490364226336358
         ],
         "z": [
          -0.01750469786829164
         ]
        },
        {
         "hovertemplate": "cluster=439<br>comp1=%{x}<br>comp2=%{y}<br>comp3=%{z}<extra></extra>",
         "legendgroup": "439",
         "marker": {
          "color": "rgb(165, 170, 153)",
          "line": {
           "color": "black",
           "width": 0.1
          },
          "opacity": 0.8,
          "size": 4,
          "symbol": "circle"
         },
         "mode": "markers",
         "name": "439",
         "scene": "scene",
         "showlegend": true,
         "type": "scatter3d",
         "x": [
          -0.20009980793958376
         ],
         "y": [
          -0.4910996700959999
         ],
         "z": [
          -0.017292528154347384
         ]
        },
        {
         "hovertemplate": "cluster=440<br>comp1=%{x}<br>comp2=%{y}<br>comp3=%{z}<extra></extra>",
         "legendgroup": "440",
         "marker": {
          "color": "rgb(229, 134, 6)",
          "line": {
           "color": "black",
           "width": 0.1
          },
          "opacity": 0.8,
          "size": 4,
          "symbol": "circle"
         },
         "mode": "markers",
         "name": "440",
         "scene": "scene",
         "showlegend": true,
         "type": "scatter3d",
         "x": [
          -0.20681466442236157
         ],
         "y": [
          -0.4918239839958051
         ],
         "z": [
          -0.017079755960658704
         ]
        },
        {
         "hovertemplate": "cluster=441<br>comp1=%{x}<br>comp2=%{y}<br>comp3=%{z}<extra></extra>",
         "legendgroup": "441",
         "marker": {
          "color": "rgb(93, 105, 177)",
          "line": {
           "color": "black",
           "width": 0.1
          },
          "opacity": 0.8,
          "size": 4,
          "symbol": "circle"
         },
         "mode": "markers",
         "name": "441",
         "scene": "scene",
         "showlegend": true,
         "type": "scatter3d",
         "x": [
          -0.2135164990049943
         ],
         "y": [
          -0.4925371453903655
         ],
         "z": [
          -0.01686639083602206
         ]
        },
        {
         "hovertemplate": "cluster=442<br>comp1=%{x}<br>comp2=%{y}<br>comp3=%{z}<extra></extra>",
         "legendgroup": "442",
         "marker": {
          "color": "rgb(82, 188, 163)",
          "line": {
           "color": "black",
           "width": 0.1
          },
          "opacity": 0.8,
          "size": 4,
          "symbol": "circle"
         },
         "mode": "markers",
         "name": "442",
         "scene": "scene",
         "showlegend": true,
         "type": "scatter3d",
         "x": [
          -0.2202052936117798
         ],
         "y": [
          -0.4932391316445134
         ],
         "z": [
          -0.016652442325285562
         ]
        },
        {
         "hovertemplate": "cluster=443<br>comp1=%{x}<br>comp2=%{y}<br>comp3=%{z}<extra></extra>",
         "legendgroup": "443",
         "marker": {
          "color": "rgb(153, 201, 69)",
          "line": {
           "color": "black",
           "width": 0.1
          },
          "opacity": 0.8,
          "size": 4,
          "symbol": "circle"
         },
         "mode": "markers",
         "name": "443",
         "scene": "scene",
         "showlegend": true,
         "type": "scatter3d",
         "x": [
          -0.2268810301748097
         ],
         "y": [
          -0.49392992013334547
         ],
         "z": [
          -0.016437919969302647
         ]
        },
        {
         "hovertemplate": "cluster=444<br>comp1=%{x}<br>comp2=%{y}<br>comp3=%{z}<extra></extra>",
         "legendgroup": "444",
         "marker": {
          "color": "rgb(204, 97, 176)",
          "line": {
           "color": "black",
           "width": 0.1
          },
          "opacity": 0.8,
          "size": 4,
          "symbol": "circle"
         },
         "mode": "markers",
         "name": "444",
         "scene": "scene",
         "showlegend": true,
         "type": "scatter3d",
         "x": [
          -0.23354369063402053
         ],
         "y": [
          -0.49460948824224765
         ],
         "z": [
          -0.01622283330495729
         ]
        },
        {
         "hovertemplate": "cluster=445<br>comp1=%{x}<br>comp2=%{y}<br>comp3=%{z}<extra></extra>",
         "legendgroup": "445",
         "marker": {
          "color": "rgb(36, 121, 108)",
          "line": {
           "color": "black",
           "width": 0.1
          },
          "opacity": 0.8,
          "size": 4,
          "symbol": "circle"
         },
         "mode": "markers",
         "name": "445",
         "scene": "scene",
         "showlegend": true,
         "type": "scatter3d",
         "x": [
          -0.24019325693718846
         ],
         "y": [
          -0.4952778133669123
         ],
         "z": [
          -0.01600719186514006
         ]
        },
        {
         "hovertemplate": "cluster=446<br>comp1=%{x}<br>comp2=%{y}<br>comp3=%{z}<extra></extra>",
         "legendgroup": "446",
         "marker": {
          "color": "rgb(218, 165, 27)",
          "line": {
           "color": "black",
           "width": 0.1
          },
          "opacity": 0.8,
          "size": 4,
          "symbol": "circle"
         },
         "mode": "markers",
         "name": "446",
         "scene": "scene",
         "showlegend": true,
         "type": "scatter3d",
         "x": [
          -0.2468297110399653
         ],
         "y": [
          -0.49593487291335925
         ],
         "z": [
          -0.015791005178754057
         ]
        },
        {
         "hovertemplate": "cluster=447<br>comp1=%{x}<br>comp2=%{y}<br>comp3=%{z}<extra></extra>",
         "legendgroup": "447",
         "marker": {
          "color": "rgb(47, 138, 196)",
          "line": {
           "color": "black",
           "width": 0.1
          },
          "opacity": 0.8,
          "size": 4,
          "symbol": "circle"
         },
         "mode": "markers",
         "name": "447",
         "scene": "scene",
         "showlegend": true,
         "type": "scatter3d",
         "x": [
          -0.2534530349058615
         ],
         "y": [
          -0.49658064429796384
         ],
         "z": [
          -0.01557428277067146
         ]
        },
        {
         "hovertemplate": "cluster=448<br>comp1=%{x}<br>comp2=%{y}<br>comp3=%{z}<extra></extra>",
         "legendgroup": "448",
         "marker": {
          "color": "rgb(118, 78, 159)",
          "line": {
           "color": "black",
           "width": 0.1
          },
          "opacity": 0.8,
          "size": 4,
          "symbol": "circle"
         },
         "mode": "markers",
         "name": "448",
         "scene": "scene",
         "showlegend": true,
         "type": "scatter3d",
         "x": [
          -0.2600632105062916
         ],
         "y": [
          -0.49721510494747573
         ],
         "z": [
          -0.015357034161752218
         ]
        },
        {
         "hovertemplate": "cluster=449<br>comp1=%{x}<br>comp2=%{y}<br>comp3=%{z}<extra></extra>",
         "legendgroup": "449",
         "marker": {
          "color": "rgb(237, 100, 90)",
          "line": {
           "color": "black",
           "width": 0.1
          },
          "opacity": 0.8,
          "size": 4,
          "symbol": "circle"
         },
         "mode": "markers",
         "name": "449",
         "scene": "scene",
         "showlegend": true,
         "type": "scatter3d",
         "x": [
          -0.2666602198205695
         ],
         "y": [
          -0.4978382322990318
         ],
         "z": [
          -0.015139268868828987
         ]
        },
        {
         "hovertemplate": "cluster=450<br>comp1=%{x}<br>comp2=%{y}<br>comp3=%{z}<extra></extra>",
         "legendgroup": "450",
         "marker": {
          "color": "rgb(165, 170, 153)",
          "line": {
           "color": "black",
           "width": 0.1
          },
          "opacity": 0.8,
          "size": 4,
          "symbol": "circle"
         },
         "mode": "markers",
         "name": "450",
         "scene": "scene",
         "showlegend": true,
         "type": "scatter3d",
         "x": [
          -0.27324404483594195
         ],
         "y": [
          -0.498450003800198
         ],
         "z": [
          -0.014920996404687794
         ]
        },
        {
         "hovertemplate": "cluster=451<br>comp1=%{x}<br>comp2=%{y}<br>comp3=%{z}<extra></extra>",
         "legendgroup": "451",
         "marker": {
          "color": "rgb(229, 134, 6)",
          "line": {
           "color": "black",
           "width": 0.1
          },
          "opacity": 0.8,
          "size": 4,
          "symbol": "circle"
         },
         "mode": "markers",
         "name": "451",
         "scene": "scene",
         "showlegend": true,
         "type": "scatter3d",
         "x": [
          -0.2798146675475965
         ],
         "y": [
          -0.49905039690896663
         ],
         "z": [
          -0.014702226278081982
         ]
        },
        {
         "hovertemplate": "cluster=452<br>comp1=%{x}<br>comp2=%{y}<br>comp3=%{z}<extra></extra>",
         "legendgroup": "452",
         "marker": {
          "color": "rgb(93, 105, 177)",
          "line": {
           "color": "black",
           "width": 0.1
          },
          "opacity": 0.8,
          "size": 4,
          "symbol": "circle"
         },
         "mode": "markers",
         "name": "452",
         "scene": "scene",
         "showlegend": true,
         "type": "scatter3d",
         "x": [
          -0.28637206995866504
         ],
         "y": [
          -0.4996393890938
         ],
         "z": [
          -0.01448296799368507
         ]
        },
        {
         "hovertemplate": "cluster=453<br>comp1=%{x}<br>comp2=%{y}<br>comp3=%{z}<extra></extra>",
         "legendgroup": "453",
         "marker": {
          "color": "rgb(82, 188, 163)",
          "line": {
           "color": "black",
           "width": 0.1
          },
          "opacity": 0.8,
          "size": 4,
          "symbol": "circle"
         },
         "mode": "markers",
         "name": "453",
         "scene": "scene",
         "showlegend": true,
         "type": "scatter3d",
         "x": [
          -0.29291623408027434
         ],
         "y": [
          -0.5002169578336358
         ],
         "z": [
          -0.014263231052133778
         ]
        },
        {
         "hovertemplate": "cluster=454<br>comp1=%{x}<br>comp2=%{y}<br>comp3=%{z}<extra></extra>",
         "legendgroup": "454",
         "marker": {
          "color": "rgb(153, 201, 69)",
          "line": {
           "color": "black",
           "width": 0.1
          },
          "opacity": 0.8,
          "size": 4,
          "symbol": "circle"
         },
         "mode": "markers",
         "name": "454",
         "scene": "scene",
         "showlegend": true,
         "type": "scatter3d",
         "x": [
          -0.29944714193151284
         ],
         "y": [
          -0.5007830806179254
         ],
         "z": [
          -0.014043024949948326
         ]
        },
        {
         "hovertemplate": "cluster=455<br>comp1=%{x}<br>comp2=%{y}<br>comp3=%{z}<extra></extra>",
         "legendgroup": "455",
         "marker": {
          "color": "rgb(204, 97, 176)",
          "line": {
           "color": "black",
           "width": 0.1
          },
          "opacity": 0.8,
          "size": 4,
          "symbol": "circle"
         },
         "mode": "markers",
         "name": "455",
         "scene": "scene",
         "showlegend": true,
         "type": "scatter3d",
         "x": [
          -0.3059647755394772
         ],
         "y": [
          -0.5013377349466325
         ],
         "z": [
          -0.013822359179586928
         ]
        },
        {
         "hovertemplate": "cluster=456<br>comp1=%{x}<br>comp2=%{y}<br>comp3=%{z}<extra></extra>",
         "legendgroup": "456",
         "marker": {
          "color": "rgb(36, 121, 108)",
          "line": {
           "color": "black",
           "width": 0.1
          },
          "opacity": 0.8,
          "size": 4,
          "symbol": "circle"
         },
         "mode": "markers",
         "name": "456",
         "scene": "scene",
         "showlegend": true,
         "type": "scatter3d",
         "x": [
          -0.31246911693929247
         ],
         "y": [
          -0.5018808983302758
         ],
         "z": [
          -0.01360124322940677
         ]
        },
        {
         "hovertemplate": "cluster=457<br>comp1=%{x}<br>comp2=%{y}<br>comp3=%{z}<extra></extra>",
         "legendgroup": "457",
         "marker": {
          "color": "rgb(218, 165, 27)",
          "line": {
           "color": "black",
           "width": 0.1
          },
          "opacity": 0.8,
          "size": 4,
          "symbol": "circle"
         },
         "mode": "markers",
         "name": "457",
         "scene": "scene",
         "showlegend": true,
         "type": "scatter3d",
         "x": [
          -0.3189601481741284
         ],
         "y": [
          -0.5024125482899473
         ],
         "z": [
          -0.013379686583674003
         ]
        },
        {
         "hovertemplate": "cluster=458<br>comp1=%{x}<br>comp2=%{y}<br>comp3=%{z}<extra></extra>",
         "legendgroup": "458",
         "marker": {
          "color": "rgb(47, 138, 196)",
          "line": {
           "color": "black",
           "width": 0.1
          },
          "opacity": 0.8,
          "size": 4,
          "symbol": "circle"
         },
         "mode": "markers",
         "name": "458",
         "scene": "scene",
         "showlegend": true,
         "type": "scatter3d",
         "x": [
          -0.3254378512951732
         ],
         "y": [
          -0.5029326623573174
         ],
         "z": [
          -0.013157698722514412
         ]
        },
        {
         "hovertemplate": "cluster=459<br>comp1=%{x}<br>comp2=%{y}<br>comp3=%{z}<extra></extra>",
         "legendgroup": "459",
         "marker": {
          "color": "rgb(118, 78, 159)",
          "line": {
           "color": "black",
           "width": 0.1
          },
          "opacity": 0.8,
          "size": 4,
          "symbol": "circle"
         },
         "mode": "markers",
         "name": "459",
         "scene": "scene",
         "showlegend": true,
         "type": "scatter3d",
         "x": [
          -0.33190220836169504
         ],
         "y": [
          -0.5034412180746785
         ],
         "z": [
          -0.012935289121933119
         ]
        },
        {
         "hovertemplate": "cluster=460<br>comp1=%{x}<br>comp2=%{y}<br>comp3=%{z}<extra></extra>",
         "legendgroup": "460",
         "marker": {
          "color": "rgb(237, 100, 90)",
          "line": {
           "color": "black",
           "width": 0.1
          },
          "opacity": 0.8,
          "size": 4,
          "symbol": "circle"
         },
         "mode": "markers",
         "name": "460",
         "scene": "scene",
         "showlegend": true,
         "type": "scatter3d",
         "x": [
          -0.3383532014410573
         ],
         "y": [
          -0.5039381929949539
         ],
         "z": [
          -0.01271246725382415
         ]
        },
        {
         "hovertemplate": "cluster=461<br>comp1=%{x}<br>comp2=%{y}<br>comp3=%{z}<extra></extra>",
         "legendgroup": "461",
         "marker": {
          "color": "rgb(165, 170, 153)",
          "line": {
           "color": "black",
           "width": 0.1
          },
          "opacity": 0.8,
          "size": 4,
          "symbol": "circle"
         },
         "mode": "markers",
         "name": "461",
         "scene": "scene",
         "showlegend": true,
         "type": "scatter3d",
         "x": [
          -0.34479081260870625
         ],
         "y": [
          -0.5044235646817267
         ],
         "z": [
          -0.012489242585913744
         ]
        },
        {
         "hovertemplate": "cluster=462<br>comp1=%{x}<br>comp2=%{y}<br>comp3=%{z}<extra></extra>",
         "legendgroup": "462",
         "marker": {
          "color": "rgb(229, 134, 6)",
          "line": {
           "color": "black",
           "width": 0.1
          },
          "opacity": 0.8,
          "size": 4,
          "symbol": "circle"
         },
         "mode": "markers",
         "name": "462",
         "scene": "scene",
         "showlegend": true,
         "type": "scatter3d",
         "x": [
          -0.35121502394819
         ],
         "y": [
          -0.504897310709247
         ],
         "z": [
          -0.012265624581777384
         ]
        },
        {
         "hovertemplate": "cluster=463<br>comp1=%{x}<br>comp2=%{y}<br>comp3=%{z}<extra></extra>",
         "legendgroup": "463",
         "marker": {
          "color": "rgb(93, 105, 177)",
          "line": {
           "color": "black",
           "width": 0.1
          },
          "opacity": 0.8,
          "size": 4,
          "symbol": "circle"
         },
         "mode": "markers",
         "name": "463",
         "scene": "scene",
         "showlegend": true,
         "type": "scatter3d",
         "x": [
          -0.35762581755121775
         ],
         "y": [
          -0.5053594086624749
         ],
         "z": [
          -0.01204162270085042
         ]
        },
        {
         "hovertemplate": "cluster=464<br>comp1=%{x}<br>comp2=%{y}<br>comp3=%{z}<extra></extra>",
         "legendgroup": "464",
         "marker": {
          "color": "rgb(82, 188, 163)",
          "line": {
           "color": "black",
           "width": 0.1
          },
          "opacity": 0.8,
          "size": 4,
          "symbol": "circle"
         },
         "mode": "markers",
         "name": "464",
         "scene": "scene",
         "showlegend": true,
         "type": "scatter3d",
         "x": [
          -0.36402317551760915
         ],
         "y": [
          -0.5058098361370853
         ],
         "z": [
          -0.011817246398367709
         ]
        },
        {
         "hovertemplate": "cluster=465<br>comp1=%{x}<br>comp2=%{y}<br>comp3=%{z}<extra></extra>",
         "legendgroup": "465",
         "marker": {
          "color": "rgb(153, 201, 69)",
          "line": {
           "color": "black",
           "width": 0.1
          },
          "opacity": 0.8,
          "size": 4,
          "symbol": "circle"
         },
         "mode": "markers",
         "name": "465",
         "scene": "scene",
         "showlegend": true,
         "type": "scatter3d",
         "x": [
          -0.37040707995537026
         ],
         "y": [
          -0.5062485707394958
         ],
         "z": [
          -0.011592505125409632
         ]
        },
        {
         "hovertemplate": "cluster=466<br>comp1=%{x}<br>comp2=%{y}<br>comp3=%{z}<extra></extra>",
         "legendgroup": "466",
         "marker": {
          "color": "rgb(204, 97, 176)",
          "line": {
           "color": "black",
           "width": 0.1
          },
          "opacity": 0.8,
          "size": 4,
          "symbol": "circle"
         },
         "mode": "markers",
         "name": "466",
         "scene": "scene",
         "showlegend": true,
         "type": "scatter3d",
         "x": [
          -0.37677751298065504
         ],
         "y": [
          -0.5066755900868893
         ],
         "z": [
          -0.011367408328834483
         ]
        },
        {
         "hovertemplate": "cluster=467<br>comp1=%{x}<br>comp2=%{y}<br>comp3=%{z}<extra></extra>",
         "legendgroup": "467",
         "marker": {
          "color": "rgb(36, 121, 108)",
          "line": {
           "color": "black",
           "width": 0.1
          },
          "opacity": 0.8,
          "size": 4,
          "symbol": "circle"
         },
         "mode": "markers",
         "name": "467",
         "scene": "scene",
         "showlegend": true,
         "type": "scatter3d",
         "x": [
          -0.38313445671781926
         ],
         "y": [
          -0.5070908718072293
         ],
         "z": [
          -0.011141965451319956
         ]
        },
        {
         "hovertemplate": "cluster=468<br>comp1=%{x}<br>comp2=%{y}<br>comp3=%{z}<extra></extra>",
         "legendgroup": "468",
         "marker": {
          "color": "rgb(218, 165, 27)",
          "line": {
           "color": "black",
           "width": 0.1
          },
          "opacity": 0.8,
          "size": 4,
          "symbol": "circle"
         },
         "mode": "markers",
         "name": "468",
         "scene": "scene",
         "showlegend": true,
         "type": "scatter3d",
         "x": [
          -0.38947789329944316
         ],
         "y": [
          -0.507494393539296
         ],
         "z": [
          -0.010916185931340971
         ]
        },
        {
         "hovertemplate": "cluster=469<br>comp1=%{x}<br>comp2=%{y}<br>comp3=%{z}<extra></extra>",
         "legendgroup": "469",
         "marker": {
          "color": "rgb(47, 138, 196)",
          "line": {
           "color": "black",
           "width": 0.1
          },
          "opacity": 0.8,
          "size": 4,
          "symbol": "circle"
         },
         "mode": "markers",
         "name": "469",
         "scene": "scene",
         "showlegend": true,
         "type": "scatter3d",
         "x": [
          -0.39580780486631023
         ],
         "y": [
          -0.5078861329326864
         ],
         "z": [
          -0.010690079203145629
         ]
        },
        {
         "hovertemplate": "cluster=470<br>comp1=%{x}<br>comp2=%{y}<br>comp3=%{z}<extra></extra>",
         "legendgroup": "470",
         "marker": {
          "color": "rgb(118, 78, 159)",
          "line": {
           "color": "black",
           "width": 0.1
          },
          "opacity": 0.8,
          "size": 4,
          "symbol": "circle"
         },
         "mode": "markers",
         "name": "470",
         "scene": "scene",
         "showlegend": true,
         "type": "scatter3d",
         "x": [
          -0.40212417356743546
         ],
         "y": [
          -0.5082660676478556
         ],
         "z": [
          -0.010463654696740113
         ]
        },
        {
         "hovertemplate": "cluster=471<br>comp1=%{x}<br>comp2=%{y}<br>comp3=%{z}<extra></extra>",
         "legendgroup": "471",
         "marker": {
          "color": "rgb(237, 100, 90)",
          "line": {
           "color": "black",
           "width": 0.1
          },
          "opacity": 0.8,
          "size": 4,
          "symbol": "circle"
         },
         "mode": "markers",
         "name": "471",
         "scene": "scene",
         "showlegend": true,
         "type": "scatter3d",
         "x": [
          -0.40842698156010765
         ],
         "y": [
          -0.5086341753561264
         ],
         "z": [
          -0.010236921837917327
         ]
        },
        {
         "hovertemplate": "cluster=472<br>comp1=%{x}<br>comp2=%{y}<br>comp3=%{z}<extra></extra>",
         "legendgroup": "472",
         "marker": {
          "color": "rgb(165, 170, 153)",
          "line": {
           "color": "black",
           "width": 0.1
          },
          "opacity": 0.8,
          "size": 4,
          "symbol": "circle"
         },
         "mode": "markers",
         "name": "472",
         "scene": "scene",
         "showlegend": true,
         "type": "scatter3d",
         "x": [
          -0.41471621100985867
         ],
         "y": [
          -0.508990433739717
         ],
         "z": [
          -0.010009890048194543
         ]
        },
        {
         "hovertemplate": "cluster=473<br>comp1=%{x}<br>comp2=%{y}<br>comp3=%{z}<extra></extra>",
         "legendgroup": "473",
         "marker": {
          "color": "rgb(229, 134, 6)",
          "line": {
           "color": "black",
           "width": 0.1
          },
          "opacity": 0.8,
          "size": 4,
          "symbol": "circle"
         },
         "mode": "markers",
         "name": "473",
         "scene": "scene",
         "showlegend": true,
         "type": "scatter3d",
         "x": [
          -0.42099184409052914
         ],
         "y": [
          -0.5093348204917596
         ],
         "z": [
          -0.009782568744856225
         ]
        },
        {
         "hovertemplate": "cluster=474<br>comp1=%{x}<br>comp2=%{y}<br>comp3=%{z}<extra></extra>",
         "legendgroup": "474",
         "marker": {
          "color": "rgb(93, 105, 177)",
          "line": {
           "color": "black",
           "width": 0.1
          },
          "opacity": 0.8,
          "size": 4,
          "symbol": "circle"
         },
         "mode": "markers",
         "name": "474",
         "scene": "scene",
         "showlegend": true,
         "type": "scatter3d",
         "x": [
          -0.4272538629842585
         ],
         "y": [
          -0.5096673133163226
         ],
         "z": [
          -0.00955496734092464
         ]
        },
        {
         "hovertemplate": "cluster=475<br>comp1=%{x}<br>comp2=%{y}<br>comp3=%{z}<extra></extra>",
         "legendgroup": "475",
         "marker": {
          "color": "rgb(82, 188, 163)",
          "line": {
           "color": "black",
           "width": 0.1
          },
          "opacity": 0.8,
          "size": 4,
          "symbol": "circle"
         },
         "mode": "markers",
         "name": "475",
         "scene": "scene",
         "showlegend": true,
         "type": "scatter3d",
         "x": [
          -0.43350224988146885
         ],
         "y": [
          -0.5099878899284325
         ],
         "z": [
          -0.009327095245104854
         ]
        },
        {
         "hovertemplate": "cluster=476<br>comp1=%{x}<br>comp2=%{y}<br>comp3=%{z}<extra></extra>",
         "legendgroup": "476",
         "marker": {
          "color": "rgb(153, 201, 69)",
          "line": {
           "color": "black",
           "width": 0.1
          },
          "opacity": 0.8,
          "size": 4,
          "symbol": "circle"
         },
         "mode": "markers",
         "name": "476",
         "scene": "scene",
         "showlegend": true,
         "type": "scatter3d",
         "x": [
          -0.4397369869809466
         ],
         "y": [
          -0.5102965280540945
         ],
         "z": [
          -0.00909896186185659
         ]
        },
        {
         "hovertemplate": "cluster=477<br>comp1=%{x}<br>comp2=%{y}<br>comp3=%{z}<extra></extra>",
         "legendgroup": "477",
         "marker": {
          "color": "rgb(204, 97, 176)",
          "line": {
           "color": "black",
           "width": 0.1
          },
          "opacity": 0.8,
          "size": 4,
          "symbol": "circle"
         },
         "mode": "markers",
         "name": "477",
         "scene": "scene",
         "showlegend": true,
         "type": "scatter3d",
         "x": [
          -0.4459580564898292
         ],
         "y": [
          -0.510593205430311
         ],
         "z": [
          -0.008870576591356033
         ]
        },
        {
         "hovertemplate": "cluster=478<br>comp1=%{x}<br>comp2=%{y}<br>comp3=%{z}<extra></extra>",
         "legendgroup": "478",
         "marker": {
          "color": "rgb(36, 121, 108)",
          "line": {
           "color": "black",
           "width": 0.1
          },
          "opacity": 0.8,
          "size": 4,
          "symbol": "circle"
         },
         "mode": "markers",
         "name": "478",
         "scene": "scene",
         "showlegend": true,
         "type": "scatter3d",
         "x": [
          -0.45216544062357766
         ],
         "y": [
          -0.5108778998051127
         ],
         "z": [
          -0.008641948829421516
         ]
        },
        {
         "hovertemplate": "cluster=479<br>comp1=%{x}<br>comp2=%{y}<br>comp3=%{z}<extra></extra>",
         "legendgroup": "479",
         "marker": {
          "color": "rgb(218, 165, 27)",
          "line": {
           "color": "black",
           "width": 0.1
          },
          "opacity": 0.8,
          "size": 4,
          "symbol": "circle"
         },
         "mode": "markers",
         "name": "479",
         "scene": "scene",
         "showlegend": true,
         "type": "scatter3d",
         "x": [
          -0.4583591216060681
         ],
         "y": [
          -0.5111505889375711
         ],
         "z": [
          -0.00841308796760589
         ]
        },
        {
         "hovertemplate": "cluster=480<br>comp1=%{x}<br>comp2=%{y}<br>comp3=%{z}<extra></extra>",
         "legendgroup": "480",
         "marker": {
          "color": "rgb(47, 138, 196)",
          "line": {
           "color": "black",
           "width": 0.1
          },
          "opacity": 0.8,
          "size": 4,
          "symbol": "circle"
         },
         "mode": "markers",
         "name": "480",
         "scene": "scene",
         "showlegend": true,
         "type": "scatter3d",
         "x": [
          -0.46453908166955415
         ],
         "y": [
          -0.5114112505978206
         ],
         "z": [
          -0.008184003393127965
         ]
        },
        {
         "hovertemplate": "cluster=481<br>comp1=%{x}<br>comp2=%{y}<br>comp3=%{z}<extra></extra>",
         "legendgroup": "481",
         "marker": {
          "color": "rgb(118, 78, 159)",
          "line": {
           "color": "black",
           "width": 0.1
          },
          "opacity": 0.8,
          "size": 4,
          "symbol": "circle"
         },
         "mode": "markers",
         "name": "481",
         "scene": "scene",
         "showlegend": true,
         "type": "scatter3d",
         "x": [
          -0.4707053030547021
         ],
         "y": [
          -0.5116598625670912
         ],
         "z": [
          -0.007954704488860676
         ]
        },
        {
         "hovertemplate": "cluster=482<br>comp1=%{x}<br>comp2=%{y}<br>comp3=%{z}<extra></extra>",
         "legendgroup": "482",
         "marker": {
          "color": "rgb(237, 100, 90)",
          "line": {
           "color": "black",
           "width": 0.1
          },
          "opacity": 0.8,
          "size": 4,
          "symbol": "circle"
         },
         "mode": "markers",
         "name": "482",
         "scene": "scene",
         "showlegend": true,
         "type": "scatter3d",
         "x": [
          -0.4768577680105886
         ],
         "y": [
          -0.511896402637708
         ],
         "z": [
          -0.00772520063334259
         ]
        },
        {
         "hovertemplate": "cluster=483<br>comp1=%{x}<br>comp2=%{y}<br>comp3=%{z}<extra></extra>",
         "legendgroup": "483",
         "marker": {
          "color": "rgb(165, 170, 153)",
          "line": {
           "color": "black",
           "width": 0.1
          },
          "opacity": 0.8,
          "size": 4,
          "symbol": "circle"
         },
         "mode": "markers",
         "name": "483",
         "scene": "scene",
         "showlegend": true,
         "type": "scatter3d",
         "x": [
          -0.48299645879474434
         ],
         "y": [
          -0.5121208486131358
         ],
         "z": [
          -0.007495501200761235
         ]
        },
        {
         "hovertemplate": "cluster=484<br>comp1=%{x}<br>comp2=%{y}<br>comp3=%{z}<extra></extra>",
         "legendgroup": "484",
         "marker": {
          "color": "rgb(229, 134, 6)",
          "line": {
           "color": "black",
           "width": 0.1
          },
          "opacity": 0.8,
          "size": 4,
          "symbol": "circle"
         },
         "mode": "markers",
         "name": "484",
         "scene": "scene",
         "showlegend": true,
         "type": "scatter3d",
         "x": [
          -0.4891213576731644
         ],
         "y": [
          -0.5123331783079818
         ],
         "z": [
          -0.007265615560965572
         ]
        },
        {
         "hovertemplate": "cluster=485<br>comp1=%{x}<br>comp2=%{y}<br>comp3=%{z}<extra></extra>",
         "legendgroup": "485",
         "marker": {
          "color": "rgb(93, 105, 177)",
          "line": {
           "color": "black",
           "width": 0.1
          },
          "opacity": 0.8,
          "size": 4,
          "symbol": "circle"
         },
         "mode": "markers",
         "name": "485",
         "scene": "scene",
         "showlegend": true,
         "type": "scatter3d",
         "x": [
          -0.4952324469202927
         ],
         "y": [
          -0.5125333695480334
         ],
         "z": [
          -0.00703555307940319
         ]
        },
        {
         "hovertemplate": "cluster=486<br>comp1=%{x}<br>comp2=%{y}<br>comp3=%{z}<extra></extra>",
         "legendgroup": "486",
         "marker": {
          "color": "rgb(82, 188, 163)",
          "line": {
           "color": "black",
           "width": 0.1
          },
          "opacity": 0.8,
          "size": 4,
          "symbol": "circle"
         },
         "mode": "markers",
         "name": "486",
         "scene": "scene",
         "showlegend": true,
         "type": "scatter3d",
         "x": [
          -0.5013297088190595
         ],
         "y": [
          -0.5127214001702691
         ],
         "z": [
          -0.006805323117143414
         ]
        },
        {
         "hovertemplate": "cluster=487<br>comp1=%{x}<br>comp2=%{y}<br>comp3=%{z}<extra></extra>",
         "legendgroup": "487",
         "marker": {
          "color": "rgb(153, 201, 69)",
          "line": {
           "color": "black",
           "width": 0.1
          },
          "opacity": 0.8,
          "size": 4,
          "symbol": "circle"
         },
         "mode": "markers",
         "name": "487",
         "scene": "scene",
         "showlegend": true,
         "type": "scatter3d",
         "x": [
          -0.5074131256609277
         ],
         "y": [
          -0.512897248022882
         ],
         "z": [
          -0.006574935030905381
         ]
        },
        {
         "hovertemplate": "cluster=488<br>comp1=%{x}<br>comp2=%{y}<br>comp3=%{z}<extra></extra>",
         "legendgroup": "488",
         "marker": {
          "color": "rgb(204, 97, 176)",
          "line": {
           "color": "black",
           "width": 0.1
          },
          "opacity": 0.8,
          "size": 4,
          "symbol": "circle"
         },
         "mode": "markers",
         "name": "488",
         "scene": "scene",
         "showlegend": true,
         "type": "scatter3d",
         "x": [
          -0.5134826797458284
         ],
         "y": [
          -0.5130608909652976
         ],
         "z": [
          -0.006344398172959537
         ]
        },
        {
         "hovertemplate": "cluster=489<br>comp1=%{x}<br>comp2=%{y}<br>comp3=%{z}<extra></extra>",
         "legendgroup": "489",
         "marker": {
          "color": "rgb(36, 121, 108)",
          "line": {
           "color": "black",
           "width": 0.1
          },
          "opacity": 0.8,
          "size": 4,
          "symbol": "circle"
         },
         "mode": "markers",
         "name": "489",
         "scene": "scene",
         "showlegend": true,
         "type": "scatter3d",
         "x": [
          -0.5195383533822735
         ],
         "y": [
          -0.5132123068682123
         ],
         "z": [
          -0.006113721891207955
         ]
        },
        {
         "hovertemplate": "cluster=490<br>comp1=%{x}<br>comp2=%{y}<br>comp3=%{z}<extra></extra>",
         "legendgroup": "490",
         "marker": {
          "color": "rgb(218, 165, 27)",
          "line": {
           "color": "black",
           "width": 0.1
          },
          "opacity": 0.8,
          "size": 4,
          "symbol": "circle"
         },
         "mode": "markers",
         "name": "490",
         "scene": "scene",
         "showlegend": true,
         "type": "scatter3d",
         "x": [
          -0.5255801288872849
         ],
         "y": [
          -0.5133514736135829
         ],
         "z": [
          -0.005882915529115873
         ]
        },
        {
         "hovertemplate": "cluster=491<br>comp1=%{x}<br>comp2=%{y}<br>comp3=%{z}<extra></extra>",
         "legendgroup": "491",
         "marker": {
          "color": "rgb(47, 138, 196)",
          "line": {
           "color": "black",
           "width": 0.1
          },
          "opacity": 0.8,
          "size": 4,
          "symbol": "circle"
         },
         "mode": "markers",
         "name": "491",
         "scene": "scene",
         "showlegend": true,
         "type": "scatter3d",
         "x": [
          -0.5316079885864665
         ],
         "y": [
          -0.5134783690946831
         ],
         "z": [
          -0.005651988425725945
         ]
        },
        {
         "hovertemplate": "cluster=492<br>comp1=%{x}<br>comp2=%{y}<br>comp3=%{z}<extra></extra>",
         "legendgroup": "492",
         "marker": {
          "color": "rgb(118, 78, 159)",
          "line": {
           "color": "black",
           "width": 0.1
          },
          "opacity": 0.8,
          "size": 4,
          "symbol": "circle"
         },
         "mode": "markers",
         "name": "492",
         "scene": "scene",
         "showlegend": true,
         "type": "scatter3d",
         "x": [
          -0.5376219148140075
         ],
         "y": [
          -0.5135929712160964
         ],
         "z": [
          -0.005420949915664077
         ]
        },
        {
         "hovertemplate": "cluster=493<br>comp1=%{x}<br>comp2=%{y}<br>comp3=%{z}<extra></extra>",
         "legendgroup": "493",
         "marker": {
          "color": "rgb(237, 100, 90)",
          "line": {
           "color": "black",
           "width": 0.1
          },
          "opacity": 0.8,
          "size": 4,
          "symbol": "circle"
         },
         "mode": "markers",
         "name": "493",
         "scene": "scene",
         "showlegend": true,
         "type": "scatter3d",
         "x": [
          -0.5436218899126709
         ],
         "y": [
          -0.5136952578937587
         ],
         "z": [
          -0.005189809329084496
         ]
        },
        {
         "hovertemplate": "cluster=494<br>comp1=%{x}<br>comp2=%{y}<br>comp3=%{z}<extra></extra>",
         "legendgroup": "494",
         "marker": {
          "color": "rgb(165, 170, 153)",
          "line": {
           "color": "black",
           "width": 0.1
          },
          "opacity": 0.8,
          "size": 4,
          "symbol": "circle"
         },
         "mode": "markers",
         "name": "494",
         "scene": "scene",
         "showlegend": true,
         "type": "scatter3d",
         "x": [
          -0.5496078962338571
         ],
         "y": [
          -0.5137852070549699
         ],
         "z": [
          -0.0049585759917129485
         ]
        },
        {
         "hovertemplate": "cluster=495<br>comp1=%{x}<br>comp2=%{y}<br>comp3=%{z}<extra></extra>",
         "legendgroup": "495",
         "marker": {
          "color": "rgb(229, 134, 6)",
          "line": {
           "color": "black",
           "width": 0.1
          },
          "opacity": 0.8,
          "size": 4,
          "symbol": "circle"
         },
         "mode": "markers",
         "name": "495",
         "scene": "scene",
         "showlegend": true,
         "type": "scatter3d",
         "x": [
          -0.5555799161375522
         ],
         "y": [
          -0.5138627966384111
         ],
         "z": [
          -0.004727259224778707
         ]
        },
        {
         "hovertemplate": "cluster=496<br>comp1=%{x}<br>comp2=%{y}<br>comp3=%{z}<extra></extra>",
         "legendgroup": "496",
         "marker": {
          "color": "rgb(93, 105, 177)",
          "line": {
           "color": "black",
           "width": 0.1
          },
          "opacity": 0.8,
          "size": 4,
          "symbol": "circle"
         },
         "mode": "markers",
         "name": "496",
         "scene": "scene",
         "showlegend": true,
         "type": "scatter3d",
         "x": [
          -0.5615379319924203
         ],
         "y": [
          -0.5139280045941699
         ],
         "z": [
          -0.004495868345077748
         ]
        },
        {
         "hovertemplate": "cluster=497<br>comp1=%{x}<br>comp2=%{y}<br>comp3=%{z}<extra></extra>",
         "legendgroup": "497",
         "marker": {
          "color": "rgb(82, 188, 163)",
          "line": {
           "color": "black",
           "width": 0.1
          },
          "opacity": 0.8,
          "size": 4,
          "symbol": "circle"
         },
         "mode": "markers",
         "name": "497",
         "scene": "scene",
         "showlegend": true,
         "type": "scatter3d",
         "x": [
          -0.5674819261757588
         ],
         "y": [
          -0.51398080888377
         ],
         "z": [
          -0.00426441266489117
         ]
        },
        {
         "hovertemplate": "cluster=498<br>comp1=%{x}<br>comp2=%{y}<br>comp3=%{z}<extra></extra>",
         "legendgroup": "498",
         "marker": {
          "color": "rgb(153, 201, 69)",
          "line": {
           "color": "black",
           "width": 0.1
          },
          "opacity": 0.8,
          "size": 4,
          "symbol": "circle"
         },
         "mode": "markers",
         "name": "498",
         "scene": "scene",
         "showlegend": true,
         "type": "scatter3d",
         "x": [
          -0.5734118810735498
         ],
         "y": [
          -0.5140211874801768
         ],
         "z": [
          -0.004032901492036651
         ]
        },
        {
         "hovertemplate": "cluster=499<br>comp1=%{x}<br>comp2=%{y}<br>comp3=%{z}<extra></extra>",
         "legendgroup": "499",
         "marker": {
          "color": "rgb(204, 97, 176)",
          "line": {
           "color": "black",
           "width": 0.1
          },
          "opacity": 0.8,
          "size": 4,
          "symbol": "circle"
         },
         "mode": "markers",
         "name": "499",
         "scene": "scene",
         "showlegend": true,
         "type": "scatter3d",
         "x": [
          -0.579327779080452
         ],
         "y": [
          -0.5140491183678326
         ],
         "z": [
          -0.003801344129810125
         ]
        },
        {
         "hovertemplate": "cluster=500<br>comp1=%{x}<br>comp2=%{y}<br>comp3=%{z}<extra></extra>",
         "legendgroup": "500",
         "marker": {
          "color": "rgb(36, 121, 108)",
          "line": {
           "color": "black",
           "width": 0.1
          },
          "opacity": 0.8,
          "size": 4,
          "symbol": "circle"
         },
         "mode": "markers",
         "name": "500",
         "scene": "scene",
         "showlegend": true,
         "type": "scatter3d",
         "x": [
          -0.585229602599837
         ],
         "y": [
          -0.514064579542666
         ],
         "z": [
          -0.0035697498770187524
         ]
        },
        {
         "hovertemplate": "cluster=501<br>comp1=%{x}<br>comp2=%{y}<br>comp3=%{z}<extra></extra>",
         "legendgroup": "501",
         "marker": {
          "color": "rgb(218, 165, 27)",
          "line": {
           "color": "black",
           "width": 0.1
          },
          "opacity": 0.8,
          "size": 4,
          "symbol": "circle"
         },
         "mode": "markers",
         "name": "501",
         "scene": "scene",
         "showlegend": true,
         "type": "scatter3d",
         "x": [
          -0.5911173340437745
         ],
         "y": [
          -0.514067549012126
         ],
         "z": [
          -0.003338128027918272
         ]
        },
        {
         "hovertemplate": "cluster=502<br>comp1=%{x}<br>comp2=%{y}<br>comp3=%{z}<extra></extra>",
         "legendgroup": "502",
         "marker": {
          "color": "rgb(47, 138, 196)",
          "line": {
           "color": "black",
           "width": 0.1
          },
          "opacity": 0.8,
          "size": 4,
          "symbol": "circle"
         },
         "mode": "markers",
         "name": "502",
         "scene": "scene",
         "showlegend": true,
         "type": "scatter3d",
         "x": [
          -0.5969909558330945
         ],
         "y": [
          -0.5140580047951941
         ],
         "z": [
          -0.0031064878722760437
         ]
        },
        {
         "hovertemplate": "cluster=503<br>comp1=%{x}<br>comp2=%{y}<br>comp3=%{z}<extra></extra>",
         "legendgroup": "503",
         "marker": {
          "color": "rgb(118, 78, 159)",
          "line": {
           "color": "black",
           "width": 0.1
          },
          "opacity": 0.8,
          "size": 4,
          "symbol": "circle"
         },
         "mode": "markers",
         "name": "503",
         "scene": "scene",
         "showlegend": true,
         "type": "scatter3d",
         "x": [
          -0.6028504503973467
         ],
         "y": [
          -0.5140359249224072
         ],
         "z": [
          -0.002874838695285884
         ]
        },
        {
         "hovertemplate": "cluster=504<br>comp1=%{x}<br>comp2=%{y}<br>comp3=%{z}<extra></extra>",
         "legendgroup": "504",
         "marker": {
          "color": "rgb(237, 100, 90)",
          "line": {
           "color": "black",
           "width": 0.1
          },
          "opacity": 0.8,
          "size": 4,
          "symbol": "circle"
         },
         "mode": "markers",
         "name": "504",
         "scene": "scene",
         "showlegend": true,
         "type": "scatter3d",
         "x": [
          -0.6086958001748667
         ],
         "y": [
          -0.5140012874358786
         ],
         "z": [
          -0.002643189777621426
         ]
        },
        {
         "hovertemplate": "cluster=505<br>comp1=%{x}<br>comp2=%{y}<br>comp3=%{z}<extra></extra>",
         "legendgroup": "505",
         "marker": {
          "color": "rgb(165, 170, 153)",
          "line": {
           "color": "black",
           "width": 0.1
          },
          "opacity": 0.8,
          "size": 4,
          "symbol": "circle"
         },
         "mode": "markers",
         "name": "505",
         "scene": "scene",
         "showlegend": true,
         "type": "scatter3d",
         "x": [
          -0.6145269876127564
         ],
         "y": [
          -0.5139540703893174
         ],
         "z": [
          -0.0024115503953920656
         ]
        },
        {
         "hovertemplate": "cluster=506<br>comp1=%{x}<br>comp2=%{y}<br>comp3=%{z}<extra></extra>",
         "legendgroup": "506",
         "marker": {
          "color": "rgb(229, 134, 6)",
          "line": {
           "color": "black",
           "width": 0.1
          },
          "opacity": 0.8,
          "size": 4,
          "symbol": "circle"
         },
         "mode": "markers",
         "name": "506",
         "scene": "scene",
         "showlegend": true,
         "type": "scatter3d",
         "x": [
          -0.6203439951669174
         ],
         "y": [
          -0.5138942518480619
         ],
         "z": [
          -0.0021799298201340632
         ]
        },
        {
         "hovertemplate": "cluster=507<br>comp1=%{x}<br>comp2=%{y}<br>comp3=%{z}<extra></extra>",
         "legendgroup": "507",
         "marker": {
          "color": "rgb(93, 105, 177)",
          "line": {
           "color": "black",
           "width": 0.1
          },
          "opacity": 0.8,
          "size": 4,
          "symbol": "circle"
         },
         "mode": "markers",
         "name": "507",
         "scene": "scene",
         "showlegend": true,
         "type": "scatter3d",
         "x": [
          -0.6261468053020527
         ],
         "y": [
          -0.5138218098890853
         ],
         "z": [
          -0.001948337318809073
         ]
        },
        {
         "hovertemplate": "cluster=508<br>comp1=%{x}<br>comp2=%{y}<br>comp3=%{z}<extra></extra>",
         "legendgroup": "508",
         "marker": {
          "color": "rgb(82, 188, 163)",
          "line": {
           "color": "black",
           "width": 0.1
          },
          "opacity": 0.8,
          "size": 4,
          "symbol": "circle"
         },
         "mode": "markers",
         "name": "508",
         "scene": "scene",
         "showlegend": true,
         "type": "scatter3d",
         "x": [
          -0.631935400491708
         ],
         "y": [
          -0.5137367226010201
         ],
         "z": [
          -0.0017167821538168458
         ]
        },
        {
         "hovertemplate": "cluster=509<br>comp1=%{x}<br>comp2=%{y}<br>comp3=%{z}<extra></extra>",
         "legendgroup": "509",
         "marker": {
          "color": "rgb(153, 201, 69)",
          "line": {
           "color": "black",
           "width": 0.1
          },
          "opacity": 0.8,
          "size": 4,
          "symbol": "circle"
         },
         "mode": "markers",
         "name": "509",
         "scene": "scene",
         "showlegend": true,
         "type": "scatter3d",
         "x": [
          -0.6377097632182501
         ],
         "y": [
          -0.5136389680841895
         ],
         "z": [
          -0.0014852735829354094
         ]
        },
        {
         "hovertemplate": "cluster=510<br>comp1=%{x}<br>comp2=%{y}<br>comp3=%{z}<extra></extra>",
         "legendgroup": "510",
         "marker": {
          "color": "rgb(204, 97, 176)",
          "line": {
           "color": "black",
           "width": 0.1
          },
          "opacity": 0.8,
          "size": 4,
          "symbol": "circle"
         },
         "mode": "markers",
         "name": "510",
         "scene": "scene",
         "showlegend": true,
         "type": "scatter3d",
         "x": [
          -0.6434698759729116
         ],
         "y": [
          -0.5135285244506126
         ],
         "z": [
          -0.00125382085935869
         ]
        },
        {
         "hovertemplate": "cluster=511<br>comp1=%{x}<br>comp2=%{y}<br>comp3=%{z}<extra></extra>",
         "legendgroup": "511",
         "marker": {
          "color": "rgb(36, 121, 108)",
          "line": {
           "color": "black",
           "width": 0.1
          },
          "opacity": 0.8,
          "size": 4,
          "symbol": "circle"
         },
         "mode": "markers",
         "name": "511",
         "scene": "scene",
         "showlegend": true,
         "type": "scatter3d",
         "x": [
          -0.6492157212557915
         ],
         "y": [
          -0.5134053698240423
         ],
         "z": [
          -0.001022433231660489
         ]
        },
        {
         "hovertemplate": "cluster=512<br>comp1=%{x}<br>comp2=%{y}<br>comp3=%{z}<extra></extra>",
         "legendgroup": "512",
         "marker": {
          "color": "rgb(218, 165, 27)",
          "line": {
           "color": "black",
           "width": 0.1
          },
          "opacity": 0.8,
          "size": 4,
          "symbol": "circle"
         },
         "mode": "markers",
         "name": "512",
         "scene": "scene",
         "showlegend": true,
         "type": "scatter3d",
         "x": [
          -0.6549472815758783
         ],
         "y": [
          -0.5132694823399717
         ],
         "z": [
          -0.0007911199437990001
         ]
        },
        {
         "hovertemplate": "cluster=513<br>comp1=%{x}<br>comp2=%{y}<br>comp3=%{z}<extra></extra>",
         "legendgroup": "513",
         "marker": {
          "color": "rgb(47, 138, 196)",
          "line": {
           "color": "black",
           "width": 0.1
          },
          "opacity": 0.8,
          "size": 4,
          "symbol": "circle"
         },
         "mode": "markers",
         "name": "513",
         "scene": "scene",
         "showlegend": true,
         "type": "scatter3d",
         "x": [
          -0.6606645394510527
         ],
         "y": [
          -0.5131208401456683
         ],
         "z": [
          -0.0005598902350885032
         ]
        },
        {
         "hovertemplate": "cluster=514<br>comp1=%{x}<br>comp2=%{y}<br>comp3=%{z}<extra></extra>",
         "legendgroup": "514",
         "marker": {
          "color": "rgb(118, 78, 159)",
          "line": {
           "color": "black",
           "width": 0.1
          },
          "opacity": 0.8,
          "size": 4,
          "symbol": "circle"
         },
         "mode": "markers",
         "name": "514",
         "scene": "scene",
         "showlegend": true,
         "type": "scatter3d",
         "x": [
          -0.6663674774081313
         ],
         "y": [
          -0.5129594214001836
         ],
         "z": [
          -0.0003287533402284615
         ]
        },
        {
         "hovertemplate": "cluster=515<br>comp1=%{x}<br>comp2=%{y}<br>comp3=%{z}<extra></extra>",
         "legendgroup": "515",
         "marker": {
          "color": "rgb(237, 100, 90)",
          "line": {
           "color": "black",
           "width": 0.1
          },
          "opacity": 0.8,
          "size": 4,
          "symbol": "circle"
         },
         "mode": "markers",
         "name": "515",
         "scene": "scene",
         "showlegend": true,
         "type": "scatter3d",
         "x": [
          -0.6720560779828494
         ],
         "y": [
          -0.512785204274378
         ],
         "z": [
          -0.00009771848925957753
         ]
        },
        {
         "hovertemplate": "cluster=516<br>comp1=%{x}<br>comp2=%{y}<br>comp3=%{z}<extra></extra>",
         "legendgroup": "516",
         "marker": {
          "color": "rgb(165, 170, 153)",
          "line": {
           "color": "black",
           "width": 0.1
          },
          "opacity": 0.8,
          "size": 4,
          "symbol": "circle"
         },
         "mode": "markers",
         "name": "516",
         "scene": "scene",
         "showlegend": true,
         "type": "scatter3d",
         "x": [
          -0.6777303237198737
         ],
         "y": [
          -0.5125981669509488
         ],
         "z": [
          0.00013320509246173609
         ]
        },
        {
         "hovertemplate": "cluster=517<br>comp1=%{x}<br>comp2=%{y}<br>comp3=%{z}<extra></extra>",
         "legendgroup": "517",
         "marker": {
          "color": "rgb(229, 134, 6)",
          "line": {
           "color": "black",
           "width": 0.1
          },
          "opacity": 0.8,
          "size": 4,
          "symbol": "circle"
         },
         "mode": "markers",
         "name": "517",
         "scene": "scene",
         "showlegend": true,
         "type": "scatter3d",
         "x": [
          -0.6833901971728754
         ],
         "y": [
          -0.5123982876244433
         ],
         "z": [
          0.0003640081841968104
         ]
        },
        {
         "hovertemplate": "cluster=518<br>comp1=%{x}<br>comp2=%{y}<br>comp3=%{z}<extra></extra>",
         "legendgroup": "518",
         "marker": {
          "color": "rgb(93, 105, 177)",
          "line": {
           "color": "black",
           "width": 0.1
          },
          "opacity": 0.8,
          "size": 4,
          "symbol": "circle"
         },
         "mode": "markers",
         "name": "518",
         "scene": "scene",
         "showlegend": true,
         "type": "scatter3d",
         "x": [
          -0.6890356809044608
         ],
         "y": [
          -0.512185544501281
         ],
         "z": [
          0.0005946815699291975
         ]
        },
        {
         "hovertemplate": "cluster=519<br>comp1=%{x}<br>comp2=%{y}<br>comp3=%{z}<extra></extra>",
         "legendgroup": "519",
         "marker": {
          "color": "rgb(82, 188, 163)",
          "line": {
           "color": "black",
           "width": 0.1
          },
          "opacity": 0.8,
          "size": 4,
          "symbol": "circle"
         },
         "mode": "markers",
         "name": "519",
         "scene": "scene",
         "showlegend": true,
         "type": "scatter3d",
         "x": [
          -0.6946667574862555
         ],
         "y": [
          -0.511959915799775
         ],
         "z": [
          0.0008252160382952158
         ]
        },
        {
         "hovertemplate": "cluster=520<br>comp1=%{x}<br>comp2=%{y}<br>comp3=%{z}<extra></extra>",
         "legendgroup": "520",
         "marker": {
          "color": "rgb(153, 201, 69)",
          "line": {
           "color": "black",
           "width": 0.1
          },
          "opacity": 0.8,
          "size": 4,
          "symbol": "circle"
         },
         "mode": "markers",
         "name": "520",
         "scene": "scene",
         "showlegend": true,
         "type": "scatter3d",
         "x": [
          -0.7002834094988781
         ],
         "y": [
          -0.5117213797501566
         ],
         "z": [
          0.0010556023826506977
         ]
        },
        {
         "hovertemplate": "cluster=521<br>comp1=%{x}<br>comp2=%{y}<br>comp3=%{z}<extra></extra>",
         "legendgroup": "521",
         "marker": {
          "color": "rgb(204, 97, 176)",
          "line": {
           "color": "black",
           "width": 0.1
          },
          "opacity": 0.8,
          "size": 4,
          "symbol": "circle"
         },
         "mode": "markers",
         "name": "521",
         "scene": "scene",
         "showlegend": true,
         "type": "scatter3d",
         "x": [
          -0.7058856195319876
         ],
         "y": [
          -0.5114699145945953
         ],
         "z": [
          0.0012858314010341075
         ]
        },
        {
         "hovertemplate": "cluster=522<br>comp1=%{x}<br>comp2=%{y}<br>comp3=%{z}<extra></extra>",
         "legendgroup": "522",
         "marker": {
          "color": "rgb(36, 121, 108)",
          "line": {
           "color": "black",
           "width": 0.1
          },
          "opacity": 0.8,
          "size": 4,
          "symbol": "circle"
         },
         "mode": "markers",
         "name": "522",
         "scene": "scene",
         "showlegend": true,
         "type": "scatter3d",
         "x": [
          -0.711473370184264
         ],
         "y": [
          -0.5112054985872118
         ],
         "z": [
          0.0015158938962097504
         ]
        },
        {
         "hovertemplate": "cluster=523<br>comp1=%{x}<br>comp2=%{y}<br>comp3=%{z}<extra></extra>",
         "legendgroup": "523",
         "marker": {
          "color": "rgb(218, 165, 27)",
          "line": {
           "color": "black",
           "width": 0.1
          },
          "opacity": 0.8,
          "size": 4,
          "symbol": "circle"
         },
         "mode": "markers",
         "name": "523",
         "scene": "scene",
         "showlegend": true,
         "type": "scatter3d",
         "x": [
          -0.7170466440634492
         ],
         "y": [
          -0.5109281099941106
         ],
         "z": [
          0.0017457806756645741
         ]
        },
        {
         "hovertemplate": "cluster=524<br>comp1=%{x}<br>comp2=%{y}<br>comp3=%{z}<extra></extra>",
         "legendgroup": "524",
         "marker": {
          "color": "rgb(47, 138, 196)",
          "line": {
           "color": "black",
           "width": 0.1
          },
          "opacity": 0.8,
          "size": 4,
          "symbol": "circle"
         },
         "mode": "markers",
         "name": "524",
         "scene": "scene",
         "showlegend": true,
         "type": "scatter3d",
         "x": [
          -0.7226054237863552
         ],
         "y": [
          -0.5106377270933964
         ],
         "z": [
          0.0019754825516116624
         ]
        },
        {
         "hovertemplate": "cluster=525<br>comp1=%{x}<br>comp2=%{y}<br>comp3=%{z}<extra></extra>",
         "legendgroup": "525",
         "marker": {
          "color": "rgb(118, 78, 159)",
          "line": {
           "color": "black",
           "width": 0.1
          },
          "opacity": 0.8,
          "size": 4,
          "symbol": "circle"
         },
         "mode": "markers",
         "name": "525",
         "scene": "scene",
         "showlegend": true,
         "type": "scatter3d",
         "x": [
          -0.7281496919788761
         ],
         "y": [
          -0.5103343281751902
         ],
         "z": [
          0.0022049903410074306
         ]
        },
        {
         "hovertemplate": "cluster=526<br>comp1=%{x}<br>comp2=%{y}<br>comp3=%{z}<extra></extra>",
         "legendgroup": "526",
         "marker": {
          "color": "rgb(237, 100, 90)",
          "line": {
           "color": "black",
           "width": 0.1
          },
          "opacity": 0.8,
          "size": 4,
          "symbol": "circle"
         },
         "mode": "markers",
         "name": "526",
         "scene": "scene",
         "showlegend": true,
         "type": "scatter3d",
         "x": [
          -0.7336794312760117
         ],
         "y": [
          -0.5100178915416606
         ],
         "z": [
          0.0024342948655544623
         ]
        },
        {
         "hovertemplate": "cluster=527<br>comp1=%{x}<br>comp2=%{y}<br>comp3=%{z}<extra></extra>",
         "legendgroup": "527",
         "marker": {
          "color": "rgb(165, 170, 153)",
          "line": {
           "color": "black",
           "width": 0.1
          },
          "opacity": 0.8,
          "size": 4,
          "symbol": "circle"
         },
         "mode": "markers",
         "name": "527",
         "scene": "scene",
         "showlegend": true,
         "type": "scatter3d",
         "x": [
          -0.73919462432186
         ],
         "y": [
          -0.5096883955070323
         ],
         "z": [
          0.0026633869517255697
         ]
        },
        {
         "hovertemplate": "cluster=528<br>comp1=%{x}<br>comp2=%{y}<br>comp3=%{z}<extra></extra>",
         "legendgroup": "528",
         "marker": {
          "color": "rgb(229, 134, 6)",
          "line": {
           "color": "black",
           "width": 0.1
          },
          "opacity": 0.8,
          "size": 4,
          "symbol": "circle"
         },
         "mode": "markers",
         "name": "528",
         "scene": "scene",
         "showlegend": true,
         "type": "scatter3d",
         "x": [
          -0.7446952537696728
         ],
         "y": [
          -0.5093458183976168
         ],
         "z": [
          0.0028922574307406025
         ]
        },
        {
         "hovertemplate": "cluster=529<br>comp1=%{x}<br>comp2=%{y}<br>comp3=%{z}<extra></extra>",
         "legendgroup": "529",
         "marker": {
          "color": "rgb(93, 105, 177)",
          "line": {
           "color": "black",
           "width": 0.1
          },
          "opacity": 0.8,
          "size": 4,
          "symbol": "circle"
         },
         "mode": "markers",
         "name": "529",
         "scene": "scene",
         "showlegend": true,
         "type": "scatter3d",
         "x": [
          -0.750181302281816
         ],
         "y": [
          -0.5089901385518332
         ],
         "z": [
          0.003120897138634186
         ]
        },
        {
         "hovertemplate": "cluster=530<br>comp1=%{x}<br>comp2=%{y}<br>comp3=%{z}<extra></extra>",
         "legendgroup": "530",
         "marker": {
          "color": "rgb(82, 188, 163)",
          "line": {
           "color": "black",
           "width": 0.1
          },
          "opacity": 0.8,
          "size": 4,
          "symbol": "circle"
         },
         "mode": "markers",
         "name": "530",
         "scene": "scene",
         "showlegend": true,
         "type": "scatter3d",
         "x": [
          -0.7556527525298568
         ],
         "y": [
          -0.5086213343202245
         ],
         "z": [
          0.003349296916179012
         ]
        },
        {
         "hovertemplate": "cluster=531<br>comp1=%{x}<br>comp2=%{y}<br>comp3=%{z}<extra></extra>",
         "legendgroup": "531",
         "marker": {
          "color": "rgb(153, 201, 69)",
          "line": {
           "color": "black",
           "width": 0.1
          },
          "opacity": 0.8,
          "size": 4,
          "symbol": "circle"
         },
         "mode": "markers",
         "name": "531",
         "scene": "scene",
         "showlegend": true,
         "type": "scatter3d",
         "x": [
          -0.7611095871945017
         ],
         "y": [
          -0.5082393840654744
         ],
         "z": [
          0.00357744760897685
         ]
        },
        {
         "hovertemplate": "cluster=532<br>comp1=%{x}<br>comp2=%{y}<br>comp3=%{z}<extra></extra>",
         "legendgroup": "532",
         "marker": {
          "color": "rgb(204, 97, 176)",
          "line": {
           "color": "black",
           "width": 0.1
          },
          "opacity": 0.8,
          "size": 4,
          "symbol": "circle"
         },
         "mode": "markers",
         "name": "532",
         "scene": "scene",
         "showlegend": true,
         "type": "scatter3d",
         "x": [
          -0.766551788965664
         ],
         "y": [
          -0.5078442661624409
         ],
         "z": [
          0.0038053400674246587
         ]
        },
        {
         "hovertemplate": "cluster=533<br>comp1=%{x}<br>comp2=%{y}<br>comp3=%{z}<extra></extra>",
         "legendgroup": "533",
         "marker": {
          "color": "rgb(36, 121, 108)",
          "line": {
           "color": "black",
           "width": 0.1
          },
          "opacity": 0.8,
          "size": 4,
          "symbol": "circle"
         },
         "mode": "markers",
         "name": "533",
         "scene": "scene",
         "showlegend": true,
         "type": "scatter3d",
         "x": [
          -0.7719793405424547
         ],
         "y": [
          -0.5074359589981712
         ],
         "z": [
          0.00403296514674545
         ]
        },
        {
         "hovertemplate": "cluster=534<br>comp1=%{x}<br>comp2=%{y}<br>comp3=%{z}<extra></extra>",
         "legendgroup": "534",
         "marker": {
          "color": "rgb(218, 165, 27)",
          "line": {
           "color": "black",
           "width": 0.1
          },
          "opacity": 0.8,
          "size": 4,
          "symbol": "circle"
         },
         "mode": "markers",
         "name": "534",
         "scene": "scene",
         "showlegend": true,
         "type": "scatter3d",
         "x": [
          -0.7773922246332156
         ],
         "y": [
          -0.507014440971915
         ],
         "z": [
          0.0042603137069622795
         ]
        },
        {
         "hovertemplate": "cluster=535<br>comp1=%{x}<br>comp2=%{y}<br>comp3=%{z}<extra></extra>",
         "legendgroup": "535",
         "marker": {
          "color": "rgb(47, 138, 196)",
          "line": {
           "color": "black",
           "width": 0.1
          },
          "opacity": 0.8,
          "size": 4,
          "symbol": "circle"
         },
         "mode": "markers",
         "name": "535",
         "scene": "scene",
         "showlegend": true,
         "type": "scatter3d",
         "x": [
          -0.7827904239555169
         ],
         "y": [
          -0.5065796904951584
         ],
         "z": [
          0.004487376612950537
         ]
        },
        {
         "hovertemplate": "cluster=536<br>comp1=%{x}<br>comp2=%{y}<br>comp3=%{z}<extra></extra>",
         "legendgroup": "536",
         "marker": {
          "color": "rgb(118, 78, 159)",
          "line": {
           "color": "black",
           "width": 0.1
          },
          "opacity": 0.8,
          "size": 4,
          "symbol": "circle"
         },
         "mode": "markers",
         "name": "536",
         "scene": "scene",
         "showlegend": true,
         "type": "scatter3d",
         "x": [
          -0.7881739212361816
         ],
         "y": [
          -0.5061316859916344
         ],
         "z": [
          0.004714144734415699
         ]
        },
        {
         "hovertemplate": "cluster=537<br>comp1=%{x}<br>comp2=%{y}<br>comp3=%{z}<extra></extra>",
         "legendgroup": "537",
         "marker": {
          "color": "rgb(237, 100, 90)",
          "line": {
           "color": "black",
           "width": 0.1
          },
          "opacity": 0.8,
          "size": 4,
          "symbol": "circle"
         },
         "mode": "markers",
         "name": "537",
         "scene": "scene",
         "showlegend": true,
         "type": "scatter3d",
         "x": [
          -0.793542699211306
         ],
         "y": [
          -0.5056704058973513
         ],
         "z": [
          0.004940608945914887
         ]
        },
        {
         "hovertemplate": "cluster=538<br>comp1=%{x}<br>comp2=%{y}<br>comp3=%{z}<extra></extra>",
         "legendgroup": "538",
         "marker": {
          "color": "rgb(165, 170, 153)",
          "line": {
           "color": "black",
           "width": 0.1
          },
          "opacity": 0.8,
          "size": 4,
          "symbol": "circle"
         },
         "mode": "markers",
         "name": "538",
         "scene": "scene",
         "showlegend": true,
         "type": "scatter3d",
         "x": [
          -0.7988967406262567
         ],
         "y": [
          -0.5051958286606083
         ],
         "z": [
          0.005166760126871727
         ]
        },
        {
         "hovertemplate": "cluster=539<br>comp1=%{x}<br>comp2=%{y}<br>comp3=%{z}<extra></extra>",
         "legendgroup": "539",
         "marker": {
          "color": "rgb(229, 134, 6)",
          "line": {
           "color": "black",
           "width": 0.1
          },
          "opacity": 0.8,
          "size": 4,
          "symbol": "circle"
         },
         "mode": "markers",
         "name": "539",
         "scene": "scene",
         "showlegend": true,
         "type": "scatter3d",
         "x": [
          -0.8042360282356996
         ],
         "y": [
          -0.5047079327420181
         ],
         "z": [
          0.005392589161575847
         ]
        },
        {
         "hovertemplate": "cluster=540<br>comp1=%{x}<br>comp2=%{y}<br>comp3=%{z}<extra></extra>",
         "legendgroup": "540",
         "marker": {
          "color": "rgb(93, 105, 177)",
          "line": {
           "color": "black",
           "width": 0.1
          },
          "opacity": 0.8,
          "size": 4,
          "symbol": "circle"
         },
         "mode": "markers",
         "name": "540",
         "scene": "scene",
         "showlegend": true,
         "type": "scatter3d",
         "x": [
          -0.8095605448036185
         ],
         "y": [
          -0.5042066966145323
         ],
         "z": [
          0.005618086939193126
         ]
        },
        {
         "hovertemplate": "cluster=541<br>comp1=%{x}<br>comp2=%{y}<br>comp3=%{z}<extra></extra>",
         "legendgroup": "541",
         "marker": {
          "color": "rgb(82, 188, 163)",
          "line": {
           "color": "black",
           "width": 0.1
          },
          "opacity": 0.8,
          "size": 4,
          "symbol": "circle"
         },
         "mode": "markers",
         "name": "541",
         "scene": "scene",
         "showlegend": true,
         "type": "scatter3d",
         "x": [
          -0.8148702731033112
         ],
         "y": [
          -0.5036920987634489
         ],
         "z": [
          0.005843244353781242
         ]
        },
        {
         "hovertemplate": "cluster=542<br>comp1=%{x}<br>comp2=%{y}<br>comp3=%{z}<extra></extra>",
         "legendgroup": "542",
         "marker": {
          "color": "rgb(153, 201, 69)",
          "line": {
           "color": "black",
           "width": 0.1
          },
          "opacity": 0.8,
          "size": 4,
          "symbol": "circle"
         },
         "mode": "markers",
         "name": "542",
         "scene": "scene",
         "showlegend": true,
         "type": "scatter3d",
         "x": [
          -0.8201651959174302
         ],
         "y": [
          -0.5031641176864499
         ],
         "z": [
          0.006068052304286297
         ]
        },
        {
         "hovertemplate": "cluster=543<br>comp1=%{x}<br>comp2=%{y}<br>comp3=%{z}<extra></extra>",
         "legendgroup": "543",
         "marker": {
          "color": "rgb(204, 97, 176)",
          "line": {
           "color": "black",
           "width": 0.1
          },
          "opacity": 0.8,
          "size": 4,
          "symbol": "circle"
         },
         "mode": "markers",
         "name": "543",
         "scene": "scene",
         "showlegend": true,
         "type": "scatter3d",
         "x": [
          -0.825445296037988
         ],
         "y": [
          -0.5026227318936116
         ],
         "z": [
          0.006292501694554027
         ]
        },
        {
         "hovertemplate": "cluster=544<br>comp1=%{x}<br>comp2=%{y}<br>comp3=%{z}<extra></extra>",
         "legendgroup": "544",
         "marker": {
          "color": "rgb(36, 121, 108)",
          "line": {
           "color": "black",
           "width": 0.1
          },
          "opacity": 0.8,
          "size": 4,
          "symbol": "circle"
         },
         "mode": "markers",
         "name": "544",
         "scene": "scene",
         "showlegend": true,
         "type": "scatter3d",
         "x": [
          -0.8307105562663468
         ],
         "y": [
          -0.5020679199074277
         ],
         "z": [
          0.0065165834333696555
         ]
        },
        {
         "hovertemplate": "cluster=545<br>comp1=%{x}<br>comp2=%{y}<br>comp3=%{z}<extra></extra>",
         "legendgroup": "545",
         "marker": {
          "color": "rgb(218, 165, 27)",
          "line": {
           "color": "black",
           "width": 0.1
          },
          "opacity": 0.8,
          "size": 4,
          "symbol": "circle"
         },
         "mode": "markers",
         "name": "545",
         "scene": "scene",
         "showlegend": true,
         "type": "scatter3d",
         "x": [
          -0.8359609594132722
         ],
         "y": [
          -0.5014996602628324
         ],
         "z": [
          0.006740288434425118
         ]
        },
        {
         "hovertemplate": "cluster=546<br>comp1=%{x}<br>comp2=%{y}<br>comp3=%{z}<extra></extra>",
         "legendgroup": "546",
         "marker": {
          "color": "rgb(47, 138, 196)",
          "line": {
           "color": "black",
           "width": 0.1
          },
          "opacity": 0.8,
          "size": 4,
          "symbol": "circle"
         },
         "mode": "markers",
         "name": "546",
         "scene": "scene",
         "showlegend": true,
         "type": "scatter3d",
         "x": [
          -0.841196488298929
         ],
         "y": [
          -0.5009179315072164
         ],
         "z": [
          0.006963607616343526
         ]
        },
        {
         "hovertemplate": "cluster=547<br>comp1=%{x}<br>comp2=%{y}<br>comp3=%{z}<extra></extra>",
         "legendgroup": "547",
         "marker": {
          "color": "rgb(118, 78, 159)",
          "line": {
           "color": "black",
           "width": 0.1
          },
          "opacity": 0.8,
          "size": 4,
          "symbol": "circle"
         },
         "mode": "markers",
         "name": "547",
         "scene": "scene",
         "showlegend": true,
         "type": "scatter3d",
         "x": [
          -0.8464171257529066
         ],
         "y": [
          -0.5003227122004517
         ],
         "z": [
          0.007186531902684879
         ]
        },
        {
         "hovertemplate": "cluster=548<br>comp1=%{x}<br>comp2=%{y}<br>comp3=%{z}<extra></extra>",
         "legendgroup": "548",
         "marker": {
          "color": "rgb(237, 100, 90)",
          "line": {
           "color": "black",
           "width": 0.1
          },
          "opacity": 0.8,
          "size": 4,
          "symbol": "circle"
         },
         "mode": "markers",
         "name": "548",
         "scene": "scene",
         "showlegend": true,
         "type": "scatter3d",
         "x": [
          -0.8516228546142064
         ],
         "y": [
          -0.49971398091491515
         ],
         "z": [
          0.007409052221983069
         ]
        },
        {
         "hovertemplate": "cluster=549<br>comp1=%{x}<br>comp2=%{y}<br>comp3=%{z}<extra></extra>",
         "legendgroup": "549",
         "marker": {
          "color": "rgb(165, 170, 153)",
          "line": {
           "color": "black",
           "width": 0.1
          },
          "opacity": 0.8,
          "size": 4,
          "symbol": "circle"
         },
         "mode": "markers",
         "name": "549",
         "scene": "scene",
         "showlegend": true,
         "type": "scatter3d",
         "x": [
          -0.8568136577313045
         ],
         "y": [
          -0.4990917162354944
         ],
         "z": [
          0.007631159507693169
         ]
        },
        {
         "hovertemplate": "cluster=550<br>comp1=%{x}<br>comp2=%{y}<br>comp3=%{z}<extra></extra>",
         "legendgroup": "550",
         "marker": {
          "color": "rgb(229, 134, 6)",
          "line": {
           "color": "black",
           "width": 0.1
          },
          "opacity": 0.8,
          "size": 4,
          "symbol": "circle"
         },
         "mode": "markers",
         "name": "550",
         "scene": "scene",
         "showlegend": true,
         "type": "scatter3d",
         "x": [
          -0.8619895179621088
         ],
         "y": [
          -0.4984558967596383
         ],
         "z": [
          0.007852844698291044
         ]
        },
        {
         "hovertemplate": "cluster=551<br>comp1=%{x}<br>comp2=%{y}<br>comp3=%{z}<extra></extra>",
         "legendgroup": "551",
         "marker": {
          "color": "rgb(93, 105, 177)",
          "line": {
           "color": "black",
           "width": 0.1
          },
          "opacity": 0.8,
          "size": 4,
          "symbol": "circle"
         },
         "mode": "markers",
         "name": "551",
         "scene": "scene",
         "showlegend": true,
         "type": "scatter3d",
         "x": [
          -0.8671504181740219
         ],
         "y": [
          -0.4978065010973354
         ],
         "z": [
          0.008074098737184454
         ]
        },
        {
         "hovertemplate": "cluster=552<br>comp1=%{x}<br>comp2=%{y}<br>comp3=%{z}<extra></extra>",
         "legendgroup": "552",
         "marker": {
          "color": "rgb(82, 188, 163)",
          "line": {
           "color": "black",
           "width": 0.1
          },
          "opacity": 0.8,
          "size": 4,
          "symbol": "circle"
         },
         "mode": "markers",
         "name": "552",
         "scene": "scene",
         "showlegend": true,
         "type": "scatter3d",
         "x": [
          -0.8722963412439387
         ],
         "y": [
          -0.4971435078711784
         ],
         "z": [
          0.008294912572792006
         ]
        },
        {
         "hovertemplate": "cluster=553<br>comp1=%{x}<br>comp2=%{y}<br>comp3=%{z}<extra></extra>",
         "legendgroup": "553",
         "marker": {
          "color": "rgb(153, 201, 69)",
          "line": {
           "color": "black",
           "width": 0.1
          },
          "opacity": 0.8,
          "size": 4,
          "symbol": "circle"
         },
         "mode": "markers",
         "name": "553",
         "scene": "scene",
         "showlegend": true,
         "type": "scatter3d",
         "x": [
          -0.8774272700582545
         ],
         "y": [
          -0.4964668957163512
         ],
         "z": [
          0.008515277158521259
         ]
        },
        {
         "hovertemplate": "cluster=554<br>comp1=%{x}<br>comp2=%{y}<br>comp3=%{z}<extra></extra>",
         "legendgroup": "554",
         "marker": {
          "color": "rgb(204, 97, 176)",
          "line": {
           "color": "black",
           "width": 0.1
          },
          "opacity": 0.8,
          "size": 4,
          "symbol": "circle"
         },
         "mode": "markers",
         "name": "554",
         "scene": "scene",
         "showlegend": true,
         "type": "scatter3d",
         "x": [
          -0.8825431875128906
         ],
         "y": [
          -0.49577664328066806
         ],
         "z": [
          0.008735183452782447
         ]
        },
        {
         "hovertemplate": "cluster=555<br>comp1=%{x}<br>comp2=%{y}<br>comp3=%{z}<extra></extra>",
         "legendgroup": "555",
         "marker": {
          "color": "rgb(36, 121, 108)",
          "line": {
           "color": "black",
           "width": 0.1
          },
          "opacity": 0.8,
          "size": 4,
          "symbol": "circle"
         },
         "mode": "markers",
         "name": "555",
         "scene": "scene",
         "showlegend": true,
         "type": "scatter3d",
         "x": [
          -0.8876440765133026
         ],
         "y": [
          -0.49507272922459267
         ],
         "z": [
          0.008954622419011881
         ]
        },
        {
         "hovertemplate": "cluster=556<br>comp1=%{x}<br>comp2=%{y}<br>comp3=%{z}<extra></extra>",
         "legendgroup": "556",
         "marker": {
          "color": "rgb(218, 165, 27)",
          "line": {
           "color": "black",
           "width": 0.1
          },
          "opacity": 0.8,
          "size": 4,
          "symbol": "circle"
         },
         "mode": "markers",
         "name": "556",
         "scene": "scene",
         "showlegend": true,
         "type": "scatter3d",
         "x": [
          -0.8927299199745113
         ],
         "y": [
          -0.4943551322212497
         ],
         "z": [
          0.009173585025644637
         ]
        },
        {
         "hovertemplate": "cluster=557<br>comp1=%{x}<br>comp2=%{y}<br>comp3=%{z}<extra></extra>",
         "legendgroup": "557",
         "marker": {
          "color": "rgb(47, 138, 196)",
          "line": {
           "color": "black",
           "width": 0.1
          },
          "opacity": 0.8,
          "size": 4,
          "symbol": "circle"
         },
         "mode": "markers",
         "name": "557",
         "scene": "scene",
         "showlegend": true,
         "type": "scatter3d",
         "x": [
          -0.8978007008210763
         ],
         "y": [
          -0.49362383095644785
         ],
         "z": [
          0.009392062246179916
         ]
        },
        {
         "hovertemplate": "cluster=558<br>comp1=%{x}<br>comp2=%{y}<br>comp3=%{z}<extra></extra>",
         "legendgroup": "558",
         "marker": {
          "color": "rgb(118, 78, 159)",
          "line": {
           "color": "black",
           "width": 0.1
          },
          "opacity": 0.8,
          "size": 4,
          "symbol": "circle"
         },
         "mode": "markers",
         "name": "558",
         "scene": "scene",
         "showlegend": true,
         "type": "scatter3d",
         "x": [
          -0.9028564019871688
         ],
         "y": [
          -0.4928788041287154
         ],
         "z": [
          0.009610045059132025
         ]
        },
        {
         "hovertemplate": "cluster=559<br>comp1=%{x}<br>comp2=%{y}<br>comp3=%{z}<extra></extra>",
         "legendgroup": "559",
         "marker": {
          "color": "rgb(237, 100, 90)",
          "line": {
           "color": "black",
           "width": 0.1
          },
          "opacity": 0.8,
          "size": 4,
          "symbol": "circle"
         },
         "mode": "markers",
         "name": "559",
         "scene": "scene",
         "showlegend": true,
         "type": "scatter3d",
         "x": [
          -0.9078970064165267
         ],
         "y": [
          -0.4921200304493026
         ],
         "z": [
          0.009827524448096347
         ]
        },
        {
         "hovertemplate": "cluster=560<br>comp1=%{x}<br>comp2=%{y}<br>comp3=%{z}<extra></extra>",
         "legendgroup": "560",
         "marker": {
          "color": "rgb(165, 170, 153)",
          "line": {
           "color": "black",
           "width": 0.1
          },
          "opacity": 0.8,
          "size": 4,
          "symbol": "circle"
         },
         "mode": "markers",
         "name": "560",
         "scene": "scene",
         "showlegend": true,
         "type": "scatter3d",
         "x": [
          -0.9129224970625383
         ],
         "y": [
          -0.49134748864220434
         ],
         "z": [
          0.01004449140167855
         ]
        },
        {
         "hovertemplate": "cluster=561<br>comp1=%{x}<br>comp2=%{y}<br>comp3=%{z}<extra></extra>",
         "legendgroup": "561",
         "marker": {
          "color": "rgb(229, 134, 6)",
          "line": {
           "color": "black",
           "width": 0.1
          },
          "opacity": 0.8,
          "size": 4,
          "symbol": "circle"
         },
         "mode": "markers",
         "name": "561",
         "scene": "scene",
         "showlegend": true,
         "type": "scatter3d",
         "x": [
          -0.9179328568881813
         ],
         "y": [
          -0.4905611574441947
         ],
         "z": [
          0.010260936913604312
         ]
        },
        {
         "hovertemplate": "cluster=562<br>comp1=%{x}<br>comp2=%{y}<br>comp3=%{z}<extra></extra>",
         "legendgroup": "562",
         "marker": {
          "color": "rgb(93, 105, 177)",
          "line": {
           "color": "black",
           "width": 0.1
          },
          "opacity": 0.8,
          "size": 4,
          "symbol": "circle"
         },
         "mode": "markers",
         "name": "562",
         "scene": "scene",
         "showlegend": true,
         "type": "scatter3d",
         "x": [
          -0.9229280688660977
         ],
         "y": [
          -0.4897610156048251
         ],
         "z": [
          0.010476851982636063
         ]
        },
        {
         "hovertemplate": "cluster=563<br>comp1=%{x}<br>comp2=%{y}<br>comp3=%{z}<extra></extra>",
         "legendgroup": "563",
         "marker": {
          "color": "rgb(82, 188, 163)",
          "line": {
           "color": "black",
           "width": 0.1
          },
          "opacity": 0.8,
          "size": 4,
          "symbol": "circle"
         },
         "mode": "markers",
         "name": "563",
         "scene": "scene",
         "showlegend": true,
         "type": "scatter3d",
         "x": [
          -0.9279081159785714
         ],
         "y": [
          -0.48894704188647353
         ],
         "z": [
          0.010692227612659066
         ]
        },
        {
         "hovertemplate": "cluster=564<br>comp1=%{x}<br>comp2=%{y}<br>comp3=%{z}<extra></extra>",
         "legendgroup": "564",
         "marker": {
          "color": "rgb(153, 201, 69)",
          "line": {
           "color": "black",
           "width": 0.1
          },
          "opacity": 0.8,
          "size": 4,
          "symbol": "circle"
         },
         "mode": "markers",
         "name": "564",
         "scene": "scene",
         "showlegend": true,
         "type": "scatter3d",
         "x": [
          -0.9328729812175716
         ],
         "y": [
          -0.48811921506433964
         ],
         "z": [
          0.010907054812624743
         ]
        },
        {
         "hovertemplate": "cluster=565<br>comp1=%{x}<br>comp2=%{y}<br>comp3=%{z}<extra></extra>",
         "legendgroup": "565",
         "marker": {
          "color": "rgb(204, 97, 176)",
          "line": {
           "color": "black",
           "width": 0.1
          },
          "opacity": 0.8,
          "size": 4,
          "symbol": "circle"
         },
         "mode": "markers",
         "name": "565",
         "scene": "scene",
         "showlegend": true,
         "type": "scatter3d",
         "x": [
          -0.9378226475847486
         ],
         "y": [
          -0.48727751392647506
         ],
         "z": [
          0.011121324596593719
         ]
        },
        {
         "hovertemplate": "cluster=566<br>comp1=%{x}<br>comp2=%{y}<br>comp3=%{z}<extra></extra>",
         "legendgroup": "566",
         "marker": {
          "color": "rgb(36, 121, 108)",
          "line": {
           "color": "black",
           "width": 0.1
          },
          "opacity": 0.8,
          "size": 4,
          "symbol": "circle"
         },
         "mode": "markers",
         "name": "566",
         "scene": "scene",
         "showlegend": true,
         "type": "scatter3d",
         "x": [
          -0.9427570980914456
         ],
         "y": [
          -0.48642191727380923
         ],
         "z": [
          0.011335027983760718
         ]
        },
        {
         "hovertemplate": "cluster=567<br>comp1=%{x}<br>comp2=%{y}<br>comp3=%{z}<extra></extra>",
         "legendgroup": "567",
         "marker": {
          "color": "rgb(218, 165, 27)",
          "line": {
           "color": "black",
           "width": 0.1
          },
          "opacity": 0.8,
          "size": 4,
          "symbol": "circle"
         },
         "mode": "markers",
         "name": "567",
         "scene": "scene",
         "showlegend": true,
         "type": "scatter3d",
         "x": [
          -0.9476763157587338
         ],
         "y": [
          -0.48555240392016175
         ],
         "z": [
          0.011548155998419582
         ]
        },
        {
         "hovertemplate": "cluster=568<br>comp1=%{x}<br>comp2=%{y}<br>comp3=%{z}<extra></extra>",
         "legendgroup": "568",
         "marker": {
          "color": "rgb(47, 138, 196)",
          "line": {
           "color": "black",
           "width": 0.1
          },
          "opacity": 0.8,
          "size": 4,
          "symbol": "circle"
         },
         "mode": "markers",
         "name": "568",
         "scene": "scene",
         "showlegend": true,
         "type": "scatter3d",
         "x": [
          -0.9525802836174064
         ],
         "y": [
          -0.4846689526922633
         ],
         "z": [
          0.011760699670005636
         ]
        },
        {
         "hovertemplate": "cluster=569<br>comp1=%{x}<br>comp2=%{y}<br>comp3=%{z}<extra></extra>",
         "legendgroup": "569",
         "marker": {
          "color": "rgb(118, 78, 159)",
          "line": {
           "color": "black",
           "width": 0.1
          },
          "opacity": 0.8,
          "size": 4,
          "symbol": "circle"
         },
         "mode": "markers",
         "name": "569",
         "scene": "scene",
         "showlegend": true,
         "type": "scatter3d",
         "x": [
          -0.9574689847080128
         ],
         "y": [
          -0.48377154242978393
         ],
         "z": [
          0.011972650033087921
         ]
        },
        {
         "hovertemplate": "cluster=570<br>comp1=%{x}<br>comp2=%{y}<br>comp3=%{z}<extra></extra>",
         "legendgroup": "570",
         "marker": {
          "color": "rgb(237, 100, 90)",
          "line": {
           "color": "black",
           "width": 0.1
          },
          "opacity": 0.8,
          "size": 4,
          "symbol": "circle"
         },
         "mode": "markers",
         "name": "570",
         "scene": "scene",
         "showlegend": true,
         "type": "scatter3d",
         "x": [
          -0.9623424020808489
         ],
         "y": [
          -0.4828601519853457
         ],
         "z": [
          0.012183998127399509
         ]
        },
        {
         "hovertemplate": "cluster=571<br>comp1=%{x}<br>comp2=%{y}<br>comp3=%{z}<extra></extra>",
         "legendgroup": "571",
         "marker": {
          "color": "rgb(165, 170, 153)",
          "line": {
           "color": "black",
           "width": 0.1
          },
          "opacity": 0.8,
          "size": 4,
          "symbol": "circle"
         },
         "mode": "markers",
         "name": "571",
         "scene": "scene",
         "showlegend": true,
         "type": "scatter3d",
         "x": [
          -0.9672005187959983
         ],
         "y": [
          -0.4819347602245469
         ],
         "z": [
          0.012394734997815805
         ]
        },
        {
         "hovertemplate": "cluster=572<br>comp1=%{x}<br>comp2=%{y}<br>comp3=%{z}<extra></extra>",
         "legendgroup": "572",
         "marker": {
          "color": "rgb(229, 134, 6)",
          "line": {
           "color": "black",
           "width": 0.1
          },
          "opacity": 0.8,
          "size": 4,
          "symbol": "circle"
         },
         "mode": "markers",
         "name": "572",
         "scene": "scene",
         "showlegend": true,
         "type": "scatter3d",
         "x": [
          -0.9720433179233265
         ],
         "y": [
          -0.4809953460259795
         ],
         "z": [
          0.012604851694387619
         ]
        },
        {
         "hovertemplate": "cluster=573<br>comp1=%{x}<br>comp2=%{y}<br>comp3=%{z}<extra></extra>",
         "legendgroup": "573",
         "marker": {
          "color": "rgb(93, 105, 177)",
          "line": {
           "color": "black",
           "width": 0.1
          },
          "opacity": 0.8,
          "size": 4,
          "symbol": "circle"
         },
         "mode": "markers",
         "name": "573",
         "scene": "scene",
         "showlegend": true,
         "type": "scatter3d",
         "x": [
          -0.9768707825425162
         ],
         "y": [
          -0.48004188828125344
         ],
         "z": [
          0.01281433927233429
         ]
        },
        {
         "hovertemplate": "cluster=574<br>comp1=%{x}<br>comp2=%{y}<br>comp3=%{z}<extra></extra>",
         "legendgroup": "574",
         "marker": {
          "color": "rgb(82, 188, 163)",
          "line": {
           "color": "black",
           "width": 0.1
          },
          "opacity": 0.8,
          "size": 4,
          "symbol": "circle"
         },
         "mode": "markers",
         "name": "574",
         "scene": "scene",
         "showlegend": true,
         "type": "scatter3d",
         "x": [
          -0.9816828957430506
         ],
         "y": [
          -0.47907436589501734
         ],
         "z": [
          0.013023188792077596
         ]
        },
        {
         "hovertemplate": "cluster=575<br>comp1=%{x}<br>comp2=%{y}<br>comp3=%{z}<extra></extra>",
         "legendgroup": "575",
         "marker": {
          "color": "rgb(153, 201, 69)",
          "line": {
           "color": "black",
           "width": 0.1
          },
          "opacity": 0.8,
          "size": 4,
          "symbol": "circle"
         },
         "mode": "markers",
         "name": "575",
         "scene": "scene",
         "showlegend": true,
         "type": "scatter3d",
         "x": [
          -0.9864796406242694
         ],
         "y": [
          -0.4780927577849749
         ],
         "z": [
          0.013231391319213725
         ]
        },
        {
         "hovertemplate": "cluster=576<br>comp1=%{x}<br>comp2=%{y}<br>comp3=%{z}<extra></extra>",
         "legendgroup": "576",
         "marker": {
          "color": "rgb(204, 97, 176)",
          "line": {
           "color": "black",
           "width": 0.1
          },
          "opacity": 0.8,
          "size": 4,
          "symbol": "circle"
         },
         "mode": "markers",
         "name": "576",
         "scene": "scene",
         "showlegend": true,
         "type": "scatter3d",
         "x": [
          -0.9912610002953446
         ],
         "y": [
          -0.47709704288190175
         ],
         "z": [
          0.013438937924550087
         ]
        },
        {
         "hovertemplate": "cluster=577<br>comp1=%{x}<br>comp2=%{y}<br>comp3=%{z}<extra></extra>",
         "legendgroup": "577",
         "marker": {
          "color": "rgb(36, 121, 108)",
          "line": {
           "color": "black",
           "width": 0.1
          },
          "opacity": 0.8,
          "size": 4,
          "symbol": "circle"
         },
         "mode": "markers",
         "name": "577",
         "scene": "scene",
         "showlegend": true,
         "type": "scatter3d",
         "x": [
          -0.9960269578753306
         ],
         "y": [
          -0.47608720012968125
         ],
         "z": [
          0.013645819684099895
         ]
        },
        {
         "hovertemplate": "cluster=578<br>comp1=%{x}<br>comp2=%{y}<br>comp3=%{z}<extra></extra>",
         "legendgroup": "578",
         "marker": {
          "color": "rgb(218, 165, 27)",
          "line": {
           "color": "black",
           "width": 0.1
          },
          "opacity": 0.8,
          "size": 4,
          "symbol": "circle"
         },
         "mode": "markers",
         "name": "578",
         "scene": "scene",
         "showlegend": true,
         "type": "scatter3d",
         "x": [
          -1.0007774964931448
         ],
         "y": [
          -0.4750632084853095
         ],
         "z": [
          0.01385202767910648
         ]
        },
        {
         "hovertemplate": "cluster=579<br>comp1=%{x}<br>comp2=%{y}<br>comp3=%{z}<extra></extra>",
         "legendgroup": "579",
         "marker": {
          "color": "rgb(47, 138, 196)",
          "line": {
           "color": "black",
           "width": 0.1
          },
          "opacity": 0.8,
          "size": 4,
          "symbol": "circle"
         },
         "mode": "markers",
         "name": "579",
         "scene": "scene",
         "showlegend": true,
         "type": "scatter3d",
         "x": [
          -1.0055125992875917
         ],
         "y": [
          -0.4740250469189258
         ],
         "z": [
          0.014057552996056622
         ]
        },
        {
         "hovertemplate": "cluster=580<br>comp1=%{x}<br>comp2=%{y}<br>comp3=%{z}<extra></extra>",
         "legendgroup": "580",
         "marker": {
          "color": "rgb(118, 78, 159)",
          "line": {
           "color": "black",
           "width": 0.1
          },
          "opacity": 0.8,
          "size": 4,
          "symbol": "circle"
         },
         "mode": "markers",
         "name": "580",
         "scene": "scene",
         "showlegend": true,
         "type": "scatter3d",
         "x": [
          -1.0102322494074134
         ],
         "y": [
          -0.4729726944138232
         ],
         "z": [
          0.014262386726638111
         ]
        },
        {
         "hovertemplate": "cluster=581<br>comp1=%{x}<br>comp2=%{y}<br>comp3=%{z}<extra></extra>",
         "legendgroup": "581",
         "marker": {
          "color": "rgb(237, 100, 90)",
          "line": {
           "color": "black",
           "width": 0.1
          },
          "opacity": 0.8,
          "size": 4,
          "symbol": "circle"
         },
         "mode": "markers",
         "name": "581",
         "scene": "scene",
         "showlegend": true,
         "type": "scatter3d",
         "x": [
          -1.0149364300112533
         ],
         "y": [
          -0.4719061299664795
         ],
         "z": [
          0.014466519967817336
         ]
        },
        {
         "hovertemplate": "cluster=582<br>comp1=%{x}<br>comp2=%{y}<br>comp3=%{z}<extra></extra>",
         "legendgroup": "582",
         "marker": {
          "color": "rgb(165, 170, 153)",
          "line": {
           "color": "black",
           "width": 0.1
          },
          "opacity": 0.8,
          "size": 4,
          "symbol": "circle"
         },
         "mode": "markers",
         "name": "582",
         "scene": "scene",
         "showlegend": true,
         "type": "scatter3d",
         "x": [
          -1.019625124267704
         ],
         "y": [
          -0.47082533258656417
         ],
         "z": [
          0.014669943821794679
         ]
        },
        {
         "hovertemplate": "cluster=583<br>comp1=%{x}<br>comp2=%{y}<br>comp3=%{z}<extra></extra>",
         "legendgroup": "583",
         "marker": {
          "color": "rgb(229, 134, 6)",
          "line": {
           "color": "black",
           "width": 0.1
          },
          "opacity": 0.8,
          "size": 4,
          "symbol": "circle"
         },
         "mode": "markers",
         "name": "583",
         "scene": "scene",
         "showlegend": true,
         "type": "scatter3d",
         "x": [
          -1.024298315355301
         ],
         "y": [
          -0.46973028129698086
         ],
         "z": [
          0.014872649396063998
         ]
        },
        {
         "hovertemplate": "cluster=584<br>comp1=%{x}<br>comp2=%{y}<br>comp3=%{z}<extra></extra>",
         "legendgroup": "584",
         "marker": {
          "color": "rgb(93, 105, 177)",
          "line": {
           "color": "black",
           "width": 0.1
          },
          "opacity": 0.8,
          "size": 4,
          "symbol": "circle"
         },
         "mode": "markers",
         "name": "584",
         "scene": "scene",
         "showlegend": true,
         "type": "scatter3d",
         "x": [
          -1.0289559864625524
         ],
         "y": [
          -0.46862095513385704
         ],
         "z": [
          0.015074627803366578
         ]
        },
        {
         "hovertemplate": "cluster=585<br>comp1=%{x}<br>comp2=%{y}<br>comp3=%{z}<extra></extra>",
         "legendgroup": "585",
         "marker": {
          "color": "rgb(82, 188, 163)",
          "line": {
           "color": "black",
           "width": 0.1
          },
          "opacity": 0.8,
          "size": 4,
          "symbol": "circle"
         },
         "mode": "markers",
         "name": "585",
         "scene": "scene",
         "showlegend": true,
         "type": "scatter3d",
         "x": [
          -1.0335981207879477
         ],
         "y": [
          -0.4674973331465959
         ],
         "z": [
          0.015275870161749739
         ]
        },
        {
         "hovertemplate": "cluster=586<br>comp1=%{x}<br>comp2=%{y}<br>comp3=%{z}<extra></extra>",
         "legendgroup": "586",
         "marker": {
          "color": "rgb(153, 201, 69)",
          "line": {
           "color": "black",
           "width": 0.1
          },
          "opacity": 0.8,
          "size": 4,
          "symbol": "circle"
         },
         "mode": "markers",
         "name": "586",
         "scene": "scene",
         "showlegend": true,
         "type": "scatter3d",
         "x": [
          -1.0382247015399853
         ],
         "y": [
          -0.46635939439787616
         ],
         "z": [
          0.015476367594528811
         ]
        },
        {
         "hovertemplate": "cluster=587<br>comp1=%{x}<br>comp2=%{y}<br>comp3=%{z}<extra></extra>",
         "legendgroup": "587",
         "marker": {
          "color": "rgb(204, 97, 176)",
          "line": {
           "color": "black",
           "width": 0.1
          },
          "opacity": 0.8,
          "size": 4,
          "symbol": "circle"
         },
         "mode": "markers",
         "name": "587",
         "scene": "scene",
         "showlegend": true,
         "type": "scatter3d",
         "x": [
          -1.0428357119371512
         ],
         "y": [
          -0.4652071179636747
         ],
         "z": [
          0.01567611123034701
         ]
        },
        {
         "hovertemplate": "cluster=588<br>comp1=%{x}<br>comp2=%{y}<br>comp3=%{z}<extra></extra>",
         "legendgroup": "588",
         "marker": {
          "color": "rgb(36, 121, 108)",
          "line": {
           "color": "black",
           "width": 0.1
          },
          "opacity": 0.8,
          "size": 4,
          "symbol": "circle"
         },
         "mode": "markers",
         "name": "588",
         "scene": "scene",
         "showlegend": true,
         "type": "scatter3d",
         "x": [
          -1.047431135207989
         ],
         "y": [
          -0.4640404829332969
         ],
         "z": [
          0.01587509220312481
         ]
        },
        {
         "hovertemplate": "cluster=589<br>comp1=%{x}<br>comp2=%{y}<br>comp3=%{z}<extra></extra>",
         "legendgroup": "589",
         "marker": {
          "color": "rgb(218, 165, 27)",
          "line": {
           "color": "black",
           "width": 0.1
          },
          "opacity": 0.8,
          "size": 4,
          "symbol": "circle"
         },
         "mode": "markers",
         "name": "589",
         "scene": "scene",
         "showlegend": true,
         "type": "scatter3d",
         "x": [
          -1.0520109545910614
         ],
         "y": [
          -0.46285946840938613
         ],
         "z": [
          0.016073301652128197
         ]
        },
        {
         "hovertemplate": "cluster=590<br>comp1=%{x}<br>comp2=%{y}<br>comp3=%{z}<extra></extra>",
         "legendgroup": "590",
         "marker": {
          "color": "rgb(47, 138, 196)",
          "line": {
           "color": "black",
           "width": 0.1
          },
          "opacity": 0.8,
          "size": 4,
          "symbol": "circle"
         },
         "mode": "markers",
         "name": "590",
         "scene": "scene",
         "showlegend": true,
         "type": "scatter3d",
         "x": [
          -1.056575153334984
         ],
         "y": [
          -0.4616640535079491
         ],
         "z": [
          0.016270730721952658
         ]
        },
        {
         "hovertemplate": "cluster=591<br>comp1=%{x}<br>comp2=%{y}<br>comp3=%{z}<extra></extra>",
         "legendgroup": "591",
         "marker": {
          "color": "rgb(118, 78, 159)",
          "line": {
           "color": "black",
           "width": 0.1
          },
          "opacity": 0.8,
          "size": 4,
          "symbol": "circle"
         },
         "mode": "markers",
         "name": "591",
         "scene": "scene",
         "showlegend": true,
         "type": "scatter3d",
         "x": [
          -1.0611237146984696
         ],
         "y": [
          -0.4604542173583761
         ],
         "z": [
          0.01646737056250174
         ]
        },
        {
         "hovertemplate": "cluster=592<br>comp1=%{x}<br>comp2=%{y}<br>comp3=%{z}<extra></extra>",
         "legendgroup": "592",
         "marker": {
          "color": "rgb(237, 100, 90)",
          "line": {
           "color": "black",
           "width": 0.1
          },
          "opacity": 0.8,
          "size": 4,
          "symbol": "circle"
         },
         "mode": "markers",
         "name": "592",
         "scene": "scene",
         "showlegend": true,
         "type": "scatter3d",
         "x": [
          -1.0656566219502892
         ],
         "y": [
          -0.45922993910346355
         ],
         "z": [
          0.016663212329056293
         ]
        },
        {
         "hovertemplate": "cluster=593<br>comp1=%{x}<br>comp2=%{y}<br>comp3=%{z}<extra></extra>",
         "legendgroup": "593",
         "marker": {
          "color": "rgb(165, 170, 153)",
          "line": {
           "color": "black",
           "width": 0.1
          },
          "opacity": 0.8,
          "size": 4,
          "symbol": "circle"
         },
         "mode": "markers",
         "name": "593",
         "scene": "scene",
         "showlegend": true,
         "type": "scatter3d",
         "x": [
          -1.070173858369322
         ],
         "y": [
          -0.45799119789941933
         ],
         "z": [
          0.016858247182230238
         ]
        },
        {
         "hovertemplate": "cluster=594<br>comp1=%{x}<br>comp2=%{y}<br>comp3=%{z}<extra></extra>",
         "legendgroup": "594",
         "marker": {
          "color": "rgb(229, 134, 6)",
          "line": {
           "color": "black",
           "width": 0.1
          },
          "opacity": 0.8,
          "size": 4,
          "symbol": "circle"
         },
         "mode": "markers",
         "name": "594",
         "scene": "scene",
         "showlegend": true,
         "type": "scatter3d",
         "x": [
          -1.0746754072445766
         ],
         "y": [
          -0.45673797291591195
         ],
         "z": [
          0.017052466288009546
         ]
        },
        {
         "hovertemplate": "cluster=595<br>comp1=%{x}<br>comp2=%{y}<br>comp3=%{z}<extra></extra>",
         "legendgroup": "595",
         "marker": {
          "color": "rgb(93, 105, 177)",
          "line": {
           "color": "black",
           "width": 0.1
          },
          "opacity": 0.8,
          "size": 4,
          "symbol": "circle"
         },
         "mode": "markers",
         "name": "595",
         "scene": "scene",
         "showlegend": true,
         "type": "scatter3d",
         "x": [
          -1.079161251875168
         ],
         "y": [
          -0.4554702433360574
         ],
         "z": [
          0.017245860817748728
         ]
        },
        {
         "hovertemplate": "cluster=596<br>comp1=%{x}<br>comp2=%{y}<br>comp3=%{z}<extra></extra>",
         "legendgroup": "596",
         "marker": {
          "color": "rgb(82, 188, 163)",
          "line": {
           "color": "black",
           "width": 0.1
          },
          "opacity": 0.8,
          "size": 4,
          "symbol": "circle"
         },
         "mode": "markers",
         "name": "596",
         "scene": "scene",
         "showlegend": true,
         "type": "scatter3d",
         "x": [
          -1.0836313755703701
         ],
         "y": [
          -0.4541879883564696
         ],
         "z": [
          0.0174384219481908
         ]
        },
        {
         "hovertemplate": "cluster=597<br>comp1=%{x}<br>comp2=%{y}<br>comp3=%{z}<extra></extra>",
         "legendgroup": "597",
         "marker": {
          "color": "rgb(153, 201, 69)",
          "line": {
           "color": "black",
           "width": 0.1
          },
          "opacity": 0.8,
          "size": 4,
          "symbol": "circle"
         },
         "mode": "markers",
         "name": "597",
         "scene": "scene",
         "showlegend": true,
         "type": "scatter3d",
         "x": [
          -1.0880857616496133
         ],
         "y": [
          -0.45289118718725835
         ],
         "z": [
          0.01763014086145672
         ]
        },
        {
         "hovertemplate": "cluster=598<br>comp1=%{x}<br>comp2=%{y}<br>comp3=%{z}<extra></extra>",
         "legendgroup": "598",
         "marker": {
          "color": "rgb(204, 97, 176)",
          "line": {
           "color": "black",
           "width": 0.1
          },
          "opacity": 0.8,
          "size": 4,
          "symbol": "circle"
         },
         "mode": "markers",
         "name": "598",
         "scene": "scene",
         "showlegend": true,
         "type": "scatter3d",
         "x": [
          -1.0925243934424937
         ],
         "y": [
          -0.4515798190520592
         ],
         "z": [
          0.017821008745079716
         ]
        },
        {
         "hovertemplate": "cluster=599<br>comp1=%{x}<br>comp2=%{y}<br>comp3=%{z}<extra></extra>",
         "legendgroup": "599",
         "marker": {
          "color": "rgb(36, 121, 108)",
          "line": {
           "color": "black",
           "width": 0.1
          },
          "opacity": 0.8,
          "size": 4,
          "symbol": "circle"
         },
         "mode": "markers",
         "name": "599",
         "scene": "scene",
         "showlegend": true,
         "type": "scatter3d",
         "x": [
          -1.0969472542888121
         ],
         "y": [
          -0.4502538631880526
         ],
         "z": [
          0.018011016791979573
         ]
        },
        {
         "hovertemplate": "cluster=600<br>comp1=%{x}<br>comp2=%{y}<br>comp3=%{z}<extra></extra>",
         "legendgroup": "600",
         "marker": {
          "color": "rgb(218, 165, 27)",
          "line": {
           "color": "black",
           "width": 0.1
          },
          "opacity": 0.8,
          "size": 4,
          "symbol": "circle"
         },
         "mode": "markers",
         "name": "600",
         "scene": "scene",
         "showlegend": true,
         "type": "scatter3d",
         "x": [
          -1.101354327538553
         ],
         "y": [
          -0.4489132988459843
         ],
         "z": [
          0.01820015620051541
         ]
        },
        {
         "hovertemplate": "cluster=601<br>comp1=%{x}<br>comp2=%{y}<br>comp3=%{z}<extra></extra>",
         "legendgroup": "601",
         "marker": {
          "color": "rgb(47, 138, 196)",
          "line": {
           "color": "black",
           "width": 0.1
          },
          "opacity": 0.8,
          "size": 4,
          "symbol": "circle"
         },
         "mode": "markers",
         "name": "601",
         "scene": "scene",
         "showlegend": true,
         "type": "scatter3d",
         "x": [
          -1.1057455965519427
         ],
         "y": [
          -0.4475581052901804
         ],
         "z": [
          0.018388418174437586
         ]
        },
        {
         "hovertemplate": "cluster=602<br>comp1=%{x}<br>comp2=%{y}<br>comp3=%{z}<extra></extra>",
         "legendgroup": "602",
         "marker": {
          "color": "rgb(118, 78, 159)",
          "line": {
           "color": "black",
           "width": 0.1
          },
          "opacity": 0.8,
          "size": 4,
          "symbol": "circle"
         },
         "mode": "markers",
         "name": "602",
         "scene": "scene",
         "showlegend": true,
         "type": "scatter3d",
         "x": [
          -1.1101210446994016
         ],
         "y": [
          -0.44618826179858256
         ],
         "z": [
          0.018575793922985806
         ]
        },
        {
         "hovertemplate": "cluster=603<br>comp1=%{x}<br>comp2=%{y}<br>comp3=%{z}<extra></extra>",
         "legendgroup": "603",
         "marker": {
          "color": "rgb(237, 100, 90)",
          "line": {
           "color": "black",
           "width": 0.1
          },
          "opacity": 0.8,
          "size": 4,
          "symbol": "circle"
         },
         "mode": "markers",
         "name": "603",
         "scene": "scene",
         "showlegend": true,
         "type": "scatter3d",
         "x": [
          -1.1144806553616335
         ],
         "y": [
          -0.44480374766274744
         ],
         "z": [
          0.018762274660787358
         ]
        },
        {
         "hovertemplate": "cluster=604<br>comp1=%{x}<br>comp2=%{y}<br>comp3=%{z}<extra></extra>",
         "legendgroup": "604",
         "marker": {
          "color": "rgb(165, 170, 153)",
          "line": {
           "color": "black",
           "width": 0.1
          },
          "opacity": 0.8,
          "size": 4,
          "symbol": "circle"
         },
         "mode": "markers",
         "name": "604",
         "scene": "scene",
         "showlegend": true,
         "type": "scatter3d",
         "x": [
          -1.118824411929584
         ],
         "y": [
          -0.44340454218788095
         ],
         "z": [
          0.01894785160795063
         ]
        },
        {
         "hovertemplate": "cluster=605<br>comp1=%{x}<br>comp2=%{y}<br>comp3=%{z}<extra></extra>",
         "legendgroup": "605",
         "marker": {
          "color": "rgb(229, 134, 6)",
          "line": {
           "color": "black",
           "width": 0.1
          },
          "opacity": 0.8,
          "size": 4,
          "symbol": "circle"
         },
         "mode": "markers",
         "name": "605",
         "scene": "scene",
         "showlegend": true,
         "type": "scatter3d",
         "x": [
          -1.123152297804473
         ],
         "y": [
          -0.441990624692852
         ],
         "z": [
          0.019132515990038165
         ]
        },
        {
         "hovertemplate": "cluster=606<br>comp1=%{x}<br>comp2=%{y}<br>comp3=%{z}<extra></extra>",
         "legendgroup": "606",
         "marker": {
          "color": "rgb(93, 105, 177)",
          "line": {
           "color": "black",
           "width": 0.1
          },
          "opacity": 0.8,
          "size": 4,
          "symbol": "circle"
         },
         "mode": "markers",
         "name": "606",
         "scene": "scene",
         "showlegend": true,
         "type": "scatter3d",
         "x": [
          -1.127464296397829
         ],
         "y": [
          -0.44056197451021867
         ],
         "z": [
          0.019316259038068235
         ]
        },
        {
         "hovertemplate": "cluster=607<br>comp1=%{x}<br>comp2=%{y}<br>comp3=%{z}<extra></extra>",
         "legendgroup": "607",
         "marker": {
          "color": "rgb(82, 188, 163)",
          "line": {
           "color": "black",
           "width": 0.1
          },
          "opacity": 0.8,
          "size": 4,
          "symbol": "circle"
         },
         "mode": "markers",
         "name": "607",
         "scene": "scene",
         "showlegend": true,
         "type": "scatter3d",
         "x": [
          -1.1317603911314742
         ],
         "y": [
          -0.4391185709862391
         ],
         "z": [
          0.019499071988542557
         ]
        },
        {
         "hovertemplate": "cluster=608<br>comp1=%{x}<br>comp2=%{y}<br>comp3=%{z}<extra></extra>",
         "legendgroup": "608",
         "marker": {
          "color": "rgb(153, 201, 69)",
          "line": {
           "color": "black",
           "width": 0.1
          },
          "opacity": 0.8,
          "size": 4,
          "symbol": "circle"
         },
         "mode": "markers",
         "name": "608",
         "scene": "scene",
         "showlegend": true,
         "type": "scatter3d",
         "x": [
          -1.1360405654375285
         ],
         "y": [
          -0.43766039348090685
         ],
         "z": [
          0.0196809460834841
         ]
        },
        {
         "hovertemplate": "cluster=609<br>comp1=%{x}<br>comp2=%{y}<br>comp3=%{z}<extra></extra>",
         "legendgroup": "609",
         "marker": {
          "color": "rgb(204, 97, 176)",
          "line": {
           "color": "black",
           "width": 0.1
          },
          "opacity": 0.8,
          "size": 4,
          "symbol": "circle"
         },
         "mode": "markers",
         "name": "609",
         "scene": "scene",
         "showlegend": true,
         "type": "scatter3d",
         "x": [
          -1.1403048027584874
         ],
         "y": [
          -0.4361874213679458
         ],
         "z": [
          0.01986187257034722
         ]
        },
        {
         "hovertemplate": "cluster=610<br>comp1=%{x}<br>comp2=%{y}<br>comp3=%{z}<extra></extra>",
         "legendgroup": "610",
         "marker": {
          "color": "rgb(36, 121, 108)",
          "line": {
           "color": "black",
           "width": 0.1
          },
          "opacity": 0.8,
          "size": 4,
          "symbol": "circle"
         },
         "mode": "markers",
         "name": "610",
         "scene": "scene",
         "showlegend": true,
         "type": "scatter3d",
         "x": [
          -1.1445530865471614
         ],
         "y": [
          -0.434699634034861
         ],
         "z": [
          0.020041842702143417
         ]
        },
        {
         "hovertemplate": "cluster=611<br>comp1=%{x}<br>comp2=%{y}<br>comp3=%{z}<extra></extra>",
         "legendgroup": "611",
         "marker": {
          "color": "rgb(218, 165, 27)",
          "line": {
           "color": "black",
           "width": 0.1
          },
          "opacity": 0.8,
          "size": 4,
          "symbol": "circle"
         },
         "mode": "markers",
         "name": "611",
         "scene": "scene",
         "showlegend": true,
         "type": "scatter3d",
         "x": [
          -1.148785400266738
         ],
         "y": [
          -0.4331970108829313
         ],
         "z": [
          0.02022084773737162
         ]
        },
        {
         "hovertemplate": "cluster=612<br>comp1=%{x}<br>comp2=%{y}<br>comp3=%{z}<extra></extra>",
         "legendgroup": "612",
         "marker": {
          "color": "rgb(47, 138, 196)",
          "line": {
           "color": "black",
           "width": 0.1
          },
          "opacity": 0.8,
          "size": 4,
          "symbol": "circle"
         },
         "mode": "markers",
         "name": "612",
         "scene": "scene",
         "showlegend": true,
         "type": "scatter3d",
         "x": [
          -1.1530017273907858
         ],
         "y": [
          -0.4316795313272492
         ],
         "z": [
          0.020398878940052604
         ]
        },
        {
         "hovertemplate": "cluster=613<br>comp1=%{x}<br>comp2=%{y}<br>comp3=%{z}<extra></extra>",
         "legendgroup": "613",
         "marker": {
          "color": "rgb(118, 78, 159)",
          "line": {
           "color": "black",
           "width": 0.1
          },
          "opacity": 0.8,
          "size": 4,
          "symbol": "circle"
         },
         "mode": "markers",
         "name": "613",
         "scene": "scene",
         "showlegend": true,
         "type": "scatter3d",
         "x": [
          -1.1572020514032475
         ],
         "y": [
          -0.43014717479672815
         ],
         "z": [
          0.020575927579755418
         ]
        },
        {
         "hovertemplate": "cluster=614<br>comp1=%{x}<br>comp2=%{y}<br>comp3=%{z}<extra></extra>",
         "legendgroup": "614",
         "marker": {
          "color": "rgb(237, 100, 90)",
          "line": {
           "color": "black",
           "width": 0.1
          },
          "opacity": 0.8,
          "size": 4,
          "symbol": "circle"
         },
         "mode": "markers",
         "name": "614",
         "scene": "scene",
         "showlegend": true,
         "type": "scatter3d",
         "x": [
          -1.161386355798494
         ],
         "y": [
          -0.4285999207341278
         ],
         "z": [
          0.020751984931563175
         ]
        },
        {
         "hovertemplate": "cluster=615<br>comp1=%{x}<br>comp2=%{y}<br>comp3=%{z}<extra></extra>",
         "legendgroup": "615",
         "marker": {
          "color": "rgb(165, 170, 153)",
          "line": {
           "color": "black",
           "width": 0.1
          },
          "opacity": 0.8,
          "size": 4,
          "symbol": "circle"
         },
         "mode": "markers",
         "name": "615",
         "scene": "scene",
         "showlegend": true,
         "type": "scatter3d",
         "x": [
          -1.165554624081303
         ],
         "y": [
          -0.4270377485960772
         ],
         "z": [
          0.02092704227612425
         ]
        },
        {
         "hovertemplate": "cluster=616<br>comp1=%{x}<br>comp2=%{y}<br>comp3=%{z}<extra></extra>",
         "legendgroup": "616",
         "marker": {
          "color": "rgb(229, 134, 6)",
          "line": {
           "color": "black",
           "width": 0.1
          },
          "opacity": 0.8,
          "size": 4,
          "symbol": "circle"
         },
         "mode": "markers",
         "name": "616",
         "scene": "scene",
         "showlegend": true,
         "type": "scatter3d",
         "x": [
          -1.1697068397668915
         ],
         "y": [
          -0.4254606378530836
         ],
         "z": [
          0.021101090899635144
         ]
        },
        {
         "hovertemplate": "cluster=617<br>comp1=%{x}<br>comp2=%{y}<br>comp3=%{z}<extra></extra>",
         "legendgroup": "617",
         "marker": {
          "color": "rgb(93, 105, 177)",
          "line": {
           "color": "black",
           "width": 0.1
          },
          "opacity": 0.8,
          "size": 4,
          "symbol": "circle"
         },
         "mode": "markers",
         "name": "617",
         "scene": "scene",
         "showlegend": true,
         "type": "scatter3d",
         "x": [
          -1.1738429863809323
         ],
         "y": [
          -0.4238685679895706
         ],
         "z": [
          0.021274122093858386
         ]
        },
        {
         "hovertemplate": "cluster=618<br>comp1=%{x}<br>comp2=%{y}<br>comp3=%{z}<extra></extra>",
         "legendgroup": "618",
         "marker": {
          "color": "rgb(82, 188, 163)",
          "line": {
           "color": "black",
           "width": 0.1
          },
          "opacity": 0.8,
          "size": 4,
          "symbol": "circle"
         },
         "mode": "markers",
         "name": "618",
         "scene": "scene",
         "showlegend": true,
         "type": "scatter3d",
         "x": [
          -1.1779630474595484
         ],
         "y": [
          -0.42226151850387555
         ],
         "z": [
          0.021446127156137806
         ]
        },
        {
         "hovertemplate": "cluster=619<br>comp1=%{x}<br>comp2=%{y}<br>comp3=%{z}<extra></extra>",
         "legendgroup": "619",
         "marker": {
          "color": "rgb(153, 201, 69)",
          "line": {
           "color": "black",
           "width": 0.1
          },
          "opacity": 0.8,
          "size": 4,
          "symbol": "circle"
         },
         "mode": "markers",
         "name": "619",
         "scene": "scene",
         "showlegend": true,
         "type": "scatter3d",
         "x": [
          -1.182067006549352
         ],
         "y": [
          -0.4206394689082899
         ],
         "z": [
          0.02161709738939302
         ]
        },
        {
         "hovertemplate": "cluster=620<br>comp1=%{x}<br>comp2=%{y}<br>comp3=%{z}<extra></extra>",
         "legendgroup": "620",
         "marker": {
          "color": "rgb(204, 97, 176)",
          "line": {
           "color": "black",
           "width": 0.1
          },
          "opacity": 0.8,
          "size": 4,
          "symbol": "circle"
         },
         "mode": "markers",
         "name": "620",
         "scene": "scene",
         "showlegend": true,
         "type": "scatter3d",
         "x": [
          -1.1861548472074535
         ],
         "y": [
          -0.4190023987290646
         ],
         "z": [
          0.021787024102124946
         ]
        },
        {
         "hovertemplate": "cluster=621<br>comp1=%{x}<br>comp2=%{y}<br>comp3=%{z}<extra></extra>",
         "legendgroup": "621",
         "marker": {
          "color": "rgb(36, 121, 108)",
          "line": {
           "color": "black",
           "width": 0.1
          },
          "opacity": 0.8,
          "size": 4,
          "symbol": "circle"
         },
         "mode": "markers",
         "name": "621",
         "scene": "scene",
         "showlegend": true,
         "type": "scatter3d",
         "x": [
          -1.190226553001461
         ],
         "y": [
          -0.4173502875064406
         ],
         "z": [
          0.02195589860845175
         ]
        },
        {
         "hovertemplate": "cluster=622<br>comp1=%{x}<br>comp2=%{y}<br>comp3=%{z}<extra></extra>",
         "legendgroup": "622",
         "marker": {
          "color": "rgb(218, 165, 27)",
          "line": {
           "color": "black",
           "width": 0.1
          },
          "opacity": 0.8,
          "size": 4,
          "symbol": "circle"
         },
         "mode": "markers",
         "name": "622",
         "scene": "scene",
         "showlegend": true,
         "type": "scatter3d",
         "x": [
          -1.194282107509504
         ],
         "y": [
          -0.41568311479465936
         ],
         "z": [
          0.02212371222809468
         ]
        },
        {
         "hovertemplate": "cluster=623<br>comp1=%{x}<br>comp2=%{y}<br>comp3=%{z}<extra></extra>",
         "legendgroup": "623",
         "marker": {
          "color": "rgb(47, 138, 196)",
          "line": {
           "color": "black",
           "width": 0.1
          },
          "opacity": 0.8,
          "size": 4,
          "symbol": "circle"
         },
         "mode": "markers",
         "name": "623",
         "scene": "scene",
         "showlegend": true,
         "type": "scatter3d",
         "x": [
          -1.198321494320252
         ],
         "y": [
          -0.41400086016198856
         ],
         "z": [
          0.02229045628638899
         ]
        },
        {
         "hovertemplate": "cluster=624<br>comp1=%{x}<br>comp2=%{y}<br>comp3=%{z}<extra></extra>",
         "legendgroup": "624",
         "marker": {
          "color": "rgb(118, 78, 159)",
          "line": {
           "color": "black",
           "width": 0.1
          },
          "opacity": 0.8,
          "size": 4,
          "symbol": "circle"
         },
         "mode": "markers",
         "name": "624",
         "scene": "scene",
         "showlegend": true,
         "type": "scatter3d",
         "x": [
          -1.2023446970329368
         ],
         "y": [
          -0.4123035031907491
         ],
         "z": [
          0.02245612211429659
         ]
        },
        {
         "hovertemplate": "cluster=625<br>comp1=%{x}<br>comp2=%{y}<br>comp3=%{z}<extra></extra>",
         "legendgroup": "625",
         "marker": {
          "color": "rgb(237, 100, 90)",
          "line": {
           "color": "black",
           "width": 0.1
          },
          "opacity": 0.8,
          "size": 4,
          "symbol": "circle"
         },
         "mode": "markers",
         "name": "625",
         "scene": "scene",
         "showlegend": true,
         "type": "scatter3d",
         "x": [
          -1.2063516992573242
         ],
         "y": [
          -0.4105910234773122
         ],
         "z": [
          0.02262070104842589
         ]
        },
        {
         "hovertemplate": "cluster=626<br>comp1=%{x}<br>comp2=%{y}<br>comp3=%{z}<extra></extra>",
         "legendgroup": "626",
         "marker": {
          "color": "rgb(165, 170, 153)",
          "line": {
           "color": "black",
           "width": 0.1
          },
          "opacity": 0.8,
          "size": 4,
          "symbol": "circle"
         },
         "mode": "markers",
         "name": "626",
         "scene": "scene",
         "showlegend": true,
         "type": "scatter3d",
         "x": [
          -1.2103424846138007
         ],
         "y": [
          -0.40886340063214294
         ],
         "z": [
          0.022784184430999877
         ]
        },
        {
         "hovertemplate": "cluster=627<br>comp1=%{x}<br>comp2=%{y}<br>comp3=%{z}<extra></extra>",
         "legendgroup": "627",
         "marker": {
          "color": "rgb(229, 134, 6)",
          "line": {
           "color": "black",
           "width": 0.1
          },
          "opacity": 0.8,
          "size": 4,
          "symbol": "circle"
         },
         "mode": "markers",
         "name": "627",
         "scene": "scene",
         "showlegend": true,
         "type": "scatter3d",
         "x": [
          -1.2143170367333151
         ],
         "y": [
          -0.4071206142798082
         ],
         "z": [
          0.02294656360992246
         ]
        },
        {
         "hovertemplate": "cluster=628<br>comp1=%{x}<br>comp2=%{y}<br>comp3=%{z}<extra></extra>",
         "legendgroup": "628",
         "marker": {
          "color": "rgb(93, 105, 177)",
          "line": {
           "color": "black",
           "width": 0.1
          },
          "opacity": 0.8,
          "size": 4,
          "symbol": "circle"
         },
         "mode": "markers",
         "name": "628",
         "scene": "scene",
         "showlegend": true,
         "type": "scatter3d",
         "x": [
          -1.2182753392574417
         ],
         "y": [
          -0.4053626440589984
         ],
         "z": [
          0.02310782993874166
         ]
        },
        {
         "hovertemplate": "cluster=629<br>comp1=%{x}<br>comp2=%{y}<br>comp3=%{z}<extra></extra>",
         "legendgroup": "629",
         "marker": {
          "color": "rgb(82, 188, 163)",
          "line": {
           "color": "black",
           "width": 0.1
          },
          "opacity": 0.8,
          "size": 4,
          "symbol": "circle"
         },
         "mode": "markers",
         "name": "629",
         "scene": "scene",
         "showlegend": true,
         "type": "scatter3d",
         "x": [
          -1.2222173758383612
         ],
         "y": [
          -0.4035894696225518
         ],
         "z": [
          0.02326797477669288
         ]
        },
        {
         "hovertemplate": "cluster=630<br>comp1=%{x}<br>comp2=%{y}<br>comp3=%{z}<extra></extra>",
         "legendgroup": "630",
         "marker": {
          "color": "rgb(153, 201, 69)",
          "line": {
           "color": "black",
           "width": 0.1
          },
          "opacity": 0.8,
          "size": 4,
          "symbol": "circle"
         },
         "mode": "markers",
         "name": "630",
         "scene": "scene",
         "showlegend": true,
         "type": "scatter3d",
         "x": [
          -1.2261431301389163
         ],
         "y": [
          -0.40180107063746456
         ],
         "z": [
          0.023426989488658977
         ]
        },
        {
         "hovertemplate": "cluster=631<br>comp1=%{x}<br>comp2=%{y}<br>comp3=%{z}<extra></extra>",
         "legendgroup": "631",
         "marker": {
          "color": "rgb(204, 97, 176)",
          "line": {
           "color": "black",
           "width": 0.1
          },
          "opacity": 0.8,
          "size": 4,
          "symbol": "circle"
         },
         "mode": "markers",
         "name": "631",
         "scene": "scene",
         "showlegend": true,
         "type": "scatter3d",
         "x": [
          -1.230052585832573
         ],
         "y": [
          -0.39999742678492234
         ],
         "z": [
          0.023584865445247186
         ]
        },
        {
         "hovertemplate": "cluster=632<br>comp1=%{x}<br>comp2=%{y}<br>comp3=%{z}<extra></extra>",
         "legendgroup": "632",
         "marker": {
          "color": "rgb(36, 121, 108)",
          "line": {
           "color": "black",
           "width": 0.1
          },
          "opacity": 0.8,
          "size": 4,
          "symbol": "circle"
         },
         "mode": "markers",
         "name": "632",
         "scene": "scene",
         "showlegend": true,
         "type": "scatter3d",
         "x": [
          -1.2339457266034908
         ],
         "y": [
          -0.3981785177603084
         ],
         "z": [
          0.023741594022720025
         ]
        },
        {
         "hovertemplate": "cluster=633<br>comp1=%{x}<br>comp2=%{y}<br>comp3=%{z}<extra></extra>",
         "legendgroup": "633",
         "marker": {
          "color": "rgb(218, 165, 27)",
          "line": {
           "color": "black",
           "width": 0.1
          },
          "opacity": 0.8,
          "size": 4,
          "symbol": "circle"
         },
         "mode": "markers",
         "name": "633",
         "scene": "scene",
         "showlegend": true,
         "type": "scatter3d",
         "x": [
          -1.2378225361464883
         ],
         "y": [
          -0.3963443232732335
         ],
         "z": [
          0.02389716660307609
         ]
        },
        {
         "hovertemplate": "cluster=634<br>comp1=%{x}<br>comp2=%{y}<br>comp3=%{z}<extra></extra>",
         "legendgroup": "634",
         "marker": {
          "color": "rgb(47, 138, 196)",
          "line": {
           "color": "black",
           "width": 0.1
          },
          "opacity": 0.8,
          "size": 4,
          "symbol": "circle"
         },
         "mode": "markers",
         "name": "634",
         "scene": "scene",
         "showlegend": true,
         "type": "scatter3d",
         "x": [
          -1.2416829981670852
         ],
         "y": [
          -0.39449482304755185
         ],
         "z": [
          0.024051574574018814
         ]
        },
        {
         "hovertemplate": "cluster=635<br>comp1=%{x}<br>comp2=%{y}<br>comp3=%{z}<extra></extra>",
         "legendgroup": "635",
         "marker": {
          "color": "rgb(118, 78, 159)",
          "line": {
           "color": "black",
           "width": 0.1
          },
          "opacity": 0.8,
          "size": 4,
          "symbol": "circle"
         },
         "mode": "markers",
         "name": "635",
         "scene": "scene",
         "showlegend": true,
         "type": "scatter3d",
         "x": [
          -1.2455270963815073
         ],
         "y": [
          -0.3926299968213755
         ],
         "z": [
          0.02420480932896921
         ]
        },
        {
         "hovertemplate": "cluster=636<br>comp1=%{x}<br>comp2=%{y}<br>comp3=%{z}<extra></extra>",
         "legendgroup": "636",
         "marker": {
          "color": "rgb(237, 100, 90)",
          "line": {
           "color": "black",
           "width": 0.1
          },
          "opacity": 0.8,
          "size": 4,
          "symbol": "circle"
         },
         "mode": "markers",
         "name": "636",
         "scene": "scene",
         "showlegend": true,
         "type": "scatter3d",
         "x": [
          -1.2493548145167213
         ],
         "y": [
          -0.39074982434709743
         ],
         "z": [
          0.0243568622670575
         ]
        },
        {
         "hovertemplate": "cluster=637<br>comp1=%{x}<br>comp2=%{y}<br>comp3=%{z}<extra></extra>",
         "legendgroup": "637",
         "marker": {
          "color": "rgb(165, 170, 153)",
          "line": {
           "color": "black",
           "width": 0.1
          },
          "opacity": 0.8,
          "size": 4,
          "symbol": "circle"
         },
         "mode": "markers",
         "name": "637",
         "scene": "scene",
         "showlegend": true,
         "type": "scatter3d",
         "x": [
          -1.2531661363104034
         ],
         "y": [
          -0.3888542853914235
         ],
         "z": [
          0.024507724793196423
         ]
        },
        {
         "hovertemplate": "cluster=638<br>comp1=%{x}<br>comp2=%{y}<br>comp3=%{z}<extra></extra>",
         "legendgroup": "638",
         "marker": {
          "color": "rgb(229, 134, 6)",
          "line": {
           "color": "black",
           "width": 0.1
          },
          "opacity": 0.8,
          "size": 4,
          "symbol": "circle"
         },
         "mode": "markers",
         "name": "638",
         "scene": "scene",
         "showlegend": true,
         "type": "scatter3d",
         "x": [
          -1.2569610455110045
         ],
         "y": [
          -0.38694335973537247
         ],
         "z": [
          0.02465738831800958
         ]
        },
        {
         "hovertemplate": "cluster=639<br>comp1=%{x}<br>comp2=%{y}<br>comp3=%{z}<extra></extra>",
         "legendgroup": "639",
         "marker": {
          "color": "rgb(93, 105, 177)",
          "line": {
           "color": "black",
           "width": 0.1
          },
          "opacity": 0.8,
          "size": 4,
          "symbol": "circle"
         },
         "mode": "markers",
         "name": "639",
         "scene": "scene",
         "showlegend": true,
         "type": "scatter3d",
         "x": [
          -1.2607395258777372
         ],
         "y": [
          -0.3850170271743016
         ],
         "z": [
          0.024805844257878414
         ]
        },
        {
         "hovertemplate": "cluster=640<br>comp1=%{x}<br>comp2=%{y}<br>comp3=%{z}<extra></extra>",
         "legendgroup": "640",
         "marker": {
          "color": "rgb(82, 188, 163)",
          "line": {
           "color": "black",
           "width": 0.1
          },
          "opacity": 0.8,
          "size": 4,
          "symbol": "circle"
         },
         "mode": "markers",
         "name": "640",
         "scene": "scene",
         "showlegend": true,
         "type": "scatter3d",
         "x": [
          -1.2645015611805814
         ],
         "y": [
          -0.3830752675179382
         ],
         "z": [
          0.02495308403497162
         ]
        },
        {
         "hovertemplate": "cluster=641<br>comp1=%{x}<br>comp2=%{y}<br>comp3=%{z}<extra></extra>",
         "legendgroup": "641",
         "marker": {
          "color": "rgb(153, 201, 69)",
          "line": {
           "color": "black",
           "width": 0.1
          },
          "opacity": 0.8,
          "size": 4,
          "symbol": "circle"
         },
         "mode": "markers",
         "name": "641",
         "scene": "scene",
         "showlegend": true,
         "type": "scatter3d",
         "x": [
          -1.2682471352003175
         ],
         "y": [
          -0.38111806059038456
         ],
         "z": [
          0.025099099077219987
         ]
        },
        {
         "hovertemplate": "cluster=642<br>comp1=%{x}<br>comp2=%{y}<br>comp3=%{z}<extra></extra>",
         "legendgroup": "642",
         "marker": {
          "color": "rgb(204, 97, 176)",
          "line": {
           "color": "black",
           "width": 0.1
          },
          "opacity": 0.8,
          "size": 4,
          "symbol": "circle"
         },
         "mode": "markers",
         "name": "642",
         "scene": "scene",
         "showlegend": true,
         "type": "scatter3d",
         "x": [
          -1.2719762317285415
         ],
         "y": [
          -0.37914538623014804
         ],
         "z": [
          0.025243880818333186
         ]
        },
        {
         "hovertemplate": "cluster=643<br>comp1=%{x}<br>comp2=%{y}<br>comp3=%{z}<extra></extra>",
         "legendgroup": "643",
         "marker": {
          "color": "rgb(36, 121, 108)",
          "line": {
           "color": "black",
           "width": 0.1
          },
          "opacity": 0.8,
          "size": 4,
          "symbol": "circle"
         },
         "mode": "markers",
         "name": "643",
         "scene": "scene",
         "showlegend": true,
         "type": "scatter3d",
         "x": [
          -1.2756888345676722
         ],
         "y": [
          -0.37715722429014403
         ],
         "z": [
          0.025387420697795655
         ]
        },
        {
         "hovertemplate": "cluster=644<br>comp1=%{x}<br>comp2=%{y}<br>comp3=%{z}<extra></extra>",
         "legendgroup": "644",
         "marker": {
          "color": "rgb(218, 165, 27)",
          "line": {
           "color": "black",
           "width": 0.1
          },
          "opacity": 0.8,
          "size": 4,
          "symbol": "circle"
         },
         "mode": "markers",
         "name": "644",
         "scene": "scene",
         "showlegend": true,
         "type": "scatter3d",
         "x": [
          -1.2793849275309541
         ],
         "y": [
          -0.3751535546377417
         ],
         "z": [
          0.02552971016092136
         ]
        },
        {
         "hovertemplate": "cluster=645<br>comp1=%{x}<br>comp2=%{y}<br>comp3=%{z}<extra></extra>",
         "legendgroup": "645",
         "marker": {
          "color": "rgb(47, 138, 196)",
          "line": {
           "color": "black",
           "width": 0.1
          },
          "opacity": 0.8,
          "size": 4,
          "symbol": "circle"
         },
         "mode": "markers",
         "name": "645",
         "scene": "scene",
         "showlegend": true,
         "type": "scatter3d",
         "x": [
          -1.2830644944424994
         ],
         "y": [
          -0.3731343571547627
         ],
         "z": [
          0.02567074065880609
         ]
        },
        {
         "hovertemplate": "cluster=646<br>comp1=%{x}<br>comp2=%{y}<br>comp3=%{z}<extra></extra>",
         "legendgroup": "646",
         "marker": {
          "color": "rgb(118, 78, 159)",
          "line": {
           "color": "black",
           "width": 0.1
          },
          "opacity": 0.8,
          "size": 4,
          "symbol": "circle"
         },
         "mode": "markers",
         "name": "646",
         "scene": "scene",
         "showlegend": true,
         "type": "scatter3d",
         "x": [
          -1.286727519137274
         ],
         "y": [
          -0.37109961173750755
         ],
         "z": [
          0.025810503648373232
         ]
        },
        {
         "hovertemplate": "cluster=647<br>comp1=%{x}<br>comp2=%{y}<br>comp3=%{z}<extra></extra>",
         "legendgroup": "647",
         "marker": {
          "color": "rgb(237, 100, 90)",
          "line": {
           "color": "black",
           "width": 0.1
          },
          "opacity": 0.8,
          "size": 4,
          "symbol": "circle"
         },
         "mode": "markers",
         "name": "647",
         "scene": "scene",
         "showlegend": true,
         "type": "scatter3d",
         "x": [
          -1.290373985461125
         ],
         "y": [
          -0.36904929829677685
         ],
         "z": [
          0.02594899059237182
         ]
        },
        {
         "hovertemplate": "cluster=648<br>comp1=%{x}<br>comp2=%{y}<br>comp3=%{z}<extra></extra>",
         "legendgroup": "648",
         "marker": {
          "color": "rgb(165, 170, 153)",
          "line": {
           "color": "black",
           "width": 0.1
          },
          "opacity": 0.8,
          "size": 4,
          "symbol": "circle"
         },
         "mode": "markers",
         "name": "648",
         "scene": "scene",
         "showlegend": true,
         "type": "scatter3d",
         "x": [
          -1.2940038772708078
         ],
         "y": [
          -0.3669833967578867
         ],
         "z": [
          0.026086192959364547
         ]
        },
        {
         "hovertemplate": "cluster=649<br>comp1=%{x}<br>comp2=%{y}<br>comp3=%{z}<extra></extra>",
         "legendgroup": "649",
         "marker": {
          "color": "rgb(229, 134, 6)",
          "line": {
           "color": "black",
           "width": 0.1
          },
          "opacity": 0.8,
          "size": 4,
          "symbol": "circle"
         },
         "mode": "markers",
         "name": "649",
         "scene": "scene",
         "showlegend": true,
         "type": "scatter3d",
         "x": [
          -1.2976171784339612
         ],
         "y": [
          -0.36490188706069127
         ],
         "z": [
          0.026222102223785782
         ]
        },
        {
         "hovertemplate": "cluster=650<br>comp1=%{x}<br>comp2=%{y}<br>comp3=%{z}<extra></extra>",
         "legendgroup": "650",
         "marker": {
          "color": "rgb(93, 105, 177)",
          "line": {
           "color": "black",
           "width": 0.1
          },
          "opacity": 0.8,
          "size": 4,
          "symbol": "circle"
         },
         "mode": "markers",
         "name": "650",
         "scene": "scene",
         "showlegend": true,
         "type": "scatter3d",
         "x": [
          -1.3012138728291653
         ],
         "y": [
          -0.36280474915960503
         ],
         "z": [
          0.026356709865902245
         ]
        },
        {
         "hovertemplate": "cluster=651<br>comp1=%{x}<br>comp2=%{y}<br>comp3=%{z}<extra></extra>",
         "legendgroup": "651",
         "marker": {
          "color": "rgb(82, 188, 163)",
          "line": {
           "color": "black",
           "width": 0.1
          },
          "opacity": 0.8,
          "size": 4,
          "symbol": "circle"
         },
         "mode": "markers",
         "name": "651",
         "scene": "scene",
         "showlegend": true,
         "type": "scatter3d",
         "x": [
          -1.304793944345938
         ],
         "y": [
          -0.3606919630236127
         ],
         "z": [
          0.026490007371829605
         ]
        },
        {
         "hovertemplate": "cluster=652<br>comp1=%{x}<br>comp2=%{y}<br>comp3=%{z}<extra></extra>",
         "legendgroup": "652",
         "marker": {
          "color": "rgb(153, 201, 69)",
          "line": {
           "color": "black",
           "width": 0.1
          },
          "opacity": 0.8,
          "size": 4,
          "symbol": "circle"
         },
         "mode": "markers",
         "name": "652",
         "scene": "scene",
         "showlegend": true,
         "type": "scatter3d",
         "x": [
          -1.3083573768847219
         ],
         "y": [
          -0.3585635086363011
         ],
         "z": [
          0.026621986233586487
         ]
        },
        {
         "hovertemplate": "cluster=653<br>comp1=%{x}<br>comp2=%{y}<br>comp3=%{z}<extra></extra>",
         "legendgroup": "653",
         "marker": {
          "color": "rgb(204, 97, 176)",
          "line": {
           "color": "black",
           "width": 0.1
          },
          "opacity": 0.8,
          "size": 4,
          "symbol": "circle"
         },
         "mode": "markers",
         "name": "653",
         "scene": "scene",
         "showlegend": true,
         "type": "scatter3d",
         "x": [
          -1.3119041543569723
         ],
         "y": [
          -0.3564193659958701
         ],
         "z": [
          0.026752637949011598
         ]
        },
        {
         "hovertemplate": "cluster=654<br>comp1=%{x}<br>comp2=%{y}<br>comp3=%{z}<extra></extra>",
         "legendgroup": "654",
         "marker": {
          "color": "rgb(36, 121, 108)",
          "line": {
           "color": "black",
           "width": 0.1
          },
          "opacity": 0.8,
          "size": 4,
          "symbol": "circle"
         },
         "mode": "markers",
         "name": "654",
         "scene": "scene",
         "showlegend": true,
         "type": "scatter3d",
         "x": [
          -1.3154342606850804
         ],
         "y": [
          -0.35425951511515064
         ],
         "z": [
          0.02688195402187138
         ]
        },
        {
         "hovertemplate": "cluster=655<br>comp1=%{x}<br>comp2=%{y}<br>comp3=%{z}<extra></extra>",
         "legendgroup": "655",
         "marker": {
          "color": "rgb(218, 165, 27)",
          "line": {
           "color": "black",
           "width": 0.1
          },
          "opacity": 0.8,
          "size": 4,
          "symbol": "circle"
         },
         "mode": "markers",
         "name": "655",
         "scene": "scene",
         "showlegend": true,
         "type": "scatter3d",
         "x": [
          -1.3189476798024382
         ],
         "y": [
          -0.35208393602163507
         ],
         "z": [
          0.02700992596182601
         ]
        },
        {
         "hovertemplate": "cluster=656<br>comp1=%{x}<br>comp2=%{y}<br>comp3=%{z}<extra></extra>",
         "legendgroup": "656",
         "marker": {
          "color": "rgb(47, 138, 196)",
          "line": {
           "color": "black",
           "width": 0.1
          },
          "opacity": 0.8,
          "size": 4,
          "symbol": "circle"
         },
         "mode": "markers",
         "name": "656",
         "scene": "scene",
         "showlegend": true,
         "type": "scatter3d",
         "x": [
          -1.3224443956534742
         ],
         "y": [
          -0.3498926087574908
         ],
         "z": [
          0.027136545284403506
         ]
        },
        {
         "hovertemplate": "cluster=657<br>comp1=%{x}<br>comp2=%{y}<br>comp3=%{z}<extra></extra>",
         "legendgroup": "657",
         "marker": {
          "color": "rgb(118, 78, 159)",
          "line": {
           "color": "black",
           "width": 0.1
          },
          "opacity": 0.8,
          "size": 4,
          "symbol": "circle"
         },
         "mode": "markers",
         "name": "657",
         "scene": "scene",
         "showlegend": true,
         "type": "scatter3d",
         "x": [
          -1.3259243921936017
         ],
         "y": [
          -0.34768551337956105
         ],
         "z": [
          0.02726180351106142
         ]
        },
        {
         "hovertemplate": "cluster=658<br>comp1=%{x}<br>comp2=%{y}<br>comp3=%{z}<extra></extra>",
         "legendgroup": "658",
         "marker": {
          "color": "rgb(237, 100, 90)",
          "line": {
           "color": "black",
           "width": 0.1
          },
          "opacity": 0.8,
          "size": 4,
          "symbol": "circle"
         },
         "mode": "markers",
         "name": "658",
         "scene": "scene",
         "showlegend": true,
         "type": "scatter3d",
         "x": [
          -1.3293876533892972
         ],
         "y": [
          -0.345462629959428
         ],
         "z": [
          0.027385692169176586
         ]
        },
        {
         "hovertemplate": "cluster=659<br>comp1=%{x}<br>comp2=%{y}<br>comp3=%{z}<extra></extra>",
         "legendgroup": "659",
         "marker": {
          "color": "rgb(165, 170, 153)",
          "line": {
           "color": "black",
           "width": 0.1
          },
          "opacity": 0.8,
          "size": 4,
          "symbol": "circle"
         },
         "mode": "markers",
         "name": "659",
         "scene": "scene",
         "showlegend": true,
         "type": "scatter3d",
         "x": [
          -1.3328341632180647
         ],
         "y": [
          -0.34322393858339184
         ],
         "z": [
          0.0275082027920617
         ]
        },
        {
         "hovertemplate": "cluster=660<br>comp1=%{x}<br>comp2=%{y}<br>comp3=%{z}<extra></extra>",
         "legendgroup": "660",
         "marker": {
          "color": "rgb(229, 134, 6)",
          "line": {
           "color": "black",
           "width": 0.1
          },
          "opacity": 0.8,
          "size": 4,
          "symbol": "circle"
         },
         "mode": "markers",
         "name": "660",
         "scene": "scene",
         "showlegend": true,
         "type": "scatter3d",
         "x": [
          -1.336263905668484
         ],
         "y": [
          -0.3409694193524954
         ],
         "z": [
          0.027629326918937477
         ]
        },
        {
         "hovertemplate": "cluster=661<br>comp1=%{x}<br>comp2=%{y}<br>comp3=%{z}<extra></extra>",
         "legendgroup": "661",
         "marker": {
          "color": "rgb(93, 105, 177)",
          "line": {
           "color": "black",
           "width": 0.1
          },
          "opacity": 0.8,
          "size": 4,
          "symbol": "circle"
         },
         "mode": "markers",
         "name": "661",
         "scene": "scene",
         "showlegend": true,
         "type": "scatter3d",
         "x": [
          -1.3396768647402275
         ],
         "y": [
          -0.33869905238257275
         ],
         "z": [
          0.027749056094979678
         ]
        },
        {
         "hovertemplate": "cluster=662<br>comp1=%{x}<br>comp2=%{y}<br>comp3=%{z}<extra></extra>",
         "legendgroup": "662",
         "marker": {
          "color": "rgb(82, 188, 163)",
          "line": {
           "color": "black",
           "width": 0.1
          },
          "opacity": 0.8,
          "size": 4,
          "symbol": "circle"
         },
         "mode": "markers",
         "name": "662",
         "scene": "scene",
         "showlegend": true,
         "type": "scatter3d",
         "x": [
          -1.3430730244440192
         ],
         "y": [
          -0.3364128178042333
         ],
         "z": [
          0.027867381871339116
         ]
        },
        {
         "hovertemplate": "cluster=663<br>comp1=%{x}<br>comp2=%{y}<br>comp3=%{z}<extra></extra>",
         "legendgroup": "663",
         "marker": {
          "color": "rgb(153, 201, 69)",
          "line": {
           "color": "black",
           "width": 0.1
          },
          "opacity": 0.8,
          "size": 4,
          "symbol": "circle"
         },
         "mode": "markers",
         "name": "663",
         "scene": "scene",
         "showlegend": true,
         "type": "scatter3d",
         "x": [
          -1.3464523688017334
         ],
         "y": [
          -0.3341106957629069
         ],
         "z": [
          0.027984295805091448
         ]
        },
        {
         "hovertemplate": "cluster=664<br>comp1=%{x}<br>comp2=%{y}<br>comp3=%{z}<extra></extra>",
         "legendgroup": "664",
         "marker": {
          "color": "rgb(204, 97, 176)",
          "line": {
           "color": "black",
           "width": 0.1
          },
          "opacity": 0.8,
          "size": 4,
          "symbol": "circle"
         },
         "mode": "markers",
         "name": "664",
         "scene": "scene",
         "showlegend": true,
         "type": "scatter3d",
         "x": [
          -1.3498148818463458
         ],
         "y": [
          -0.3317926664188405
         ],
         "z": [
          0.02809978945928896
         ]
        },
        {
         "hovertemplate": "cluster=665<br>comp1=%{x}<br>comp2=%{y}<br>comp3=%{z}<extra></extra>",
         "legendgroup": "665",
         "marker": {
          "color": "rgb(36, 121, 108)",
          "line": {
           "color": "black",
           "width": 0.1
          },
          "opacity": 0.8,
          "size": 4,
          "symbol": "circle"
         },
         "mode": "markers",
         "name": "665",
         "scene": "scene",
         "showlegend": true,
         "type": "scatter3d",
         "x": [
          -1.3531605476219557
         ],
         "y": [
          -0.3294587099471376
         ],
         "z": [
          0.02821385440298346
         ]
        },
        {
         "hovertemplate": "cluster=666<br>comp1=%{x}<br>comp2=%{y}<br>comp3=%{z}<extra></extra>",
         "legendgroup": "666",
         "marker": {
          "color": "rgb(218, 165, 27)",
          "line": {
           "color": "black",
           "width": 0.1
          },
          "opacity": 0.8,
          "size": 4,
          "symbol": "circle"
         },
         "mode": "markers",
         "name": "666",
         "scene": "scene",
         "showlegend": true,
         "type": "scatter3d",
         "x": [
          -1.35648935018382
         ],
         "y": [
          -0.32710880653776947
         ],
         "z": [
          0.02832648221119903
         ]
        },
        {
         "hovertemplate": "cluster=667<br>comp1=%{x}<br>comp2=%{y}<br>comp3=%{z}<extra></extra>",
         "legendgroup": "667",
         "marker": {
          "color": "rgb(47, 138, 196)",
          "line": {
           "color": "black",
           "width": 0.1
          },
          "opacity": 0.8,
          "size": 4,
          "symbol": "circle"
         },
         "mode": "markers",
         "name": "667",
         "scene": "scene",
         "showlegend": true,
         "type": "scatter3d",
         "x": [
          -1.3598012735983631
         ],
         "y": [
          -0.3247429363955918
         ],
         "z": [
          0.028437664464947884
         ]
        },
        {
         "hovertemplate": "cluster=668<br>comp1=%{x}<br>comp2=%{y}<br>comp3=%{z}<extra></extra>",
         "legendgroup": "668",
         "marker": {
          "color": "rgb(118, 78, 159)",
          "line": {
           "color": "black",
           "width": 0.1
          },
          "opacity": 0.8,
          "size": 4,
          "symbol": "circle"
         },
         "mode": "markers",
         "name": "668",
         "scene": "scene",
         "showlegend": true,
         "type": "scatter3d",
         "x": [
          -1.3630963019431845
         ],
         "y": [
          -0.3223610797403666
         ],
         "z": [
          0.028547392751243534
         ]
        },
        {
         "hovertemplate": "cluster=669<br>comp1=%{x}<br>comp2=%{y}<br>comp3=%{z}<extra></extra>",
         "legendgroup": "669",
         "marker": {
          "color": "rgb(237, 100, 90)",
          "line": {
           "color": "black",
           "width": 0.1
          },
          "opacity": 0.8,
          "size": 4,
          "symbol": "circle"
         },
         "mode": "markers",
         "name": "669",
         "scene": "scene",
         "showlegend": true,
         "type": "scatter3d",
         "x": [
          -1.3663744193070655
         ],
         "y": [
          -0.319963216806789
         ],
         "z": [
          0.028655658663130832
         ]
        },
        {
         "hovertemplate": "cluster=670<br>comp1=%{x}<br>comp2=%{y}<br>comp3=%{z}<extra></extra>",
         "legendgroup": "670",
         "marker": {
          "color": "rgb(165, 170, 153)",
          "line": {
           "color": "black",
           "width": 0.1
          },
          "opacity": 0.8,
          "size": 4,
          "symbol": "circle"
         },
         "mode": "markers",
         "name": "670",
         "scene": "scene",
         "showlegend": true,
         "type": "scatter3d",
         "x": [
          -1.3696356097900029
         ],
         "y": [
          -0.31754932784448414
         ],
         "z": [
          0.02876245379964295
         ]
        },
        {
         "hovertemplate": "cluster=671<br>comp1=%{x}<br>comp2=%{y}<br>comp3=%{z}<extra></extra>",
         "legendgroup": "671",
         "marker": {
          "color": "rgb(229, 134, 6)",
          "line": {
           "color": "black",
           "width": 0.1
          },
          "opacity": 0.8,
          "size": 4,
          "symbol": "circle"
         },
         "mode": "markers",
         "name": "671",
         "scene": "scene",
         "showlegend": true,
         "type": "scatter3d",
         "x": [
          -1.3728798575031955
         ],
         "y": [
          -0.3151193931180543
         ],
         "z": [
          0.02886776976587389
         ]
        },
        {
         "hovertemplate": "cluster=672<br>comp1=%{x}<br>comp2=%{y}<br>comp3=%{z}<extra></extra>",
         "legendgroup": "672",
         "marker": {
          "color": "rgb(93, 105, 177)",
          "line": {
           "color": "black",
           "width": 0.1
          },
          "opacity": 0.8,
          "size": 4,
          "symbol": "circle"
         },
         "mode": "markers",
         "name": "672",
         "scene": "scene",
         "showlegend": true,
         "type": "scatter3d",
         "x": [
          -1.3761071465691066
         ],
         "y": [
          -0.3126733929070819
         ],
         "z": [
          0.028971598172916037
         ]
        },
        {
         "hovertemplate": "cluster=673<br>comp1=%{x}<br>comp2=%{y}<br>comp3=%{z}<extra></extra>",
         "legendgroup": "673",
         "marker": {
          "color": "rgb(82, 188, 163)",
          "line": {
           "color": "black",
           "width": 0.1
          },
          "opacity": 0.8,
          "size": 4,
          "symbol": "circle"
         },
         "mode": "markers",
         "name": "673",
         "scene": "scene",
         "showlegend": true,
         "type": "scatter3d",
         "x": [
          -1.3793174611214019
         ],
         "y": [
          -0.3102113075061485
         ],
         "z": [
          0.029073930637950027
         ]
        },
        {
         "hovertemplate": "cluster=674<br>comp1=%{x}<br>comp2=%{y}<br>comp3=%{z}<extra></extra>",
         "legendgroup": "674",
         "marker": {
          "color": "rgb(153, 201, 69)",
          "line": {
           "color": "black",
           "width": 0.1
          },
          "opacity": 0.8,
          "size": 4,
          "symbol": "circle"
         },
         "mode": "markers",
         "name": "674",
         "scene": "scene",
         "showlegend": true,
         "type": "scatter3d",
         "x": [
          -1.3825107853050271
         ],
         "y": [
          -0.3077331172248619
         ],
         "z": [
          0.0291747587841894
         ]
        },
        {
         "hovertemplate": "cluster=675<br>comp1=%{x}<br>comp2=%{y}<br>comp3=%{z}<extra></extra>",
         "legendgroup": "675",
         "marker": {
          "color": "rgb(204, 97, 176)",
          "line": {
           "color": "black",
           "width": 0.1
          },
          "opacity": 0.8,
          "size": 4,
          "symbol": "circle"
         },
         "mode": "markers",
         "name": "675",
         "scene": "scene",
         "showlegend": true,
         "type": "scatter3d",
         "x": [
          -1.3856871032762357
         ],
         "y": [
          -0.305238802387871
         ],
         "z": [
          0.029274074240879966
         ]
        },
        {
         "hovertemplate": "cluster=676<br>comp1=%{x}<br>comp2=%{y}<br>comp3=%{z}<extra></extra>",
         "legendgroup": "676",
         "marker": {
          "color": "rgb(36, 121, 108)",
          "line": {
           "color": "black",
           "width": 0.1
          },
          "opacity": 0.8,
          "size": 4,
          "symbol": "circle"
         },
         "mode": "markers",
         "name": "676",
         "scene": "scene",
         "showlegend": true,
         "type": "scatter3d",
         "x": [
          -1.3888463992025009
         ],
         "y": [
          -0.30272834333488297
         ],
         "z": [
          0.029371868643401248
         ]
        },
        {
         "hovertemplate": "cluster=677<br>comp1=%{x}<br>comp2=%{y}<br>comp3=%{z}<extra></extra>",
         "legendgroup": "677",
         "marker": {
          "color": "rgb(218, 165, 27)",
          "line": {
           "color": "black",
           "width": 0.1
          },
          "opacity": 0.8,
          "size": 4,
          "symbol": "circle"
         },
         "mode": "markers",
         "name": "677",
         "scene": "scene",
         "showlegend": true,
         "type": "scatter3d",
         "x": [
          -1.3919886572626619
         ],
         "y": [
          -0.30020172042068144
         ],
         "z": [
          0.029468133633143254
         ]
        },
        {
         "hovertemplate": "cluster=678<br>comp1=%{x}<br>comp2=%{y}<br>comp3=%{z}<extra></extra>",
         "legendgroup": "678",
         "marker": {
          "color": "rgb(47, 138, 196)",
          "line": {
           "color": "black",
           "width": 0.1
          },
          "opacity": 0.8,
          "size": 4,
          "symbol": "circle"
         },
         "mode": "markers",
         "name": "678",
         "scene": "scene",
         "showlegend": true,
         "type": "scatter3d",
         "x": [
          -1.3951138616468404
         ],
         "y": [
          -0.2976589140151592
         ],
         "z": [
          0.029562860857629943
         ]
        },
        {
         "hovertemplate": "cluster=679<br>comp1=%{x}<br>comp2=%{y}<br>comp3=%{z}<extra></extra>",
         "legendgroup": "679",
         "marker": {
          "color": "rgb(118, 78, 159)",
          "line": {
           "color": "black",
           "width": 0.1
          },
          "opacity": 0.8,
          "size": 4,
          "symbol": "circle"
         },
         "mode": "markers",
         "name": "679",
         "scene": "scene",
         "showlegend": true,
         "type": "scatter3d",
         "x": [
          -1.3982219965564917
         ],
         "y": [
          -0.29509990450331297
         ],
         "z": [
          0.02965604197045782
         ]
        },
        {
         "hovertemplate": "cluster=680<br>comp1=%{x}<br>comp2=%{y}<br>comp3=%{z}<extra></extra>",
         "legendgroup": "680",
         "marker": {
          "color": "rgb(237, 100, 90)",
          "line": {
           "color": "black",
           "width": 0.1
          },
          "opacity": 0.8,
          "size": 4,
          "symbol": "circle"
         },
         "mode": "markers",
         "name": "680",
         "scene": "scene",
         "showlegend": true,
         "type": "scatter3d",
         "x": [
          -1.4013130462044154
         ],
         "y": [
          -0.292524672285291
         ],
         "z": [
          0.029747668631347937
         ]
        },
        {
         "hovertemplate": "cluster=681<br>comp1=%{x}<br>comp2=%{y}<br>comp3=%{z}<extra></extra>",
         "legendgroup": "681",
         "marker": {
          "color": "rgb(165, 170, 153)",
          "line": {
           "color": "black",
           "width": 0.1
          },
          "opacity": 0.8,
          "size": 4,
          "symbol": "circle"
         },
         "mode": "markers",
         "name": "681",
         "scene": "scene",
         "showlegend": true,
         "type": "scatter3d",
         "x": [
          -1.4043869948147816
         ],
         "y": [
          -0.28993319777638266
         ],
         "z": [
          0.02983773250609701
         ]
        },
        {
         "hovertemplate": "cluster=682<br>comp1=%{x}<br>comp2=%{y}<br>comp3=%{z}<extra></extra>",
         "legendgroup": "682",
         "marker": {
          "color": "rgb(229, 134, 6)",
          "line": {
           "color": "black",
           "width": 0.1
          },
          "opacity": 0.8,
          "size": 4,
          "symbol": "circle"
         },
         "mode": "markers",
         "name": "682",
         "scene": "scene",
         "showlegend": true,
         "type": "scatter3d",
         "x": [
          -1.4074438266231153
         ],
         "y": [
          -0.28732546140706616
         ],
         "z": [
          0.029926225266658574
         ]
        },
        {
         "hovertemplate": "cluster=683<br>comp1=%{x}<br>comp2=%{y}<br>comp3=%{z}<extra></extra>",
         "legendgroup": "683",
         "marker": {
          "color": "rgb(93, 105, 177)",
          "line": {
           "color": "black",
           "width": 0.1
          },
          "opacity": 0.8,
          "size": 4,
          "symbol": "circle"
         },
         "mode": "markers",
         "name": "683",
         "scene": "scene",
         "showlegend": true,
         "type": "scatter3d",
         "x": [
          -1.4104835258763355
         ],
         "y": [
          -0.28470144362300476
         ],
         "z": [
          0.030013138591093575
         ]
        },
        {
         "hovertemplate": "cluster=684<br>comp1=%{x}<br>comp2=%{y}<br>comp3=%{z}<extra></extra>",
         "legendgroup": "684",
         "marker": {
          "color": "rgb(82, 188, 163)",
          "line": {
           "color": "black",
           "width": 0.1
          },
          "opacity": 0.8,
          "size": 4,
          "symbol": "circle"
         },
         "mode": "markers",
         "name": "684",
         "scene": "scene",
         "showlegend": true,
         "type": "scatter3d",
         "x": [
          -1.4135060768327674
         ],
         "y": [
          -0.2820611248850851
         ],
         "z": [
          0.03009846416360333
         ]
        },
        {
         "hovertemplate": "cluster=685<br>comp1=%{x}<br>comp2=%{y}<br>comp3=%{z}<extra></extra>",
         "legendgroup": "685",
         "marker": {
          "color": "rgb(153, 201, 69)",
          "line": {
           "color": "black",
           "width": 0.1
          },
          "opacity": 0.8,
          "size": 4,
          "symbol": "circle"
         },
         "mode": "markers",
         "name": "685",
         "scene": "scene",
         "showlegend": true,
         "type": "scatter3d",
         "x": [
          -1.4165114637621237
         ],
         "y": [
          -0.2794044856694117
         ],
         "z": [
          0.030182193674547903
         ]
        },
        {
         "hovertemplate": "cluster=686<br>comp1=%{x}<br>comp2=%{y}<br>comp3=%{z}<extra></extra>",
         "legendgroup": "686",
         "marker": {
          "color": "rgb(204, 97, 176)",
          "line": {
           "color": "black",
           "width": 0.1
          },
          "opacity": 0.8,
          "size": 4,
          "symbol": "circle"
         },
         "mode": "markers",
         "name": "686",
         "scene": "scene",
         "showlegend": true,
         "type": "scatter3d",
         "x": [
          -1.4194996709455778
         ],
         "y": [
          -0.2767315064673524
         ],
         "z": [
          0.030264318820413298
         ]
        },
        {
         "hovertemplate": "cluster=687<br>comp1=%{x}<br>comp2=%{y}<br>comp3=%{z}<extra></extra>",
         "legendgroup": "687",
         "marker": {
          "color": "rgb(36, 121, 108)",
          "line": {
           "color": "black",
           "width": 0.1
          },
          "opacity": 0.8,
          "size": 4,
          "symbol": "circle"
         },
         "mode": "markers",
         "name": "687",
         "scene": "scene",
         "showlegend": true,
         "type": "scatter3d",
         "x": [
          -1.422470682675723
         ],
         "y": [
          -0.2740421677855426
         ],
         "z": [
          0.030344831303870938
         ]
        },
        {
         "hovertemplate": "cluster=688<br>comp1=%{x}<br>comp2=%{y}<br>comp3=%{z}<extra></extra>",
         "legendgroup": "688",
         "marker": {
          "color": "rgb(218, 165, 27)",
          "line": {
           "color": "black",
           "width": 0.1
          },
          "opacity": 0.8,
          "size": 4,
          "symbol": "circle"
         },
         "mode": "markers",
         "name": "688",
         "scene": "scene",
         "showlegend": true,
         "type": "scatter3d",
         "x": [
          -1.4254244832566165
         ],
         "y": [
          -0.27133645014590546
         ],
         "z": [
          0.030423722833747707
         ]
        },
        {
         "hovertemplate": "cluster=689<br>comp1=%{x}<br>comp2=%{y}<br>comp3=%{z}<extra></extra>",
         "legendgroup": "689",
         "marker": {
          "color": "rgb(47, 138, 196)",
          "line": {
           "color": "black",
           "width": 0.1
          },
          "opacity": 0.8,
          "size": 4,
          "symbol": "circle"
         },
         "mode": "markers",
         "name": "689",
         "scene": "scene",
         "showlegend": true,
         "type": "scatter3d",
         "x": [
          -1.4283610570037668
         ],
         "y": [
          -0.26861433408567625
         ],
         "z": [
          0.030500985125073394
         ]
        },
        {
         "hovertemplate": "cluster=690<br>comp1=%{x}<br>comp2=%{y}<br>comp3=%{z}<extra></extra>",
         "legendgroup": "690",
         "marker": {
          "color": "rgb(118, 78, 159)",
          "line": {
           "color": "black",
           "width": 0.1
          },
          "opacity": 0.8,
          "size": 4,
          "symbol": "circle"
         },
         "mode": "markers",
         "name": "690",
         "scene": "scene",
         "showlegend": true,
         "type": "scatter3d",
         "x": [
          -1.4312803882441971
         ],
         "y": [
          -0.2658758001574165
         ],
         "z": [
          0.030576609899026056
         ]
        },
        {
         "hovertemplate": "cluster=691<br>comp1=%{x}<br>comp2=%{y}<br>comp3=%{z}<extra></extra>",
         "legendgroup": "691",
         "marker": {
          "color": "rgb(237, 100, 90)",
          "line": {
           "color": "black",
           "width": 0.1
          },
          "opacity": 0.8,
          "size": 4,
          "symbol": "circle"
         },
         "mode": "markers",
         "name": "691",
         "scene": "scene",
         "showlegend": true,
         "type": "scatter3d",
         "x": [
          -1.4341824613163938
         ],
         "y": [
          -0.26312082892903127
         ],
         "z": [
          0.030650588883011795
         ]
        },
        {
         "hovertemplate": "cluster=692<br>comp1=%{x}<br>comp2=%{y}<br>comp3=%{z}<extra></extra>",
         "legendgroup": "692",
         "marker": {
          "color": "rgb(165, 170, 153)",
          "line": {
           "color": "black",
           "width": 0.1
          },
          "opacity": 0.8,
          "size": 4,
          "symbol": "circle"
         },
         "mode": "markers",
         "name": "692",
         "scene": "scene",
         "showlegend": true,
         "type": "scatter3d",
         "x": [
          -1.4370672605703685
         ],
         "y": [
          -0.26034940098379494
         ],
         "z": [
          0.030722913810626442
         ]
        },
        {
         "hovertemplate": "cluster=693<br>comp1=%{x}<br>comp2=%{y}<br>comp3=%{z}<extra></extra>",
         "legendgroup": "693",
         "marker": {
          "color": "rgb(229, 134, 6)",
          "line": {
           "color": "black",
           "width": 0.1
          },
          "opacity": 0.8,
          "size": 4,
          "symbol": "circle"
         },
         "mode": "markers",
         "name": "693",
         "scene": "scene",
         "showlegend": true,
         "type": "scatter3d",
         "x": [
          -1.4399347703676626
         ],
         "y": [
          -0.2575614969203684
         ],
         "z": [
          0.030793576421677963
         ]
        },
        {
         "hovertemplate": "cluster=694<br>comp1=%{x}<br>comp2=%{y}<br>comp3=%{z}<extra></extra>",
         "legendgroup": "694",
         "marker": {
          "color": "rgb(93, 105, 177)",
          "line": {
           "color": "black",
           "width": 0.1
          },
          "opacity": 0.8,
          "size": 4,
          "symbol": "circle"
         },
         "mode": "markers",
         "name": "694",
         "scene": "scene",
         "showlegend": true,
         "type": "scatter3d",
         "x": [
          -1.4427849750813484
         ],
         "y": [
          -0.25475709735280866
         ],
         "z": [
          0.030862568462185314
         ]
        },
        {
         "hovertemplate": "cluster=695<br>comp1=%{x}<br>comp2=%{y}<br>comp3=%{z}<extra></extra>",
         "legendgroup": "695",
         "marker": {
          "color": "rgb(82, 188, 163)",
          "line": {
           "color": "black",
           "width": 0.1
          },
          "opacity": 0.8,
          "size": 4,
          "symbol": "circle"
         },
         "mode": "markers",
         "name": "695",
         "scene": "scene",
         "showlegend": true,
         "type": "scatter3d",
         "x": [
          -1.445617859096042
         ],
         "y": [
          -0.2519361829106075
         ],
         "z": [
          0.03092988168442309
         ]
        },
        {
         "hovertemplate": "cluster=696<br>comp1=%{x}<br>comp2=%{y}<br>comp3=%{z}<extra></extra>",
         "legendgroup": "696",
         "marker": {
          "color": "rgb(153, 201, 69)",
          "line": {
           "color": "black",
           "width": 0.1
          },
          "opacity": 0.8,
          "size": 4,
          "symbol": "circle"
         },
         "mode": "markers",
         "name": "696",
         "scene": "scene",
         "showlegend": true,
         "type": "scatter3d",
         "x": [
          -1.4484334068079423
         ],
         "y": [
          -0.249098734238681
         ],
         "z": [
          0.030995507846861708
         ]
        },
        {
         "hovertemplate": "cluster=697<br>comp1=%{x}<br>comp2=%{y}<br>comp3=%{z}<extra></extra>",
         "legendgroup": "697",
         "marker": {
          "color": "rgb(204, 97, 176)",
          "line": {
           "color": "black",
           "width": 0.1
          },
          "opacity": 0.8,
          "size": 4,
          "symbol": "circle"
         },
         "mode": "markers",
         "name": "697",
         "scene": "scene",
         "showlegend": true,
         "type": "scatter3d",
         "x": [
          -1.4512316026248062
         ],
         "y": [
          -0.2462447319974253
         ],
         "z": [
          0.031059438714262238
         ]
        },
        {
         "hovertemplate": "cluster=698<br>comp1=%{x}<br>comp2=%{y}<br>comp3=%{z}<extra></extra>",
         "legendgroup": "698",
         "marker": {
          "color": "rgb(36, 121, 108)",
          "line": {
           "color": "black",
           "width": 0.1
          },
          "opacity": 0.8,
          "size": 4,
          "symbol": "circle"
         },
         "mode": "markers",
         "name": "698",
         "scene": "scene",
         "showlegend": true,
         "type": "scatter3d",
         "x": [
          -1.4540124309659965
         ],
         "y": [
          -0.24337415686269712
         ],
         "z": [
          0.031121666057603702
         ]
        },
        {
         "hovertemplate": "cluster=699<br>comp1=%{x}<br>comp2=%{y}<br>comp3=%{z}<extra></extra>",
         "legendgroup": "699",
         "marker": {
          "color": "rgb(218, 165, 27)",
          "line": {
           "color": "black",
           "width": 0.1
          },
          "opacity": 0.8,
          "size": 4,
          "symbol": "circle"
         },
         "mode": "markers",
         "name": "699",
         "scene": "scene",
         "showlegend": true,
         "type": "scatter3d",
         "x": [
          -1.4567758762624887
         ],
         "y": [
          -0.24048698952586556
         ],
         "z": [
          0.03118218165413259
         ]
        },
        {
         "hovertemplate": "cluster=700<br>comp1=%{x}<br>comp2=%{y}<br>comp3=%{z}<extra></extra>",
         "legendgroup": "700",
         "marker": {
          "color": "rgb(47, 138, 196)",
          "line": {
           "color": "black",
           "width": 0.1
          },
          "opacity": 0.8,
          "size": 4,
          "symbol": "circle"
         },
         "mode": "markers",
         "name": "700",
         "scene": "scene",
         "showlegend": true,
         "type": "scatter3d",
         "x": [
          -1.4595219229568561
         ],
         "y": [
          -0.23758321069380767
         ],
         "z": [
          0.03124097728738084
         ]
        },
        {
         "hovertemplate": "cluster=701<br>comp1=%{x}<br>comp2=%{y}<br>comp3=%{z}<extra></extra>",
         "legendgroup": "701",
         "marker": {
          "color": "rgb(118, 78, 159)",
          "line": {
           "color": "black",
           "width": 0.1
          },
          "opacity": 0.8,
          "size": 4,
          "symbol": "circle"
         },
         "mode": "markers",
         "name": "701",
         "scene": "scene",
         "showlegend": true,
         "type": "scatter3d",
         "x": [
          -1.462250555503332
         ],
         "y": [
          -0.23466280108894488
         ],
         "z": [
          0.03129804474713877
         ]
        },
        {
         "hovertemplate": "cluster=702<br>comp1=%{x}<br>comp2=%{y}<br>comp3=%{z}<extra></extra>",
         "legendgroup": "702",
         "marker": {
          "color": "rgb(237, 100, 90)",
          "line": {
           "color": "black",
           "width": 0.1
          },
          "opacity": 0.8,
          "size": 4,
          "symbol": "circle"
         },
         "mode": "markers",
         "name": "702",
         "scene": "scene",
         "showlegend": true,
         "type": "scatter3d",
         "x": [
          -1.4649617583677754
         ],
         "y": [
          -0.23172574144924565
         ],
         "z": [
          0.03135337582949787
         ]
        },
        {
         "hovertemplate": "cluster=703<br>comp1=%{x}<br>comp2=%{y}<br>comp3=%{z}<extra></extra>",
         "legendgroup": "703",
         "marker": {
          "color": "rgb(165, 170, 153)",
          "line": {
           "color": "black",
           "width": 0.1
          },
          "opacity": 0.8,
          "size": 4,
          "symbol": "circle"
         },
         "mode": "markers",
         "name": "703",
         "scene": "scene",
         "showlegend": true,
         "type": "scatter3d",
         "x": [
          -1.4676555160277238
         ],
         "y": [
          -0.2287720125282549
         ],
         "z": [
          0.03140696233682772
         ]
        },
        {
         "hovertemplate": "cluster=704<br>comp1=%{x}<br>comp2=%{y}<br>comp3=%{z}<extra></extra>",
         "legendgroup": "704",
         "marker": {
          "color": "rgb(229, 134, 6)",
          "line": {
           "color": "black",
           "width": 0.1
          },
          "opacity": 0.8,
          "size": 4,
          "symbol": "circle"
         },
         "mode": "markers",
         "name": "704",
         "scene": "scene",
         "showlegend": true,
         "type": "scatter3d",
         "x": [
          -1.4703318129723741
         ],
         "y": [
          -0.22580159509511077
         ],
         "z": [
          0.031458796077817826
         ]
        },
        {
         "hovertemplate": "cluster=705<br>comp1=%{x}<br>comp2=%{y}<br>comp3=%{z}<extra></extra>",
         "legendgroup": "705",
         "marker": {
          "color": "rgb(93, 105, 177)",
          "line": {
           "color": "black",
           "width": 0.1
          },
          "opacity": 0.8,
          "size": 4,
          "symbol": "circle"
         },
         "mode": "markers",
         "name": "705",
         "scene": "scene",
         "showlegend": true,
         "type": "scatter3d",
         "x": [
          -1.4729906337026168
         ],
         "y": [
          -0.22281446993456144
         ],
         "z": [
          0.031508868867462375
         ]
        },
        {
         "hovertemplate": "cluster=706<br>comp1=%{x}<br>comp2=%{y}<br>comp3=%{z}<extra></extra>",
         "legendgroup": "706",
         "marker": {
          "color": "rgb(82, 188, 163)",
          "line": {
           "color": "black",
           "width": 0.1
          },
          "opacity": 0.8,
          "size": 4,
          "symbol": "circle"
         },
         "mode": "markers",
         "name": "706",
         "scene": "scene",
         "showlegend": true,
         "type": "scatter3d",
         "x": [
          -1.4756319627310617
         ],
         "y": [
          -0.21981061784698588
         ],
         "z": [
          0.03155717252705613
         ]
        },
        {
         "hovertemplate": "cluster=707<br>comp1=%{x}<br>comp2=%{y}<br>comp3=%{z}<extra></extra>",
         "legendgroup": "707",
         "marker": {
          "color": "rgb(153, 201, 69)",
          "line": {
           "color": "black",
           "width": 0.1
          },
          "opacity": 0.8,
          "size": 4,
          "symbol": "circle"
         },
         "mode": "markers",
         "name": "707",
         "scene": "scene",
         "showlegend": true,
         "type": "scatter3d",
         "x": [
          -1.478255784582002
         ],
         "y": [
          -0.2167900196484111
         ],
         "z": [
          0.03160369888425475
         ]
        },
        {
         "hovertemplate": "cluster=708<br>comp1=%{x}<br>comp2=%{y}<br>comp3=%{z}<extra></extra>",
         "legendgroup": "708",
         "marker": {
          "color": "rgb(204, 97, 176)",
          "line": {
           "color": "black",
           "width": 0.1
          },
          "opacity": 0.8,
          "size": 4,
          "symbol": "circle"
         },
         "mode": "markers",
         "name": "708",
         "scene": "scene",
         "showlegend": true,
         "type": "scatter3d",
         "x": [
          -1.4808620837914808
         ],
         "y": [
          -0.21375265617053604
         ],
         "z": [
          0.03164843977303239
         ]
        },
        {
         "hovertemplate": "cluster=709<br>comp1=%{x}<br>comp2=%{y}<br>comp3=%{z}<extra></extra>",
         "legendgroup": "709",
         "marker": {
          "color": "rgb(36, 121, 108)",
          "line": {
           "color": "black",
           "width": 0.1
          },
          "opacity": 0.8,
          "size": 4,
          "symbol": "circle"
         },
         "mode": "markers",
         "name": "709",
         "scene": "scene",
         "showlegend": true,
         "type": "scatter3d",
         "x": [
          -1.483450844907293
         ],
         "y": [
          -0.21069850826073275
         ],
         "z": [
          0.031691387033682
         ]
        },
        {
         "hovertemplate": "cluster=710<br>comp1=%{x}<br>comp2=%{y}<br>comp3=%{z}<extra></extra>",
         "legendgroup": "710",
         "marker": {
          "color": "rgb(218, 165, 27)",
          "line": {
           "color": "black",
           "width": 0.1
          },
          "opacity": 0.8,
          "size": 4,
          "symbol": "circle"
         },
         "mode": "markers",
         "name": "710",
         "scene": "scene",
         "showlegend": true,
         "type": "scatter3d",
         "x": [
          -1.4860220524889776
         ],
         "y": [
          -0.20762755678209616
         ],
         "z": [
          0.031732532512883736
         ]
        },
        {
         "hovertemplate": "cluster=711<br>comp1=%{x}<br>comp2=%{y}<br>comp3=%{z}<extra></extra>",
         "legendgroup": "711",
         "marker": {
          "color": "rgb(47, 138, 196)",
          "line": {
           "color": "black",
           "width": 0.1
          },
          "opacity": 0.8,
          "size": 4,
          "symbol": "circle"
         },
         "mode": "markers",
         "name": "711",
         "scene": "scene",
         "showlegend": true,
         "type": "scatter3d",
         "x": [
          -1.488575691107842
         ],
         "y": [
          -0.2045397826134337
         ],
         "z": [
          0.03177186806366337
         ]
        },
        {
         "hovertemplate": "cluster=712<br>comp1=%{x}<br>comp2=%{y}<br>comp3=%{z}<extra></extra>",
         "legendgroup": "712",
         "marker": {
          "color": "rgb(118, 78, 159)",
          "line": {
           "color": "black",
           "width": 0.1
          },
          "opacity": 0.8,
          "size": 4,
          "symbol": "circle"
         },
         "mode": "markers",
         "name": "712",
         "scene": "scene",
         "showlegend": true,
         "type": "scatter3d",
         "x": [
          -1.4911117453469653
         ],
         "y": [
          -0.20143516664929537
         ],
         "z": [
          0.03180938554543194
         ]
        },
        {
         "hovertemplate": "cluster=713<br>comp1=%{x}<br>comp2=%{y}<br>comp3=%{z}<extra></extra>",
         "legendgroup": "713",
         "marker": {
          "color": "rgb(237, 100, 90)",
          "line": {
           "color": "black",
           "width": 0.1
          },
          "opacity": 0.8,
          "size": 4,
          "symbol": "circle"
         },
         "mode": "markers",
         "name": "713",
         "scene": "scene",
         "showlegend": true,
         "type": "scatter3d",
         "x": [
          -1.4936301998012642
         ],
         "y": [
          -0.19831368980000064
         ],
         "z": [
          0.03184507682394058
         ]
        },
        {
         "hovertemplate": "cluster=714<br>comp1=%{x}<br>comp2=%{y}<br>comp3=%{z}<extra></extra>",
         "legendgroup": "714",
         "marker": {
          "color": "rgb(165, 170, 153)",
          "line": {
           "color": "black",
           "width": 0.1
          },
          "opacity": 0.8,
          "size": 4,
          "symbol": "circle"
         },
         "mode": "markers",
         "name": "714",
         "scene": "scene",
         "showlegend": true,
         "type": "scatter3d",
         "x": [
          -1.4961310390774305
         ],
         "y": [
          -0.19517533299163314
         ],
         "z": [
          0.03187893377134512
         ]
        },
        {
         "hovertemplate": "cluster=715<br>comp1=%{x}<br>comp2=%{y}<br>comp3=%{z}<extra></extra>",
         "legendgroup": "715",
         "marker": {
          "color": "rgb(229, 134, 6)",
          "line": {
           "color": "black",
           "width": 0.1
          },
          "opacity": 0.8,
          "size": 4,
          "symbol": "circle"
         },
         "mode": "markers",
         "name": "715",
         "scene": "scene",
         "showlegend": true,
         "type": "scatter3d",
         "x": [
          -1.4986142477939934
         ],
         "y": [
          -0.19202007716609534
         ],
         "z": [
          0.03191094826620508
         ]
        },
        {
         "hovertemplate": "cluster=716<br>comp1=%{x}<br>comp2=%{y}<br>comp3=%{z}<extra></extra>",
         "legendgroup": "716",
         "marker": {
          "color": "rgb(93, 105, 177)",
          "line": {
           "color": "black",
           "width": 0.1
          },
          "opacity": 0.8,
          "size": 4,
          "symbol": "circle"
         },
         "mode": "markers",
         "name": "716",
         "scene": "scene",
         "showlegend": true,
         "type": "scatter3d",
         "x": [
          -1.501079810581323
         ],
         "y": [
          -0.18884790328108894
         ],
         "z": [
          0.031941112193458465
         ]
        },
        {
         "hovertemplate": "cluster=717<br>comp1=%{x}<br>comp2=%{y}<br>comp3=%{z}<extra></extra>",
         "legendgroup": "717",
         "marker": {
          "color": "rgb(82, 188, 163)",
          "line": {
           "color": "black",
           "width": 0.1
          },
          "opacity": 0.8,
          "size": 4,
          "symbol": "circle"
         },
         "mode": "markers",
         "name": "717",
         "scene": "scene",
         "showlegend": true,
         "type": "scatter3d",
         "x": [
          -1.5035277120816295
         ],
         "y": [
          -0.18565879231016502
         ],
         "z": [
          0.031969417444475234
         ]
        },
        {
         "hovertemplate": "cluster=718<br>comp1=%{x}<br>comp2=%{y}<br>comp3=%{z}<extra></extra>",
         "legendgroup": "718",
         "marker": {
          "color": "rgb(153, 201, 69)",
          "line": {
           "color": "black",
           "width": 0.1
          },
          "opacity": 0.8,
          "size": 4,
          "symbol": "circle"
         },
         "mode": "markers",
         "name": "718",
         "scene": "scene",
         "showlegend": true,
         "type": "scatter3d",
         "x": [
          -1.5059579369490133
         ],
         "y": [
          -0.18245272524271577
         ],
         "z": [
          0.03199585591700523
         ]
        },
        {
         "hovertemplate": "cluster=719<br>comp1=%{x}<br>comp2=%{y}<br>comp3=%{z}<extra></extra>",
         "legendgroup": "719",
         "marker": {
          "color": "rgb(204, 97, 176)",
          "line": {
           "color": "black",
           "width": 0.1
          },
          "opacity": 0.8,
          "size": 4,
          "symbol": "circle"
         },
         "mode": "markers",
         "name": "719",
         "scene": "scene",
         "showlegend": true,
         "type": "scatter3d",
         "x": [
          -1.5083704698494211
         ],
         "y": [
          -0.17922968308401807
         ],
         "z": [
          0.032020419515270085
         ]
        },
        {
         "hovertemplate": "cluster=720<br>comp1=%{x}<br>comp2=%{y}<br>comp3=%{z}<extra></extra>",
         "legendgroup": "720",
         "marker": {
          "color": "rgb(36, 121, 108)",
          "line": {
           "color": "black",
           "width": 0.1
          },
          "opacity": 0.8,
          "size": 4,
          "symbol": "circle"
         },
         "mode": "markers",
         "name": "720",
         "scene": "scene",
         "showlegend": true,
         "type": "scatter3d",
         "x": [
          -1.5107652954607131
         ],
         "y": [
          -0.17598964685523308
         ],
         "z": [
          0.03204310014989311
         ]
        },
        {
         "hovertemplate": "cluster=721<br>comp1=%{x}<br>comp2=%{y}<br>comp3=%{z}<extra></extra>",
         "legendgroup": "721",
         "marker": {
          "color": "rgb(218, 165, 27)",
          "line": {
           "color": "black",
           "width": 0.1
          },
          "opacity": 0.8,
          "size": 4,
          "symbol": "circle"
         },
         "mode": "markers",
         "name": "721",
         "scene": "scene",
         "showlegend": true,
         "type": "scatter3d",
         "x": [
          -1.5131423984726486
         ],
         "y": [
          -0.1727325975934386
         ],
         "z": [
          0.03206388973795381
         ]
        },
        {
         "hovertemplate": "cluster=722<br>comp1=%{x}<br>comp2=%{y}<br>comp3=%{z}<extra></extra>",
         "legendgroup": "722",
         "marker": {
          "color": "rgb(47, 138, 196)",
          "line": {
           "color": "black",
           "width": 0.1
          },
          "opacity": 0.8,
          "size": 4,
          "symbol": "circle"
         },
         "mode": "markers",
         "name": "722",
         "scene": "scene",
         "showlegend": true,
         "type": "scatter3d",
         "x": [
          -1.5155017635869261
         ],
         "y": [
          -0.16945851635163245
         ],
         "z": [
          0.032082780202949024
         ]
        },
        {
         "hovertemplate": "cluster=723<br>comp1=%{x}<br>comp2=%{y}<br>comp3=%{z}<extra></extra>",
         "legendgroup": "723",
         "marker": {
          "color": "rgb(118, 78, 159)",
          "line": {
           "color": "black",
           "width": 0.1
          },
          "opacity": 0.8,
          "size": 4,
          "symbol": "circle"
         },
         "mode": "markers",
         "name": "723",
         "scene": "scene",
         "showlegend": true,
         "type": "scatter3d",
         "x": [
          -1.5178433755171359
         ],
         "y": [
          -0.16616738419876853
         ],
         "z": [
          0.032099763474890027
         ]
        },
        {
         "hovertemplate": "cluster=724<br>comp1=%{x}<br>comp2=%{y}<br>comp3=%{z}<extra></extra>",
         "legendgroup": "724",
         "marker": {
          "color": "rgb(237, 100, 90)",
          "line": {
           "color": "black",
           "width": 0.1
          },
          "opacity": 0.8,
          "size": 4,
          "symbol": "circle"
         },
         "mode": "markers",
         "name": "724",
         "scene": "scene",
         "showlegend": true,
         "type": "scatter3d",
         "x": [
          -1.5201672189888553
         ],
         "y": [
          -0.16285918221976378
         ],
         "z": [
          0.03211483149020549
         ]
        },
        {
         "hovertemplate": "cluster=725<br>comp1=%{x}<br>comp2=%{y}<br>comp3=%{z}<extra></extra>",
         "legendgroup": "725",
         "marker": {
          "color": "rgb(165, 170, 153)",
          "line": {
           "color": "black",
           "width": 0.1
          },
          "opacity": 0.8,
          "size": 4,
          "symbol": "circle"
         },
         "mode": "markers",
         "name": "725",
         "scene": "scene",
         "showlegend": true,
         "type": "scatter3d",
         "x": [
          -1.5224732787395963
         ],
         "y": [
          -0.15953389151551534
         ],
         "z": [
          0.032127976191818446
         ]
        },
        {
         "hovertemplate": "cluster=726<br>comp1=%{x}<br>comp2=%{y}<br>comp3=%{z}<extra></extra>",
         "legendgroup": "726",
         "marker": {
          "color": "rgb(229, 134, 6)",
          "line": {
           "color": "black",
           "width": 0.1
          },
          "opacity": 0.8,
          "size": 4,
          "symbol": "circle"
         },
         "mode": "markers",
         "name": "726",
         "scene": "scene",
         "showlegend": true,
         "type": "scatter3d",
         "x": [
          -1.5247615395188563
         ],
         "y": [
          -0.15619149320292341
         ],
         "z": [
          0.032139189529121724
         ]
        },
        {
         "hovertemplate": "cluster=727<br>comp1=%{x}<br>comp2=%{y}<br>comp3=%{z}<extra></extra>",
         "legendgroup": "727",
         "marker": {
          "color": "rgb(93, 105, 177)",
          "line": {
           "color": "black",
           "width": 0.1
          },
          "opacity": 0.8,
          "size": 4,
          "symbol": "circle"
         },
         "mode": "markers",
         "name": "727",
         "scene": "scene",
         "showlegend": true,
         "type": "scatter3d",
         "x": [
          -1.5270319860881165
         ],
         "y": [
          -0.15283196841491778
         ],
         "z": [
          0.03214846345801268
         ]
        },
        {
         "hovertemplate": "cluster=728<br>comp1=%{x}<br>comp2=%{y}<br>comp3=%{z}<extra></extra>",
         "legendgroup": "728",
         "marker": {
          "color": "rgb(82, 188, 163)",
          "line": {
           "color": "black",
           "width": 0.1
          },
          "opacity": 0.8,
          "size": 4,
          "symbol": "circle"
         },
         "mode": "markers",
         "name": "728",
         "scene": "scene",
         "showlegend": true,
         "type": "scatter3d",
         "x": [
          -1.5292846032208622
         ],
         "y": [
          -0.14945529830046472
         ],
         "z": [
          0.032155789940877845
         ]
        },
        {
         "hovertemplate": "cluster=729<br>comp1=%{x}<br>comp2=%{y}<br>comp3=%{z}<extra></extra>",
         "legendgroup": "729",
         "marker": {
          "color": "rgb(153, 201, 69)",
          "line": {
           "color": "black",
           "width": 0.1
          },
          "opacity": 0.8,
          "size": 4,
          "symbol": "circle"
         },
         "mode": "markers",
         "name": "729",
         "scene": "scene",
         "showlegend": true,
         "type": "scatter3d",
         "x": [
          -1.531519375702575
         ],
         "y": [
          -0.1460614640245798
         ],
         "z": [
          0.03216116094661565
         ]
        },
        {
         "hovertemplate": "cluster=730<br>comp1=%{x}<br>comp2=%{y}<br>comp3=%{z}<extra></extra>",
         "legendgroup": "730",
         "marker": {
          "color": "rgb(204, 97, 176)",
          "line": {
           "color": "black",
           "width": 0.1
          },
          "opacity": 0.8,
          "size": 4,
          "symbol": "circle"
         },
         "mode": "markers",
         "name": "730",
         "scene": "scene",
         "showlegend": true,
         "type": "scatter3d",
         "x": [
          -1.5337362883307974
         ],
         "y": [
          -0.14265044676836708
         ],
         "z": [
          0.032164568450619165
         ]
        },
        {
         "hovertemplate": "cluster=731<br>comp1=%{x}<br>comp2=%{y}<br>comp3=%{z}<extra></extra>",
         "legendgroup": "731",
         "marker": {
          "color": "rgb(36, 121, 108)",
          "line": {
           "color": "black",
           "width": 0.1
          },
          "opacity": 0.8,
          "size": 4,
          "symbol": "circle"
         },
         "mode": "markers",
         "name": "731",
         "scene": "scene",
         "showlegend": true,
         "type": "scatter3d",
         "x": [
          -1.5359353259150819
         ],
         "y": [
          -0.13922222772901952
         ],
         "z": [
          0.03216600443482737
         ]
        },
        {
         "hovertemplate": "cluster=732<br>comp1=%{x}<br>comp2=%{y}<br>comp3=%{z}<extra></extra>",
         "legendgroup": "732",
         "marker": {
          "color": "rgb(218, 165, 27)",
          "line": {
           "color": "black",
           "width": 0.1
          },
          "opacity": 0.8,
          "size": 4,
          "symbol": "circle"
         },
         "mode": "markers",
         "name": "732",
         "scene": "scene",
         "showlegend": true,
         "type": "scatter3d",
         "x": [
          -1.5381164732770487
         ],
         "y": [
          -0.13577678811984573
         ],
         "z": [
          0.03216546088769628
         ]
        },
        {
         "hovertemplate": "cluster=733<br>comp1=%{x}<br>comp2=%{y}<br>comp3=%{z}<extra></extra>",
         "legendgroup": "733",
         "marker": {
          "color": "rgb(47, 138, 196)",
          "line": {
           "color": "black",
           "width": 0.1
          },
          "opacity": 0.8,
          "size": 4,
          "symbol": "circle"
         },
         "mode": "markers",
         "name": "733",
         "scene": "scene",
         "showlegend": true,
         "type": "scatter3d",
         "x": [
          -1.5402797152503802
         ],
         "y": [
          -0.13231410917028857
         ],
         "z": [
          0.03216292980423042
         ]
        },
        {
         "hovertemplate": "cluster=734<br>comp1=%{x}<br>comp2=%{y}<br>comp3=%{z}<extra></extra>",
         "legendgroup": "734",
         "marker": {
          "color": "rgb(118, 78, 159)",
          "line": {
           "color": "black",
           "width": 0.1
          },
          "opacity": 0.8,
          "size": 4,
          "symbol": "circle"
         },
         "mode": "markers",
         "name": "734",
         "scene": "scene",
         "showlegend": true,
         "type": "scatter3d",
         "x": [
          -1.542425036680847
         ],
         "y": [
          -0.12883417212593437
         ],
         "z": [
          0.03215840318596251
         ]
        },
        {
         "hovertemplate": "cluster=735<br>comp1=%{x}<br>comp2=%{y}<br>comp3=%{z}<extra></extra>",
         "legendgroup": "735",
         "marker": {
          "color": "rgb(237, 100, 90)",
          "line": {
           "color": "black",
           "width": 0.1
          },
          "opacity": 0.8,
          "size": 4,
          "symbol": "circle"
         },
         "mode": "markers",
         "name": "735",
         "scene": "scene",
         "showlegend": true,
         "type": "scatter3d",
         "x": [
          -1.5445524224262999
         ],
         "y": [
          -0.12533695824854424
         ],
         "z": [
          0.03215187304100291
         ]
        },
        {
         "hovertemplate": "cluster=736<br>comp1=%{x}<br>comp2=%{y}<br>comp3=%{z}<extra></extra>",
         "legendgroup": "736",
         "marker": {
          "color": "rgb(165, 170, 153)",
          "line": {
           "color": "black",
           "width": 0.1
          },
          "opacity": 0.8,
          "size": 4,
          "symbol": "circle"
         },
         "mode": "markers",
         "name": "736",
         "scene": "scene",
         "showlegend": true,
         "type": "scatter3d",
         "x": [
          -1.546661857356722
         ],
         "y": [
          -0.12182244881606694
         ],
         "z": [
          0.03214333138399617
         ]
        },
        {
         "hovertemplate": "cluster=737<br>comp1=%{x}<br>comp2=%{y}<br>comp3=%{z}<extra></extra>",
         "legendgroup": "737",
         "marker": {
          "color": "rgb(229, 134, 6)",
          "line": {
           "color": "black",
           "width": 0.1
          },
          "opacity": 0.8,
          "size": 4,
          "symbol": "circle"
         },
         "mode": "markers",
         "name": "737",
         "scene": "scene",
         "showlegend": true,
         "type": "scatter3d",
         "x": [
          -1.548753326354188
         ],
         "y": [
          -0.11829062512265437
         ],
         "z": [
          0.03213277023618968
         ]
        },
        {
         "hovertemplate": "cluster=738<br>comp1=%{x}<br>comp2=%{y}<br>comp3=%{z}<extra></extra>",
         "legendgroup": "738",
         "marker": {
          "color": "rgb(93, 105, 177)",
          "line": {
           "color": "black",
           "width": 0.1
          },
          "opacity": 0.8,
          "size": 4,
          "symbol": "circle"
         },
         "mode": "markers",
         "name": "738",
         "scene": "scene",
         "showlegend": true,
         "type": "scatter3d",
         "x": [
          -1.5508268143129347
         ],
         "y": [
          -0.11474146847868087
         ],
         "z": [
          0.03212018162537291
         ]
        },
        {
         "hovertemplate": "cluster=739<br>comp1=%{x}<br>comp2=%{y}<br>comp3=%{z}<extra></extra>",
         "legendgroup": "739",
         "marker": {
          "color": "rgb(82, 188, 163)",
          "line": {
           "color": "black",
           "width": 0.1
          },
          "opacity": 0.8,
          "size": 4,
          "symbol": "circle"
         },
         "mode": "markers",
         "name": "739",
         "scene": "scene",
         "showlegend": true,
         "type": "scatter3d",
         "x": [
          -1.552882306139315
         ],
         "y": [
          -0.11117496021076399
         ],
         "z": [
          0.03210555758596012
         ]
        },
        {
         "hovertemplate": "cluster=740<br>comp1=%{x}<br>comp2=%{y}<br>comp3=%{z}<extra></extra>",
         "legendgroup": "740",
         "marker": {
          "color": "rgb(153, 201, 69)",
          "line": {
           "color": "black",
           "width": 0.1
          },
          "opacity": 0.8,
          "size": 4,
          "symbol": "circle"
         },
         "mode": "markers",
         "name": "740",
         "scene": "scene",
         "showlegend": true,
         "type": "scatter3d",
         "x": [
          -1.554919786751875
         ],
         "y": [
          -0.10759108166178437
         ],
         "z": [
          0.03208889015892629
         ]
        },
        {
         "hovertemplate": "cluster=741<br>comp1=%{x}<br>comp2=%{y}<br>comp3=%{z}<extra></extra>",
         "legendgroup": "741",
         "marker": {
          "color": "rgb(204, 97, 176)",
          "line": {
           "color": "black",
           "width": 0.1
          },
          "opacity": 0.8,
          "size": 4,
          "symbol": "circle"
         },
         "mode": "markers",
         "name": "741",
         "scene": "scene",
         "showlegend": true,
         "type": "scatter3d",
         "x": [
          -1.5569392410813223
         ],
         "y": [
          -0.10398981419089995
         ],
         "z": [
          0.03207017139186052
         ]
        },
        {
         "hovertemplate": "cluster=742<br>comp1=%{x}<br>comp2=%{y}<br>comp3=%{z}<extra></extra>",
         "legendgroup": "742",
         "marker": {
          "color": "rgb(36, 121, 108)",
          "line": {
           "color": "black",
           "width": 0.1
          },
          "opacity": 0.8,
          "size": 4,
          "symbol": "circle"
         },
         "mode": "markers",
         "name": "742",
         "scene": "scene",
         "showlegend": true,
         "type": "scatter3d",
         "x": [
          -1.5589406540705366
         ],
         "y": [
          -0.10037113917356617
         ],
         "z": [
          0.0320493933389823
         ]
        },
        {
         "hovertemplate": "cluster=743<br>comp1=%{x}<br>comp2=%{y}<br>comp3=%{z}<extra></extra>",
         "legendgroup": "743",
         "marker": {
          "color": "rgb(218, 165, 27)",
          "line": {
           "color": "black",
           "width": 0.1
          },
          "opacity": 0.8,
          "size": 4,
          "symbol": "circle"
         },
         "mode": "markers",
         "name": "743",
         "scene": "scene",
         "showlegend": true,
         "type": "scatter3d",
         "x": [
          -1.5609240106746305
         ],
         "y": [
          -0.09673503800154995
         ],
         "z": [
          0.03202654806108422
         ]
        },
        {
         "hovertemplate": "cluster=744<br>comp1=%{x}<br>comp2=%{y}<br>comp3=%{z}<extra></extra>",
         "legendgroup": "744",
         "marker": {
          "color": "rgb(47, 138, 196)",
          "line": {
           "color": "black",
           "width": 0.1
          },
          "opacity": 0.8,
          "size": 4,
          "symbol": "circle"
         },
         "mode": "markers",
         "name": "744",
         "scene": "scene",
         "showlegend": true,
         "type": "scatter3d",
         "x": [
          -1.5628892958609075
         ],
         "y": [
          -0.09308149208295964
         ],
         "z": [
          0.032001627625626035
         ]
        },
        {
         "hovertemplate": "cluster=745<br>comp1=%{x}<br>comp2=%{y}<br>comp3=%{z}<extra></extra>",
         "legendgroup": "745",
         "marker": {
          "color": "rgb(118, 78, 159)",
          "line": {
           "color": "black",
           "width": 0.1
          },
          "opacity": 0.8,
          "size": 4,
          "symbol": "circle"
         },
         "mode": "markers",
         "name": "745",
         "scene": "scene",
         "showlegend": true,
         "type": "scatter3d",
         "x": [
          -1.5648364946088913
         ],
         "y": [
          -0.08941048284224959
         ],
         "z": [
          0.03197462410669786
         ]
        },
        {
         "hovertemplate": "cluster=746<br>comp1=%{x}<br>comp2=%{y}<br>comp3=%{z}<extra></extra>",
         "legendgroup": "746",
         "marker": {
          "color": "rgb(237, 100, 90)",
          "line": {
           "color": "black",
           "width": 0.1
          },
          "opacity": 0.8,
          "size": 4,
          "symbol": "circle"
         },
         "mode": "markers",
         "name": "746",
         "scene": "scene",
         "showlegend": true,
         "type": "scatter3d",
         "x": [
          -1.5667655919103798
         ],
         "y": [
          -0.08572199172024139
         ],
         "z": [
          0.03194552958499582
         ]
        },
        {
         "hovertemplate": "cluster=747<br>comp1=%{x}<br>comp2=%{y}<br>comp3=%{z}<extra></extra>",
         "legendgroup": "747",
         "marker": {
          "color": "rgb(165, 170, 153)",
          "line": {
           "color": "black",
           "width": 0.1
          },
          "opacity": 0.8,
          "size": 4,
          "symbol": "circle"
         },
         "mode": "markers",
         "name": "747",
         "scene": "scene",
         "showlegend": true,
         "type": "scatter3d",
         "x": [
          -1.5686765727693919
         ],
         "y": [
          -0.08201600017415335
         ],
         "z": [
          0.031914336147909596
         ]
        },
        {
         "hovertemplate": "cluster=748<br>comp1=%{x}<br>comp2=%{y}<br>comp3=%{z}<extra></extra>",
         "legendgroup": "748",
         "marker": {
          "color": "rgb(229, 134, 6)",
          "line": {
           "color": "black",
           "width": 0.1
          },
          "opacity": 0.8,
          "size": 4,
          "symbol": "circle"
         },
         "mode": "markers",
         "name": "748",
         "scene": "scene",
         "showlegend": true,
         "type": "scatter3d",
         "x": [
          -1.5705694222022333
         ],
         "y": [
          -0.07829248967760517
         ],
         "z": [
          0.031881035889459966
         ]
        },
        {
         "hovertemplate": "cluster=749<br>comp1=%{x}<br>comp2=%{y}<br>comp3=%{z}<extra></extra>",
         "legendgroup": "749",
         "marker": {
          "color": "rgb(93, 105, 177)",
          "line": {
           "color": "black",
           "width": 0.1
          },
          "opacity": 0.8,
          "size": 4,
          "symbol": "circle"
         },
         "mode": "markers",
         "name": "749",
         "scene": "scene",
         "showlegend": true,
         "type": "scatter3d",
         "x": [
          -1.5724441252374808
         ],
         "y": [
          -0.07455144172064125
         ],
         "z": [
          0.03184562091034497
         ]
        },
        {
         "hovertemplate": "cluster=750<br>comp1=%{x}<br>comp2=%{y}<br>comp3=%{z}<extra></extra>",
         "legendgroup": "750",
         "marker": {
          "color": "rgb(82, 188, 163)",
          "line": {
           "color": "black",
           "width": 0.1
          },
          "opacity": 0.8,
          "size": 4,
          "symbol": "circle"
         },
         "mode": "markers",
         "name": "750",
         "scene": "scene",
         "showlegend": true,
         "type": "scatter3d",
         "x": [
          -1.5743006669160013
         ],
         "y": [
          -0.07079283780975056
         ],
         "z": [
          0.03180808331794054
         ]
        },
        {
         "hovertemplate": "cluster=751<br>comp1=%{x}<br>comp2=%{y}<br>comp3=%{z}<extra></extra>",
         "legendgroup": "751",
         "marker": {
          "color": "rgb(153, 201, 69)",
          "line": {
           "color": "black",
           "width": 0.1
          },
          "opacity": 0.8,
          "size": 4,
          "symbol": "circle"
         },
         "mode": "markers",
         "name": "751",
         "scene": "scene",
         "showlegend": true,
         "type": "scatter3d",
         "x": [
          -1.5761390322909905
         ],
         "y": [
          -0.0670166594678796
         ],
         "z": [
          0.03176841522627843
         ]
        },
        {
         "hovertemplate": "cluster=752<br>comp1=%{x}<br>comp2=%{y}<br>comp3=%{z}<extra></extra>",
         "legendgroup": "752",
         "marker": {
          "color": "rgb(204, 97, 176)",
          "line": {
           "color": "black",
           "width": 0.1
          },
          "opacity": 0.8,
          "size": 4,
          "symbol": "circle"
         },
         "mode": "markers",
         "name": "752",
         "scene": "scene",
         "showlegend": true,
         "type": "scatter3d",
         "x": [
          -1.5779592064279369
         ],
         "y": [
          -0.06322288823445878
         ],
         "z": [
          0.03172660875611507
         ]
        },
        {
         "hovertemplate": "cluster=753<br>comp1=%{x}<br>comp2=%{y}<br>comp3=%{z}<extra></extra>",
         "legendgroup": "753",
         "marker": {
          "color": "rgb(36, 121, 108)",
          "line": {
           "color": "black",
           "width": 0.1
          },
          "opacity": 0.8,
          "size": 4,
          "symbol": "circle"
         },
         "mode": "markers",
         "name": "753",
         "scene": "scene",
         "showlegend": true,
         "type": "scatter3d",
         "x": [
          -1.5797611744046804
         ],
         "y": [
          -0.05941150566541558
         ],
         "z": [
          0.03168265603488458
         ]
        },
        {
         "hovertemplate": "cluster=754<br>comp1=%{x}<br>comp2=%{y}<br>comp3=%{z}<extra></extra>",
         "legendgroup": "754",
         "marker": {
          "color": "rgb(218, 165, 27)",
          "line": {
           "color": "black",
           "width": 0.1
          },
          "opacity": 0.8,
          "size": 4,
          "symbol": "circle"
         },
         "mode": "markers",
         "name": "754",
         "scene": "scene",
         "showlegend": true,
         "type": "scatter3d",
         "x": [
          -1.5815449213114006
         ],
         "y": [
          -0.05558249333318634
         ],
         "z": [
          0.03163654919672681
         ]
        },
        {
         "hovertemplate": "cluster=755<br>comp1=%{x}<br>comp2=%{y}<br>comp3=%{z}<extra></extra>",
         "legendgroup": "755",
         "marker": {
          "color": "rgb(47, 138, 196)",
          "line": {
           "color": "black",
           "width": 0.1
          },
          "opacity": 0.8,
          "size": 4,
          "symbol": "circle"
         },
         "mode": "markers",
         "name": "755",
         "scene": "scene",
         "showlegend": true,
         "type": "scatter3d",
         "x": [
          -1.583310432250629
         ],
         "y": [
          -0.05173583282674251
         ],
         "z": [
          0.03158828038250504
         ]
        },
        {
         "hovertemplate": "cluster=756<br>comp1=%{x}<br>comp2=%{y}<br>comp3=%{z}<extra></extra>",
         "legendgroup": "756",
         "marker": {
          "color": "rgb(118, 78, 159)",
          "line": {
           "color": "black",
           "width": 0.1
          },
          "opacity": 0.8,
          "size": 4,
          "symbol": "circle"
         },
         "mode": "markers",
         "name": "756",
         "scene": "scene",
         "showlegend": true,
         "type": "scatter3d",
         "x": [
          -1.585057692337297
         ],
         "y": [
          -0.04787150575161876
         ],
         "z": [
          0.03153784173978653
         ]
        },
        {
         "hovertemplate": "cluster=757<br>comp1=%{x}<br>comp2=%{y}<br>comp3=%{z}<extra></extra>",
         "legendgroup": "757",
         "marker": {
          "color": "rgb(237, 100, 90)",
          "line": {
           "color": "black",
           "width": 0.1
          },
          "opacity": 0.8,
          "size": 4,
          "symbol": "circle"
         },
         "mode": "markers",
         "name": "757",
         "scene": "scene",
         "showlegend": true,
         "type": "scatter3d",
         "x": [
          -1.5867866866986893
         ],
         "y": [
          -0.043989493729903614
         ],
         "z": [
          0.03148522542288958
         ]
        },
        {
         "hovertemplate": "cluster=758<br>comp1=%{x}<br>comp2=%{y}<br>comp3=%{z}<extra></extra>",
         "legendgroup": "758",
         "marker": {
          "color": "rgb(165, 170, 153)",
          "line": {
           "color": "black",
           "width": 0.1
          },
          "opacity": 0.8,
          "size": 4,
          "symbol": "circle"
         },
         "mode": "markers",
         "name": "758",
         "scene": "scene",
         "showlegend": true,
         "type": "scatter3d",
         "x": [
          -1.5884974004745065
         ],
         "y": [
          -0.040089778400280246
         ],
         "z": [
          0.03143042359285464
         ]
        },
        {
         "hovertemplate": "cluster=759<br>comp1=%{x}<br>comp2=%{y}<br>comp3=%{z}<extra></extra>",
         "legendgroup": "759",
         "marker": {
          "color": "rgb(229, 134, 6)",
          "line": {
           "color": "black",
           "width": 0.1
          },
          "opacity": 0.8,
          "size": 4,
          "symbol": "circle"
         },
         "mode": "markers",
         "name": "759",
         "scene": "scene",
         "showlegend": true,
         "type": "scatter3d",
         "x": [
          -1.590189818816869
         ],
         "y": [
          -0.036172341418039225
         ],
         "z": [
          0.03137342841746567
         ]
        },
        {
         "hovertemplate": "cluster=760<br>comp1=%{x}<br>comp2=%{y}<br>comp3=%{z}<extra></extra>",
         "legendgroup": "760",
         "marker": {
          "color": "rgb(93, 105, 177)",
          "line": {
           "color": "black",
           "width": 0.1
          },
          "opacity": 0.8,
          "size": 4,
          "symbol": "circle"
         },
         "mode": "markers",
         "name": "760",
         "scene": "scene",
         "showlegend": true,
         "type": "scatter3d",
         "x": [
          -1.591863926890311
         ],
         "y": [
          -0.03223716445509129
         ],
         "z": [
          0.03131423207126389
         ]
        },
        {
         "hovertemplate": "cluster=761<br>comp1=%{x}<br>comp2=%{y}<br>comp3=%{z}<extra></extra>",
         "legendgroup": "761",
         "marker": {
          "color": "rgb(82, 188, 163)",
          "line": {
           "color": "black",
           "width": 0.1
          },
          "opacity": 0.8,
          "size": 4,
          "symbol": "circle"
         },
         "mode": "markers",
         "name": "761",
         "scene": "scene",
         "showlegend": true,
         "type": "scatter3d",
         "x": [
          -1.5935197098718012
         ],
         "y": [
          -0.028284229199990057
         ],
         "z": [
          0.031252826735560235
         ]
        },
        {
         "hovertemplate": "cluster=762<br>comp1=%{x}<br>comp2=%{y}<br>comp3=%{z}<extra></extra>",
         "legendgroup": "762",
         "marker": {
          "color": "rgb(153, 201, 69)",
          "line": {
           "color": "black",
           "width": 0.1
          },
          "opacity": 0.8,
          "size": 4,
          "symbol": "circle"
         },
         "mode": "markers",
         "name": "762",
         "scene": "scene",
         "showlegend": true,
         "type": "scatter3d",
         "x": [
          -1.5951571529507775
         ],
         "y": [
          -0.02431351735795277
         ],
         "z": [
          0.031189204598418136
         ]
        },
        {
         "hovertemplate": "cluster=763<br>comp1=%{x}<br>comp2=%{y}<br>comp3=%{z}<extra></extra>",
         "legendgroup": "763",
         "marker": {
          "color": "rgb(204, 97, 176)",
          "line": {
           "color": "black",
           "width": 0.1
          },
          "opacity": 0.8,
          "size": 4,
          "symbol": "circle"
         },
         "mode": "markers",
         "name": "763",
         "scene": "scene",
         "showlegend": true,
         "type": "scatter3d",
         "x": [
          -1.596776241329118
         ],
         "y": [
          -0.020325010650863846
         ],
         "z": [
          0.031123357854692536
         ]
        },
        {
         "hovertemplate": "cluster=764<br>comp1=%{x}<br>comp2=%{y}<br>comp3=%{z}<extra></extra>",
         "legendgroup": "764",
         "marker": {
          "color": "rgb(36, 121, 108)",
          "line": {
           "color": "black",
           "width": 0.1
          },
          "opacity": 0.8,
          "size": 4,
          "symbol": "circle"
         },
         "mode": "markers",
         "name": "764",
         "scene": "scene",
         "showlegend": true,
         "type": "scatter3d",
         "x": [
          -1.5983769602212072
         ],
         "y": [
          -0.0163186908173143
         ],
         "z": [
          0.03105527870600274
         ]
        },
        {
         "hovertemplate": "cluster=765<br>comp1=%{x}<br>comp2=%{y}<br>comp3=%{z}<extra></extra>",
         "legendgroup": "765",
         "marker": {
          "color": "rgb(218, 165, 27)",
          "line": {
           "color": "black",
           "width": 0.1
          },
          "opacity": 0.8,
          "size": 4,
          "symbol": "circle"
         },
         "mode": "markers",
         "name": "765",
         "scene": "scene",
         "showlegend": true,
         "type": "scatter3d",
         "x": [
          -1.599959294853898
         ],
         "y": [
          -0.01229453961260463
         ],
         "z": [
          0.03098495936078405
         ]
        },
        {
         "hovertemplate": "cluster=766<br>comp1=%{x}<br>comp2=%{y}<br>comp3=%{z}<extra></extra>",
         "legendgroup": "766",
         "marker": {
          "color": "rgb(47, 138, 196)",
          "line": {
           "color": "black",
           "width": 0.1
          },
          "opacity": 0.8,
          "size": 4,
          "symbol": "circle"
         },
         "mode": "markers",
         "name": "766",
         "scene": "scene",
         "showlegend": true,
         "type": "scatter3d",
         "x": [
          -1.601523230466565
         ],
         "y": [
          -0.008252538808763123
         ],
         "z": [
          0.030912392034245253
         ]
        },
        {
         "hovertemplate": "cluster=767<br>comp1=%{x}<br>comp2=%{y}<br>comp3=%{z}<extra></extra>",
         "legendgroup": "767",
         "marker": {
          "color": "rgb(118, 78, 159)",
          "line": {
           "color": "black",
           "width": 0.1
          },
          "opacity": 0.8,
          "size": 4,
          "symbol": "circle"
         },
         "mode": "markers",
         "name": "767",
         "scene": "scene",
         "showlegend": true,
         "type": "scatter3d",
         "x": [
          -1.6030687523110736
         ],
         "y": [
          -0.00419267019457772
         ],
         "z": [
          0.030837568948441734
         ]
        },
        {
         "hovertemplate": "cluster=768<br>comp1=%{x}<br>comp2=%{y}<br>comp3=%{z}<extra></extra>",
         "legendgroup": "768",
         "marker": {
          "color": "rgb(237, 100, 90)",
          "line": {
           "color": "black",
           "width": 0.1
          },
          "opacity": 0.8,
          "size": 4,
          "symbol": "circle"
         },
         "mode": "markers",
         "name": "768",
         "scene": "scene",
         "showlegend": true,
         "type": "scatter3d",
         "x": [
          -1.604595845651861
         ],
         "y": [
          -0.00011491557558871701
         ],
         "z": [
          0.030760482332186433
         ]
        },
        {
         "hovertemplate": "cluster=769<br>comp1=%{x}<br>comp2=%{y}<br>comp3=%{z}<extra></extra>",
         "legendgroup": "769",
         "marker": {
          "color": "rgb(165, 170, 153)",
          "line": {
           "color": "black",
           "width": 0.1
          },
          "opacity": 0.8,
          "size": 4,
          "symbol": "circle"
         },
         "mode": "markers",
         "name": "769",
         "scene": "scene",
         "showlegend": true,
         "type": "scatter3d",
         "x": [
          -1.6061044957658548
         ],
         "y": [
          0.003980743225866796
         ],
         "z": [
          0.030681124421182777
         ]
        },
        {
         "hovertemplate": "cluster=770<br>comp1=%{x}<br>comp2=%{y}<br>comp3=%{z}<extra></extra>",
         "legendgroup": "770",
         "marker": {
          "color": "rgb(229, 134, 6)",
          "line": {
           "color": "black",
           "width": 0.1
          },
          "opacity": 0.8,
          "size": 4,
          "symbol": "circle"
         },
         "mode": "markers",
         "name": "770",
         "scene": "scene",
         "showlegend": true,
         "type": "scatter3d",
         "x": [
          -1.6075946879425886
         ],
         "y": [
          0.008094324370649735
         ],
         "z": [
          0.030599487457911367
         ]
        },
        {
         "hovertemplate": "cluster=771<br>comp1=%{x}<br>comp2=%{y}<br>comp3=%{z}<extra></extra>",
         "legendgroup": "771",
         "marker": {
          "color": "rgb(93, 105, 177)",
          "line": {
           "color": "black",
           "width": 0.1
          },
          "opacity": 0.8,
          "size": 4,
          "symbol": "circle"
         },
         "mode": "markers",
         "name": "771",
         "scene": "scene",
         "showlegend": true,
         "type": "scatter3d",
         "x": [
          -1.6090664074841399
         ],
         "y": [
          0.012225846002806733
         ],
         "z": [
          0.03051556369171082
         ]
        },
        {
         "hovertemplate": "cluster=772<br>comp1=%{x}<br>comp2=%{y}<br>comp3=%{z}<extra></extra>",
         "legendgroup": "772",
         "marker": {
          "color": "rgb(82, 188, 163)",
          "line": {
           "color": "black",
           "width": 0.1
          },
          "opacity": 0.8,
          "size": 4,
          "symbol": "circle"
         },
         "mode": "markers",
         "name": "772",
         "scene": "scene",
         "showlegend": true,
         "type": "scatter3d",
         "x": [
          -1.610519639705171
         ],
         "y": [
          0.016375326249537515
         ],
         "z": [
          0.030429345378774758
         ]
        },
        {
         "hovertemplate": "cluster=773<br>comp1=%{x}<br>comp2=%{y}<br>comp3=%{z}<extra></extra>",
         "legendgroup": "773",
         "marker": {
          "color": "rgb(153, 201, 69)",
          "line": {
           "color": "black",
           "width": 0.1
          },
          "opacity": 0.8,
          "size": 4,
          "symbol": "circle"
         },
         "mode": "markers",
         "name": "773",
         "scene": "scene",
         "showlegend": true,
         "type": "scatter3d",
         "x": [
          -1.6119543699329424
         ],
         "y": [
          0.020542783221191484
         ],
         "z": [
          0.030340824782140674
         ]
        },
        {
         "hovertemplate": "cluster=774<br>comp1=%{x}<br>comp2=%{y}<br>comp3=%{z}<extra></extra>",
         "legendgroup": "774",
         "marker": {
          "color": "rgb(204, 97, 176)",
          "line": {
           "color": "black",
           "width": 0.1
          },
          "opacity": 0.8,
          "size": 4,
          "symbol": "circle"
         },
         "mode": "markers",
         "name": "774",
         "scene": "scene",
         "showlegend": true,
         "type": "scatter3d",
         "x": [
          -1.6133705835073142
         ],
         "y": [
          0.024728235011241474
         ],
         "z": [
          0.03024999417171842
         ]
        },
        {
         "hovertemplate": "cluster=775<br>comp1=%{x}<br>comp2=%{y}<br>comp3=%{z}<extra></extra>",
         "legendgroup": "775",
         "marker": {
          "color": "rgb(36, 121, 108)",
          "line": {
           "color": "black",
           "width": 0.1
          },
          "opacity": 0.8,
          "size": 4,
          "symbol": "circle"
         },
         "mode": "markers",
         "name": "775",
         "scene": "scene",
         "showlegend": true,
         "type": "scatter3d",
         "x": [
          -1.6147682657807862
         ],
         "y": [
          0.02893169969626854
         ],
         "z": [
          0.03015684582426788
         ]
        },
        {
         "hovertemplate": "cluster=776<br>comp1=%{x}<br>comp2=%{y}<br>comp3=%{z}<extra></extra>",
         "legendgroup": "776",
         "marker": {
          "color": "rgb(218, 165, 27)",
          "line": {
           "color": "black",
           "width": 0.1
          },
          "opacity": 0.8,
          "size": 4,
          "symbol": "circle"
         },
         "mode": "markers",
         "name": "776",
         "scene": "scene",
         "showlegend": true,
         "type": "scatter3d",
         "x": [
          -1.6161474021184732
         ],
         "y": [
          0.03315319533593867
         ],
         "z": [
          0.030061372023456163
         ]
        },
        {
         "hovertemplate": "cluster=777<br>comp1=%{x}<br>comp2=%{y}<br>comp3=%{z}<extra></extra>",
         "legendgroup": "777",
         "marker": {
          "color": "rgb(47, 138, 196)",
          "line": {
           "color": "black",
           "width": 0.1
          },
          "opacity": 0.8,
          "size": 4,
          "symbol": "circle"
         },
         "mode": "markers",
         "name": "777",
         "scene": "scene",
         "showlegend": true,
         "type": "scatter3d",
         "x": [
          -1.617507977898158
         ],
         "y": [
          0.037392739972998926
         ],
         "z": [
          0.029963565059798435
         ]
        },
        {
         "hovertemplate": "cluster=778<br>comp1=%{x}<br>comp2=%{y}<br>comp3=%{z}<extra></extra>",
         "legendgroup": "778",
         "marker": {
          "color": "rgb(118, 78, 159)",
          "line": {
           "color": "black",
           "width": 0.1
          },
          "opacity": 0.8,
          "size": 4,
          "symbol": "circle"
         },
         "mode": "markers",
         "name": "778",
         "scene": "scene",
         "showlegend": true,
         "type": "scatter3d",
         "x": [
          -1.6188499785102601
         ],
         "y": [
          0.04165035163324553
         ],
         "z": [
          0.02986341723073897
         ]
        },
        {
         "hovertemplate": "cluster=779<br>comp1=%{x}<br>comp2=%{y}<br>comp3=%{z}<extra></extra>",
         "legendgroup": "779",
         "marker": {
          "color": "rgb(237, 100, 90)",
          "line": {
           "color": "black",
           "width": 0.1
          },
          "opacity": 0.8,
          "size": 4,
          "symbol": "circle"
         },
         "mode": "markers",
         "name": "779",
         "scene": "scene",
         "showlegend": true,
         "type": "scatter3d",
         "x": [
          -1.620173389357883
         ],
         "y": [
          0.04592604832551403
         ],
         "z": [
          0.02976092084060618
         ]
        },
        {
         "hovertemplate": "cluster=780<br>comp1=%{x}<br>comp2=%{y}<br>comp3=%{z}<extra></extra>",
         "legendgroup": "780",
         "marker": {
          "color": "rgb(165, 170, 153)",
          "line": {
           "color": "black",
           "width": 0.1
          },
          "opacity": 0.8,
          "size": 4,
          "symbol": "circle"
         },
         "mode": "markers",
         "name": "780",
         "scene": "scene",
         "showlegend": true,
         "type": "scatter3d",
         "x": [
          -1.6214781958568123
         ],
         "y": [
          0.05021984804165499
         ],
         "z": [
          0.02965606820064702
         ]
        },
        {
         "hovertemplate": "cluster=781<br>comp1=%{x}<br>comp2=%{y}<br>comp3=%{z}<extra></extra>",
         "legendgroup": "781",
         "marker": {
          "color": "rgb(229, 134, 6)",
          "line": {
           "color": "black",
           "width": 0.1
          },
          "opacity": 0.8,
          "size": 4,
          "symbol": "circle"
         },
         "mode": "markers",
         "name": "781",
         "scene": "scene",
         "showlegend": true,
         "type": "scatter3d",
         "x": [
          -1.6227643834355545
         ],
         "y": [
          0.05453176875652353
         ],
         "z": [
          0.029548851628995797
         ]
        },
        {
         "hovertemplate": "cluster=782<br>comp1=%{x}<br>comp2=%{y}<br>comp3=%{z}<extra></extra>",
         "legendgroup": "782",
         "marker": {
          "color": "rgb(93, 105, 177)",
          "line": {
           "color": "black",
           "width": 0.1
          },
          "opacity": 0.8,
          "size": 4,
          "symbol": "circle"
         },
         "mode": "markers",
         "name": "782",
         "scene": "scene",
         "showlegend": true,
         "type": "scatter3d",
         "x": [
          -1.6240319375352852
         ],
         "y": [
          0.05886182842795801
         ],
         "z": [
          0.02943926345076037
         ]
        },
        {
         "hovertemplate": "cluster=783<br>comp1=%{x}<br>comp2=%{y}<br>comp3=%{z}<extra></extra>",
         "legendgroup": "783",
         "marker": {
          "color": "rgb(82, 188, 163)",
          "line": {
           "color": "black",
           "width": 0.1
          },
          "opacity": 0.8,
          "size": 4,
          "symbol": "circle"
         },
         "mode": "markers",
         "name": "783",
         "scene": "scene",
         "showlegend": true,
         "type": "scatter3d",
         "x": [
          -1.6252808436099555
         ],
         "y": [
          0.06321004499676337
         ],
         "z": [
          0.029327295997922668
         ]
        },
        {
         "hovertemplate": "cluster=784<br>comp1=%{x}<br>comp2=%{y}<br>comp3=%{z}<extra></extra>",
         "legendgroup": "784",
         "marker": {
          "color": "rgb(153, 201, 69)",
          "line": {
           "color": "black",
           "width": 0.1
          },
          "opacity": 0.8,
          "size": 4,
          "symbol": "circle"
         },
         "mode": "markers",
         "name": "784",
         "scene": "scene",
         "showlegend": true,
         "type": "scatter3d",
         "x": [
          -1.6265110871262065
         ],
         "y": [
          0.06757643638668973
         ],
         "z": [
          0.029212941609459
         ]
        },
        {
         "hovertemplate": "cluster=785<br>comp1=%{x}<br>comp2=%{y}<br>comp3=%{z}<extra></extra>",
         "legendgroup": "785",
         "marker": {
          "color": "rgb(204, 97, 176)",
          "line": {
           "color": "black",
           "width": 0.1
          },
          "opacity": 0.8,
          "size": 4,
          "symbol": "circle"
         },
         "mode": "markers",
         "name": "785",
         "scene": "scene",
         "showlegend": true,
         "type": "scatter3d",
         "x": [
          -1.6277226535634615
         ],
         "y": [
          0.07196102050442017
         ],
         "z": [
          0.029096192631258833
         ]
        },
        {
         "hovertemplate": "cluster=786<br>comp1=%{x}<br>comp2=%{y}<br>comp3=%{z}<extra></extra>",
         "legendgroup": "786",
         "marker": {
          "color": "rgb(36, 121, 108)",
          "line": {
           "color": "black",
           "width": 0.1
          },
          "opacity": 0.8,
          "size": 4,
          "symbol": "circle"
         },
         "mode": "markers",
         "name": "786",
         "scene": "scene",
         "showlegend": true,
         "type": "scatter3d",
         "x": [
          -1.6289155284138954
         ],
         "y": [
          0.07636381523955614
         ],
         "z": [
          0.02897704141616974
         ]
        },
        {
         "hovertemplate": "cluster=787<br>comp1=%{x}<br>comp2=%{y}<br>comp3=%{z}<extra></extra>",
         "legendgroup": "787",
         "marker": {
          "color": "rgb(218, 165, 27)",
          "line": {
           "color": "black",
           "width": 0.1
          },
          "opacity": 0.8,
          "size": 4,
          "symbol": "circle"
         },
         "mode": "markers",
         "name": "787",
         "scene": "scene",
         "showlegend": true,
         "type": "scatter3d",
         "x": [
          -1.6300896971824579
         ],
         "y": [
          0.08078483846458265
         ],
         "z": [
          0.028855480324019835
         ]
        },
        {
         "hovertemplate": "cluster=788<br>comp1=%{x}<br>comp2=%{y}<br>comp3=%{z}<extra></extra>",
         "legendgroup": "788",
         "marker": {
          "color": "rgb(47, 138, 196)",
          "line": {
           "color": "black",
           "width": 0.1
          },
          "opacity": 0.8,
          "size": 4,
          "symbol": "circle"
         },
         "mode": "markers",
         "name": "788",
         "scene": "scene",
         "showlegend": true,
         "type": "scatter3d",
         "x": [
          -1.6312451453868915
         ],
         "y": [
          0.08522410803487158
         ],
         "z": [
          0.028731501721591727
         ]
        },
        {
         "hovertemplate": "cluster=789<br>comp1=%{x}<br>comp2=%{y}<br>comp3=%{z}<extra></extra>",
         "legendgroup": "789",
         "marker": {
          "color": "rgb(118, 78, 159)",
          "line": {
           "color": "black",
           "width": 0.1
          },
          "opacity": 0.8,
          "size": 4,
          "symbol": "circle"
         },
         "mode": "markers",
         "name": "789",
         "scene": "scene",
         "showlegend": true,
         "type": "scatter3d",
         "x": [
          -1.6323818585577428
         ],
         "y": [
          0.08968164178865203
         ],
         "z": [
          0.02860509798264755
         ]
        },
        {
         "hovertemplate": "cluster=790<br>comp1=%{x}<br>comp2=%{y}<br>comp3=%{z}<extra></extra>",
         "legendgroup": "790",
         "marker": {
          "color": "rgb(237, 100, 90)",
          "line": {
           "color": "black",
           "width": 0.1
          },
          "opacity": 0.8,
          "size": 4,
          "symbol": "circle"
         },
         "mode": "markers",
         "name": "790",
         "scene": "scene",
         "showlegend": true,
         "type": "scatter3d",
         "x": [
          -1.6334998222383652
         ],
         "y": [
          0.09415745754699767
         ],
         "z": [
          0.02847626148793857
         ]
        },
        {
         "hovertemplate": "cluster=791<br>comp1=%{x}<br>comp2=%{y}<br>comp3=%{z}<extra></extra>",
         "legendgroup": "791",
         "marker": {
          "color": "rgb(165, 170, 153)",
          "line": {
           "color": "black",
           "width": 0.1
          },
          "opacity": 0.8,
          "size": 4,
          "symbol": "circle"
         },
         "mode": "markers",
         "name": "791",
         "scene": "scene",
         "showlegend": true,
         "type": "scatter3d",
         "x": [
          -1.6345990219849582
         ],
         "y": [
          0.09865157311380386
         ],
         "z": [
          0.028344984625201325
         ]
        },
        {
         "hovertemplate": "cluster=792<br>comp1=%{x}<br>comp2=%{y}<br>comp3=%{z}<extra></extra>",
         "legendgroup": "792",
         "marker": {
          "color": "rgb(229, 134, 6)",
          "line": {
           "color": "black",
           "width": 0.1
          },
          "opacity": 0.8,
          "size": 4,
          "symbol": "circle"
         },
         "mode": "markers",
         "name": "792",
         "scene": "scene",
         "showlegend": true,
         "type": "scatter3d",
         "x": [
          -1.635679443366529
         ],
         "y": [
          0.1031640062757757
         ],
         "z": [
          0.028211259789198157
         ]
        },
        {
         "hovertemplate": "cluster=793<br>comp1=%{x}<br>comp2=%{y}<br>comp3=%{z}<extra></extra>",
         "legendgroup": "793",
         "marker": {
          "color": "rgb(93, 105, 177)",
          "line": {
           "color": "black",
           "width": 0.1
          },
          "opacity": 0.8,
          "size": 4,
          "symbol": "circle"
         },
         "mode": "markers",
         "name": "793",
         "scene": "scene",
         "showlegend": true,
         "type": "scatter3d",
         "x": [
          -1.6367410719649615
         ],
         "y": [
          0.10769477480240794
         ],
         "z": [
          0.028075079381675805
         ]
        },
        {
         "hovertemplate": "cluster=794<br>comp1=%{x}<br>comp2=%{y}<br>comp3=%{z}<extra></extra>",
         "legendgroup": "794",
         "marker": {
          "color": "rgb(82, 188, 163)",
          "line": {
           "color": "black",
           "width": 0.1
          },
          "opacity": 0.8,
          "size": 4,
          "symbol": "circle"
         },
         "mode": "markers",
         "name": "794",
         "scene": "scene",
         "showlegend": true,
         "type": "scatter3d",
         "x": [
          -1.6377838933749982
         ],
         "y": [
          0.11224389644596816
         ],
         "z": [
          0.02793643581140944
         ]
        },
        {
         "hovertemplate": "cluster=795<br>comp1=%{x}<br>comp2=%{y}<br>comp3=%{z}<extra></extra>",
         "legendgroup": "795",
         "marker": {
          "color": "rgb(153, 201, 69)",
          "line": {
           "color": "black",
           "width": 0.1
          },
          "opacity": 0.8,
          "size": 4,
          "symbol": "circle"
         },
         "mode": "markers",
         "name": "795",
         "scene": "scene",
         "showlegend": true,
         "type": "scatter3d",
         "x": [
          -1.638807893204268
         ],
         "y": [
          0.11681138894148198
         ],
         "z": [
          0.02779532149418129
         ]
        },
        {
         "hovertemplate": "cluster=796<br>comp1=%{x}<br>comp2=%{y}<br>comp3=%{z}<extra></extra>",
         "legendgroup": "796",
         "marker": {
          "color": "rgb(204, 97, 176)",
          "line": {
           "color": "black",
           "width": 0.1
          },
          "opacity": 0.8,
          "size": 4,
          "symbol": "circle"
         },
         "mode": "markers",
         "name": "796",
         "scene": "scene",
         "showlegend": true,
         "type": "scatter3d",
         "x": [
          -1.6398130570732903
         ],
         "y": [
          0.12139727000670428
         ],
         "z": [
          0.027651728852820596
         ]
        },
        {
         "hovertemplate": "cluster=797<br>comp1=%{x}<br>comp2=%{y}<br>comp3=%{z}<extra></extra>",
         "legendgroup": "797",
         "marker": {
          "color": "rgb(36, 121, 108)",
          "line": {
           "color": "black",
           "width": 0.1
          },
          "opacity": 0.8,
          "size": 4,
          "symbol": "circle"
         },
         "mode": "markers",
         "name": "797",
         "scene": "scene",
         "showlegend": true,
         "type": "scatter3d",
         "x": [
          -1.6407993706154607
         ],
         "y": [
          0.12600155734211818
         ],
         "z": [
          0.027505650317211604
         ]
        },
        {
         "hovertemplate": "cluster=798<br>comp1=%{x}<br>comp2=%{y}<br>comp3=%{z}<extra></extra>",
         "legendgroup": "798",
         "marker": {
          "color": "rgb(218, 165, 27)",
          "line": {
           "color": "black",
           "width": 0.1
          },
          "opacity": 0.8,
          "size": 4,
          "symbol": "circle"
         },
         "mode": "markers",
         "name": "798",
         "scene": "scene",
         "showlegend": true,
         "type": "scatter3d",
         "x": [
          -1.6417668194771418
         ],
         "y": [
          0.13062426863090415
         ],
         "z": [
          0.0273570783242389
         ]
        },
        {
         "hovertemplate": "cluster=799<br>comp1=%{x}<br>comp2=%{y}<br>comp3=%{z}<extra></extra>",
         "legendgroup": "799",
         "marker": {
          "color": "rgb(47, 138, 196)",
          "line": {
           "color": "black",
           "width": 0.1
          },
          "opacity": 0.8,
          "size": 4,
          "symbol": "circle"
         },
         "mode": "markers",
         "name": "799",
         "scene": "scene",
         "showlegend": true,
         "type": "scatter3d",
         "x": [
          -1.6427153893175834
         ],
         "y": [
          0.1352654215389331
         ],
         "z": [
          0.02720600531788482
         ]
        },
        {
         "hovertemplate": "cluster=800<br>comp1=%{x}<br>comp2=%{y}<br>comp3=%{z}<extra></extra>",
         "legendgroup": "800",
         "marker": {
          "color": "rgb(118, 78, 159)",
          "line": {
           "color": "black",
           "width": 0.1
          },
          "opacity": 0.8,
          "size": 4,
          "symbol": "circle"
         },
         "mode": "markers",
         "name": "800",
         "scene": "scene",
         "showlegend": true,
         "type": "scatter3d",
         "x": [
          -1.6436450658089954
         ],
         "y": [
          0.1399250337147404
         ],
         "z": [
          0.027052423749172785
         ]
        },
        {
         "hovertemplate": "cluster=801<br>comp1=%{x}<br>comp2=%{y}<br>comp3=%{z}<extra></extra>",
         "legendgroup": "801",
         "marker": {
          "color": "rgb(237, 100, 90)",
          "line": {
           "color": "black",
           "width": 0.1
          },
          "opacity": 0.8,
          "size": 4,
          "symbol": "circle"
         },
         "mode": "markers",
         "name": "801",
         "scene": "scene",
         "showlegend": true,
         "type": "scatter3d",
         "x": [
          -1.6445558346365439
         ],
         "y": [
          0.14460312278951115
         ],
         "z": [
          0.02689632607620007
         ]
        },
        {
         "hovertemplate": "cluster=802<br>comp1=%{x}<br>comp2=%{y}<br>comp3=%{z}<extra></extra>",
         "legendgroup": "802",
         "marker": {
          "color": "rgb(165, 170, 153)",
          "line": {
           "color": "black",
           "width": 0.1
          },
          "opacity": 0.8,
          "size": 4,
          "symbol": "circle"
         },
         "mode": "markers",
         "name": "802",
         "scene": "scene",
         "showlegend": true,
         "type": "scatter3d",
         "x": [
          -1.6454476814983536
         ],
         "y": [
          0.1492997063770612
         ],
         "z": [
          0.026737704764149026
         ]
        },
        {
         "hovertemplate": "cluster=803<br>comp1=%{x}<br>comp2=%{y}<br>comp3=%{z}<extra></extra>",
         "legendgroup": "803",
         "marker": {
          "color": "rgb(229, 134, 6)",
          "line": {
           "color": "black",
           "width": 0.1
          },
          "opacity": 0.8,
          "size": 4,
          "symbol": "circle"
         },
         "mode": "markers",
         "name": "803",
         "scene": "scene",
         "showlegend": true,
         "type": "scatter3d",
         "x": [
          -1.6463205921055306
         ],
         "y": [
          0.15401480207382987
         ],
         "z": [
          0.026576552285281944
         ]
        },
        {
         "hovertemplate": "cluster=804<br>comp1=%{x}<br>comp2=%{y}<br>comp3=%{z}<extra></extra>",
         "legendgroup": "804",
         "marker": {
          "color": "rgb(93, 105, 177)",
          "line": {
           "color": "black",
           "width": 0.1
          },
          "opacity": 0.8,
          "size": 4,
          "symbol": "circle"
         },
         "mode": "markers",
         "name": "804",
         "scene": "scene",
         "showlegend": true,
         "type": "scatter3d",
         "x": [
          -1.6471745521821872
         ],
         "y": [
          0.15874842745885118
         ],
         "z": [
          0.026412861118936246
         ]
        },
        {
         "hovertemplate": "cluster=805<br>comp1=%{x}<br>comp2=%{y}<br>comp3=%{z}<extra></extra>",
         "legendgroup": "805",
         "marker": {
          "color": "rgb(82, 188, 163)",
          "line": {
           "color": "black",
           "width": 0.1
          },
          "opacity": 0.8,
          "size": 4,
          "symbol": "circle"
         },
         "mode": "markers",
         "name": "805",
         "scene": "scene",
         "showlegend": true,
         "type": "scatter3d",
         "x": [
          -1.6480095474654324
         ],
         "y": [
          0.16350060009373407
         ],
         "z": [
          0.02624662375157441
         ]
        },
        {
         "hovertemplate": "cluster=806<br>comp1=%{x}<br>comp2=%{y}<br>comp3=%{z}<extra></extra>",
         "legendgroup": "806",
         "marker": {
          "color": "rgb(153, 201, 69)",
          "line": {
           "color": "black",
           "width": 0.1
          },
          "opacity": 0.8,
          "size": 4,
          "symbol": "circle"
         },
         "mode": "markers",
         "name": "806",
         "scene": "scene",
         "showlegend": true,
         "type": "scatter3d",
         "x": [
          -1.648825563705378
         ],
         "y": [
          0.16827133752265838
         ],
         "z": [
          0.026077832676768165
         ]
        },
        {
         "hovertemplate": "cluster=807<br>comp1=%{x}<br>comp2=%{y}<br>comp3=%{z}<extra></extra>",
         "legendgroup": "807",
         "marker": {
          "color": "rgb(204, 97, 176)",
          "line": {
           "color": "black",
           "width": 0.1
          },
          "opacity": 0.8,
          "size": 4,
          "symbol": "circle"
         },
         "mode": "markers",
         "name": "807",
         "scene": "scene",
         "showlegend": true,
         "type": "scatter3d",
         "x": [
          -1.6496225866652068
         ],
         "y": [
          0.1730606572723484
         ],
         "z": [
          0.025906480395166513
         ]
        },
        {
         "hovertemplate": "cluster=808<br>comp1=%{x}<br>comp2=%{y}<br>comp3=%{z}<extra></extra>",
         "legendgroup": "808",
         "marker": {
          "color": "rgb(36, 121, 108)",
          "line": {
           "color": "black",
           "width": 0.1
          },
          "opacity": 0.8,
          "size": 4,
          "symbol": "circle"
         },
         "mode": "markers",
         "name": "808",
         "scene": "scene",
         "showlegend": true,
         "type": "scatter3d",
         "x": [
          -1.6504006021210986
         ],
         "y": [
          0.17786857685205906
         ],
         "z": [
          0.025732559414587797
         ]
        },
        {
         "hovertemplate": "cluster=809<br>comp1=%{x}<br>comp2=%{y}<br>comp3=%{z}<extra></extra>",
         "legendgroup": "809",
         "marker": {
          "color": "rgb(218, 165, 27)",
          "line": {
           "color": "black",
           "width": 0.1
          },
          "opacity": 0.8,
          "size": 4,
          "symbol": "circle"
         },
         "mode": "markers",
         "name": "809",
         "scene": "scene",
         "showlegend": true,
         "type": "scatter3d",
         "x": [
          -1.651159595862317
         ],
         "y": [
          0.18269511375354888
         ],
         "z": [
          0.025556062249960453
         ]
        },
        {
         "hovertemplate": "cluster=810<br>comp1=%{x}<br>comp2=%{y}<br>comp3=%{z}<extra></extra>",
         "legendgroup": "810",
         "marker": {
          "color": "rgb(47, 138, 196)",
          "line": {
           "color": "black",
           "width": 0.1
          },
          "opacity": 0.8,
          "size": 4,
          "symbol": "circle"
         },
         "mode": "markers",
         "name": "810",
         "scene": "scene",
         "showlegend": true,
         "type": "scatter3d",
         "x": [
          -1.6518995536911925
         ],
         "y": [
          0.18754028545108203
         ],
         "z": [
          0.025376981423341598
         ]
        },
        {
         "hovertemplate": "cluster=811<br>comp1=%{x}<br>comp2=%{y}<br>comp3=%{z}<extra></extra>",
         "legendgroup": "811",
         "marker": {
          "color": "rgb(118, 78, 159)",
          "line": {
           "color": "black",
           "width": 0.1
          },
          "opacity": 0.8,
          "size": 4,
          "symbol": "circle"
         },
         "mode": "markers",
         "name": "811",
         "scene": "scene",
         "showlegend": true,
         "type": "scatter3d",
         "x": [
          -1.6526204614231323
         ],
         "y": [
          0.19240410940139466
         ],
         "z": [
          0.025195309463940975
         ]
        },
        {
         "hovertemplate": "cluster=812<br>comp1=%{x}<br>comp2=%{y}<br>comp3=%{z}<extra></extra>",
         "legendgroup": "812",
         "marker": {
          "color": "rgb(237, 100, 90)",
          "line": {
           "color": "black",
           "width": 0.1
          },
          "opacity": 0.8,
          "size": 4,
          "symbol": "circle"
         },
         "mode": "markers",
         "name": "812",
         "scene": "scene",
         "showlegend": true,
         "type": "scatter3d",
         "x": [
          -1.653322304886633
         ],
         "y": [
          0.1972866030436789
         ],
         "z": [
          0.02501103890813499
         ]
        },
        {
         "hovertemplate": "cluster=813<br>comp1=%{x}<br>comp2=%{y}<br>comp3=%{z}<extra></extra>",
         "legendgroup": "813",
         "marker": {
          "color": "rgb(165, 170, 153)",
          "line": {
           "color": "black",
           "width": 0.1
          },
          "opacity": 0.8,
          "size": 4,
          "symbol": "circle"
         },
         "mode": "markers",
         "name": "813",
         "scene": "scene",
         "showlegend": true,
         "type": "scatter3d",
         "x": [
          -1.6540050699233073
         ],
         "y": [
          0.2021877837995775
         ],
         "z": [
          0.02482416229943955
         ]
        },
        {
         "hovertemplate": "cluster=814<br>comp1=%{x}<br>comp2=%{y}<br>comp3=%{z}<extra></extra>",
         "legendgroup": "814",
         "marker": {
          "color": "rgb(229, 134, 6)",
          "line": {
           "color": "black",
           "width": 0.1
          },
          "opacity": 0.8,
          "size": 4,
          "symbol": "circle"
         },
         "mode": "markers",
         "name": "814",
         "scene": "scene",
         "showlegend": true,
         "type": "scatter3d",
         "x": [
          -1.6546687423878903
         ],
         "y": [
          0.20710766907315303
         ],
         "z": [
          0.02463467218853782
         ]
        },
        {
         "hovertemplate": "cluster=815<br>comp1=%{x}<br>comp2=%{y}<br>comp3=%{z}<extra></extra>",
         "legendgroup": "815",
         "marker": {
          "color": "rgb(93, 105, 177)",
          "line": {
           "color": "black",
           "width": 0.1
          },
          "opacity": 0.8,
          "size": 4,
          "symbol": "circle"
         },
         "mode": "markers",
         "name": "815",
         "scene": "scene",
         "showlegend": true,
         "type": "scatter3d",
         "x": [
          -1.6553133081482165
         ],
         "y": [
          0.21204627625087946
         ],
         "z": [
          0.02444256113332385
         ]
        },
        {
         "hovertemplate": "cluster=816<br>comp1=%{x}<br>comp2=%{y}<br>comp3=%{z}<extra></extra>",
         "legendgroup": "816",
         "marker": {
          "color": "rgb(82, 188, 163)",
          "line": {
           "color": "black",
           "width": 0.1
          },
          "opacity": 0.8,
          "size": 4,
          "symbol": "circle"
         },
         "mode": "markers",
         "name": "816",
         "scene": "scene",
         "showlegend": true,
         "type": "scatter3d",
         "x": [
          -1.6559387530853142
         ],
         "y": [
          0.21700362270162074
         ],
         "z": [
          0.024247821698819012
         ]
        },
        {
         "hovertemplate": "cluster=817<br>comp1=%{x}<br>comp2=%{y}<br>comp3=%{z}<extra></extra>",
         "legendgroup": "817",
         "marker": {
          "color": "rgb(153, 201, 69)",
          "line": {
           "color": "black",
           "width": 0.1
          },
          "opacity": 0.8,
          "size": 4,
          "symbol": "circle"
         },
         "mode": "markers",
         "name": "817",
         "scene": "scene",
         "showlegend": true,
         "type": "scatter3d",
         "x": [
          -1.6565450630933403
         ],
         "y": [
          0.2219797257766135
         ],
         "z": [
          0.024050446457272147
         ]
        },
        {
         "hovertemplate": "cluster=818<br>comp1=%{x}<br>comp2=%{y}<br>comp3=%{z}<extra></extra>",
         "legendgroup": "818",
         "marker": {
          "color": "rgb(204, 97, 176)",
          "line": {
           "color": "black",
           "width": 0.1
          },
          "opacity": 0.8,
          "size": 4,
          "symbol": "circle"
         },
         "mode": "markers",
         "name": "818",
         "scene": "scene",
         "showlegend": true,
         "type": "scatter3d",
         "x": [
          -1.657132224079607
         ],
         "y": [
          0.2269746028094529
         ],
         "z": [
          0.02385042798813571
         ]
        },
        {
         "hovertemplate": "cluster=819<br>comp1=%{x}<br>comp2=%{y}<br>comp3=%{z}<extra></extra>",
         "legendgroup": "819",
         "marker": {
          "color": "rgb(36, 121, 108)",
          "line": {
           "color": "black",
           "width": 0.1
          },
          "opacity": 0.8,
          "size": 4,
          "symbol": "circle"
         },
         "mode": "markers",
         "name": "819",
         "scene": "scene",
         "showlegend": true,
         "type": "scatter3d",
         "x": [
          -1.6577002219646406
         ],
         "y": [
          0.23198827111607337
         ],
         "z": [
          0.02364775887804031
         ]
        },
        {
         "hovertemplate": "cluster=820<br>comp1=%{x}<br>comp2=%{y}<br>comp3=%{z}<extra></extra>",
         "legendgroup": "820",
         "marker": {
          "color": "rgb(218, 165, 27)",
          "line": {
           "color": "black",
           "width": 0.1
          },
          "opacity": 0.8,
          "size": 4,
          "symbol": "circle"
         },
         "mode": "markers",
         "name": "820",
         "scene": "scene",
         "showlegend": true,
         "type": "scatter3d",
         "x": [
          -1.658249042682142
         ],
         "y": [
          0.23702074799473566
         ],
         "z": [
          0.02344243172083961
         ]
        },
        {
         "hovertemplate": "cluster=821<br>comp1=%{x}<br>comp2=%{y}<br>comp3=%{z}<extra></extra>",
         "legendgroup": "821",
         "marker": {
          "color": "rgb(47, 138, 196)",
          "line": {
           "color": "black",
           "width": 0.1
          },
          "opacity": 0.8,
          "size": 4,
          "symbol": "circle"
         },
         "mode": "markers",
         "name": "821",
         "scene": "scene",
         "showlegend": true,
         "type": "scatter3d",
         "x": [
          -1.658778672179029
         ],
         "y": [
          0.24207205072599855
         ],
         "z": [
          0.02323443911761094
         ]
        },
        {
         "hovertemplate": "cluster=822<br>comp1=%{x}<br>comp2=%{y}<br>comp3=%{z}<extra></extra>",
         "legendgroup": "822",
         "marker": {
          "color": "rgb(118, 78, 159)",
          "line": {
           "color": "black",
           "width": 0.1
          },
          "opacity": 0.8,
          "size": 4,
          "symbol": "circle"
         },
         "mode": "markers",
         "name": "822",
         "scene": "scene",
         "showlegend": true,
         "type": "scatter3d",
         "x": [
          -1.6592890964154179
         ],
         "y": [
          0.24714219657271347
         ],
         "z": [
          0.023023773676670252
         ]
        },
        {
         "hovertemplate": "cluster=823<br>comp1=%{x}<br>comp2=%{y}<br>comp3=%{z}<extra></extra>",
         "legendgroup": "823",
         "marker": {
          "color": "rgb(237, 100, 90)",
          "line": {
           "color": "black",
           "width": 0.1
          },
          "opacity": 0.8,
          "size": 4,
          "symbol": "circle"
         },
         "mode": "markers",
         "name": "823",
         "scene": "scene",
         "showlegend": true,
         "type": "scatter3d",
         "x": [
          -1.659780301364683
         ],
         "y": [
          0.25223120278000916
         ],
         "z": [
          0.022810428013543445
         ]
        },
        {
         "hovertemplate": "cluster=824<br>comp1=%{x}<br>comp2=%{y}<br>comp3=%{z}<extra></extra>",
         "legendgroup": "824",
         "marker": {
          "color": "rgb(165, 170, 153)",
          "line": {
           "color": "black",
           "width": 0.1
          },
          "opacity": 0.8,
          "size": 4,
          "symbol": "circle"
         },
         "mode": "markers",
         "name": "824",
         "scene": "scene",
         "showlegend": true,
         "type": "scatter3d",
         "x": [
          -1.6602522730134357
         ],
         "y": [
          0.2573390865752572
         ],
         "z": [
          0.022594394751007715
         ]
        },
        {
         "hovertemplate": "cluster=825<br>comp1=%{x}<br>comp2=%{y}<br>comp3=%{z}<extra></extra>",
         "legendgroup": "825",
         "marker": {
          "color": "rgb(229, 134, 6)",
          "line": {
           "color": "black",
           "width": 0.1
          },
          "opacity": 0.8,
          "size": 4,
          "symbol": "circle"
         },
         "mode": "markers",
         "name": "825",
         "scene": "scene",
         "showlegend": true,
         "type": "scatter3d",
         "x": [
          -1.6607049973615309
         ],
         "y": [
          0.26246586516807285
         ],
         "z": [
          0.022375666519104654
         ]
        },
        {
         "hovertemplate": "cluster=826<br>comp1=%{x}<br>comp2=%{y}<br>comp3=%{z}<extra></extra>",
         "legendgroup": "826",
         "marker": {
          "color": "rgb(93, 105, 177)",
          "line": {
           "color": "black",
           "width": 0.1
          },
          "opacity": 0.8,
          "size": 4,
          "symbol": "circle"
         },
         "mode": "markers",
         "name": "826",
         "scene": "scene",
         "showlegend": true,
         "type": "scatter3d",
         "x": [
          -1.6611384604220982
         ],
         "y": [
          0.26761155575029316
         ],
         "z": [
          0.0221542359551232
         ]
        },
        {
         "hovertemplate": "cluster=827<br>comp1=%{x}<br>comp2=%{y}<br>comp3=%{z}<extra></extra>",
         "legendgroup": "827",
         "marker": {
          "color": "rgb(82, 188, 163)",
          "line": {
           "color": "black",
           "width": 0.1
          },
          "opacity": 0.8,
          "size": 4,
          "symbol": "circle"
         },
         "mode": "markers",
         "name": "827",
         "scene": "scene",
         "showlegend": true,
         "type": "scatter3d",
         "x": [
          -1.661552648221558
         ],
         "y": [
          0.2727761754959532
         ],
         "z": [
          0.021930095703615326
         ]
        },
        {
         "hovertemplate": "cluster=828<br>comp1=%{x}<br>comp2=%{y}<br>comp3=%{z}<extra></extra>",
         "legendgroup": "828",
         "marker": {
          "color": "rgb(153, 201, 69)",
          "line": {
           "color": "black",
           "width": 0.1
          },
          "opacity": 0.8,
          "size": 4,
          "symbol": "circle"
         },
         "mode": "markers",
         "name": "828",
         "scene": "scene",
         "showlegend": true,
         "type": "scatter3d",
         "x": [
          -1.6619475467996203
         ],
         "y": [
          0.2779597415612805
         ],
         "z": [
          0.021703238416397527
         ]
        },
        {
         "hovertemplate": "cluster=829<br>comp1=%{x}<br>comp2=%{y}<br>comp3=%{z}<extra></extra>",
         "legendgroup": "829",
         "marker": {
          "color": "rgb(204, 97, 176)",
          "line": {
           "color": "black",
           "width": 0.1
          },
          "opacity": 0.8,
          "size": 4,
          "symbol": "circle"
         },
         "mode": "markers",
         "name": "829",
         "scene": "scene",
         "showlegend": true,
         "type": "scatter3d",
         "x": [
          -1.6623231422092914
         ],
         "y": [
          0.283162271084668
         ],
         "z": [
          0.021473656752588888
         ]
        },
        {
         "hovertemplate": "cluster=830<br>comp1=%{x}<br>comp2=%{y}<br>comp3=%{z}<extra></extra>",
         "legendgroup": "830",
         "marker": {
          "color": "rgb(36, 121, 108)",
          "line": {
           "color": "black",
           "width": 0.1
          },
          "opacity": 0.8,
          "size": 4,
          "symbol": "circle"
         },
         "mode": "markers",
         "name": "830",
         "scene": "scene",
         "showlegend": true,
         "type": "scatter3d",
         "x": [
          -1.6626794205169086
         ],
         "y": [
          0.28838378118666314
         ],
         "z": [
          0.021241343378569012
         ]
        },
        {
         "hovertemplate": "cluster=831<br>comp1=%{x}<br>comp2=%{y}<br>comp3=%{z}<extra></extra>",
         "legendgroup": "831",
         "marker": {
          "color": "rgb(218, 165, 27)",
          "line": {
           "color": "black",
           "width": 0.1
          },
          "opacity": 0.8,
          "size": 4,
          "symbol": "circle"
         },
         "mode": "markers",
         "name": "831",
         "scene": "scene",
         "showlegend": true,
         "type": "scatter3d",
         "x": [
          -1.6630163678021403
         ],
         "y": [
          0.2936242889699481
         ],
         "z": [
          0.021006290968023218
         ]
        },
        {
         "hovertemplate": "cluster=832<br>comp1=%{x}<br>comp2=%{y}<br>comp3=%{z}<extra></extra>",
         "legendgroup": "832",
         "marker": {
          "color": "rgb(47, 138, 196)",
          "line": {
           "color": "black",
           "width": 0.1
          },
          "opacity": 0.8,
          "size": 4,
          "symbol": "circle"
         },
         "mode": "markers",
         "name": "832",
         "scene": "scene",
         "showlegend": true,
         "type": "scatter3d",
         "x": [
          -1.663333970157984
         ],
         "y": [
          0.2988838115193225
         ],
         "z": [
          0.020768492201949162
         ]
        },
        {
         "hovertemplate": "cluster=833<br>comp1=%{x}<br>comp2=%{y}<br>comp3=%{z}<extra></extra>",
         "legendgroup": "833",
         "marker": {
          "color": "rgb(118, 78, 159)",
          "line": {
           "color": "black",
           "width": 0.1
          },
          "opacity": 0.8,
          "size": 4,
          "symbol": "circle"
         },
         "mode": "markers",
         "name": "833",
         "scene": "scene",
         "showlegend": true,
         "type": "scatter3d",
         "x": [
          -1.663632213690803
         ],
         "y": [
          0.3041623659016879
         ],
         "z": [
          0.020527939768642683
         ]
        },
        {
         "hovertemplate": "cluster=834<br>comp1=%{x}<br>comp2=%{y}<br>comp3=%{z}<extra></extra>",
         "legendgroup": "834",
         "marker": {
          "color": "rgb(237, 100, 90)",
          "line": {
           "color": "black",
           "width": 0.1
          },
          "opacity": 0.8,
          "size": 4,
          "symbol": "circle"
         },
         "mode": "markers",
         "name": "834",
         "scene": "scene",
         "showlegend": true,
         "type": "scatter3d",
         "x": [
          -1.6639110845203406
         ],
         "y": [
          0.3094599691660321
         ],
         "z": [
          0.020284626363705746
         ]
        },
        {
         "hovertemplate": "cluster=835<br>comp1=%{x}<br>comp2=%{y}<br>comp3=%{z}<extra></extra>",
         "legendgroup": "835",
         "marker": {
          "color": "rgb(165, 170, 153)",
          "line": {
           "color": "black",
           "width": 0.1
          },
          "opacity": 0.8,
          "size": 4,
          "symbol": "circle"
         },
         "mode": "markers",
         "name": "835",
         "scene": "scene",
         "showlegend": true,
         "type": "scatter3d",
         "x": [
          -1.6641705687796904
         ],
         "y": [
          0.31477663834341224
         ],
         "z": [
          0.020038544690091798
         ]
        },
        {
         "hovertemplate": "cluster=836<br>comp1=%{x}<br>comp2=%{y}<br>comp3=%{z}<extra></extra>",
         "legendgroup": "836",
         "marker": {
          "color": "rgb(229, 134, 6)",
          "line": {
           "color": "black",
           "width": 0.1
          },
          "opacity": 0.8,
          "size": 4,
          "symbol": "circle"
         },
         "mode": "markers",
         "name": "836",
         "scene": "scene",
         "showlegend": true,
         "type": "scatter3d",
         "x": [
          -1.6644106526153792
         ],
         "y": [
          0.32011239044693085
         ],
         "z": [
          0.019789687458046334
         ]
        },
        {
         "hovertemplate": "cluster=837<br>comp1=%{x}<br>comp2=%{y}<br>comp3=%{z}<extra></extra>",
         "legendgroup": "837",
         "marker": {
          "color": "rgb(93, 105, 177)",
          "line": {
           "color": "black",
           "width": 0.1
          },
          "opacity": 0.8,
          "size": 4,
          "symbol": "circle"
         },
         "mode": "markers",
         "name": "837",
         "scene": "scene",
         "showlegend": true,
         "type": "scatter3d",
         "x": [
          -1.6646313221872893
         ],
         "y": [
          0.3254672424717292
         ],
         "z": [
          0.01953804738520489
         ]
        },
        {
         "hovertemplate": "cluster=838<br>comp1=%{x}<br>comp2=%{y}<br>comp3=%{z}<extra></extra>",
         "legendgroup": "838",
         "marker": {
          "color": "rgb(82, 188, 163)",
          "line": {
           "color": "black",
           "width": 0.1
          },
          "opacity": 0.8,
          "size": 4,
          "symbol": "circle"
         },
         "mode": "markers",
         "name": "838",
         "scene": "scene",
         "showlegend": true,
         "type": "scatter3d",
         "x": [
          -1.6648325636687613
         ],
         "y": [
          0.33084121139496836
         ],
         "z": [
          0.019283617196500593
         ]
        },
        {
         "hovertemplate": "cluster=839<br>comp1=%{x}<br>comp2=%{y}<br>comp3=%{z}<extra></extra>",
         "legendgroup": "839",
         "marker": {
          "color": "rgb(153, 201, 69)",
          "line": {
           "color": "black",
           "width": 0.1
          },
          "opacity": 0.8,
          "size": 4,
          "symbol": "circle"
         },
         "mode": "markers",
         "name": "839",
         "scene": "scene",
         "showlegend": true,
         "type": "scatter3d",
         "x": [
          -1.6650143632465622
         ],
         "y": [
          0.33623431417580274
         ],
         "z": [
          0.01902638962423347
         ]
        },
        {
         "hovertemplate": "cluster=840<br>comp1=%{x}<br>comp2=%{y}<br>comp3=%{z}<extra></extra>",
         "legendgroup": "840",
         "marker": {
          "color": "rgb(204, 97, 176)",
          "line": {
           "color": "black",
           "width": 0.1
          },
          "opacity": 0.8,
          "size": 4,
          "symbol": "circle"
         },
         "mode": "markers",
         "name": "840",
         "scene": "scene",
         "showlegend": true,
         "type": "scatter3d",
         "x": [
          -1.665176707120868
         ],
         "y": [
          0.3416465677553744
         ],
         "z": [
          0.01876635740809055
         ]
        },
        {
         "hovertemplate": "cluster=841<br>comp1=%{x}<br>comp2=%{y}<br>comp3=%{z}<extra></extra>",
         "legendgroup": "841",
         "marker": {
          "color": "rgb(36, 121, 108)",
          "line": {
           "color": "black",
           "width": 0.1
          },
          "opacity": 0.8,
          "size": 4,
          "symbol": "circle"
         },
         "mode": "markers",
         "name": "841",
         "scene": "scene",
         "showlegend": true,
         "type": "scatter3d",
         "x": [
          -1.6653195815053394
         ],
         "y": [
          0.34707798905679543
         ],
         "z": [
          0.01850351329509562
         ]
        },
        {
         "hovertemplate": "cluster=842<br>comp1=%{x}<br>comp2=%{y}<br>comp3=%{z}<extra></extra>",
         "legendgroup": "842",
         "marker": {
          "color": "rgb(218, 165, 27)",
          "line": {
           "color": "black",
           "width": 0.1
          },
          "opacity": 0.8,
          "size": 4,
          "symbol": "circle"
         },
         "mode": "markers",
         "name": "842",
         "scene": "scene",
         "showlegend": true,
         "type": "scatter3d",
         "x": [
          -1.665442972627095
         ],
         "y": [
          0.3525285949851232
         ],
         "z": [
          0.018237850039659602
         ]
        },
        {
         "hovertemplate": "cluster=843<br>comp1=%{x}<br>comp2=%{y}<br>comp3=%{z}<extra></extra>",
         "legendgroup": "843",
         "marker": {
          "color": "rgb(47, 138, 196)",
          "line": {
           "color": "black",
           "width": 0.1
          },
          "opacity": 0.8,
          "size": 4,
          "symbol": "circle"
         },
         "mode": "markers",
         "name": "843",
         "scene": "scene",
         "showlegend": true,
         "type": "scatter3d",
         "x": [
          -1.665546866726738
         ],
         "y": [
          0.3579984024273501
         ],
         "z": [
          0.017969360403567867
         ]
        },
        {
         "hovertemplate": "cluster=844<br>comp1=%{x}<br>comp2=%{y}<br>comp3=%{z}<extra></extra>",
         "legendgroup": "844",
         "marker": {
          "color": "rgb(118, 78, 159)",
          "line": {
           "color": "black",
           "width": 0.1
          },
          "opacity": 0.8,
          "size": 4,
          "symbol": "circle"
         },
         "mode": "markers",
         "name": "844",
         "scene": "scene",
         "showlegend": true,
         "type": "scatter3d",
         "x": [
          -1.665631250058348
         ],
         "y": [
          0.36348742825238584
         ],
         "z": [
          0.01769803715601092
         ]
        },
        {
         "hovertemplate": "cluster=845<br>comp1=%{x}<br>comp2=%{y}<br>comp3=%{z}<extra></extra>",
         "legendgroup": "845",
         "marker": {
          "color": "rgb(237, 100, 90)",
          "line": {
           "color": "black",
           "width": 0.1
          },
          "opacity": 0.8,
          "size": 4,
          "symbol": "circle"
         },
         "mode": "markers",
         "name": "845",
         "scene": "scene",
         "showlegend": true,
         "type": "scatter3d",
         "x": [
          -1.665696108889523
         ],
         "y": [
          0.36899568931104443
         ],
         "z": [
          0.01742387307355564
         ]
        },
        {
         "hovertemplate": "cluster=846<br>comp1=%{x}<br>comp2=%{y}<br>comp3=%{z}<extra></extra>",
         "legendgroup": "846",
         "marker": {
          "color": "rgb(165, 170, 153)",
          "line": {
           "color": "black",
           "width": 0.1
          },
          "opacity": 0.8,
          "size": 4,
          "symbol": "circle"
         },
         "mode": "markers",
         "name": "846",
         "scene": "scene",
         "showlegend": true,
         "type": "scatter3d",
         "x": [
          -1.665741429501362
         ],
         "y": [
          0.37452320243601483
         ],
         "z": [
          0.01714686094019592
         ]
        },
        {
         "hovertemplate": "cluster=847<br>comp1=%{x}<br>comp2=%{y}<br>comp3=%{z}<extra></extra>",
         "legendgroup": "847",
         "marker": {
          "color": "rgb(229, 134, 6)",
          "line": {
           "color": "black",
           "width": 0.1
          },
          "opacity": 0.8,
          "size": 4,
          "symbol": "circle"
         },
         "mode": "markers",
         "name": "847",
         "scene": "scene",
         "showlegend": true,
         "type": "scatter3d",
         "x": [
          -1.6657671981884992
         ],
         "y": [
          0.3800699844418546
         ],
         "z": [
          0.01686699354733029
         ]
        },
        {
         "hovertemplate": "cluster=848<br>comp1=%{x}<br>comp2=%{y}<br>comp3=%{z}<extra></extra>",
         "legendgroup": "848",
         "marker": {
          "color": "rgb(93, 105, 177)",
          "line": {
           "color": "black",
           "width": 0.1
          },
          "opacity": 0.8,
          "size": 4,
          "symbol": "circle"
         },
         "mode": "markers",
         "name": "848",
         "scene": "scene",
         "showlegend": true,
         "type": "scatter3d",
         "x": [
          -1.6657734012591205
         ],
         "y": [
          0.3856360521249809
         ],
         "z": [
          0.016584263693751218
         ]
        },
        {
         "hovertemplate": "cluster=849<br>comp1=%{x}<br>comp2=%{y}<br>comp3=%{z}<extra></extra>",
         "legendgroup": "849",
         "marker": {
          "color": "rgb(82, 188, 163)",
          "line": {
           "color": "black",
           "width": 0.1
          },
          "opacity": 0.8,
          "size": 4,
          "symbol": "circle"
         },
         "mode": "markers",
         "name": "849",
         "scene": "scene",
         "showlegend": true,
         "type": "scatter3d",
         "x": [
          -1.665760025034935
         ],
         "y": [
          0.39122142226363066
         ],
         "z": [
          0.01629866418571899
         ]
        },
        {
         "hovertemplate": "cluster=850<br>comp1=%{x}<br>comp2=%{y}<br>comp3=%{z}<extra></extra>",
         "legendgroup": "850",
         "marker": {
          "color": "rgb(153, 201, 69)",
          "line": {
           "color": "black",
           "width": 0.1
          },
          "opacity": 0.8,
          "size": 4,
          "symbol": "circle"
         },
         "mode": "markers",
         "name": "850",
         "scene": "scene",
         "showlegend": true,
         "type": "scatter3d",
         "x": [
          -1.6657270558512465
         ],
         "y": [
          0.3968261116178659
         ],
         "z": [
          0.016010187836895732
         ]
        },
        {
         "hovertemplate": "cluster=851<br>comp1=%{x}<br>comp2=%{y}<br>comp3=%{z}<extra></extra>",
         "legendgroup": "851",
         "marker": {
          "color": "rgb(204, 97, 176)",
          "line": {
           "color": "black",
           "width": 0.1
          },
          "opacity": 0.8,
          "size": 4,
          "symbol": "circle"
         },
         "mode": "markers",
         "name": "851",
         "scene": "scene",
         "showlegend": true,
         "type": "scatter3d",
         "x": [
          -1.665674480056913
         ],
         "y": [
          0.40245013692955056
         ],
         "z": [
          0.015718827468392423
         ]
        },
        {
         "hovertemplate": "cluster=852<br>comp1=%{x}<br>comp2=%{y}<br>comp3=%{z}<extra></extra>",
         "legendgroup": "852",
         "marker": {
          "color": "rgb(36, 121, 108)",
          "line": {
           "color": "black",
           "width": 0.1
          },
          "opacity": 0.8,
          "size": 4,
          "symbol": "circle"
         },
         "mode": "markers",
         "name": "852",
         "scene": "scene",
         "showlegend": true,
         "type": "scatter3d",
         "x": [
          -1.6656022840143918
         ],
         "y": [
          0.4080935149223222
         ],
         "z": [
          0.015424575908777816
         ]
        },
        {
         "hovertemplate": "cluster=853<br>comp1=%{x}<br>comp2=%{y}<br>comp3=%{z}<extra></extra>",
         "legendgroup": "853",
         "marker": {
          "color": "rgb(218, 165, 27)",
          "line": {
           "color": "black",
           "width": 0.1
          },
          "opacity": 0.8,
          "size": 4,
          "symbol": "circle"
         },
         "mode": "markers",
         "name": "853",
         "scene": "scene",
         "showlegend": true,
         "type": "scatter3d",
         "x": [
          -1.665510454099739
         ],
         "y": [
          0.41375626230159446
         ],
         "z": [
          0.01512742599405979
         ]
        },
        {
         "hovertemplate": "cluster=854<br>comp1=%{x}<br>comp2=%{y}<br>comp3=%{z}<extra></extra>",
         "legendgroup": "854",
         "marker": {
          "color": "rgb(47, 138, 196)",
          "line": {
           "color": "black",
           "width": 0.1
          },
          "opacity": 0.8,
          "size": 4,
          "symbol": "circle"
         },
         "mode": "markers",
         "name": "854",
         "scene": "scene",
         "showlegend": true,
         "type": "scatter3d",
         "x": [
          -1.665398976702605
         ],
         "y": [
          0.4194383957545295
         ],
         "z": [
          0.014827370567737206
         ]
        },
        {
         "hovertemplate": "cluster=855<br>comp1=%{x}<br>comp2=%{y}<br>comp3=%{z}<extra></extra>",
         "legendgroup": "855",
         "marker": {
          "color": "rgb(118, 78, 159)",
          "line": {
           "color": "black",
           "width": 0.1
          },
          "opacity": 0.8,
          "size": 4,
          "symbol": "circle"
         },
         "mode": "markers",
         "name": "855",
         "scene": "scene",
         "showlegend": true,
         "type": "scatter3d",
         "x": [
          -1.6652678382263129
         ],
         "y": [
          0.42513993195002087
         ],
         "z": [
          0.014524402480726948
         ]
        },
        {
         "hovertemplate": "cluster=856<br>comp1=%{x}<br>comp2=%{y}<br>comp3=%{z}<extra></extra>",
         "legendgroup": "856",
         "marker": {
          "color": "rgb(237, 100, 90)",
          "line": {
           "color": "black",
           "width": 0.1
          },
          "opacity": 0.8,
          "size": 4,
          "symbol": "circle"
         },
         "mode": "markers",
         "name": "856",
         "scene": "scene",
         "showlegend": true,
         "type": "scatter3d",
         "x": [
          -1.665117025087769
         ],
         "y": [
          0.430860887538681
         ],
         "z": [
          0.014218514591474336
         ]
        },
        {
         "hovertemplate": "cluster=857<br>comp1=%{x}<br>comp2=%{y}<br>comp3=%{z}<extra></extra>",
         "legendgroup": "857",
         "marker": {
          "color": "rgb(165, 170, 153)",
          "line": {
           "color": "black",
           "width": 0.1
          },
          "opacity": 0.8,
          "size": 4,
          "symbol": "circle"
         },
         "mode": "markers",
         "name": "857",
         "scene": "scene",
         "showlegend": true,
         "type": "scatter3d",
         "x": [
          -1.6649465237175642
         ],
         "y": [
          0.43660127915282404
         ],
         "z": [
          0.013909699765878133
         ]
        },
        {
         "hovertemplate": "cluster=858<br>comp1=%{x}<br>comp2=%{y}<br>comp3=%{z}<extra></extra>",
         "legendgroup": "858",
         "marker": {
          "color": "rgb(229, 134, 6)",
          "line": {
           "color": "black",
           "width": 0.1
          },
          "opacity": 0.8,
          "size": 4,
          "symbol": "circle"
         },
         "mode": "markers",
         "name": "858",
         "scene": "scene",
         "showlegend": true,
         "type": "scatter3d",
         "x": [
          -1.6647563205599196
         ],
         "y": [
          0.44236112340644396
         ],
         "z": [
          0.013597950877355163
         ]
        },
        {
         "hovertemplate": "cluster=859<br>comp1=%{x}<br>comp2=%{y}<br>comp3=%{z}<extra></extra>",
         "legendgroup": "859",
         "marker": {
          "color": "rgb(93, 105, 177)",
          "line": {
           "color": "black",
           "width": 0.1
          },
          "opacity": 0.8,
          "size": 4,
          "symbol": "circle"
         },
         "mode": "markers",
         "name": "859",
         "scene": "scene",
         "showlegend": true,
         "type": "scatter3d",
         "x": [
          -1.6645464020727665
         ],
         "y": [
          0.44814043689520977
         ],
         "z": [
          0.01328326080678195
         ]
        },
        {
         "hovertemplate": "cluster=860<br>comp1=%{x}<br>comp2=%{y}<br>comp3=%{z}<extra></extra>",
         "legendgroup": "860",
         "marker": {
          "color": "rgb(82, 188, 163)",
          "line": {
           "color": "black",
           "width": 0.1
          },
          "opacity": 0.8,
          "size": 4,
          "symbol": "circle"
         },
         "mode": "markers",
         "name": "860",
         "scene": "scene",
         "showlegend": true,
         "type": "scatter3d",
         "x": [
          -1.6643167547276922
         ],
         "y": [
          0.45393923619643317
         ],
         "z": [
          0.012965622442576628
         ]
        },
        {
         "hovertemplate": "cluster=861<br>comp1=%{x}<br>comp2=%{y}<br>comp3=%{z}<extra></extra>",
         "legendgroup": "861",
         "marker": {
          "color": "rgb(153, 201, 69)",
          "line": {
           "color": "black",
           "width": 0.1
          },
          "opacity": 0.8,
          "size": 4,
          "symbol": "circle"
         },
         "mode": "markers",
         "name": "861",
         "scene": "scene",
         "showlegend": true,
         "type": "scatter3d",
         "x": [
          -1.6640673650099955
         ],
         "y": [
          0.4597575378690727
         ],
         "z": [
          0.01264502868064367
         ]
        },
        {
         "hovertemplate": "cluster=862<br>comp1=%{x}<br>comp2=%{y}<br>comp3=%{z}<extra></extra>",
         "legendgroup": "862",
         "marker": {
          "color": "rgb(204, 97, 176)",
          "line": {
           "color": "black",
           "width": 0.1
          },
          "opacity": 0.8,
          "size": 4,
          "symbol": "circle"
         },
         "mode": "markers",
         "name": "862",
         "scene": "scene",
         "showlegend": true,
         "type": "scatter3d",
         "x": [
          -1.6637982194186771
         ],
         "y": [
          0.4655953584536899
         ],
         "z": [
          0.012321472424429407
         ]
        },
        {
         "hovertemplate": "cluster=863<br>comp1=%{x}<br>comp2=%{y}<br>comp3=%{z}<extra></extra>",
         "legendgroup": "863",
         "marker": {
          "color": "rgb(36, 121, 108)",
          "line": {
           "color": "black",
           "width": 0.1
          },
          "opacity": 0.8,
          "size": 4,
          "symbol": "circle"
         },
         "mode": "markers",
         "name": "863",
         "scene": "scene",
         "showlegend": true,
         "type": "scatter3d",
         "x": [
          -1.6635093044664662
         ],
         "y": [
          0.4714527144724646
         ],
         "z": [
          0.011994946584885409
         ]
        },
        {
         "hovertemplate": "cluster=864<br>comp1=%{x}<br>comp2=%{y}<br>comp3=%{z}<extra></extra>",
         "legendgroup": "864",
         "marker": {
          "color": "rgb(218, 165, 27)",
          "line": {
           "color": "black",
           "width": 0.1
          },
          "opacity": 0.8,
          "size": 4,
          "symbol": "circle"
         },
         "mode": "markers",
         "name": "864",
         "scene": "scene",
         "showlegend": true,
         "type": "scatter3d",
         "x": [
          -1.6632006066798075
         ],
         "y": [
          0.47732962242914667
         ],
         "z": [
          0.011665444080530002
         ]
        },
        {
         "hovertemplate": "cluster=865<br>comp1=%{x}<br>comp2=%{y}<br>comp3=%{z}<extra></extra>",
         "legendgroup": "865",
         "marker": {
          "color": "rgb(47, 138, 196)",
          "line": {
           "color": "black",
           "width": 0.1
          },
          "opacity": 0.8,
          "size": 4,
          "symbol": "circle"
         },
         "mode": "markers",
         "name": "865",
         "scene": "scene",
         "showlegend": true,
         "type": "scatter3d",
         "x": [
          -1.662872112598923
         ],
         "y": [
          0.4832260988090664
         ],
         "z": [
          0.011332957837378194
         ]
        },
        {
         "hovertemplate": "cluster=866<br>comp1=%{x}<br>comp2=%{y}<br>comp3=%{z}<extra></extra>",
         "legendgroup": "866",
         "marker": {
          "color": "rgb(118, 78, 159)",
          "line": {
           "color": "black",
           "width": 0.1
          },
          "opacity": 0.8,
          "size": 4,
          "symbol": "circle"
         },
         "mode": "markers",
         "name": "866",
         "scene": "scene",
         "showlegend": true,
         "type": "scatter3d",
         "x": [
          -1.6625238087777556
         ],
         "y": [
          0.48914216007910366
         ],
         "z": [
          0.010997480789033516
         ]
        },
        {
         "hovertemplate": "cluster=867<br>comp1=%{x}<br>comp2=%{y}<br>comp3=%{z}<extra></extra>",
         "legendgroup": "867",
         "marker": {
          "color": "rgb(237, 100, 90)",
          "line": {
           "color": "black",
           "width": 0.1
          },
          "opacity": 0.8,
          "size": 4,
          "symbol": "circle"
         },
         "mode": "markers",
         "name": "867",
         "scene": "scene",
         "showlegend": true,
         "type": "scatter3d",
         "x": [
          -1.6621556817840433
         ],
         "y": [
          0.4950778226876739
         ],
         "z": [
          0.010659005876633137
         ]
        },
        {
         "hovertemplate": "cluster=868<br>comp1=%{x}<br>comp2=%{y}<br>comp3=%{z}<extra></extra>",
         "legendgroup": "868",
         "marker": {
          "color": "rgb(165, 170, 153)",
          "line": {
           "color": "black",
           "width": 0.1
          },
          "opacity": 0.8,
          "size": 4,
          "symbol": "circle"
         },
         "mode": "markers",
         "name": "868",
         "scene": "scene",
         "showlegend": true,
         "type": "scatter3d",
         "x": [
          -1.6617677181993036
         ],
         "y": [
          0.501033103064712
         ],
         "z": [
          0.010317526048873383
         ]
        },
        {
         "hovertemplate": "cluster=869<br>comp1=%{x}<br>comp2=%{y}<br>comp3=%{z}<extra></extra>",
         "legendgroup": "869",
         "marker": {
          "color": "rgb(229, 134, 6)",
          "line": {
           "color": "black",
           "width": 0.1
          },
          "opacity": 0.8,
          "size": 4,
          "symbol": "circle"
         },
         "mode": "markers",
         "name": "869",
         "scene": "scene",
         "showlegend": true,
         "type": "scatter3d",
         "x": [
          -1.6613599046188294
         ],
         "y": [
          0.507008017621657
         ],
         "z": [
          0.009973034262044232
         ]
        },
        {
         "hovertemplate": "cluster=870<br>comp1=%{x}<br>comp2=%{y}<br>comp3=%{z}<extra></extra>",
         "legendgroup": "870",
         "marker": {
          "color": "rgb(93, 105, 177)",
          "line": {
           "color": "black",
           "width": 0.1
          },
          "opacity": 0.8,
          "size": 4,
          "symbol": "circle"
         },
         "mode": "markers",
         "name": "870",
         "scene": "scene",
         "showlegend": true,
         "type": "scatter3d",
         "x": [
          -1.660932227651733
         ],
         "y": [
          0.5130025827514377
         ],
         "z": [
          0.00962552347999135
         ]
        },
        {
         "hovertemplate": "cluster=871<br>comp1=%{x}<br>comp2=%{y}<br>comp3=%{z}<extra></extra>",
         "legendgroup": "871",
         "marker": {
          "color": "rgb(82, 188, 163)",
          "line": {
           "color": "black",
           "width": 0.1
          },
          "opacity": 0.8,
          "size": 4,
          "symbol": "circle"
         },
         "mode": "markers",
         "name": "871",
         "scene": "scene",
         "showlegend": true,
         "type": "scatter3d",
         "x": [
          -1.660484673920943
         ],
         "y": [
          0.5190168148284515
         ],
         "z": [
          0.009274986674148862
         ]
        },
        {
         "hovertemplate": "cluster=872<br>comp1=%{x}<br>comp2=%{y}<br>comp3=%{z}<extra></extra>",
         "legendgroup": "872",
         "marker": {
          "color": "rgb(153, 201, 69)",
          "line": {
           "color": "black",
           "width": 0.1
          },
          "opacity": 0.8,
          "size": 4,
          "symbol": "circle"
         },
         "mode": "markers",
         "name": "872",
         "scene": "scene",
         "showlegend": true,
         "type": "scatter3d",
         "x": [
          -1.66001723006321
         ],
         "y": [
          0.5250507302085539
         ],
         "z": [
          0.008921416823545466
         ]
        },
        {
         "hovertemplate": "cluster=873<br>comp1=%{x}<br>comp2=%{y}<br>comp3=%{z}<extra></extra>",
         "legendgroup": "873",
         "marker": {
          "color": "rgb(204, 97, 176)",
          "line": {
           "color": "black",
           "width": 0.1
          },
          "opacity": 0.8,
          "size": 4,
          "symbol": "circle"
         },
         "mode": "markers",
         "name": "873",
         "scene": "scene",
         "showlegend": true,
         "type": "scatter3d",
         "x": [
          -1.6595298827291314
         ],
         "y": [
          0.5311043452290374
         ],
         "z": [
          0.008564806914806862
         ]
        },
        {
         "hovertemplate": "cluster=874<br>comp1=%{x}<br>comp2=%{y}<br>comp3=%{z}<extra></extra>",
         "legendgroup": "874",
         "marker": {
          "color": "rgb(36, 121, 108)",
          "line": {
           "color": "black",
           "width": 0.1
          },
          "opacity": 0.8,
          "size": 4,
          "symbol": "circle"
         },
         "mode": "markers",
         "name": "874",
         "scene": "scene",
         "showlegend": true,
         "type": "scatter3d",
         "x": [
          -1.6590226185831591
         ],
         "y": [
          0.537177676208613
         ],
         "z": [
          0.008205149942161176
         ]
        },
        {
         "hovertemplate": "cluster=875<br>comp1=%{x}<br>comp2=%{y}<br>comp3=%{z}<extra></extra>",
         "legendgroup": "875",
         "marker": {
          "color": "rgb(218, 165, 27)",
          "line": {
           "color": "black",
           "width": 0.1
          },
          "opacity": 0.8,
          "size": 4,
          "symbol": "circle"
         },
         "mode": "markers",
         "name": "875",
         "scene": "scene",
         "showlegend": true,
         "type": "scatter3d",
         "x": [
          -1.6584954243036056
         ],
         "y": [
          0.5432707394474046
         ],
         "z": [
          0.007842438907451703
         ]
        },
        {
         "hovertemplate": "cluster=876<br>comp1=%{x}<br>comp2=%{y}<br>comp3=%{z}<extra></extra>",
         "legendgroup": "876",
         "marker": {
          "color": "rgb(47, 138, 196)",
          "line": {
           "color": "black",
           "width": 0.1
          },
          "opacity": 0.8,
          "size": 4,
          "symbol": "circle"
         },
         "mode": "markers",
         "name": "876",
         "scene": "scene",
         "showlegend": true,
         "type": "scatter3d",
         "x": [
          -1.6579482865826478
         ],
         "y": [
          0.5493835512269185
         ],
         "z": [
          0.0074766668201559205
         ]
        },
        {
         "hovertemplate": "cluster=877<br>comp1=%{x}<br>comp2=%{y}<br>comp3=%{z}<extra></extra>",
         "legendgroup": "877",
         "marker": {
          "color": "rgb(118, 78, 159)",
          "line": {
           "color": "black",
           "width": 0.1
          },
          "opacity": 0.8,
          "size": 4,
          "symbol": "circle"
         },
         "mode": "markers",
         "name": "877",
         "scene": "scene",
         "showlegend": true,
         "type": "scatter3d",
         "x": [
          -1.65738119212638
         ],
         "y": [
          0.555516127810049
         ],
         "z": [
          0.007107826697336969
         ]
        },
        {
         "hovertemplate": "cluster=878<br>comp1=%{x}<br>comp2=%{y}<br>comp3=%{z}<extra></extra>",
         "legendgroup": "878",
         "marker": {
          "color": "rgb(237, 100, 90)",
          "line": {
           "color": "black",
           "width": 0.1
          },
          "opacity": 0.8,
          "size": 4,
          "symbol": "circle"
         },
         "mode": "markers",
         "name": "878",
         "scene": "scene",
         "showlegend": true,
         "type": "scatter3d",
         "x": [
          -1.656794127654772
         ],
         "y": [
          0.5616684854410291
         ],
         "z": [
          0.006735911563733443
         ]
        },
        {
         "hovertemplate": "cluster=879<br>comp1=%{x}<br>comp2=%{y}<br>comp3=%{z}<extra></extra>",
         "legendgroup": "879",
         "marker": {
          "color": "rgb(165, 170, 153)",
          "line": {
           "color": "black",
           "width": 0.1
          },
          "opacity": 0.8,
          "size": 4,
          "symbol": "circle"
         },
         "mode": "markers",
         "name": "879",
         "scene": "scene",
         "showlegend": true,
         "type": "scatter3d",
         "x": [
          -1.6561870799017142
         ],
         "y": [
          0.5678406403454462
         ],
         "z": [
          0.006360914451706853
         ]
        },
        {
         "hovertemplate": "cluster=880<br>comp1=%{x}<br>comp2=%{y}<br>comp3=%{z}<extra></extra>",
         "legendgroup": "880",
         "marker": {
          "color": "rgb(229, 134, 6)",
          "line": {
           "color": "black",
           "width": 0.1
          },
          "opacity": 0.8,
          "size": 4,
          "symbol": "circle"
         },
         "mode": "markers",
         "name": "880",
         "scene": "scene",
         "showlegend": true,
         "type": "scatter3d",
         "x": [
          -1.655560035615019
         ],
         "y": [
          0.5740326087302077
         ],
         "z": [
          0.005982828401268229
         ]
        },
        {
         "hovertemplate": "cluster=881<br>comp1=%{x}<br>comp2=%{y}<br>comp3=%{z}<extra></extra>",
         "legendgroup": "881",
         "marker": {
          "color": "rgb(93, 105, 177)",
          "line": {
           "color": "black",
           "width": 0.1
          },
          "opacity": 0.8,
          "size": 4,
          "symbol": "circle"
         },
         "mode": "markers",
         "name": "881",
         "scene": "scene",
         "showlegend": true,
         "type": "scatter3d",
         "x": [
          -1.6549129815564385
         ],
         "y": [
          0.5802444067835354
         ],
         "z": [
          0.005601646460079016
         ]
        },
        {
         "hovertemplate": "cluster=882<br>comp1=%{x}<br>comp2=%{y}<br>comp3=%{z}<extra></extra>",
         "legendgroup": "882",
         "marker": {
          "color": "rgb(82, 188, 163)",
          "line": {
           "color": "black",
           "width": 0.1
          },
          "opacity": 0.8,
          "size": 4,
          "symbol": "circle"
         },
         "mode": "markers",
         "name": "882",
         "scene": "scene",
         "showlegend": true,
         "type": "scatter3d",
         "x": [
          -1.6542459045016715
         ],
         "y": [
          0.5864760506749381
         ],
         "z": [
          0.005217361683465174
         ]
        },
        {
         "hovertemplate": "cluster=883<br>comp1=%{x}<br>comp2=%{y}<br>comp3=%{z}<extra></extra>",
         "legendgroup": "883",
         "marker": {
          "color": "rgb(153, 201, 69)",
          "line": {
           "color": "black",
           "width": 0.1
          },
          "opacity": 0.8,
          "size": 4,
          "symbol": "circle"
         },
         "mode": "markers",
         "name": "883",
         "scene": "scene",
         "showlegend": true,
         "type": "scatter3d",
         "x": [
          -1.653558791240369
         ],
         "y": [
          0.5927275565552044
         ],
         "z": [
          0.004829967134427755
         ]
        },
        {
         "hovertemplate": "cluster=884<br>comp1=%{x}<br>comp2=%{y}<br>comp3=%{z}<extra></extra>",
         "legendgroup": "884",
         "marker": {
          "color": "rgb(204, 97, 176)",
          "line": {
           "color": "black",
           "width": 0.1
          },
          "opacity": 0.8,
          "size": 4,
          "symbol": "circle"
         },
         "mode": "markers",
         "name": "884",
         "scene": "scene",
         "showlegend": true,
         "type": "scatter3d",
         "x": [
          -1.6528516285761587
         ],
         "y": [
          0.5989989405563833
         ],
         "z": [
          0.0044394558836396
         ]
        },
        {
         "hovertemplate": "cluster=885<br>comp1=%{x}<br>comp2=%{y}<br>comp3=%{z}<extra></extra>",
         "legendgroup": "885",
         "marker": {
          "color": "rgb(36, 121, 108)",
          "line": {
           "color": "black",
           "width": 0.1
          },
          "opacity": 0.8,
          "size": 4,
          "symbol": "circle"
         },
         "mode": "markers",
         "name": "885",
         "scene": "scene",
         "showlegend": true,
         "type": "scatter3d",
         "x": [
          -1.6521244033266471
         ],
         "y": [
          0.6052902187917695
         ],
         "z": [
          0.004045821009455958
         ]
        },
        {
         "hovertemplate": "cluster=886<br>comp1=%{x}<br>comp2=%{y}<br>comp3=%{z}<extra></extra>",
         "legendgroup": "886",
         "marker": {
          "color": "rgb(218, 165, 27)",
          "line": {
           "color": "black",
           "width": 0.1
          },
          "opacity": 0.8,
          "size": 4,
          "symbol": "circle"
         },
         "mode": "markers",
         "name": "886",
         "scene": "scene",
         "showlegend": true,
         "type": "scatter3d",
         "x": [
          -1.6513771023234576
         ],
         "y": [
          0.6116014073558894
         ],
         "z": [
          0.003649055597899517
         ]
        },
        {
         "hovertemplate": "cluster=887<br>comp1=%{x}<br>comp2=%{y}<br>comp3=%{z}<extra></extra>",
         "legendgroup": "887",
         "marker": {
          "color": "rgb(47, 138, 196)",
          "line": {
           "color": "black",
           "width": 0.1
          },
          "opacity": 0.8,
          "size": 4,
          "symbol": "circle"
         },
         "mode": "markers",
         "name": "887",
         "scene": "scene",
         "showlegend": true,
         "type": "scatter3d",
         "x": [
          -1.650609712412171
         ],
         "y": [
          0.6179325223244736
         ],
         "z": [
          0.0032491527427434054
         ]
        },
        {
         "hovertemplate": "cluster=888<br>comp1=%{x}<br>comp2=%{y}<br>comp3=%{z}<extra></extra>",
         "legendgroup": "888",
         "marker": {
          "color": "rgb(118, 78, 159)",
          "line": {
           "color": "black",
           "width": 0.1
          },
          "opacity": 0.8,
          "size": 4,
          "symbol": "circle"
         },
         "mode": "markers",
         "name": "888",
         "scene": "scene",
         "showlegend": true,
         "type": "scatter3d",
         "x": [
          -1.649822220452442
         ],
         "y": [
          0.624283579754459
         ],
         "z": [
          0.002846105545407049
         ]
        },
        {
         "hovertemplate": "cluster=889<br>comp1=%{x}<br>comp2=%{y}<br>comp3=%{z}<extra></extra>",
         "legendgroup": "889",
         "marker": {
          "color": "rgb(237, 100, 90)",
          "line": {
           "color": "black",
           "width": 0.1
          },
          "opacity": 0.8,
          "size": 4,
          "symbol": "circle"
         },
         "mode": "markers",
         "name": "889",
         "scene": "scene",
         "showlegend": true,
         "type": "scatter3d",
         "x": [
          -1.6490146133179142
         ],
         "y": [
          0.6306545956839531
         ],
         "z": [
          0.0024399071150602333
         ]
        },
        {
         "hovertemplate": "cluster=890<br>comp1=%{x}<br>comp2=%{y}<br>comp3=%{z}<extra></extra>",
         "legendgroup": "890",
         "marker": {
          "color": "rgb(165, 170, 153)",
          "line": {
           "color": "black",
           "width": 0.1
          },
          "opacity": 0.8,
          "size": 4,
          "symbol": "circle"
         },
         "mode": "markers",
         "name": "890",
         "scene": "scene",
         "showlegend": true,
         "type": "scatter3d",
         "x": [
          -1.6481868778962971
         ],
         "y": [
          0.6370455861322433
         ],
         "z": [
          0.0020305505685595704
         ]
        },
        {
         "hovertemplate": "cluster=891<br>comp1=%{x}<br>comp2=%{y}<br>comp3=%{z}<extra></extra>",
         "legendgroup": "891",
         "marker": {
          "color": "rgb(229, 134, 6)",
          "line": {
           "color": "black",
           "width": 0.1
          },
          "opacity": 0.8,
          "size": 4,
          "symbol": "circle"
         },
         "mode": "markers",
         "name": "891",
         "scene": "scene",
         "showlegend": true,
         "type": "scatter3d",
         "x": [
          -1.647339001089335
         ],
         "y": [
          0.6434565670997476
         ],
         "z": [
          0.0016180290305199453
         ]
        },
        {
         "hovertemplate": "cluster=892<br>comp1=%{x}<br>comp2=%{y}<br>comp3=%{z}<extra></extra>",
         "legendgroup": "892",
         "marker": {
          "color": "rgb(93, 105, 177)",
          "line": {
           "color": "black",
           "width": 0.1
          },
          "opacity": 0.8,
          "size": 4,
          "symbol": "circle"
         },
         "mode": "markers",
         "name": "892",
         "scene": "scene",
         "showlegend": true,
         "type": "scatter3d",
         "x": [
          -1.6464709698128506
         ],
         "y": [
          0.6498875545680323
         ],
         "z": [
          0.0012023356332594131
         ]
        },
        {
         "hovertemplate": "cluster=893<br>comp1=%{x}<br>comp2=%{y}<br>comp3=%{z}<extra></extra>",
         "legendgroup": "893",
         "marker": {
          "color": "rgb(82, 188, 163)",
          "line": {
           "color": "black",
           "width": 0.1
          },
          "opacity": 0.8,
          "size": 4,
          "symbol": "circle"
         },
         "mode": "markers",
         "name": "893",
         "scene": "scene",
         "showlegend": true,
         "type": "scatter3d",
         "x": [
          -1.6455827709967419
         ],
         "y": [
          0.6563385644997717
         ],
         "z": [
          0.0007834635168413324
         ]
        },
        {
         "hovertemplate": "cluster=894<br>comp1=%{x}<br>comp2=%{y}<br>comp3=%{z}<extra></extra>",
         "legendgroup": "894",
         "marker": {
          "color": "rgb(153, 201, 69)",
          "line": {
           "color": "black",
           "width": 0.1
          },
          "opacity": 0.8,
          "size": 4,
          "symbol": "circle"
         },
         "mode": "markers",
         "name": "894",
         "scene": "scene",
         "showlegend": true,
         "type": "scatter3d",
         "x": [
          -1.644674391584981
         ],
         "y": [
          0.6628096128387455
         ],
         "z": [
          0.0003614058290922543
         ]
        },
        {
         "hovertemplate": "cluster=895<br>comp1=%{x}<br>comp2=%{y}<br>comp3=%{z}<extra></extra>",
         "legendgroup": "895",
         "marker": {
          "color": "rgb(204, 97, 176)",
          "line": {
           "color": "black",
           "width": 0.1
          },
          "opacity": 0.8,
          "size": 4,
          "symbol": "circle"
         },
         "mode": "markers",
         "name": "895",
         "scene": "scene",
         "showlegend": true,
         "type": "scatter3d",
         "x": [
          -1.643745818535664
         ],
         "y": [
          0.6693007155098157
         ],
         "z": [
          -0.00006384427444275554
         ]
        },
        {
         "hovertemplate": "cluster=896<br>comp1=%{x}<br>comp2=%{y}<br>comp3=%{z}<extra></extra>",
         "legendgroup": "896",
         "marker": {
          "color": "rgb(36, 121, 108)",
          "line": {
           "color": "black",
           "width": 0.1
          },
          "opacity": 0.8,
          "size": 4,
          "symbol": "circle"
         },
         "mode": "markers",
         "name": "896",
         "scene": "scene",
         "showlegend": true,
         "type": "scatter3d",
         "x": [
          -1.6427970388209676
         ],
         "y": [
          0.6758118884189153
         ],
         "z": [
          -0.0004922936304140723
         ]
        },
        {
         "hovertemplate": "cluster=897<br>comp1=%{x}<br>comp2=%{y}<br>comp3=%{z}<extra></extra>",
         "legendgroup": "897",
         "marker": {
          "color": "rgb(218, 165, 27)",
          "line": {
           "color": "black",
           "width": 0.1
          },
          "opacity": 0.8,
          "size": 4,
          "symbol": "circle"
         },
         "mode": "markers",
         "name": "897",
         "scene": "scene",
         "showlegend": true,
         "type": "scatter3d",
         "x": [
          -1.64182803942723
         ],
         "y": [
          0.682343147453029
         ],
         "z": [
          -0.0009239490677595764
         ]
        },
        {
         "hovertemplate": "cluster=898<br>comp1=%{x}<br>comp2=%{y}<br>comp3=%{z}<extra></extra>",
         "legendgroup": "898",
         "marker": {
          "color": "rgb(47, 138, 196)",
          "line": {
           "color": "black",
           "width": 0.1
          },
          "opacity": 0.8,
          "size": 4,
          "symbol": "circle"
         },
         "mode": "markers",
         "name": "898",
         "scene": "scene",
         "showlegend": true,
         "type": "scatter3d",
         "x": [
          -1.6408388073548954
         ],
         "y": [
          0.688894508480186
         ],
         "z": [
          -0.0013588174076085968
         ]
        },
        {
         "hovertemplate": "cluster=899<br>comp1=%{x}<br>comp2=%{y}<br>comp3=%{z}<extra></extra>",
         "legendgroup": "899",
         "marker": {
          "color": "rgb(118, 78, 159)",
          "line": {
           "color": "black",
           "width": 0.1
          },
          "opacity": 0.8,
          "size": 4,
          "symbol": "circle"
         },
         "mode": "markers",
         "name": "899",
         "scene": "scene",
         "showlegend": true,
         "type": "scatter3d",
         "x": [
          -1.639829329618553
         ],
         "y": [
          0.6954659873494248
         ],
         "z": [
          -0.001796905463305789
         ]
        },
        {
         "hovertemplate": "cluster=900<br>comp1=%{x}<br>comp2=%{y}<br>comp3=%{z}<extra></extra>",
         "legendgroup": "900",
         "marker": {
          "color": "rgb(237, 100, 90)",
          "line": {
           "color": "black",
           "width": 0.1
          },
          "opacity": 0.8,
          "size": 4,
          "symbol": "circle"
         },
         "mode": "markers",
         "name": "900",
         "scene": "scene",
         "showlegend": true,
         "type": "scatter3d",
         "x": [
          -1.6387995932469668
         ],
         "y": [
          0.7020575998908011
         ],
         "z": [
          -0.002238220040428411
         ]
        },
        {
         "hovertemplate": "cluster=901<br>comp1=%{x}<br>comp2=%{y}<br>comp3=%{z}<extra></extra>",
         "legendgroup": "901",
         "marker": {
          "color": "rgb(165, 170, 153)",
          "line": {
           "color": "black",
           "width": 0.1
          },
          "opacity": 0.8,
          "size": 4,
          "symbol": "circle"
         },
         "mode": "markers",
         "name": "901",
         "scene": "scene",
         "showlegend": true,
         "type": "scatter3d",
         "x": [
          -1.63774958528306
         ],
         "y": [
          0.7086693619153531
         ],
         "z": [
          -0.002682767936752153
         ]
        },
        {
         "hovertemplate": "cluster=902<br>comp1=%{x}<br>comp2=%{y}<br>comp3=%{z}<extra></extra>",
         "legendgroup": "902",
         "marker": {
          "color": "rgb(229, 134, 6)",
          "line": {
           "color": "black",
           "width": 0.1
          },
          "opacity": 0.8,
          "size": 4,
          "symbol": "circle"
         },
         "mode": "markers",
         "name": "902",
         "scene": "scene",
         "showlegend": true,
         "type": "scatter3d",
         "x": [
          -1.6366792927839375
         ],
         "y": [
          0.7153012892151025
         ],
         "z": [
          -0.003130555942255137
         ]
        },
        {
         "hovertemplate": "cluster=903<br>comp1=%{x}<br>comp2=%{y}<br>comp3=%{z}<extra></extra>",
         "legendgroup": "903",
         "marker": {
          "color": "rgb(93, 105, 177)",
          "line": {
           "color": "black",
           "width": 0.1
          },
          "opacity": 0.8,
          "size": 4,
          "symbol": "circle"
         },
         "mode": "markers",
         "name": "903",
         "scene": "scene",
         "showlegend": true,
         "type": "scatter3d",
         "x": [
          -1.6355887028209115
         ],
         "y": [
          0.7219533975630197
         ],
         "z": [
          -0.003581590839113053
         ]
        },
        {
         "hovertemplate": "cluster=904<br>comp1=%{x}<br>comp2=%{y}<br>comp3=%{z}<extra></extra>",
         "legendgroup": "904",
         "marker": {
          "color": "rgb(82, 188, 163)",
          "line": {
           "color": "black",
           "width": 0.1
          },
          "opacity": 0.8,
          "size": 4,
          "symbol": "circle"
         },
         "mode": "markers",
         "name": "904",
         "scene": "scene",
         "showlegend": true,
         "type": "scatter3d",
         "x": [
          -1.6344778024794828
         ],
         "y": [
          0.7286257027130252
         ],
         "z": [
          -0.00403587940168213
         ]
        },
        {
         "hovertemplate": "cluster=905<br>comp1=%{x}<br>comp2=%{y}<br>comp3=%{z}<extra></extra>",
         "legendgroup": "905",
         "marker": {
          "color": "rgb(153, 201, 69)",
          "line": {
           "color": "black",
           "width": 0.1
          },
          "opacity": 0.8,
          "size": 4,
          "symbol": "circle"
         },
         "mode": "markers",
         "name": "905",
         "scene": "scene",
         "showlegend": true,
         "type": "scatter3d",
         "x": [
          -1.6333465788593573
         ],
         "y": [
          0.7353182203999565
         ],
         "z": [
          -0.0044934283964728145
         ]
        },
        {
         "hovertemplate": "cluster=906<br>comp1=%{x}<br>comp2=%{y}<br>comp3=%{z}<extra></extra>",
         "legendgroup": "906",
         "marker": {
          "color": "rgb(204, 97, 176)",
          "line": {
           "color": "black",
           "width": 0.1
          },
          "opacity": 0.8,
          "size": 4,
          "symbol": "circle"
         },
         "mode": "markers",
         "name": "906",
         "scene": "scene",
         "showlegend": true,
         "type": "scatter3d",
         "x": [
          -1.6321950190744883
         ],
         "y": [
          0.7420309663395778
         ],
         "z": [
          -0.004954244582204899
         ]
        },
        {
         "hovertemplate": "cluster=907<br>comp1=%{x}<br>comp2=%{y}<br>comp3=%{z}<extra></extra>",
         "legendgroup": "907",
         "marker": {
          "color": "rgb(36, 121, 108)",
          "line": {
           "color": "black",
           "width": 0.1
          },
          "opacity": 0.8,
          "size": 4,
          "symbol": "circle"
         },
         "mode": "markers",
         "name": "907",
         "scene": "scene",
         "showlegend": true,
         "type": "scatter3d",
         "x": [
          -1.6310231102530655
         ],
         "y": [
          0.74876395622854
         ],
         "z": [
          -0.005418334709752725
         ]
        },
        {
         "hovertemplate": "cluster=908<br>comp1=%{x}<br>comp2=%{y}<br>comp3=%{z}<extra></extra>",
         "legendgroup": "908",
         "marker": {
          "color": "rgb(218, 165, 27)",
          "line": {
           "color": "black",
           "width": 0.1
          },
          "opacity": 0.8,
          "size": 4,
          "symbol": "circle"
         },
         "mode": "markers",
         "name": "908",
         "scene": "scene",
         "showlegend": true,
         "type": "scatter3d",
         "x": [
          -1.6298308395375167
         ],
         "y": [
          0.7555172057443743
         ],
         "z": [
          -0.005885705522134603
         ]
        },
        {
         "hovertemplate": "cluster=909<br>comp1=%{x}<br>comp2=%{y}<br>comp3=%{z}<extra></extra>",
         "legendgroup": "909",
         "marker": {
          "color": "rgb(47, 138, 196)",
          "line": {
           "color": "black",
           "width": 0.1
          },
          "opacity": 0.8,
          "size": 4,
          "symbol": "circle"
         },
         "mode": "markers",
         "name": "909",
         "scene": "scene",
         "showlegend": true,
         "type": "scatter3d",
         "x": [
          -1.6286181940845519
         ],
         "y": [
          0.7622907305454737
         ],
         "z": [
          -0.00635636375454077
         ]
        },
        {
         "hovertemplate": "cluster=910<br>comp1=%{x}<br>comp2=%{y}<br>comp3=%{z}<extra></extra>",
         "legendgroup": "910",
         "marker": {
          "color": "rgb(118, 78, 159)",
          "line": {
           "color": "black",
           "width": 0.1
          },
          "opacity": 0.8,
          "size": 4,
          "symbol": "circle"
         },
         "mode": "markers",
         "name": "910",
         "scene": "scene",
         "showlegend": true,
         "type": "scatter3d",
         "x": [
          -1.6273851610651378
         ],
         "y": [
          0.7690845462710879
         ],
         "z": [
          -0.00683031613429548
         ]
        },
        {
         "hovertemplate": "cluster=911<br>comp1=%{x}<br>comp2=%{y}<br>comp3=%{z}<extra></extra>",
         "legendgroup": "911",
         "marker": {
          "color": "rgb(237, 100, 90)",
          "line": {
           "color": "black",
           "width": 0.1
          },
          "opacity": 0.8,
          "size": 4,
          "symbol": "circle"
         },
         "mode": "markers",
         "name": "911",
         "scene": "scene",
         "showlegend": true,
         "type": "scatter3d",
         "x": [
          -1.6261317276645275
         ],
         "y": [
          0.7758986685412932
         ],
         "z": [
          -0.007307569380856978
         ]
        },
        {
         "hovertemplate": "cluster=912<br>comp1=%{x}<br>comp2=%{y}<br>comp3=%{z}<extra></extra>",
         "legendgroup": "912",
         "marker": {
          "color": "rgb(165, 170, 153)",
          "line": {
           "color": "black",
           "width": 0.1
          },
          "opacity": 0.8,
          "size": 4,
          "symbol": "circle"
         },
         "mode": "markers",
         "name": "912",
         "scene": "scene",
         "showlegend": true,
         "type": "scatter3d",
         "x": [
          -1.6248578810822718
         ],
         "y": [
          0.7827331129569879
         ],
         "z": [
          -0.007788130205820104
         ]
        },
        {
         "hovertemplate": "cluster=913<br>comp1=%{x}<br>comp2=%{y}<br>comp3=%{z}<extra></extra>",
         "legendgroup": "913",
         "marker": {
          "color": "rgb(229, 134, 6)",
          "line": {
           "color": "black",
           "width": 0.1
          },
          "opacity": 0.8,
          "size": 4,
          "symbol": "circle"
         },
         "mode": "markers",
         "name": "913",
         "scene": "scene",
         "showlegend": true,
         "type": "scatter3d",
         "x": [
          -1.6235636085322365
         ],
         "y": [
          0.7895878950998696
         ],
         "z": [
          -0.008272005312907591
         ]
        },
        {
         "hovertemplate": "cluster=914<br>comp1=%{x}<br>comp2=%{y}<br>comp3=%{z}<extra></extra>",
         "legendgroup": "914",
         "marker": {
          "color": "rgb(93, 105, 177)",
          "line": {
           "color": "black",
           "width": 0.1
          },
          "opacity": 0.8,
          "size": 4,
          "symbol": "circle"
         },
         "mode": "markers",
         "name": "914",
         "scene": "scene",
         "showlegend": true,
         "type": "scatter3d",
         "x": [
          -1.6222488972425855
         ],
         "y": [
          0.796463030532423
         ],
         "z": [
          -0.008759201397942172
         ]
        },
        {
         "hovertemplate": "cluster=915<br>comp1=%{x}<br>comp2=%{y}<br>comp3=%{z}<extra></extra>",
         "legendgroup": "915",
         "marker": {
          "color": "rgb(82, 188, 163)",
          "line": {
           "color": "black",
           "width": 0.1
          },
          "opacity": 0.8,
          "size": 4,
          "symbol": "circle"
         },
         "mode": "markers",
         "name": "915",
         "scene": "scene",
         "showlegend": true,
         "type": "scatter3d",
         "x": [
          -1.6209137344558495
         ],
         "y": [
          0.8033585347979003
         ],
         "z": [
          -0.009249725148889472
         ]
        },
        {
         "hovertemplate": "cluster=916<br>comp1=%{x}<br>comp2=%{y}<br>comp3=%{z}<extra></extra>",
         "legendgroup": "916",
         "marker": {
          "color": "rgb(153, 201, 69)",
          "line": {
           "color": "black",
           "width": 0.1
          },
          "opacity": 0.8,
          "size": 4,
          "symbol": "circle"
         },
         "mode": "markers",
         "name": "916",
         "scene": "scene",
         "showlegend": true,
         "type": "scatter3d",
         "x": [
          -1.6195581074288627
         ],
         "y": [
          0.8102744234203179
         ],
         "z": [
          -0.009743583245785848
         ]
        },
        {
         "hovertemplate": "cluster=917<br>comp1=%{x}<br>comp2=%{y}<br>comp3=%{z}<extra></extra>",
         "legendgroup": "917",
         "marker": {
          "color": "rgb(204, 97, 176)",
          "line": {
           "color": "black",
           "width": 0.1
          },
          "opacity": 0.8,
          "size": 4,
          "symbol": "circle"
         },
         "mode": "markers",
         "name": "917",
         "scene": "scene",
         "showlegend": true,
         "type": "scatter3d",
         "x": [
          -1.618182003432838
         ],
         "y": [
          0.8172107119044216
         ],
         "z": [
          -0.01024078236078524
         ]
        },
        {
         "hovertemplate": "cluster=918<br>comp1=%{x}<br>comp2=%{y}<br>comp3=%{z}<extra></extra>",
         "legendgroup": "918",
         "marker": {
          "color": "rgb(36, 121, 108)",
          "line": {
           "color": "black",
           "width": 0.1
          },
          "opacity": 0.8,
          "size": 4,
          "symbol": "circle"
         },
         "mode": "markers",
         "name": "918",
         "scene": "scene",
         "showlegend": true,
         "type": "scatter3d",
         "x": [
          -1.6167854097533338
         ],
         "y": [
          0.8241674157356872
         ],
         "z": [
          -0.0107413291581164
         ]
        },
        {
         "hovertemplate": "cluster=919<br>comp1=%{x}<br>comp2=%{y}<br>comp3=%{z}<extra></extra>",
         "legendgroup": "919",
         "marker": {
          "color": "rgb(218, 165, 27)",
          "line": {
           "color": "black",
           "width": 0.1
          },
          "opacity": 0.8,
          "size": 4,
          "symbol": "circle"
         },
         "mode": "markers",
         "name": "919",
         "scene": "scene",
         "showlegend": true,
         "type": "scatter3d",
         "x": [
          -1.6153683136903092
         ],
         "y": [
          0.8311445503802958
         ],
         "z": [
          -0.01124523029411175
         ]
        },
        {
         "hovertemplate": "cluster=920<br>comp1=%{x}<br>comp2=%{y}<br>comp3=%{z}<extra></extra>",
         "legendgroup": "920",
         "marker": {
          "color": "rgb(47, 138, 196)",
          "line": {
           "color": "black",
           "width": 0.1
          },
          "opacity": 0.8,
          "size": 4,
          "symbol": "circle"
         },
         "mode": "markers",
         "name": "920",
         "scene": "scene",
         "showlegend": true,
         "type": "scatter3d",
         "x": [
          -1.6139307025580962
         ],
         "y": [
          0.8381421312851337
         ],
         "z": [
          -0.01175249241718116
         ]
        },
        {
         "hovertemplate": "cluster=921<br>comp1=%{x}<br>comp2=%{y}<br>comp3=%{z}<extra></extra>",
         "legendgroup": "921",
         "marker": {
          "color": "rgb(118, 78, 159)",
          "line": {
           "color": "black",
           "width": 0.1
          },
          "opacity": 0.8,
          "size": 4,
          "symbol": "circle"
         },
         "mode": "markers",
         "name": "921",
         "scene": "scene",
         "showlegend": true,
         "type": "scatter3d",
         "x": [
          -1.6124725636854085
         ],
         "y": [
          0.8451601738777441
         ],
         "z": [
          -0.012263122167760735
         ]
        },
        {
         "hovertemplate": "cluster=922<br>comp1=%{x}<br>comp2=%{y}<br>comp3=%{z}<extra></extra>",
         "legendgroup": "922",
         "marker": {
          "color": "rgb(237, 100, 90)",
          "line": {
           "color": "black",
           "width": 0.1
          },
          "opacity": 0.8,
          "size": 4,
          "symbol": "circle"
         },
         "mode": "markers",
         "name": "922",
         "scene": "scene",
         "showlegend": true,
         "type": "scatter3d",
         "x": [
          -1.6109938844154086
         ],
         "y": [
          0.8521986935663532
         ],
         "z": [
          -0.012777126178417678
         ]
        },
        {
         "hovertemplate": "cluster=923<br>comp1=%{x}<br>comp2=%{y}<br>comp3=%{z}<extra></extra>",
         "legendgroup": "923",
         "marker": {
          "color": "rgb(165, 170, 153)",
          "line": {
           "color": "black",
           "width": 0.1
          },
          "opacity": 0.8,
          "size": 4,
          "symbol": "circle"
         },
         "mode": "markers",
         "name": "923",
         "scene": "scene",
         "showlegend": true,
         "type": "scatter3d",
         "x": [
          -1.6094946521056448
         ],
         "y": [
          0.8592577057398187
         ],
         "z": [
          -0.013294511073717492
         ]
        },
        {
         "hovertemplate": "cluster=924<br>comp1=%{x}<br>comp2=%{y}<br>comp3=%{z}<extra></extra>",
         "legendgroup": "924",
         "marker": {
          "color": "rgb(229, 134, 6)",
          "line": {
           "color": "black",
           "width": 0.1
          },
          "opacity": 0.8,
          "size": 4,
          "symbol": "circle"
         },
         "mode": "markers",
         "name": "924",
         "scene": "scene",
         "showlegend": true,
         "type": "scatter3d",
         "x": [
          -1.607974854128123
         ],
         "y": [
          0.8663372257676402
         ],
         "z": [
          -0.013815283470315586
         ]
        },
        {
         "hovertemplate": "cluster=925<br>comp1=%{x}<br>comp2=%{y}<br>comp3=%{z}<extra></extra>",
         "legendgroup": "925",
         "marker": {
          "color": "rgb(93, 105, 177)",
          "line": {
           "color": "black",
           "width": 0.1
          },
          "opacity": 0.8,
          "size": 4,
          "symbol": "circle"
         },
         "mode": "markers",
         "name": "925",
         "scene": "scene",
         "showlegend": true,
         "type": "scatter3d",
         "x": [
          -1.6064344778692694
         ],
         "y": [
          0.8734372689999303
         ],
         "z": [
          -0.014339449976880806
         ]
        },
        {
         "hovertemplate": "cluster=926<br>comp1=%{x}<br>comp2=%{y}<br>comp3=%{z}<extra></extra>",
         "legendgroup": "926",
         "marker": {
          "color": "rgb(82, 188, 163)",
          "line": {
           "color": "black",
           "width": 0.1
          },
          "opacity": 0.8,
          "size": 4,
          "symbol": "circle"
         },
         "mode": "markers",
         "name": "926",
         "scene": "scene",
         "showlegend": true,
         "type": "scatter3d",
         "x": [
          -1.6048735107299879
         ],
         "y": [
          0.8805578507674031
         ],
         "z": [
          -0.01486701719414465
         ]
        },
        {
         "hovertemplate": "cluster=927<br>comp1=%{x}<br>comp2=%{y}<br>comp3=%{z}<extra></extra>",
         "legendgroup": "927",
         "marker": {
          "color": "rgb(153, 201, 69)",
          "line": {
           "color": "black",
           "width": 0.1
          },
          "opacity": 0.8,
          "size": 4,
          "symbol": "circle"
         },
         "mode": "markers",
         "name": "927",
         "scene": "scene",
         "showlegend": true,
         "type": "scatter3d",
         "x": [
          -1.6032919401256365
         ],
         "y": [
          0.887698986381354
         ],
         "z": [
          -0.01539799171484935
         ]
        },
        {
         "hovertemplate": "cluster=928<br>comp1=%{x}<br>comp2=%{y}<br>comp3=%{z}<extra></extra>",
         "legendgroup": "928",
         "marker": {
          "color": "rgb(204, 97, 176)",
          "line": {
           "color": "black",
           "width": 0.1
          },
          "opacity": 0.8,
          "size": 4,
          "symbol": "circle"
         },
         "mode": "markers",
         "name": "928",
         "scene": "scene",
         "showlegend": true,
         "type": "scatter3d",
         "x": [
          -1.6016897534860681
         ],
         "y": [
          0.8948606911336505
         ],
         "z": [
          -0.015932380123780815
         ]
        },
        {
         "hovertemplate": "cluster=929<br>comp1=%{x}<br>comp2=%{y}<br>comp3=%{z}<extra></extra>",
         "legendgroup": "929",
         "marker": {
          "color": "rgb(36, 121, 108)",
          "line": {
           "color": "black",
           "width": 0.1
          },
          "opacity": 0.8,
          "size": 4,
          "symbol": "circle"
         },
         "mode": "markers",
         "name": "929",
         "scene": "scene",
         "showlegend": true,
         "type": "scatter3d",
         "x": [
          -1.600066938255584
         ],
         "y": [
          0.9020429802967203
         ],
         "z": [
          -0.01647018899770401
         ]
        },
        {
         "hovertemplate": "cluster=930<br>comp1=%{x}<br>comp2=%{y}<br>comp3=%{z}<extra></extra>",
         "legendgroup": "930",
         "marker": {
          "color": "rgb(218, 165, 27)",
          "line": {
           "color": "black",
           "width": 0.1
          },
          "opacity": 0.8,
          "size": 4,
          "symbol": "circle"
         },
         "mode": "markers",
         "name": "930",
         "scene": "scene",
         "showlegend": true,
         "type": "scatter3d",
         "x": [
          -1.5984234818930403
         ],
         "y": [
          0.9092458691235246
         ],
         "z": [
          -0.01701142490544681
         ]
        },
        {
         "hovertemplate": "cluster=931<br>comp1=%{x}<br>comp2=%{y}<br>comp3=%{z}<extra></extra>",
         "legendgroup": "931",
         "marker": {
          "color": "rgb(47, 138, 196)",
          "line": {
           "color": "black",
           "width": 0.1
          },
          "opacity": 0.8,
          "size": 4,
          "symbol": "circle"
         },
         "mode": "markers",
         "name": "931",
         "scene": "scene",
         "showlegend": true,
         "type": "scatter3d",
         "x": [
          -1.5967593718717557
         ],
         "y": [
          0.916469372847551
         ],
         "z": [
          -0.017556094407790643
         ]
        },
        {
         "hovertemplate": "cluster=932<br>comp1=%{x}<br>comp2=%{y}<br>comp3=%{z}<extra></extra>",
         "legendgroup": "932",
         "marker": {
          "color": "rgb(118, 78, 159)",
          "line": {
           "color": "black",
           "width": 0.1
          },
          "opacity": 0.8,
          "size": 4,
          "symbol": "circle"
         },
         "mode": "markers",
         "name": "932",
         "scene": "scene",
         "showlegend": true,
         "type": "scatter3d",
         "x": [
          -1.5950745956796084
         ],
         "y": [
          0.9237135066827966
         ],
         "z": [
          -0.0181042040575497
         ]
        },
        {
         "hovertemplate": "cluster=933<br>comp1=%{x}<br>comp2=%{y}<br>comp3=%{z}<extra></extra>",
         "legendgroup": "933",
         "marker": {
          "color": "rgb(237, 100, 90)",
          "line": {
           "color": "black",
           "width": 0.1
          },
          "opacity": 0.8,
          "size": 4,
          "symbol": "circle"
         },
         "mode": "markers",
         "name": "933",
         "scene": "scene",
         "showlegend": true,
         "type": "scatter3d",
         "x": [
          -1.593369140818979
         ],
         "y": [
          0.9309782858237505
         ],
         "z": [
          -0.01865576039949603
         ]
        },
        {
         "hovertemplate": "cluster=934<br>comp1=%{x}<br>comp2=%{y}<br>comp3=%{z}<extra></extra>",
         "legendgroup": "934",
         "marker": {
          "color": "rgb(165, 170, 153)",
          "line": {
           "color": "black",
           "width": 0.1
          },
          "opacity": 0.8,
          "size": 4,
          "symbol": "circle"
         },
         "mode": "markers",
         "name": "934",
         "scene": "scene",
         "showlegend": true,
         "type": "scatter3d",
         "x": [
          -1.5916429948068307
         ],
         "y": [
          0.9382637254453846
         ],
         "z": [
          -0.019210769970430357
         ]
        },
        {
         "hovertemplate": "cluster=935<br>comp1=%{x}<br>comp2=%{y}<br>comp3=%{z}<extra></extra>",
         "legendgroup": "935",
         "marker": {
          "color": "rgb(229, 134, 6)",
          "line": {
           "color": "black",
           "width": 0.1
          },
          "opacity": 0.8,
          "size": 4,
          "symbol": "circle"
         },
         "mode": "markers",
         "name": "935",
         "scene": "scene",
         "showlegend": true,
         "type": "scatter3d",
         "x": [
          -1.5898961451746392
         ],
         "y": [
          0.9455698407031256
         ],
         "z": [
          -0.019769239299070006
         ]
        },
        {
         "hovertemplate": "cluster=936<br>comp1=%{x}<br>comp2=%{y}<br>comp3=%{z}<extra></extra>",
         "legendgroup": "936",
         "marker": {
          "color": "rgb(93, 105, 177)",
          "line": {
           "color": "black",
           "width": 0.1
          },
          "opacity": 0.8,
          "size": 4,
          "symbol": "circle"
         },
         "mode": "markers",
         "name": "936",
         "scene": "scene",
         "showlegend": true,
         "type": "scatter3d",
         "x": [
          -1.588128579468491
         ],
         "y": [
          0.9528966467328599
         ],
         "z": [
          -0.020331174906162635
         ]
        },
        {
         "hovertemplate": "cluster=937<br>comp1=%{x}<br>comp2=%{y}<br>comp3=%{z}<extra></extra>",
         "legendgroup": "937",
         "marker": {
          "color": "rgb(82, 188, 163)",
          "line": {
           "color": "black",
           "width": 0.1
          },
          "opacity": 0.8,
          "size": 4,
          "symbol": "circle"
         },
         "mode": "markers",
         "name": "937",
         "scene": "scene",
         "showlegend": true,
         "type": "scatter3d",
         "x": [
          -1.5863402852490194
         ],
         "y": [
          0.9602441586508975
         ],
         "z": [
          -0.02089658330437972
         ]
        },
        {
         "hovertemplate": "cluster=938<br>comp1=%{x}<br>comp2=%{y}<br>comp3=%{z}<extra></extra>",
         "legendgroup": "938",
         "marker": {
          "color": "rgb(153, 201, 69)",
          "line": {
           "color": "black",
           "width": 0.1
          },
          "opacity": 0.8,
          "size": 4,
          "symbol": "circle"
         },
         "mode": "markers",
         "name": "938",
         "scene": "scene",
         "showlegend": true,
         "type": "scatter3d",
         "x": [
          -1.584531250091464
         ],
         "y": [
          0.967612391553969
         ],
         "z": [
          -0.021465470998363285
         ]
        },
        {
         "hovertemplate": "cluster=939<br>comp1=%{x}<br>comp2=%{y}<br>comp3=%{z}<extra></extra>",
         "legendgroup": "939",
         "marker": {
          "color": "rgb(204, 97, 176)",
          "line": {
           "color": "black",
           "width": 0.1
          },
          "opacity": 0.8,
          "size": 4,
          "symbol": "circle"
         },
         "mode": "markers",
         "name": "939",
         "scene": "scene",
         "showlegend": true,
         "type": "scatter3d",
         "x": [
          -1.5827014615856636
         ],
         "y": [
          0.9750013605192092
         ],
         "z": [
          -0.022037844484712042
         ]
        },
        {
         "hovertemplate": "cluster=940<br>comp1=%{x}<br>comp2=%{y}<br>comp3=%{z}<extra></extra>",
         "legendgroup": "940",
         "marker": {
          "color": "rgb(36, 121, 108)",
          "line": {
           "color": "black",
           "width": 0.1
          },
          "opacity": 0.8,
          "size": 4,
          "symbol": "circle"
         },
         "mode": "markers",
         "name": "940",
         "scene": "scene",
         "showlegend": true,
         "type": "scatter3d",
         "x": [
          -1.5808509073360535
         ],
         "y": [
          0.982411080604141
         ],
         "z": [
          -0.0226137102519465
         ]
        },
        {
         "hovertemplate": "cluster=941<br>comp1=%{x}<br>comp2=%{y}<br>comp3=%{z}<extra></extra>",
         "legendgroup": "941",
         "marker": {
          "color": "rgb(218, 165, 27)",
          "line": {
           "color": "black",
           "width": 0.1
          },
          "opacity": 0.8,
          "size": 4,
          "symbol": "circle"
         },
         "mode": "markers",
         "name": "941",
         "scene": "scene",
         "showlegend": true,
         "type": "scatter3d",
         "x": [
          -1.5789795749617113
         ],
         "y": [
          0.9898415668466554
         ],
         "z": [
          -0.023193074780546812
         ]
        },
        {
         "hovertemplate": "cluster=942<br>comp1=%{x}<br>comp2=%{y}<br>comp3=%{z}<extra></extra>",
         "legendgroup": "942",
         "marker": {
          "color": "rgb(47, 138, 196)",
          "line": {
           "color": "black",
           "width": 0.1
          },
          "opacity": 0.8,
          "size": 4,
          "symbol": "circle"
         },
         "mode": "markers",
         "name": "942",
         "scene": "scene",
         "showlegend": true,
         "type": "scatter3d",
         "x": [
          -1.577087452096341
         ],
         "y": [
          0.9972928342650056
         ],
         "z": [
          -0.02377594454291593
         ]
        },
        {
         "hovertemplate": "cluster=943<br>comp1=%{x}<br>comp2=%{y}<br>comp3=%{z}<extra></extra>",
         "legendgroup": "943",
         "marker": {
          "color": "rgb(118, 78, 159)",
          "line": {
           "color": "black",
           "width": 0.1
          },
          "opacity": 0.8,
          "size": 4,
          "symbol": "circle"
         },
         "mode": "markers",
         "name": "943",
         "scene": "scene",
         "showlegend": true,
         "type": "scatter3d",
         "x": [
          -1.5751745263883072
         ],
         "y": [
          1.0047648978577817
         ],
         "z": [
          -0.024362326003387242
         ]
        },
        {
         "hovertemplate": "cluster=944<br>comp1=%{x}<br>comp2=%{y}<br>comp3=%{z}<extra></extra>",
         "legendgroup": "944",
         "marker": {
          "color": "rgb(237, 100, 90)",
          "line": {
           "color": "black",
           "width": 0.1
          },
          "opacity": 0.8,
          "size": 4,
          "symbol": "circle"
         },
         "mode": "markers",
         "name": "944",
         "scene": "scene",
         "showlegend": true,
         "type": "scatter3d",
         "x": [
          -1.573240785500595
         ],
         "y": [
          1.0122577726039093
         ],
         "z": [
          -0.024952225618195312
         ]
        },
        {
         "hovertemplate": "cluster=945<br>comp1=%{x}<br>comp2=%{y}<br>comp3=%{z}<extra></extra>",
         "legendgroup": "945",
         "marker": {
          "color": "rgb(165, 170, 153)",
          "line": {
           "color": "black",
           "width": 0.1
          },
          "opacity": 0.8,
          "size": 4,
          "symbol": "circle"
         },
         "mode": "markers",
         "name": "945",
         "scene": "scene",
         "showlegend": true,
         "type": "scatter3d",
         "x": [
          -1.5712862171108917
         ],
         "y": [
          1.0197714734626164
         ],
         "z": [
          -0.02554564983549721
         ]
        },
        {
         "hovertemplate": "cluster=946<br>comp1=%{x}<br>comp2=%{y}<br>comp3=%{z}<extra></extra>",
         "legendgroup": "946",
         "marker": {
          "color": "rgb(229, 134, 6)",
          "line": {
           "color": "black",
           "width": 0.1
          },
          "opacity": 0.8,
          "size": 4,
          "symbol": "circle"
         },
         "mode": "markers",
         "name": "946",
         "scene": "scene",
         "showlegend": true,
         "type": "scatter3d",
         "x": [
          -1.5693108089115446
         ],
         "y": [
          1.027306015373438
         ],
         "z": [
          -0.02614260509535611
         ]
        },
        {
         "hovertemplate": "cluster=947<br>comp1=%{x}<br>comp2=%{y}<br>comp3=%{z}<extra></extra>",
         "legendgroup": "947",
         "marker": {
          "color": "rgb(93, 105, 177)",
          "line": {
           "color": "black",
           "width": 0.1
          },
          "opacity": 0.8,
          "size": 4,
          "symbol": "circle"
         },
         "mode": "markers",
         "name": "947",
         "scene": "scene",
         "showlegend": true,
         "type": "scatter3d",
         "x": [
          -1.567314548609604
         ],
         "y": [
          1.0348614132561809
         ],
         "z": [
          -0.026743097829732485
         ]
        },
        {
         "hovertemplate": "cluster=948<br>comp1=%{x}<br>comp2=%{y}<br>comp3=%{z}<extra></extra>",
         "legendgroup": "948",
         "marker": {
          "color": "rgb(82, 188, 163)",
          "line": {
           "color": "black",
           "width": 0.1
          },
          "opacity": 0.8,
          "size": 4,
          "symbol": "circle"
         },
         "mode": "markers",
         "name": "948",
         "scene": "scene",
         "showlegend": true,
         "type": "scatter3d",
         "x": [
          -1.5652974239268014
         ],
         "y": [
          1.042437682010926
         ],
         "z": [
          -0.027347134462460003
         ]
        },
        {
         "hovertemplate": "cluster=949<br>comp1=%{x}<br>comp2=%{y}<br>comp3=%{z}<extra></extra>",
         "legendgroup": "949",
         "marker": {
          "color": "rgb(153, 201, 69)",
          "line": {
           "color": "black",
           "width": 0.1
          },
          "opacity": 0.8,
          "size": 4,
          "symbol": "circle"
         },
         "mode": "markers",
         "name": "949",
         "scene": "scene",
         "showlegend": true,
         "type": "scatter3d",
         "x": [
          -1.5632594225996053
         ],
         "y": [
          1.0500348365180074
         ],
         "z": [
          -0.027954721409296654
         ]
        },
        {
         "hovertemplate": "cluster=950<br>comp1=%{x}<br>comp2=%{y}<br>comp3=%{z}<extra></extra>",
         "legendgroup": "950",
         "marker": {
          "color": "rgb(204, 97, 176)",
          "line": {
           "color": "black",
           "width": 0.1
          },
          "opacity": 0.8,
          "size": 4,
          "symbol": "circle"
         },
         "mode": "markers",
         "name": "950",
         "scene": "scene",
         "showlegend": true,
         "type": "scatter3d",
         "x": [
          -1.5612005323791907
         ],
         "y": [
          1.05765289163799
         ],
         "z": [
          -0.028565865077841274
         ]
        },
        {
         "hovertemplate": "cluster=951<br>comp1=%{x}<br>comp2=%{y}<br>comp3=%{z}<extra></extra>",
         "legendgroup": "951",
         "marker": {
          "color": "rgb(36, 121, 108)",
          "line": {
           "color": "black",
           "width": 0.1
          },
          "opacity": 0.8,
          "size": 4,
          "symbol": "circle"
         },
         "mode": "markers",
         "name": "951",
         "scene": "scene",
         "showlegend": true,
         "type": "scatter3d",
         "x": [
          -1.5591207410314618
         ],
         "y": [
          1.0652918622116632
         ],
         "z": [
          -0.029180571867576187
         ]
        },
        {
         "hovertemplate": "cluster=952<br>comp1=%{x}<br>comp2=%{y}<br>comp3=%{z}<extra></extra>",
         "legendgroup": "952",
         "marker": {
          "color": "rgb(218, 165, 27)",
          "line": {
           "color": "black",
           "width": 0.1
          },
          "opacity": 0.8,
          "size": 4,
          "symbol": "circle"
         },
         "mode": "markers",
         "name": "952",
         "scene": "scene",
         "showlegend": true,
         "type": "scatter3d",
         "x": [
          -1.5570200363370803
         ],
         "y": [
          1.0729517630600316
         ],
         "z": [
          -0.0297988481698588
         ]
        },
        {
         "hovertemplate": "cluster=953<br>comp1=%{x}<br>comp2=%{y}<br>comp3=%{z}<extra></extra>",
         "legendgroup": "953",
         "marker": {
          "color": "rgb(47, 138, 196)",
          "line": {
           "color": "black",
           "width": 0.1
          },
          "opacity": 0.8,
          "size": 4,
          "symbol": "circle"
         },
         "mode": "markers",
         "name": "953",
         "scene": "scene",
         "showlegend": true,
         "type": "scatter3d",
         "x": [
          -1.5548984060914426
         ],
         "y": [
          1.080632608984284
         ],
         "z": [
          -0.030420700367881328
         ]
        },
        {
         "hovertemplate": "cluster=954<br>comp1=%{x}<br>comp2=%{y}<br>comp3=%{z}<extra></extra>",
         "legendgroup": "954",
         "marker": {
          "color": "rgb(118, 78, 159)",
          "line": {
           "color": "black",
           "width": 0.1
          },
          "opacity": 0.8,
          "size": 4,
          "symbol": "circle"
         },
         "mode": "markers",
         "name": "954",
         "scene": "scene",
         "showlegend": true,
         "type": "scatter3d",
         "x": [
          -1.552755838104754
         ],
         "y": [
          1.0883344147657843
         ],
         "z": [
          -0.031046134836727628
         ]
        },
        {
         "hovertemplate": "cluster=955<br>comp1=%{x}<br>comp2=%{y}<br>comp3=%{z}<extra></extra>",
         "legendgroup": "955",
         "marker": {
          "color": "rgb(237, 100, 90)",
          "line": {
           "color": "black",
           "width": 0.1
          },
          "opacity": 0.8,
          "size": 4,
          "symbol": "circle"
         },
         "mode": "markers",
         "name": "955",
         "scene": "scene",
         "showlegend": true,
         "type": "scatter3d",
         "x": [
          -1.5505923202019505
         ],
         "y": [
          1.0960571951660678
         ],
         "z": [
          -0.031675157943291496
         ]
        },
        {
         "hovertemplate": "cluster=956<br>comp1=%{x}<br>comp2=%{y}<br>comp3=%{z}<extra></extra>",
         "legendgroup": "956",
         "marker": {
          "color": "rgb(165, 170, 153)",
          "line": {
           "color": "black",
           "width": 0.1
          },
          "opacity": 0.8,
          "size": 4,
          "symbol": "circle"
         },
         "mode": "markers",
         "name": "956",
         "scene": "scene",
         "showlegend": true,
         "type": "scatter3d",
         "x": [
          -1.5484078402227843
         ],
         "y": [
          1.1038009649268128
         ],
         "z": [
          -0.0323077760463265
         ]
        },
        {
         "hovertemplate": "cluster=957<br>comp1=%{x}<br>comp2=%{y}<br>comp3=%{z}<extra></extra>",
         "legendgroup": "957",
         "marker": {
          "color": "rgb(229, 134, 6)",
          "line": {
           "color": "black",
           "width": 0.1
          },
          "opacity": 0.8,
          "size": 4,
          "symbol": "circle"
         },
         "mode": "markers",
         "name": "957",
         "scene": "scene",
         "showlegend": true,
         "type": "scatter3d",
         "x": [
          -1.5462023860217924
         ],
         "y": [
          1.1115657387698308
         ],
         "z": [
          -0.032943995496402076
         ]
        },
        {
         "hovertemplate": "cluster=958<br>comp1=%{x}<br>comp2=%{y}<br>comp3=%{z}<extra></extra>",
         "legendgroup": "958",
         "marker": {
          "color": "rgb(93, 105, 177)",
          "line": {
           "color": "black",
           "width": 0.1
          },
          "opacity": 0.8,
          "size": 4,
          "symbol": "circle"
         },
         "mode": "markers",
         "name": "958",
         "scene": "scene",
         "showlegend": true,
         "type": "scatter3d",
         "x": [
          -1.5439759454683266
         ],
         "y": [
          1.1193515313970495
         ],
         "z": [
          -0.033583822635921474
         ]
        },
        {
         "hovertemplate": "cluster=959<br>comp1=%{x}<br>comp2=%{y}<br>comp3=%{z}<extra></extra>",
         "legendgroup": "959",
         "marker": {
          "color": "rgb(82, 188, 163)",
          "line": {
           "color": "black",
           "width": 0.1
          },
          "opacity": 0.8,
          "size": 4,
          "symbol": "circle"
         },
         "mode": "markers",
         "name": "959",
         "scene": "scene",
         "showlegend": true,
         "type": "scatter3d",
         "x": [
          -1.5417285064465662
         ],
         "y": [
          1.127158357490508
         ],
         "z": [
          -0.03422726379912373
         ]
        },
        {
         "hovertemplate": "cluster=960<br>comp1=%{x}<br>comp2=%{y}<br>comp3=%{z}<extra></extra>",
         "legendgroup": "960",
         "marker": {
          "color": "rgb(153, 201, 69)",
          "line": {
           "color": "black",
           "width": 0.1
          },
          "opacity": 0.8,
          "size": 4,
          "symbol": "circle"
         },
         "mode": "markers",
         "name": "960",
         "scene": "scene",
         "showlegend": true,
         "type": "scatter3d",
         "x": [
          -1.5394600568555274
         ],
         "y": [
          1.1349862317123252
         ],
         "z": [
          -0.03487432531205134
         ]
        },
        {
         "hovertemplate": "cluster=961<br>comp1=%{x}<br>comp2=%{y}<br>comp3=%{z}<extra></extra>",
         "legendgroup": "961",
         "marker": {
          "color": "rgb(204, 97, 176)",
          "line": {
           "color": "black",
           "width": 0.1
          },
          "opacity": 0.8,
          "size": 4,
          "symbol": "circle"
         },
         "mode": "markers",
         "name": "961",
         "scene": "scene",
         "showlegend": true,
         "type": "scatter3d",
         "x": [
          -1.5371705846090435
         ],
         "y": [
          1.1428351687047034
         ],
         "z": [
          -0.03552501349254403
         ]
        },
        {
         "hovertemplate": "cluster=962<br>comp1=%{x}<br>comp2=%{y}<br>comp3=%{z}<extra></extra>",
         "legendgroup": "962",
         "marker": {
          "color": "rgb(36, 121, 108)",
          "line": {
           "color": "black",
           "width": 0.1
          },
          "opacity": 0.8,
          "size": 4,
          "symbol": "circle"
         },
         "mode": "markers",
         "name": "962",
         "scene": "scene",
         "showlegend": true,
         "type": "scatter3d",
         "x": [
          -1.5348600776358208
         ],
         "y": [
          1.1507051830898887
         ],
         "z": [
          -0.036179334650242194
         ]
        },
        {
         "hovertemplate": "cluster=963<br>comp1=%{x}<br>comp2=%{y}<br>comp3=%{z}<extra></extra>",
         "legendgroup": "963",
         "marker": {
          "color": "rgb(218, 165, 27)",
          "line": {
           "color": "black",
           "width": 0.1
          },
          "opacity": 0.8,
          "size": 4,
          "symbol": "circle"
         },
         "mode": "markers",
         "name": "963",
         "scene": "scene",
         "showlegend": true,
         "type": "scatter3d",
         "x": [
          -1.5325285238794337
         ],
         "y": [
          1.1585962894701878
         ],
         "z": [
          -0.03683729508659911
         ]
        },
        {
         "hovertemplate": "cluster=964<br>comp1=%{x}<br>comp2=%{y}<br>comp3=%{z}<extra></extra>",
         "legendgroup": "964",
         "marker": {
          "color": "rgb(47, 138, 196)",
          "line": {
           "color": "black",
           "width": 0.1
          },
          "opacity": 0.8,
          "size": 4,
          "symbol": "circle"
         },
         "mode": "markers",
         "name": "964",
         "scene": "scene",
         "showlegend": true,
         "type": "scatter3d",
         "x": [
          -1.530175911298312
         ],
         "y": [
          1.166508502427929
         ],
         "z": [
          -0.03749890109483451
         ]
        },
        {
         "hovertemplate": "cluster=965<br>comp1=%{x}<br>comp2=%{y}<br>comp3=%{z}<extra></extra>",
         "legendgroup": "965",
         "marker": {
          "color": "rgb(118, 78, 159)",
          "line": {
           "color": "black",
           "width": 0.1
          },
          "opacity": 0.8,
          "size": 4,
          "symbol": "circle"
         },
         "mode": "markers",
         "name": "965",
         "scene": "scene",
         "showlegend": true,
         "type": "scatter3d",
         "x": [
          -1.5278022278657966
         ],
         "y": [
          1.174441836525457
         ],
         "z": [
          -0.03816415895997367
         ]
        },
        {
         "hovertemplate": "cluster=966<br>comp1=%{x}<br>comp2=%{y}<br>comp3=%{z}<extra></extra>",
         "legendgroup": "966",
         "marker": {
          "color": "rgb(237, 100, 90)",
          "line": {
           "color": "black",
           "width": 0.1
          },
          "opacity": 0.8,
          "size": 4,
          "symbol": "circle"
         },
         "mode": "markers",
         "name": "966",
         "scene": "scene",
         "showlegend": true,
         "type": "scatter3d",
         "x": [
          -1.525407461570115
         ],
         "y": [
          1.1823963063051162
         ],
         "z": [
          -0.03883307495879996
         ]
        },
        {
         "hovertemplate": "cluster=967<br>comp1=%{x}<br>comp2=%{y}<br>comp3=%{z}<extra></extra>",
         "legendgroup": "967",
         "marker": {
          "color": "rgb(165, 170, 153)",
          "line": {
           "color": "black",
           "width": 0.1
          },
          "opacity": 0.8,
          "size": 4,
          "symbol": "circle"
         },
         "mode": "markers",
         "name": "967",
         "scene": "scene",
         "showlegend": true,
         "type": "scatter3d",
         "x": [
          -1.5229916004143909
         ],
         "y": [
          1.1903719262892396
         ],
         "z": [
          -0.03950565535986605
         ]
        },
        {
         "hovertemplate": "cluster=968<br>comp1=%{x}<br>comp2=%{y}<br>comp3=%{z}<extra></extra>",
         "legendgroup": "968",
         "marker": {
          "color": "rgb(229, 134, 6)",
          "line": {
           "color": "black",
           "width": 0.1
          },
          "opacity": 0.8,
          "size": 4,
          "symbol": "circle"
         },
         "mode": "markers",
         "name": "968",
         "scene": "scene",
         "showlegend": true,
         "type": "scatter3d",
         "x": [
          -1.5205546324166888
         ],
         "y": [
          1.1983687109801278
         ],
         "z": [
          -0.040181906423496366
         ]
        },
        {
         "hovertemplate": "cluster=969<br>comp1=%{x}<br>comp2=%{y}<br>comp3=%{z}<extra></extra>",
         "legendgroup": "969",
         "marker": {
          "color": "rgb(93, 105, 177)",
          "line": {
           "color": "black",
           "width": 0.1
          },
          "opacity": 0.8,
          "size": 4,
          "symbol": "circle"
         },
         "mode": "markers",
         "name": "969",
         "scene": "scene",
         "showlegend": true,
         "type": "scatter3d",
         "x": [
          -1.518096545609975
         ],
         "y": [
          1.2063866748600398
         ],
         "z": [
          -0.04086183440175513
         ]
        },
        {
         "hovertemplate": "cluster=970<br>comp1=%{x}<br>comp2=%{y}<br>comp3=%{z}<extra></extra>",
         "legendgroup": "970",
         "marker": {
          "color": "rgb(82, 188, 163)",
          "line": {
           "color": "black",
           "width": 0.1
          },
          "opacity": 0.8,
          "size": 4,
          "symbol": "circle"
         },
         "mode": "markers",
         "name": "970",
         "scene": "scene",
         "showlegend": true,
         "type": "scatter3d",
         "x": [
          -1.5156173280421834
         ],
         "y": [
          1.2144258323911805
         ],
         "z": [
          -0.04154544553848034
         ]
        },
        {
         "hovertemplate": "cluster=971<br>comp1=%{x}<br>comp2=%{y}<br>comp3=%{z}<extra></extra>",
         "legendgroup": "971",
         "marker": {
          "color": "rgb(153, 201, 69)",
          "line": {
           "color": "black",
           "width": 0.1
          },
          "opacity": 0.8,
          "size": 4,
          "symbol": "circle"
         },
         "mode": "markers",
         "name": "971",
         "scene": "scene",
         "showlegend": true,
         "type": "scatter3d",
         "x": [
          -1.5131169677761775
         ],
         "y": [
          1.2224861980156685
         ],
         "z": [
          -0.04223274606922569
         ]
        },
        {
         "hovertemplate": "cluster=972<br>comp1=%{x}<br>comp2=%{y}<br>comp3=%{z}<extra></extra>",
         "legendgroup": "972",
         "marker": {
          "color": "rgb(204, 97, 176)",
          "line": {
           "color": "black",
           "width": 0.1
          },
          "opacity": 0.8,
          "size": 4,
          "symbol": "circle"
         },
         "mode": "markers",
         "name": "972",
         "scene": "scene",
         "showlegend": true,
         "type": "scatter3d",
         "x": [
          -1.5105954528898038
         ],
         "y": [
          1.2305677861555542
         ],
         "z": [
          -0.0429237422213182
         ]
        },
        {
         "hovertemplate": "cluster=973<br>comp1=%{x}<br>comp2=%{y}<br>comp3=%{z}<extra></extra>",
         "legendgroup": "973",
         "marker": {
          "color": "rgb(36, 121, 108)",
          "line": {
           "color": "black",
           "width": 0.1
          },
          "opacity": 0.8,
          "size": 4,
          "symbol": "circle"
         },
         "mode": "markers",
         "name": "973",
         "scene": "scene",
         "showlegend": true,
         "type": "scatter3d",
         "x": [
          -1.5080527714758574
         ],
         "y": [
          1.2386706112127694
         ],
         "z": [
          -0.0436184402137724
         ]
        },
        {
         "hovertemplate": "cluster=974<br>comp1=%{x}<br>comp2=%{y}<br>comp3=%{z}<extra></extra>",
         "legendgroup": "974",
         "marker": {
          "color": "rgb(218, 165, 27)",
          "line": {
           "color": "black",
           "width": 0.1
          },
          "opacity": 0.8,
          "size": 4,
          "symbol": "circle"
         },
         "mode": "markers",
         "name": "974",
         "scene": "scene",
         "showlegend": true,
         "type": "scatter3d",
         "x": [
          -1.5054889116421293
         ],
         "y": [
          1.2467946875691422
         ],
         "z": [
          -0.044316846257359516
         ]
        },
        {
         "hovertemplate": "cluster=975<br>comp1=%{x}<br>comp2=%{y}<br>comp3=%{z}<extra></extra>",
         "legendgroup": "975",
         "marker": {
          "color": "rgb(47, 138, 196)",
          "line": {
           "color": "black",
           "width": 0.1
          },
          "opacity": 0.8,
          "size": 4,
          "symbol": "circle"
         },
         "mode": "markers",
         "name": "975",
         "scene": "scene",
         "showlegend": true,
         "type": "scatter3d",
         "x": [
          -1.5029038615114068
         ],
         "y": [
          1.2549400295863575
         ],
         "z": [
          -0.04501896655455605
         ]
        },
        {
         "hovertemplate": "cluster=976<br>comp1=%{x}<br>comp2=%{y}<br>comp3=%{z}<extra></extra>",
         "legendgroup": "976",
         "marker": {
          "color": "rgb(118, 78, 159)",
          "line": {
           "color": "black",
           "width": 0.1
          },
          "opacity": 0.8,
          "size": 4,
          "symbol": "circle"
         },
         "mode": "markers",
         "name": "976",
         "scene": "scene",
         "showlegend": true,
         "type": "scatter3d",
         "x": [
          -1.500297609221472
         ],
         "y": [
          1.2631066516059684
         ],
         "z": [
          -0.04572480729955069
         ]
        },
        {
         "hovertemplate": "cluster=977<br>comp1=%{x}<br>comp2=%{y}<br>comp3=%{z}<extra></extra>",
         "legendgroup": "977",
         "marker": {
          "color": "rgb(237, 100, 90)",
          "line": {
           "color": "black",
           "width": 0.1
          },
          "opacity": 0.8,
          "size": 4,
          "symbol": "circle"
         },
         "mode": "markers",
         "name": "977",
         "scene": "scene",
         "showlegend": true,
         "type": "scatter3d",
         "x": [
          -1.497670142925126
         ],
         "y": [
          1.2712945679493615
         ],
         "z": [
          -0.046434374678243164
         ]
        },
        {
         "hovertemplate": "cluster=978<br>comp1=%{x}<br>comp2=%{y}<br>comp3=%{z}<extra></extra>",
         "legendgroup": "978",
         "marker": {
          "color": "rgb(165, 170, 153)",
          "line": {
           "color": "black",
           "width": 0.1
          },
          "opacity": 0.8,
          "size": 4,
          "symbol": "circle"
         },
         "mode": "markers",
         "name": "978",
         "scene": "scene",
         "showlegend": true,
         "type": "scatter3d",
         "x": [
          -1.4950214507902115
         ],
         "y": [
          1.2795037929177444
         ],
         "z": [
          -0.04714767486823691
         ]
        },
        {
         "hovertemplate": "cluster=979<br>comp1=%{x}<br>comp2=%{y}<br>comp3=%{z}<extra></extra>",
         "legendgroup": "979",
         "marker": {
          "color": "rgb(229, 134, 6)",
          "line": {
           "color": "black",
           "width": 0.1
          },
          "opacity": 0.8,
          "size": 4,
          "symbol": "circle"
         },
         "mode": "markers",
         "name": "979",
         "scene": "scene",
         "showlegend": true,
         "type": "scatter3d",
         "x": [
          -1.4923515209995732
         ],
         "y": [
          1.2877343407921404
         ],
         "z": [
          -0.04786471403880091
         ]
        },
        {
         "hovertemplate": "cluster=980<br>comp1=%{x}<br>comp2=%{y}<br>comp3=%{z}<extra></extra>",
         "legendgroup": "980",
         "marker": {
          "color": "rgb(93, 105, 177)",
          "line": {
           "color": "black",
           "width": 0.1
          },
          "opacity": 0.8,
          "size": 4,
          "symbol": "circle"
         },
         "mode": "markers",
         "name": "980",
         "scene": "scene",
         "showlegend": true,
         "type": "scatter3d",
         "x": [
          -1.4896603417511352
         ],
         "y": [
          1.2959862258333796
         ],
         "z": [
          -0.04858549835093229
         ]
        },
        {
         "hovertemplate": "cluster=981<br>comp1=%{x}<br>comp2=%{y}<br>comp3=%{z}<extra></extra>",
         "legendgroup": "981",
         "marker": {
          "color": "rgb(82, 188, 163)",
          "line": {
           "color": "black",
           "width": 0.1
          },
          "opacity": 0.8,
          "size": 4,
          "symbol": "circle"
         },
         "mode": "markers",
         "name": "981",
         "scene": "scene",
         "showlegend": true,
         "type": "scatter3d",
         "x": [
          -1.4869479012578666
         ],
         "y": [
          1.304259462282053
         ],
         "z": [
          -0.04931003395727722
         ]
        },
        {
         "hovertemplate": "cluster=982<br>comp1=%{x}<br>comp2=%{y}<br>comp3=%{z}<extra></extra>",
         "legendgroup": "982",
         "marker": {
          "color": "rgb(153, 201, 69)",
          "line": {
           "color": "black",
           "width": 0.1
          },
          "opacity": 0.8,
          "size": 4,
          "symbol": "circle"
         },
         "mode": "markers",
         "name": "982",
         "scene": "scene",
         "showlegend": true,
         "type": "scatter3d",
         "x": [
          -1.4842141877477961
         ],
         "y": [
          1.3125540643585385
         ],
         "z": [
          -0.05003832700215969
         ]
        },
        {
         "hovertemplate": "cluster=983<br>comp1=%{x}<br>comp2=%{y}<br>comp3=%{z}<extra></extra>",
         "legendgroup": "983",
         "marker": {
          "color": "rgb(204, 97, 176)",
          "line": {
           "color": "black",
           "width": 0.1
          },
          "opacity": 0.8,
          "size": 4,
          "symbol": "circle"
         },
         "mode": "markers",
         "name": "983",
         "scene": "scene",
         "showlegend": true,
         "type": "scatter3d",
         "x": [
          -1.481459189464039
         ],
         "y": [
          1.3208700462629615
         ],
         "z": [
          -0.050770383621583086
         ]
        },
        {
         "hovertemplate": "cluster=984<br>comp1=%{x}<br>comp2=%{y}<br>comp3=%{z}<extra></extra>",
         "legendgroup": "984",
         "marker": {
          "color": "rgb(36, 121, 108)",
          "line": {
           "color": "black",
           "width": 0.1
          },
          "opacity": 0.8,
          "size": 4,
          "symbol": "circle"
         },
         "mode": "markers",
         "name": "984",
         "scene": "scene",
         "showlegend": true,
         "type": "scatter3d",
         "x": [
          -1.478682894664813
         ],
         "y": [
          1.3292074221751817
         ],
         "z": [
          -0.05150620994321167
         ]
        },
        {
         "hovertemplate": "cluster=985<br>comp1=%{x}<br>comp2=%{y}<br>comp3=%{z}<extra></extra>",
         "legendgroup": "985",
         "marker": {
          "color": "rgb(218, 165, 27)",
          "line": {
           "color": "black",
           "width": 0.1
          },
          "opacity": 0.8,
          "size": 4,
          "symbol": "circle"
         },
         "mode": "markers",
         "name": "985",
         "scene": "scene",
         "showlegend": true,
         "type": "scatter3d",
         "x": [
          -1.4758852916234075
         ],
         "y": [
          1.3375662062547937
         ],
         "z": [
          -0.05224581208635413
         ]
        },
        {
         "hovertemplate": "cluster=986<br>comp1=%{x}<br>comp2=%{y}<br>comp3=%{z}<extra></extra>",
         "legendgroup": "986",
         "marker": {
          "color": "rgb(47, 138, 196)",
          "line": {
           "color": "black",
           "width": 0.1
          },
          "opacity": 0.8,
          "size": 4,
          "symbol": "circle"
         },
         "mode": "markers",
         "name": "986",
         "scene": "scene",
         "showlegend": true,
         "type": "scatter3d",
         "x": [
          -1.4730663686282437
         ],
         "y": [
          1.3459464126410936
         ],
         "z": [
          -0.05298919616197114
         ]
        },
        {
         "hovertemplate": "cluster=987<br>comp1=%{x}<br>comp2=%{y}<br>comp3=%{z}<extra></extra>",
         "legendgroup": "987",
         "marker": {
          "color": "rgb(118, 78, 159)",
          "line": {
           "color": "black",
           "width": 0.1
          },
          "opacity": 0.8,
          "size": 4,
          "symbol": "circle"
         },
         "mode": "markers",
         "name": "987",
         "scene": "scene",
         "showlegend": true,
         "type": "scatter3d",
         "x": [
          -1.4702261139828614
         ],
         "y": [
          1.354348055453079
         ],
         "z": [
          -0.053736368272677866
         ]
        },
        {
         "hovertemplate": "cluster=988<br>comp1=%{x}<br>comp2=%{y}<br>comp3=%{z}<extra></extra>",
         "legendgroup": "988",
         "marker": {
          "color": "rgb(237, 100, 90)",
          "line": {
           "color": "black",
           "width": 0.1
          },
          "opacity": 0.8,
          "size": 4,
          "symbol": "circle"
         },
         "mode": "markers",
         "name": "988",
         "scene": "scene",
         "showlegend": true,
         "type": "scatter3d",
         "x": [
          -1.4673645160059239
         ],
         "y": [
          1.3627711487894343
         ],
         "z": [
          -0.05448733451272007
         ]
        },
        {
         "hovertemplate": "cluster=989<br>comp1=%{x}<br>comp2=%{y}<br>comp3=%{z}<extra></extra>",
         "legendgroup": "989",
         "marker": {
          "color": "rgb(165, 170, 153)",
          "line": {
           "color": "black",
           "width": 0.1
          },
          "opacity": 0.8,
          "size": 4,
          "symbol": "circle"
         },
         "mode": "markers",
         "name": "989",
         "scene": "scene",
         "showlegend": true,
         "type": "scatter3d",
         "x": [
          -1.4644815630312578
         ],
         "y": [
          1.3712157067284967
         ],
         "z": [
          -0.05524210096797911
         ]
        },
        {
         "hovertemplate": "cluster=990<br>comp1=%{x}<br>comp2=%{y}<br>comp3=%{z}<extra></extra>",
         "legendgroup": "990",
         "marker": {
          "color": "rgb(229, 134, 6)",
          "line": {
           "color": "black",
           "width": 0.1
          },
          "opacity": 0.8,
          "size": 4,
          "symbol": "circle"
         },
         "mode": "markers",
         "name": "990",
         "scene": "scene",
         "showlegend": true,
         "type": "scatter3d",
         "x": [
          -1.4615772434078034
         ],
         "y": [
          1.3796817433282735
         ],
         "z": [
          -0.0560006737159385
         ]
        },
        {
         "hovertemplate": "cluster=991<br>comp1=%{x}<br>comp2=%{y}<br>comp3=%{z}<extra></extra>",
         "legendgroup": "991",
         "marker": {
          "color": "rgb(93, 105, 177)",
          "line": {
           "color": "black",
           "width": 0.1
          },
          "opacity": 0.8,
          "size": 4,
          "symbol": "circle"
         },
         "mode": "markers",
         "name": "991",
         "scene": "scene",
         "showlegend": true,
         "type": "scatter3d",
         "x": [
          -1.4586515454996876
         ],
         "y": [
          1.3881692726264
         ],
         "z": [
          -0.05676305882571314
         ]
        },
        {
         "hovertemplate": "cluster=992<br>comp1=%{x}<br>comp2=%{y}<br>comp3=%{z}<extra></extra>",
         "legendgroup": "992",
         "marker": {
          "color": "rgb(82, 188, 163)",
          "line": {
           "color": "black",
           "width": 0.1
          },
          "opacity": 0.8,
          "size": 4,
          "symbol": "circle"
         },
         "mode": "markers",
         "name": "992",
         "scene": "scene",
         "showlegend": true,
         "type": "scatter3d",
         "x": [
          -1.455704457686224
         ],
         "y": [
          1.3966783086401449
         ],
         "z": [
          -0.057529262358049484
         ]
        },
        {
         "hovertemplate": "cluster=993<br>comp1=%{x}<br>comp2=%{y}<br>comp3=%{z}<extra></extra>",
         "legendgroup": "993",
         "marker": {
          "color": "rgb(153, 201, 69)",
          "line": {
           "color": "black",
           "width": 0.1
          },
          "opacity": 0.8,
          "size": 4,
          "symbol": "circle"
         },
         "mode": "markers",
         "name": "993",
         "scene": "scene",
         "showlegend": true,
         "type": "scatter3d",
         "x": [
          -1.4527359683618868
         ],
         "y": [
          1.4052088653663848
         ],
         "z": [
          -0.058299290365277374
         ]
        },
        {
         "hovertemplate": "cluster=994<br>comp1=%{x}<br>comp2=%{y}<br>comp3=%{z}<extra></extra>",
         "legendgroup": "994",
         "marker": {
          "color": "rgb(204, 97, 176)",
          "line": {
           "color": "black",
           "width": 0.1
          },
          "opacity": 0.8,
          "size": 4,
          "symbol": "circle"
         },
         "mode": "markers",
         "name": "994",
         "scene": "scene",
         "showlegend": true,
         "type": "scatter3d",
         "x": [
          -1.4497460659363623
         ],
         "y": [
          1.4137609567815896
         ],
         "z": [
          -0.05907314889133535
         ]
        },
        {
         "hovertemplate": "cluster=995<br>comp1=%{x}<br>comp2=%{y}<br>comp3=%{z}<extra></extra>",
         "legendgroup": "995",
         "marker": {
          "color": "rgb(36, 121, 108)",
          "line": {
           "color": "black",
           "width": 0.1
          },
          "opacity": 0.8,
          "size": 4,
          "symbol": "circle"
         },
         "mode": "markers",
         "name": "995",
         "scene": "scene",
         "showlegend": true,
         "type": "scatter3d",
         "x": [
          -1.4467347388345155
         ],
         "y": [
          1.4223345968418148
         ],
         "z": [
          -0.0598508439717355
         ]
        },
        {
         "hovertemplate": "cluster=996<br>comp1=%{x}<br>comp2=%{y}<br>comp3=%{z}<extra></extra>",
         "legendgroup": "996",
         "marker": {
          "color": "rgb(218, 165, 27)",
          "line": {
           "color": "black",
           "width": 0.1
          },
          "opacity": 0.8,
          "size": 4,
          "symbol": "circle"
         },
         "mode": "markers",
         "name": "996",
         "scene": "scene",
         "showlegend": true,
         "type": "scatter3d",
         "x": [
          -1.4437019754964682
         ],
         "y": [
          1.4309297994826853
         ],
         "z": [
          -0.060632381633616526
         ]
        },
        {
         "hovertemplate": "cluster=997<br>comp1=%{x}<br>comp2=%{y}<br>comp3=%{z}<extra></extra>",
         "legendgroup": "997",
         "marker": {
          "color": "rgb(47, 138, 196)",
          "line": {
           "color": "black",
           "width": 0.1
          },
          "opacity": 0.8,
          "size": 4,
          "symbol": "circle"
         },
         "mode": "markers",
         "name": "997",
         "scene": "scene",
         "showlegend": true,
         "type": "scatter3d",
         "x": [
          -1.4406477643775188
         ],
         "y": [
          1.439546578619382
         ],
         "z": [
          -0.061417767895656665
         ]
        },
        {
         "hovertemplate": "cluster=998<br>comp1=%{x}<br>comp2=%{y}<br>comp3=%{z}<extra></extra>",
         "legendgroup": "998",
         "marker": {
          "color": "rgb(118, 78, 159)",
          "line": {
           "color": "black",
           "width": 0.1
          },
          "opacity": 0.8,
          "size": 4,
          "symbol": "circle"
         },
         "mode": "markers",
         "name": "998",
         "scene": "scene",
         "showlegend": true,
         "type": "scatter3d",
         "x": [
          -1.4375720939482477
         ],
         "y": [
          1.448184948146626
         ],
         "z": [
          -0.06220700876814725
         ]
        },
        {
         "hovertemplate": "cluster=999<br>comp1=%{x}<br>comp2=%{y}<br>comp3=%{z}<extra></extra>",
         "legendgroup": "999",
         "marker": {
          "color": "rgb(237, 100, 90)",
          "line": {
           "color": "black",
           "width": 0.1
          },
          "opacity": 0.8,
          "size": 4,
          "symbol": "circle"
         },
         "mode": "markers",
         "name": "999",
         "scene": "scene",
         "showlegend": true,
         "type": "scatter3d",
         "x": [
          -1.4344749526944514
         ],
         "y": [
          1.4568449219386561
         ],
         "z": [
          -0.0630001102529141
         ]
        }
       ],
       "layout": {
        "autosize": false,
        "font": {
         "color": "black",
         "family": "Gilroy",
         "size": 15
        },
        "height": 800,
        "legend": {
         "font": {
          "size": 20
         },
         "title": {
          "font": {
           "family": "Times New Roman"
          },
          "text": "cluster"
         },
         "tracegroupgap": 0
        },
        "scene": {
         "domain": {
          "x": [
           0,
           1
          ],
          "y": [
           0,
           1
          ]
         },
         "xaxis": {
          "title": {
           "font": {
            "color": "black"
           },
           "text": "comp1"
          }
         },
         "yaxis": {
          "title": {
           "font": {
            "color": "black"
           },
           "text": "comp2"
          }
         },
         "zaxis": {
          "title": {
           "font": {
            "color": "black"
           },
           "text": "comp3"
          }
         }
        },
        "showlegend": true,
        "template": {
         "data": {
          "bar": [
           {
            "error_x": {
             "color": "#2a3f5f"
            },
            "error_y": {
             "color": "#2a3f5f"
            },
            "marker": {
             "line": {
              "color": "#E5ECF6",
              "width": 0.5
             },
             "pattern": {
              "fillmode": "overlay",
              "size": 10,
              "solidity": 0.2
             }
            },
            "type": "bar"
           }
          ],
          "barpolar": [
           {
            "marker": {
             "line": {
              "color": "#E5ECF6",
              "width": 0.5
             },
             "pattern": {
              "fillmode": "overlay",
              "size": 10,
              "solidity": 0.2
             }
            },
            "type": "barpolar"
           }
          ],
          "carpet": [
           {
            "aaxis": {
             "endlinecolor": "#2a3f5f",
             "gridcolor": "white",
             "linecolor": "white",
             "minorgridcolor": "white",
             "startlinecolor": "#2a3f5f"
            },
            "baxis": {
             "endlinecolor": "#2a3f5f",
             "gridcolor": "white",
             "linecolor": "white",
             "minorgridcolor": "white",
             "startlinecolor": "#2a3f5f"
            },
            "type": "carpet"
           }
          ],
          "choropleth": [
           {
            "colorbar": {
             "outlinewidth": 0,
             "ticks": ""
            },
            "type": "choropleth"
           }
          ],
          "contour": [
           {
            "colorbar": {
             "outlinewidth": 0,
             "ticks": ""
            },
            "colorscale": [
             [
              0,
              "#0d0887"
             ],
             [
              0.1111111111111111,
              "#46039f"
             ],
             [
              0.2222222222222222,
              "#7201a8"
             ],
             [
              0.3333333333333333,
              "#9c179e"
             ],
             [
              0.4444444444444444,
              "#bd3786"
             ],
             [
              0.5555555555555556,
              "#d8576b"
             ],
             [
              0.6666666666666666,
              "#ed7953"
             ],
             [
              0.7777777777777778,
              "#fb9f3a"
             ],
             [
              0.8888888888888888,
              "#fdca26"
             ],
             [
              1,
              "#f0f921"
             ]
            ],
            "type": "contour"
           }
          ],
          "contourcarpet": [
           {
            "colorbar": {
             "outlinewidth": 0,
             "ticks": ""
            },
            "type": "contourcarpet"
           }
          ],
          "heatmap": [
           {
            "colorbar": {
             "outlinewidth": 0,
             "ticks": ""
            },
            "colorscale": [
             [
              0,
              "#0d0887"
             ],
             [
              0.1111111111111111,
              "#46039f"
             ],
             [
              0.2222222222222222,
              "#7201a8"
             ],
             [
              0.3333333333333333,
              "#9c179e"
             ],
             [
              0.4444444444444444,
              "#bd3786"
             ],
             [
              0.5555555555555556,
              "#d8576b"
             ],
             [
              0.6666666666666666,
              "#ed7953"
             ],
             [
              0.7777777777777778,
              "#fb9f3a"
             ],
             [
              0.8888888888888888,
              "#fdca26"
             ],
             [
              1,
              "#f0f921"
             ]
            ],
            "type": "heatmap"
           }
          ],
          "heatmapgl": [
           {
            "colorbar": {
             "outlinewidth": 0,
             "ticks": ""
            },
            "colorscale": [
             [
              0,
              "#0d0887"
             ],
             [
              0.1111111111111111,
              "#46039f"
             ],
             [
              0.2222222222222222,
              "#7201a8"
             ],
             [
              0.3333333333333333,
              "#9c179e"
             ],
             [
              0.4444444444444444,
              "#bd3786"
             ],
             [
              0.5555555555555556,
              "#d8576b"
             ],
             [
              0.6666666666666666,
              "#ed7953"
             ],
             [
              0.7777777777777778,
              "#fb9f3a"
             ],
             [
              0.8888888888888888,
              "#fdca26"
             ],
             [
              1,
              "#f0f921"
             ]
            ],
            "type": "heatmapgl"
           }
          ],
          "histogram": [
           {
            "marker": {
             "pattern": {
              "fillmode": "overlay",
              "size": 10,
              "solidity": 0.2
             }
            },
            "type": "histogram"
           }
          ],
          "histogram2d": [
           {
            "colorbar": {
             "outlinewidth": 0,
             "ticks": ""
            },
            "colorscale": [
             [
              0,
              "#0d0887"
             ],
             [
              0.1111111111111111,
              "#46039f"
             ],
             [
              0.2222222222222222,
              "#7201a8"
             ],
             [
              0.3333333333333333,
              "#9c179e"
             ],
             [
              0.4444444444444444,
              "#bd3786"
             ],
             [
              0.5555555555555556,
              "#d8576b"
             ],
             [
              0.6666666666666666,
              "#ed7953"
             ],
             [
              0.7777777777777778,
              "#fb9f3a"
             ],
             [
              0.8888888888888888,
              "#fdca26"
             ],
             [
              1,
              "#f0f921"
             ]
            ],
            "type": "histogram2d"
           }
          ],
          "histogram2dcontour": [
           {
            "colorbar": {
             "outlinewidth": 0,
             "ticks": ""
            },
            "colorscale": [
             [
              0,
              "#0d0887"
             ],
             [
              0.1111111111111111,
              "#46039f"
             ],
             [
              0.2222222222222222,
              "#7201a8"
             ],
             [
              0.3333333333333333,
              "#9c179e"
             ],
             [
              0.4444444444444444,
              "#bd3786"
             ],
             [
              0.5555555555555556,
              "#d8576b"
             ],
             [
              0.6666666666666666,
              "#ed7953"
             ],
             [
              0.7777777777777778,
              "#fb9f3a"
             ],
             [
              0.8888888888888888,
              "#fdca26"
             ],
             [
              1,
              "#f0f921"
             ]
            ],
            "type": "histogram2dcontour"
           }
          ],
          "mesh3d": [
           {
            "colorbar": {
             "outlinewidth": 0,
             "ticks": ""
            },
            "type": "mesh3d"
           }
          ],
          "parcoords": [
           {
            "line": {
             "colorbar": {
              "outlinewidth": 0,
              "ticks": ""
             }
            },
            "type": "parcoords"
           }
          ],
          "pie": [
           {
            "automargin": true,
            "type": "pie"
           }
          ],
          "scatter": [
           {
            "fillpattern": {
             "fillmode": "overlay",
             "size": 10,
             "solidity": 0.2
            },
            "type": "scatter"
           }
          ],
          "scatter3d": [
           {
            "line": {
             "colorbar": {
              "outlinewidth": 0,
              "ticks": ""
             }
            },
            "marker": {
             "colorbar": {
              "outlinewidth": 0,
              "ticks": ""
             }
            },
            "type": "scatter3d"
           }
          ],
          "scattercarpet": [
           {
            "marker": {
             "colorbar": {
              "outlinewidth": 0,
              "ticks": ""
             }
            },
            "type": "scattercarpet"
           }
          ],
          "scattergeo": [
           {
            "marker": {
             "colorbar": {
              "outlinewidth": 0,
              "ticks": ""
             }
            },
            "type": "scattergeo"
           }
          ],
          "scattergl": [
           {
            "marker": {
             "colorbar": {
              "outlinewidth": 0,
              "ticks": ""
             }
            },
            "type": "scattergl"
           }
          ],
          "scattermapbox": [
           {
            "marker": {
             "colorbar": {
              "outlinewidth": 0,
              "ticks": ""
             }
            },
            "type": "scattermapbox"
           }
          ],
          "scatterpolar": [
           {
            "marker": {
             "colorbar": {
              "outlinewidth": 0,
              "ticks": ""
             }
            },
            "type": "scatterpolar"
           }
          ],
          "scatterpolargl": [
           {
            "marker": {
             "colorbar": {
              "outlinewidth": 0,
              "ticks": ""
             }
            },
            "type": "scatterpolargl"
           }
          ],
          "scatterternary": [
           {
            "marker": {
             "colorbar": {
              "outlinewidth": 0,
              "ticks": ""
             }
            },
            "type": "scatterternary"
           }
          ],
          "surface": [
           {
            "colorbar": {
             "outlinewidth": 0,
             "ticks": ""
            },
            "colorscale": [
             [
              0,
              "#0d0887"
             ],
             [
              0.1111111111111111,
              "#46039f"
             ],
             [
              0.2222222222222222,
              "#7201a8"
             ],
             [
              0.3333333333333333,
              "#9c179e"
             ],
             [
              0.4444444444444444,
              "#bd3786"
             ],
             [
              0.5555555555555556,
              "#d8576b"
             ],
             [
              0.6666666666666666,
              "#ed7953"
             ],
             [
              0.7777777777777778,
              "#fb9f3a"
             ],
             [
              0.8888888888888888,
              "#fdca26"
             ],
             [
              1,
              "#f0f921"
             ]
            ],
            "type": "surface"
           }
          ],
          "table": [
           {
            "cells": {
             "fill": {
              "color": "#EBF0F8"
             },
             "line": {
              "color": "white"
             }
            },
            "header": {
             "fill": {
              "color": "#C8D4E3"
             },
             "line": {
              "color": "white"
             }
            },
            "type": "table"
           }
          ]
         },
         "layout": {
          "annotationdefaults": {
           "arrowcolor": "#2a3f5f",
           "arrowhead": 0,
           "arrowwidth": 1
          },
          "autotypenumbers": "strict",
          "coloraxis": {
           "colorbar": {
            "outlinewidth": 0,
            "ticks": ""
           }
          },
          "colorscale": {
           "diverging": [
            [
             0,
             "#8e0152"
            ],
            [
             0.1,
             "#c51b7d"
            ],
            [
             0.2,
             "#de77ae"
            ],
            [
             0.3,
             "#f1b6da"
            ],
            [
             0.4,
             "#fde0ef"
            ],
            [
             0.5,
             "#f7f7f7"
            ],
            [
             0.6,
             "#e6f5d0"
            ],
            [
             0.7,
             "#b8e186"
            ],
            [
             0.8,
             "#7fbc41"
            ],
            [
             0.9,
             "#4d9221"
            ],
            [
             1,
             "#276419"
            ]
           ],
           "sequential": [
            [
             0,
             "#0d0887"
            ],
            [
             0.1111111111111111,
             "#46039f"
            ],
            [
             0.2222222222222222,
             "#7201a8"
            ],
            [
             0.3333333333333333,
             "#9c179e"
            ],
            [
             0.4444444444444444,
             "#bd3786"
            ],
            [
             0.5555555555555556,
             "#d8576b"
            ],
            [
             0.6666666666666666,
             "#ed7953"
            ],
            [
             0.7777777777777778,
             "#fb9f3a"
            ],
            [
             0.8888888888888888,
             "#fdca26"
            ],
            [
             1,
             "#f0f921"
            ]
           ],
           "sequentialminus": [
            [
             0,
             "#0d0887"
            ],
            [
             0.1111111111111111,
             "#46039f"
            ],
            [
             0.2222222222222222,
             "#7201a8"
            ],
            [
             0.3333333333333333,
             "#9c179e"
            ],
            [
             0.4444444444444444,
             "#bd3786"
            ],
            [
             0.5555555555555556,
             "#d8576b"
            ],
            [
             0.6666666666666666,
             "#ed7953"
            ],
            [
             0.7777777777777778,
             "#fb9f3a"
            ],
            [
             0.8888888888888888,
             "#fdca26"
            ],
            [
             1,
             "#f0f921"
            ]
           ]
          },
          "colorway": [
           "#636efa",
           "#EF553B",
           "#00cc96",
           "#ab63fa",
           "#FFA15A",
           "#19d3f3",
           "#FF6692",
           "#B6E880",
           "#FF97FF",
           "#FECB52"
          ],
          "font": {
           "color": "#2a3f5f"
          },
          "geo": {
           "bgcolor": "white",
           "lakecolor": "white",
           "landcolor": "#E5ECF6",
           "showlakes": true,
           "showland": true,
           "subunitcolor": "white"
          },
          "hoverlabel": {
           "align": "left"
          },
          "hovermode": "closest",
          "mapbox": {
           "style": "light"
          },
          "paper_bgcolor": "white",
          "plot_bgcolor": "#E5ECF6",
          "polar": {
           "angularaxis": {
            "gridcolor": "white",
            "linecolor": "white",
            "ticks": ""
           },
           "bgcolor": "#E5ECF6",
           "radialaxis": {
            "gridcolor": "white",
            "linecolor": "white",
            "ticks": ""
           }
          },
          "scene": {
           "xaxis": {
            "backgroundcolor": "#E5ECF6",
            "gridcolor": "white",
            "gridwidth": 2,
            "linecolor": "white",
            "showbackground": true,
            "ticks": "",
            "zerolinecolor": "white"
           },
           "yaxis": {
            "backgroundcolor": "#E5ECF6",
            "gridcolor": "white",
            "gridwidth": 2,
            "linecolor": "white",
            "showbackground": true,
            "ticks": "",
            "zerolinecolor": "white"
           },
           "zaxis": {
            "backgroundcolor": "#E5ECF6",
            "gridcolor": "white",
            "gridwidth": 2,
            "linecolor": "white",
            "showbackground": true,
            "ticks": "",
            "zerolinecolor": "white"
           }
          },
          "shapedefaults": {
           "line": {
            "color": "#2a3f5f"
           }
          },
          "ternary": {
           "aaxis": {
            "gridcolor": "white",
            "linecolor": "white",
            "ticks": ""
           },
           "baxis": {
            "gridcolor": "white",
            "linecolor": "white",
            "ticks": ""
           },
           "bgcolor": "#E5ECF6",
           "caxis": {
            "gridcolor": "white",
            "linecolor": "white",
            "ticks": ""
           }
          },
          "title": {
           "x": 0.05
          },
          "xaxis": {
           "automargin": true,
           "gridcolor": "white",
           "linecolor": "white",
           "ticks": "",
           "title": {
            "standoff": 15
           },
           "zerolinecolor": "white",
           "zerolinewidth": 2
          },
          "yaxis": {
           "automargin": true,
           "gridcolor": "white",
           "linecolor": "white",
           "ticks": "",
           "title": {
            "standoff": 15
           },
           "zerolinecolor": "white",
           "zerolinewidth": 2
          }
         }
        },
        "title": {
         "text": "DICE Embedding (DICE-3)"
        },
        "width": 1000
       }
      }
     },
     "metadata": {},
     "output_type": "display_data"
    }
   ],
   "source": [
    "dice = DICE(d=3, min_bound=0, max_bound=9999)\n",
    "\n",
    "sample_nums = list(range(0, 1000))\n",
    "\n",
    "# Generate DICE-embeddings and plot them\n",
    "dice_mat = []\n",
    "for num in sample_nums:\n",
    "    dice_mat.append(dice.make_dice(num))\n",
    "\n",
    "# print(np.array(dice_mat)[:10])\n",
    "dice_mat = np.array(dice_mat)\n",
    "\n",
    "# plot 3d\n",
    "pca_3d, p_df_3d = get_pca_3d(pd.DataFrame(dice_mat), sample_nums)\n",
    "plot_pca_3d(p_df_3d, title = \"DICE Embedding (DICE-3)\")\n"
   ]
  },
  {
   "cell_type": "code",
   "execution_count": 15,
   "metadata": {
    "ExecuteTime": {
     "end_time": "2021-07-29T14:15:01.638910Z",
     "start_time": "2021-07-29T14:15:00.149085Z"
    }
   },
   "outputs": [
    {
     "data": {
      "text/html": [
       "<div>\n",
       "<style scoped>\n",
       "    .dataframe tbody tr th:only-of-type {\n",
       "        vertical-align: middle;\n",
       "    }\n",
       "\n",
       "    .dataframe tbody tr th {\n",
       "        vertical-align: top;\n",
       "    }\n",
       "\n",
       "    .dataframe thead th {\n",
       "        text-align: right;\n",
       "    }\n",
       "</style>\n",
       "<table border=\"1\" class=\"dataframe\">\n",
       "  <thead>\n",
       "    <tr style=\"text-align: right;\">\n",
       "      <th></th>\n",
       "      <th>0</th>\n",
       "      <th>1</th>\n",
       "      <th>2</th>\n",
       "      <th>3</th>\n",
       "      <th>4</th>\n",
       "      <th>5</th>\n",
       "      <th>6</th>\n",
       "      <th>7</th>\n",
       "      <th>8</th>\n",
       "      <th>9</th>\n",
       "      <th>10</th>\n",
       "      <th>11</th>\n",
       "      <th>12</th>\n",
       "      <th>13</th>\n",
       "      <th>14</th>\n",
       "      <th>15</th>\n",
       "      <th>16</th>\n",
       "      <th>17</th>\n",
       "      <th>18</th>\n",
       "      <th>19</th>\n",
       "    </tr>\n",
       "  </thead>\n",
       "  <tbody>\n",
       "    <tr>\n",
       "      <th>0</th>\n",
       "      <td>-0.087970</td>\n",
       "      <td>-0.489382</td>\n",
       "      <td>-0.091139</td>\n",
       "      <td>0.062320</td>\n",
       "      <td>0.115842</td>\n",
       "      <td>0.332339</td>\n",
       "      <td>0.123408</td>\n",
       "      <td>-0.203467</td>\n",
       "      <td>-0.164460</td>\n",
       "      <td>-0.202561</td>\n",
       "      <td>-0.130670</td>\n",
       "      <td>-0.070900</td>\n",
       "      <td>-0.210507</td>\n",
       "      <td>0.144961</td>\n",
       "      <td>-0.408046</td>\n",
       "      <td>0.211046</td>\n",
       "      <td>-0.187120</td>\n",
       "      <td>-0.284041</td>\n",
       "      <td>0.029051</td>\n",
       "      <td>0.277477</td>\n",
       "    </tr>\n",
       "    <tr>\n",
       "      <th>1</th>\n",
       "      <td>-0.087971</td>\n",
       "      <td>-0.489384</td>\n",
       "      <td>-0.091136</td>\n",
       "      <td>0.062323</td>\n",
       "      <td>0.115846</td>\n",
       "      <td>0.332337</td>\n",
       "      <td>0.123408</td>\n",
       "      <td>-0.203458</td>\n",
       "      <td>-0.164461</td>\n",
       "      <td>-0.202565</td>\n",
       "      <td>-0.130660</td>\n",
       "      <td>-0.070896</td>\n",
       "      <td>-0.210514</td>\n",
       "      <td>0.144962</td>\n",
       "      <td>-0.408048</td>\n",
       "      <td>0.211053</td>\n",
       "      <td>-0.187116</td>\n",
       "      <td>-0.284037</td>\n",
       "      <td>0.029054</td>\n",
       "      <td>0.277477</td>\n",
       "    </tr>\n",
       "    <tr>\n",
       "      <th>2</th>\n",
       "      <td>-0.087972</td>\n",
       "      <td>-0.489385</td>\n",
       "      <td>-0.091134</td>\n",
       "      <td>0.062326</td>\n",
       "      <td>0.115849</td>\n",
       "      <td>0.332334</td>\n",
       "      <td>0.123408</td>\n",
       "      <td>-0.203448</td>\n",
       "      <td>-0.164463</td>\n",
       "      <td>-0.202569</td>\n",
       "      <td>-0.130651</td>\n",
       "      <td>-0.070892</td>\n",
       "      <td>-0.210520</td>\n",
       "      <td>0.144963</td>\n",
       "      <td>-0.408051</td>\n",
       "      <td>0.211059</td>\n",
       "      <td>-0.187112</td>\n",
       "      <td>-0.284033</td>\n",
       "      <td>0.029056</td>\n",
       "      <td>0.277478</td>\n",
       "    </tr>\n",
       "    <tr>\n",
       "      <th>3</th>\n",
       "      <td>-0.087973</td>\n",
       "      <td>-0.489386</td>\n",
       "      <td>-0.091131</td>\n",
       "      <td>0.062329</td>\n",
       "      <td>0.115853</td>\n",
       "      <td>0.332332</td>\n",
       "      <td>0.123408</td>\n",
       "      <td>-0.203438</td>\n",
       "      <td>-0.164464</td>\n",
       "      <td>-0.202573</td>\n",
       "      <td>-0.130641</td>\n",
       "      <td>-0.070888</td>\n",
       "      <td>-0.210527</td>\n",
       "      <td>0.144964</td>\n",
       "      <td>-0.408053</td>\n",
       "      <td>0.211066</td>\n",
       "      <td>-0.187108</td>\n",
       "      <td>-0.284029</td>\n",
       "      <td>0.029059</td>\n",
       "      <td>0.277478</td>\n",
       "    </tr>\n",
       "    <tr>\n",
       "      <th>4</th>\n",
       "      <td>-0.087974</td>\n",
       "      <td>-0.489388</td>\n",
       "      <td>-0.091129</td>\n",
       "      <td>0.062332</td>\n",
       "      <td>0.115856</td>\n",
       "      <td>0.332330</td>\n",
       "      <td>0.123409</td>\n",
       "      <td>-0.203429</td>\n",
       "      <td>-0.164465</td>\n",
       "      <td>-0.202577</td>\n",
       "      <td>-0.130631</td>\n",
       "      <td>-0.070884</td>\n",
       "      <td>-0.210534</td>\n",
       "      <td>0.144965</td>\n",
       "      <td>-0.408055</td>\n",
       "      <td>0.211072</td>\n",
       "      <td>-0.187104</td>\n",
       "      <td>-0.284025</td>\n",
       "      <td>0.029061</td>\n",
       "      <td>0.277478</td>\n",
       "    </tr>\n",
       "    <tr>\n",
       "      <th>...</th>\n",
       "      <td>...</td>\n",
       "      <td>...</td>\n",
       "      <td>...</td>\n",
       "      <td>...</td>\n",
       "      <td>...</td>\n",
       "      <td>...</td>\n",
       "      <td>...</td>\n",
       "      <td>...</td>\n",
       "      <td>...</td>\n",
       "      <td>...</td>\n",
       "      <td>...</td>\n",
       "      <td>...</td>\n",
       "      <td>...</td>\n",
       "      <td>...</td>\n",
       "      <td>...</td>\n",
       "      <td>...</td>\n",
       "      <td>...</td>\n",
       "      <td>...</td>\n",
       "      <td>...</td>\n",
       "      <td>...</td>\n",
       "    </tr>\n",
       "    <tr>\n",
       "      <th>45206</th>\n",
       "      <td>-0.007306</td>\n",
       "      <td>-0.431583</td>\n",
       "      <td>-0.165288</td>\n",
       "      <td>0.306544</td>\n",
       "      <td>0.059760</td>\n",
       "      <td>0.119217</td>\n",
       "      <td>-0.038619</td>\n",
       "      <td>0.100166</td>\n",
       "      <td>-0.336423</td>\n",
       "      <td>-0.062382</td>\n",
       "      <td>0.212370</td>\n",
       "      <td>0.216385</td>\n",
       "      <td>-0.501262</td>\n",
       "      <td>0.123175</td>\n",
       "      <td>-0.186894</td>\n",
       "      <td>0.194291</td>\n",
       "      <td>-0.275082</td>\n",
       "      <td>-0.118954</td>\n",
       "      <td>0.155495</td>\n",
       "      <td>0.030825</td>\n",
       "    </tr>\n",
       "    <tr>\n",
       "      <th>45207</th>\n",
       "      <td>-0.007294</td>\n",
       "      <td>-0.431577</td>\n",
       "      <td>-0.165285</td>\n",
       "      <td>0.306553</td>\n",
       "      <td>0.059753</td>\n",
       "      <td>0.119218</td>\n",
       "      <td>-0.038626</td>\n",
       "      <td>0.100174</td>\n",
       "      <td>-0.336427</td>\n",
       "      <td>-0.062375</td>\n",
       "      <td>0.212368</td>\n",
       "      <td>0.216391</td>\n",
       "      <td>-0.501263</td>\n",
       "      <td>0.123176</td>\n",
       "      <td>-0.186879</td>\n",
       "      <td>0.194284</td>\n",
       "      <td>-0.275089</td>\n",
       "      <td>-0.118958</td>\n",
       "      <td>0.155492</td>\n",
       "      <td>0.030818</td>\n",
       "    </tr>\n",
       "    <tr>\n",
       "      <th>45208</th>\n",
       "      <td>-0.007281</td>\n",
       "      <td>-0.431570</td>\n",
       "      <td>-0.165281</td>\n",
       "      <td>0.306562</td>\n",
       "      <td>0.059745</td>\n",
       "      <td>0.119219</td>\n",
       "      <td>-0.038634</td>\n",
       "      <td>0.100181</td>\n",
       "      <td>-0.336431</td>\n",
       "      <td>-0.062368</td>\n",
       "      <td>0.212367</td>\n",
       "      <td>0.216398</td>\n",
       "      <td>-0.501264</td>\n",
       "      <td>0.123176</td>\n",
       "      <td>-0.186863</td>\n",
       "      <td>0.194278</td>\n",
       "      <td>-0.275095</td>\n",
       "      <td>-0.118962</td>\n",
       "      <td>0.155490</td>\n",
       "      <td>0.030811</td>\n",
       "    </tr>\n",
       "    <tr>\n",
       "      <th>45209</th>\n",
       "      <td>-0.007269</td>\n",
       "      <td>-0.431564</td>\n",
       "      <td>-0.165278</td>\n",
       "      <td>0.306570</td>\n",
       "      <td>0.059738</td>\n",
       "      <td>0.119220</td>\n",
       "      <td>-0.038642</td>\n",
       "      <td>0.100188</td>\n",
       "      <td>-0.336435</td>\n",
       "      <td>-0.062360</td>\n",
       "      <td>0.212365</td>\n",
       "      <td>0.216405</td>\n",
       "      <td>-0.501265</td>\n",
       "      <td>0.123177</td>\n",
       "      <td>-0.186847</td>\n",
       "      <td>0.194272</td>\n",
       "      <td>-0.275102</td>\n",
       "      <td>-0.118965</td>\n",
       "      <td>0.155487</td>\n",
       "      <td>0.030804</td>\n",
       "    </tr>\n",
       "    <tr>\n",
       "      <th>45210</th>\n",
       "      <td>-0.007257</td>\n",
       "      <td>-0.431557</td>\n",
       "      <td>-0.165274</td>\n",
       "      <td>0.306579</td>\n",
       "      <td>0.059730</td>\n",
       "      <td>0.119221</td>\n",
       "      <td>-0.038649</td>\n",
       "      <td>0.100195</td>\n",
       "      <td>-0.336439</td>\n",
       "      <td>-0.062353</td>\n",
       "      <td>0.212364</td>\n",
       "      <td>0.216412</td>\n",
       "      <td>-0.501266</td>\n",
       "      <td>0.123177</td>\n",
       "      <td>-0.186832</td>\n",
       "      <td>0.194265</td>\n",
       "      <td>-0.275108</td>\n",
       "      <td>-0.118969</td>\n",
       "      <td>0.155485</td>\n",
       "      <td>0.030798</td>\n",
       "    </tr>\n",
       "  </tbody>\n",
       "</table>\n",
       "<p>45211 rows × 20 columns</p>\n",
       "</div>"
      ],
      "text/plain": [
       "             0         1         2         3         4         5         6   \\\n",
       "0     -0.087970 -0.489382 -0.091139  0.062320  0.115842  0.332339  0.123408   \n",
       "1     -0.087971 -0.489384 -0.091136  0.062323  0.115846  0.332337  0.123408   \n",
       "2     -0.087972 -0.489385 -0.091134  0.062326  0.115849  0.332334  0.123408   \n",
       "3     -0.087973 -0.489386 -0.091131  0.062329  0.115853  0.332332  0.123408   \n",
       "4     -0.087974 -0.489388 -0.091129  0.062332  0.115856  0.332330  0.123409   \n",
       "...         ...       ...       ...       ...       ...       ...       ...   \n",
       "45206 -0.007306 -0.431583 -0.165288  0.306544  0.059760  0.119217 -0.038619   \n",
       "45207 -0.007294 -0.431577 -0.165285  0.306553  0.059753  0.119218 -0.038626   \n",
       "45208 -0.007281 -0.431570 -0.165281  0.306562  0.059745  0.119219 -0.038634   \n",
       "45209 -0.007269 -0.431564 -0.165278  0.306570  0.059738  0.119220 -0.038642   \n",
       "45210 -0.007257 -0.431557 -0.165274  0.306579  0.059730  0.119221 -0.038649   \n",
       "\n",
       "             7         8         9         10        11        12        13  \\\n",
       "0     -0.203467 -0.164460 -0.202561 -0.130670 -0.070900 -0.210507  0.144961   \n",
       "1     -0.203458 -0.164461 -0.202565 -0.130660 -0.070896 -0.210514  0.144962   \n",
       "2     -0.203448 -0.164463 -0.202569 -0.130651 -0.070892 -0.210520  0.144963   \n",
       "3     -0.203438 -0.164464 -0.202573 -0.130641 -0.070888 -0.210527  0.144964   \n",
       "4     -0.203429 -0.164465 -0.202577 -0.130631 -0.070884 -0.210534  0.144965   \n",
       "...         ...       ...       ...       ...       ...       ...       ...   \n",
       "45206  0.100166 -0.336423 -0.062382  0.212370  0.216385 -0.501262  0.123175   \n",
       "45207  0.100174 -0.336427 -0.062375  0.212368  0.216391 -0.501263  0.123176   \n",
       "45208  0.100181 -0.336431 -0.062368  0.212367  0.216398 -0.501264  0.123176   \n",
       "45209  0.100188 -0.336435 -0.062360  0.212365  0.216405 -0.501265  0.123177   \n",
       "45210  0.100195 -0.336439 -0.062353  0.212364  0.216412 -0.501266  0.123177   \n",
       "\n",
       "             14        15        16        17        18        19  \n",
       "0     -0.408046  0.211046 -0.187120 -0.284041  0.029051  0.277477  \n",
       "1     -0.408048  0.211053 -0.187116 -0.284037  0.029054  0.277477  \n",
       "2     -0.408051  0.211059 -0.187112 -0.284033  0.029056  0.277478  \n",
       "3     -0.408053  0.211066 -0.187108 -0.284029  0.029059  0.277478  \n",
       "4     -0.408055  0.211072 -0.187104 -0.284025  0.029061  0.277478  \n",
       "...         ...       ...       ...       ...       ...       ...  \n",
       "45206 -0.186894  0.194291 -0.275082 -0.118954  0.155495  0.030825  \n",
       "45207 -0.186879  0.194284 -0.275089 -0.118958  0.155492  0.030818  \n",
       "45208 -0.186863  0.194278 -0.275095 -0.118962  0.155490  0.030811  \n",
       "45209 -0.186847  0.194272 -0.275102 -0.118965  0.155487  0.030804  \n",
       "45210 -0.186832  0.194265 -0.275108 -0.118969  0.155485  0.030798  \n",
       "\n",
       "[45211 rows x 20 columns]"
      ]
     },
     "execution_count": 15,
     "metadata": {},
     "output_type": "execute_result"
    },
    {
     "data": {
      "image/png": "[encoded data removed]",
      "text/plain": [
       "<Figure size 800x800 with 1 Axes>"
      ]
     },
     "metadata": {},
     "output_type": "display_data"
    }
   ],
   "source": [
    "dice = DICE(d = 20, min_bound=-10000, max_bound=150000, norm=\"l2\")\n",
    "sample_nums = list(range(0, 45211))\n",
    "\n",
    "# Generate DICE-embeddings and plot them\n",
    "dice_mat = []\n",
    "for num in sample_nums:\n",
    "    dice_mat.append(dice.make_dice(num))\n",
    "\n",
    "# print(np.array(dice_mat)[:10])\n",
    "dice_mat = np.array(dice_mat)\n",
    "\n",
    "pca = PCA(n_components=3)\n",
    "p_comp = pca.fit_transform(dice_mat)\n",
    "p_df = pd.DataFrame(data = p_comp, columns = [\"pc1\", \"pc2\", \"pc3\"])\n",
    "\n",
    "fig = plt.figure(figsize=(8,8))\n",
    "ax_3d = fig.add_subplot(111, projection=\"3d\")\n",
    "ax_3d.set_xlabel(\"pc1\", fontsize=15)\n",
    "ax_3d.set_ylabel(\"pc2\", fontsize=15)\n",
    "ax_3d.set_zlabel(\"pc3\", fontsize=15)\n",
    "ax_3d.set_title(\"DICE Embedding (Range: 0 - 10000)\",fontsize=20)\n",
    "\n",
    "# ax_3d.scatter(p_df[\"pc1\"], p_df[\"pc2\"], p_df[\"pc3\"])\n",
    "\n",
    "dice_df = pd.DataFrame(dice_mat)\n",
    "\n",
    "dice_df"
   ]
  },
  {
   "cell_type": "code",
   "execution_count": null,
   "metadata": {},
   "outputs": [],
   "source": []
  }
 ],
 "metadata": {
  "kernelspec": {
   "display_name": "Python 3",
   "language": "python",
   "name": "python3"
  },
  "language_info": {
   "codemirror_mode": {
    "name": "ipython",
    "version": 3
   },
   "file_extension": ".py",
   "mimetype": "text/x-python",
   "name": "python",
   "nbconvert_exporter": "python",
   "pygments_lexer": "ipython3",
   "version": "3.10.6"
  },
  "toc": {
   "base_numbering": 1,
   "nav_menu": {},
   "number_sections": false,
   "sideBar": true,
   "skip_h1_title": false,
   "title_cell": "Table of Contents",
   "title_sidebar": "Contents",
   "toc_cell": false,
   "toc_position": {},
   "toc_section_display": true,
   "toc_window_display": false
  }
 },
 "nbformat": 4,
 "nbformat_minor": 4
}
