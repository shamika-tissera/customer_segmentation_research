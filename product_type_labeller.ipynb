{
 "cells": [
  {
   "cell_type": "code",
   "execution_count": 4,
   "metadata": {},
   "outputs": [],
   "source": [
    "import openai\n",
    "import os\n",
    "from openai.api_resources import model\n",
    "import json\n",
    "\n",
    "credentials = json.load(open('./credentials.json'))\n",
    "\n",
    "openai.api_key = credentials['OpenAI_ChatGPT']\n",
    "\n",
    "def get_response_to_prompt (prompt):\n",
    "  response = openai.ChatCompletion.create (model=\"gpt-3.5-turbo\", messages= [ { \"role\": \"user\", \"content\":prompt }])\n",
    "  return response.choices[0].message.content"
   ]
  },
  {
   "cell_type": "code",
   "execution_count": 6,
   "metadata": {},
   "outputs": [],
   "source": [
    "prompt = \"\"\"\n",
    "Classify the following products into one of the following categories:\n",
    "- Convenience (The word convenience is self-explanatory as it means that little to no effort is put to acquire the goods from the market.\n",
    "These goods are easily accessible in the market, and the rate of purchase is quite frequent. For instance, Toothpaste, toilet paper, drinks, food, deodorants, consumer packaged goods, etc. The highlighting characteristics are as follows:Not durable, Easy availability The rate of purchase is frequent, Relatively low priced)\n",
    "- Unsought (These kinds of products can be ranked from old, outdated goods to the new innovative prototype. Consumers don’t remember these products at the top of their heads, and they are very infrequently bought from the market. The unique property of this good is that the benefits are not instantly derived from the product. For instance, Life Insurance is the most popular unsought good in the market. The highlighting characteristics are as follows: The rate of purchase is infrequent, The consumers are unaware of the features of the product, Lack of desire, Bought to avoid an undesirable outcome)\n",
    "- Shopping (The purchase rate in the case of shopping products is not as frequent as in the case of convenience goods. They are also not readily available in the market. So, as a result, consumers take time to conclude whether to go ahead with the purchase or not. For instance, Clothing, Mobile phones, and sofa sets are all shopping goods that are consumed on local as well as global scale. The highlighting characteristics are as follows: They are durable goods, Comparable to related goods, The rate of purchase is infrequent, Opportunity cost is high, Less availability)\n",
    "- Specialty (The consumers’ decision time during the purchase of specialty goods is minimum. Since specialty goods have rare features and unique designs and they don’t have homogenous products. For instance, designer clothing, high specification laptop, sports car, rare ornaments, etc. The brand image in the market is the USP of these products like Ferrari, Gucci, etc. The highlighting characteristics are as follows: Goods are durable, They are rare to find, The purchase rate is infrequent, They are extravagantly priced)\n",
    "\n",
    "Strictly return only the category of the product.\n",
    "\n",
    "The product to classify is:\n",
    "\"\"\""
   ]
  },
  {
   "cell_type": "code",
   "execution_count": 7,
   "metadata": {},
   "outputs": [
    {
     "data": {
      "text/html": [
       "<div>\n",
       "<style scoped>\n",
       "    .dataframe tbody tr th:only-of-type {\n",
       "        vertical-align: middle;\n",
       "    }\n",
       "\n",
       "    .dataframe tbody tr th {\n",
       "        vertical-align: top;\n",
       "    }\n",
       "\n",
       "    .dataframe thead th {\n",
       "        text-align: right;\n",
       "    }\n",
       "</style>\n",
       "<table border=\"1\" class=\"dataframe\">\n",
       "  <thead>\n",
       "    <tr style=\"text-align: right;\">\n",
       "      <th></th>\n",
       "      <th>product_category_name</th>\n",
       "      <th>product_category_name_english</th>\n",
       "      <th>product_type</th>\n",
       "    </tr>\n",
       "  </thead>\n",
       "  <tbody>\n",
       "    <tr>\n",
       "      <th>0</th>\n",
       "      <td>artes_e_artesanato</td>\n",
       "      <td>arts_and_craftmanship</td>\n",
       "      <td>NaN</td>\n",
       "    </tr>\n",
       "    <tr>\n",
       "      <th>1</th>\n",
       "      <td>fraldas_higiene</td>\n",
       "      <td>diapers_and_hygiene</td>\n",
       "      <td>NaN</td>\n",
       "    </tr>\n",
       "    <tr>\n",
       "      <th>2</th>\n",
       "      <td>fashion_roupa_infanto_juvenil</td>\n",
       "      <td>fashion_childrens_clothes</td>\n",
       "      <td>NaN</td>\n",
       "    </tr>\n",
       "    <tr>\n",
       "      <th>3</th>\n",
       "      <td>seguros_e_servicos</td>\n",
       "      <td>security_and_services</td>\n",
       "      <td>NaN</td>\n",
       "    </tr>\n",
       "  </tbody>\n",
       "</table>\n",
       "</div>"
      ],
      "text/plain": [
       "           product_category_name product_category_name_english  product_type\n",
       "0             artes_e_artesanato         arts_and_craftmanship           NaN\n",
       "1                fraldas_higiene           diapers_and_hygiene           NaN\n",
       "2  fashion_roupa_infanto_juvenil     fashion_childrens_clothes           NaN\n",
       "3             seguros_e_servicos         security_and_services           NaN"
      ]
     },
     "execution_count": 7,
     "metadata": {},
     "output_type": "execute_result"
    }
   ],
   "source": [
    "import numpy as np\n",
    "import pandas as pd\n",
    "\n",
    "product_categories = pd.read_csv('datasets/product_category_name_translation.csv')\n",
    "product_categories"
   ]
  },
  {
   "cell_type": "code",
   "execution_count": 8,
   "metadata": {},
   "outputs": [
    {
     "name": "stdout",
     "output_type": "stream",
     "text": [
      "0   0   arts_and_craftmanship   Shopping\n",
      "1   1   diapers_and_hygiene   Convenience\n",
      "2   2   fashion_childrens_clothes   Shopping\n"
     ]
    }
   ],
   "source": [
    "import time\n",
    "\n",
    "n = 0\n",
    "skipped = 0\n",
    "\n",
    "for i in range (0, len(product_categories)):\n",
    "    if n < 3:\n",
    "        try:\n",
    "            product_name = product_categories['product_category_name_english'][i + skipped]\n",
    "            ask = prompt + product_name\n",
    "            product_type = get_response_to_prompt(ask)\n",
    "            product_categories.loc[i + skipped, 'product_type'] = product_type\n",
    "            product_categories.to_csv('datasets/product_category_with_type.csv', index=False)\n",
    "            print(i + skipped, ' ', n, ' ', product_name, ' ', product_type)\n",
    "            n += 1\n",
    "        except:\n",
    "            time.sleep(20)\n",
    "    else:\n",
    "        time.sleep(60)\n",
    "        n = 0\n",
    "        skipped -= 1"
   ]
  }
 ],
 "metadata": {
  "kernelspec": {
   "display_name": "Python 3",
   "language": "python",
   "name": "python3"
  },
  "language_info": {
   "codemirror_mode": {
    "name": "ipython",
    "version": 3
   },
   "file_extension": ".py",
   "mimetype": "text/x-python",
   "name": "python",
   "nbconvert_exporter": "python",
   "pygments_lexer": "ipython3",
   "version": "3.10.6"
  }
 },
 "nbformat": 4,
 "nbformat_minor": 2
}
